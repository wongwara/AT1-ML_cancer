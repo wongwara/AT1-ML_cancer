{
  "nbformat": 4,
  "nbformat_minor": 0,
  "metadata": {
    "colab": {
      "provenance": [],
      "include_colab_link": true
    },
    "kernelspec": {
      "name": "python3",
      "display_name": "Python 3"
    }
  },
  "cells": [
    {
      "cell_type": "markdown",
      "metadata": {
        "id": "view-in-github",
        "colab_type": "text"
      },
      "source": [
        "<a href=\"https://colab.research.google.com/github/wongwara/AT1-ML_cancer/blob/main/MLAA_Lab_1_Exercise_1_Solutions_Model_Learning_Simulation.ipynb\" target=\"_parent\"><img src=\"https://colab.research.google.com/assets/colab-badge.svg\" alt=\"Open In Colab\"/></a>"
      ]
    },
    {
      "cell_type": "markdown",
      "metadata": {
        "id": "uQ6wc2HE0pke"
      },
      "source": [
        "# **Lab 1: Linear Regression**\n",
        "\n",
        "During the first lecture, you have been introduced to Univariate and Multivariate Linear Regression. In this lab, we will see how to train such models using sklearn.\n"
      ]
    },
    {
      "cell_type": "markdown",
      "metadata": {
        "id": "tQgxLRrvjiJb"
      },
      "source": [
        "## Exercise 1: Simulate the learning process of Univariate Linear Regression\n",
        "\n",
        "We will manually fit an univariate linear regression model to predict a given target variable (salary) as closely as possible using the provided feature (years of experience).\n",
        "\n",
        "We will be using a dataset avaialeble here: https://raw.githubusercontent.com/aso-uts/mlaa/main/datasets/lab1/ex1/salary_data.csv\n",
        "\n",
        "The steps are:\n",
        "1.   Load data\n",
        "2.   Explore the dataset\n",
        "3.   Make predictions with Default Parameters for a Linear Regression\n",
        "4.   Update parameters"
      ]
    },
    {
      "cell_type": "markdown",
      "metadata": {
        "id": "smh_LhVjIg9s"
      },
      "source": [
        "### 1. Load Data"
      ]
    },
    {
      "cell_type": "markdown",
      "source": [
        "**[1.1]** Import the pandas, numpy and altair packages"
      ],
      "metadata": {
        "id": "thY2-yQ4g8ha"
      }
    },
    {
      "cell_type": "code",
      "source": [
        "import pandas as pd\n",
        "import numpy as np\n",
        "import altair as alt"
      ],
      "metadata": {
        "id": "xSWZLIU7aJif"
      },
      "execution_count": null,
      "outputs": []
    },
    {
      "cell_type": "markdown",
      "source": [
        "**[1.2]** Load the dataset"
      ],
      "metadata": {
        "id": "xVtPGrzJhHrs"
      }
    },
    {
      "cell_type": "code",
      "source": [
        "data = pd.read_csv('https://raw.githubusercontent.com/aso-uts/mlaa/main/datasets/lab1/ex1/salary_data.csv')"
      ],
      "metadata": {
        "id": "U13hy14XhnBv"
      },
      "execution_count": null,
      "outputs": []
    },
    {
      "cell_type": "markdown",
      "source": [
        "**[1.3]** Display the dataset"
      ],
      "metadata": {
        "id": "9PF49Pawonqp"
      }
    },
    {
      "cell_type": "code",
      "source": [
        "data"
      ],
      "metadata": {
        "colab": {
          "base_uri": "https://localhost:8080/",
          "height": 990
        },
        "id": "xQfwNq03hr53",
        "outputId": "15e2ad0b-a446-4d7d-cdc9-a28285b9d300"
      },
      "execution_count": null,
      "outputs": [
        {
          "output_type": "execute_result",
          "data": {
            "text/plain": [
              "    YearsExperience    Salary\n",
              "0               1.1   39343.0\n",
              "1               1.3   46205.0\n",
              "2               1.5   37731.0\n",
              "3               2.0   43525.0\n",
              "4               2.2   39891.0\n",
              "5               2.9   56642.0\n",
              "6               3.0   60150.0\n",
              "7               3.2   54445.0\n",
              "8               3.2   64445.0\n",
              "9               3.7   57189.0\n",
              "10              3.9   63218.0\n",
              "11              4.0   55794.0\n",
              "12              4.0   56957.0\n",
              "13              4.1   57081.0\n",
              "14              4.5   61111.0\n",
              "15              4.9   67938.0\n",
              "16              5.1   66029.0\n",
              "17              5.3   83088.0\n",
              "18              5.9   81363.0\n",
              "19              6.0   93940.0\n",
              "20              6.8   91738.0\n",
              "21              7.1   98273.0\n",
              "22              7.9  101302.0\n",
              "23              8.2  113812.0\n",
              "24              8.7  109431.0\n",
              "25              9.0  105582.0\n",
              "26              9.5  116969.0\n",
              "27              9.6  112635.0\n",
              "28             10.3  122391.0\n",
              "29             10.5  121872.0"
            ],
            "text/html": [
              "\n",
              "  <div id=\"df-840fd967-bf06-42ff-9837-d36979319634\">\n",
              "    <div class=\"colab-df-container\">\n",
              "      <div>\n",
              "<style scoped>\n",
              "    .dataframe tbody tr th:only-of-type {\n",
              "        vertical-align: middle;\n",
              "    }\n",
              "\n",
              "    .dataframe tbody tr th {\n",
              "        vertical-align: top;\n",
              "    }\n",
              "\n",
              "    .dataframe thead th {\n",
              "        text-align: right;\n",
              "    }\n",
              "</style>\n",
              "<table border=\"1\" class=\"dataframe\">\n",
              "  <thead>\n",
              "    <tr style=\"text-align: right;\">\n",
              "      <th></th>\n",
              "      <th>YearsExperience</th>\n",
              "      <th>Salary</th>\n",
              "    </tr>\n",
              "  </thead>\n",
              "  <tbody>\n",
              "    <tr>\n",
              "      <th>0</th>\n",
              "      <td>1.1</td>\n",
              "      <td>39343.0</td>\n",
              "    </tr>\n",
              "    <tr>\n",
              "      <th>1</th>\n",
              "      <td>1.3</td>\n",
              "      <td>46205.0</td>\n",
              "    </tr>\n",
              "    <tr>\n",
              "      <th>2</th>\n",
              "      <td>1.5</td>\n",
              "      <td>37731.0</td>\n",
              "    </tr>\n",
              "    <tr>\n",
              "      <th>3</th>\n",
              "      <td>2.0</td>\n",
              "      <td>43525.0</td>\n",
              "    </tr>\n",
              "    <tr>\n",
              "      <th>4</th>\n",
              "      <td>2.2</td>\n",
              "      <td>39891.0</td>\n",
              "    </tr>\n",
              "    <tr>\n",
              "      <th>5</th>\n",
              "      <td>2.9</td>\n",
              "      <td>56642.0</td>\n",
              "    </tr>\n",
              "    <tr>\n",
              "      <th>6</th>\n",
              "      <td>3.0</td>\n",
              "      <td>60150.0</td>\n",
              "    </tr>\n",
              "    <tr>\n",
              "      <th>7</th>\n",
              "      <td>3.2</td>\n",
              "      <td>54445.0</td>\n",
              "    </tr>\n",
              "    <tr>\n",
              "      <th>8</th>\n",
              "      <td>3.2</td>\n",
              "      <td>64445.0</td>\n",
              "    </tr>\n",
              "    <tr>\n",
              "      <th>9</th>\n",
              "      <td>3.7</td>\n",
              "      <td>57189.0</td>\n",
              "    </tr>\n",
              "    <tr>\n",
              "      <th>10</th>\n",
              "      <td>3.9</td>\n",
              "      <td>63218.0</td>\n",
              "    </tr>\n",
              "    <tr>\n",
              "      <th>11</th>\n",
              "      <td>4.0</td>\n",
              "      <td>55794.0</td>\n",
              "    </tr>\n",
              "    <tr>\n",
              "      <th>12</th>\n",
              "      <td>4.0</td>\n",
              "      <td>56957.0</td>\n",
              "    </tr>\n",
              "    <tr>\n",
              "      <th>13</th>\n",
              "      <td>4.1</td>\n",
              "      <td>57081.0</td>\n",
              "    </tr>\n",
              "    <tr>\n",
              "      <th>14</th>\n",
              "      <td>4.5</td>\n",
              "      <td>61111.0</td>\n",
              "    </tr>\n",
              "    <tr>\n",
              "      <th>15</th>\n",
              "      <td>4.9</td>\n",
              "      <td>67938.0</td>\n",
              "    </tr>\n",
              "    <tr>\n",
              "      <th>16</th>\n",
              "      <td>5.1</td>\n",
              "      <td>66029.0</td>\n",
              "    </tr>\n",
              "    <tr>\n",
              "      <th>17</th>\n",
              "      <td>5.3</td>\n",
              "      <td>83088.0</td>\n",
              "    </tr>\n",
              "    <tr>\n",
              "      <th>18</th>\n",
              "      <td>5.9</td>\n",
              "      <td>81363.0</td>\n",
              "    </tr>\n",
              "    <tr>\n",
              "      <th>19</th>\n",
              "      <td>6.0</td>\n",
              "      <td>93940.0</td>\n",
              "    </tr>\n",
              "    <tr>\n",
              "      <th>20</th>\n",
              "      <td>6.8</td>\n",
              "      <td>91738.0</td>\n",
              "    </tr>\n",
              "    <tr>\n",
              "      <th>21</th>\n",
              "      <td>7.1</td>\n",
              "      <td>98273.0</td>\n",
              "    </tr>\n",
              "    <tr>\n",
              "      <th>22</th>\n",
              "      <td>7.9</td>\n",
              "      <td>101302.0</td>\n",
              "    </tr>\n",
              "    <tr>\n",
              "      <th>23</th>\n",
              "      <td>8.2</td>\n",
              "      <td>113812.0</td>\n",
              "    </tr>\n",
              "    <tr>\n",
              "      <th>24</th>\n",
              "      <td>8.7</td>\n",
              "      <td>109431.0</td>\n",
              "    </tr>\n",
              "    <tr>\n",
              "      <th>25</th>\n",
              "      <td>9.0</td>\n",
              "      <td>105582.0</td>\n",
              "    </tr>\n",
              "    <tr>\n",
              "      <th>26</th>\n",
              "      <td>9.5</td>\n",
              "      <td>116969.0</td>\n",
              "    </tr>\n",
              "    <tr>\n",
              "      <th>27</th>\n",
              "      <td>9.6</td>\n",
              "      <td>112635.0</td>\n",
              "    </tr>\n",
              "    <tr>\n",
              "      <th>28</th>\n",
              "      <td>10.3</td>\n",
              "      <td>122391.0</td>\n",
              "    </tr>\n",
              "    <tr>\n",
              "      <th>29</th>\n",
              "      <td>10.5</td>\n",
              "      <td>121872.0</td>\n",
              "    </tr>\n",
              "  </tbody>\n",
              "</table>\n",
              "</div>\n",
              "      <button class=\"colab-df-convert\" onclick=\"convertToInteractive('df-840fd967-bf06-42ff-9837-d36979319634')\"\n",
              "              title=\"Convert this dataframe to an interactive table.\"\n",
              "              style=\"display:none;\">\n",
              "        \n",
              "  <svg xmlns=\"http://www.w3.org/2000/svg\" height=\"24px\"viewBox=\"0 0 24 24\"\n",
              "       width=\"24px\">\n",
              "    <path d=\"M0 0h24v24H0V0z\" fill=\"none\"/>\n",
              "    <path d=\"M18.56 5.44l.94 2.06.94-2.06 2.06-.94-2.06-.94-.94-2.06-.94 2.06-2.06.94zm-11 1L8.5 8.5l.94-2.06 2.06-.94-2.06-.94L8.5 2.5l-.94 2.06-2.06.94zm10 10l.94 2.06.94-2.06 2.06-.94-2.06-.94-.94-2.06-.94 2.06-2.06.94z\"/><path d=\"M17.41 7.96l-1.37-1.37c-.4-.4-.92-.59-1.43-.59-.52 0-1.04.2-1.43.59L10.3 9.45l-7.72 7.72c-.78.78-.78 2.05 0 2.83L4 21.41c.39.39.9.59 1.41.59.51 0 1.02-.2 1.41-.59l7.78-7.78 2.81-2.81c.8-.78.8-2.07 0-2.86zM5.41 20L4 18.59l7.72-7.72 1.47 1.35L5.41 20z\"/>\n",
              "  </svg>\n",
              "      </button>\n",
              "      \n",
              "  <style>\n",
              "    .colab-df-container {\n",
              "      display:flex;\n",
              "      flex-wrap:wrap;\n",
              "      gap: 12px;\n",
              "    }\n",
              "\n",
              "    .colab-df-convert {\n",
              "      background-color: #E8F0FE;\n",
              "      border: none;\n",
              "      border-radius: 50%;\n",
              "      cursor: pointer;\n",
              "      display: none;\n",
              "      fill: #1967D2;\n",
              "      height: 32px;\n",
              "      padding: 0 0 0 0;\n",
              "      width: 32px;\n",
              "    }\n",
              "\n",
              "    .colab-df-convert:hover {\n",
              "      background-color: #E2EBFA;\n",
              "      box-shadow: 0px 1px 2px rgba(60, 64, 67, 0.3), 0px 1px 3px 1px rgba(60, 64, 67, 0.15);\n",
              "      fill: #174EA6;\n",
              "    }\n",
              "\n",
              "    [theme=dark] .colab-df-convert {\n",
              "      background-color: #3B4455;\n",
              "      fill: #D2E3FC;\n",
              "    }\n",
              "\n",
              "    [theme=dark] .colab-df-convert:hover {\n",
              "      background-color: #434B5C;\n",
              "      box-shadow: 0px 1px 3px 1px rgba(0, 0, 0, 0.15);\n",
              "      filter: drop-shadow(0px 1px 2px rgba(0, 0, 0, 0.3));\n",
              "      fill: #FFFFFF;\n",
              "    }\n",
              "  </style>\n",
              "\n",
              "      <script>\n",
              "        const buttonEl =\n",
              "          document.querySelector('#df-840fd967-bf06-42ff-9837-d36979319634 button.colab-df-convert');\n",
              "        buttonEl.style.display =\n",
              "          google.colab.kernel.accessAllowed ? 'block' : 'none';\n",
              "\n",
              "        async function convertToInteractive(key) {\n",
              "          const element = document.querySelector('#df-840fd967-bf06-42ff-9837-d36979319634');\n",
              "          const dataTable =\n",
              "            await google.colab.kernel.invokeFunction('convertToInteractive',\n",
              "                                                     [key], {});\n",
              "          if (!dataTable) return;\n",
              "\n",
              "          const docLinkHtml = 'Like what you see? Visit the ' +\n",
              "            '<a target=\"_blank\" href=https://colab.research.google.com/notebooks/data_table.ipynb>data table notebook</a>'\n",
              "            + ' to learn more about interactive tables.';\n",
              "          element.innerHTML = '';\n",
              "          dataTable['output_type'] = 'display_data';\n",
              "          await google.colab.output.renderOutput(dataTable, element);\n",
              "          const docLink = document.createElement('div');\n",
              "          docLink.innerHTML = docLinkHtml;\n",
              "          element.appendChild(docLink);\n",
              "        }\n",
              "      </script>\n",
              "    </div>\n",
              "  </div>\n",
              "  "
            ]
          },
          "metadata": {},
          "execution_count": 4
        }
      ]
    },
    {
      "cell_type": "markdown",
      "source": [
        "### 2. Explore the dataset"
      ],
      "metadata": {
        "id": "qC-npuEjgQB9"
      }
    },
    {
      "cell_type": "markdown",
      "source": [
        "**[2.1]** Create a scatter plot with Altair on the dataset"
      ],
      "metadata": {
        "id": "Pqrkk9Bfo9FV"
      }
    },
    {
      "cell_type": "code",
      "source": [
        "scatter_chart = alt.Chart(data).mark_circle(size=60, color='orange').encode(\n",
        "    x='YearsExperience',\n",
        "    y='Salary'\n",
        ")"
      ],
      "metadata": {
        "id": "FYWTARp6dEwI"
      },
      "execution_count": null,
      "outputs": []
    },
    {
      "cell_type": "markdown",
      "source": [
        "**[2.2]** Display the scatter plot"
      ],
      "metadata": {
        "id": "elRM0esRpKj_"
      }
    },
    {
      "cell_type": "code",
      "source": [
        "scatter_chart"
      ],
      "metadata": {
        "colab": {
          "base_uri": "https://localhost:8080/",
          "height": 363
        },
        "id": "NU7JYXlEaJxP",
        "outputId": "c0a25770-5241-4488-9dc1-81fa0d4ca3ae"
      },
      "execution_count": null,
      "outputs": [
        {
          "output_type": "execute_result",
          "data": {
            "text/html": [
              "\n",
              "<div id=\"altair-viz-62c54b6a46aa4d9cb7833bd3b596b9b6\"></div>\n",
              "<script type=\"text/javascript\">\n",
              "  var VEGA_DEBUG = (typeof VEGA_DEBUG == \"undefined\") ? {} : VEGA_DEBUG;\n",
              "  (function(spec, embedOpt){\n",
              "    let outputDiv = document.currentScript.previousElementSibling;\n",
              "    if (outputDiv.id !== \"altair-viz-62c54b6a46aa4d9cb7833bd3b596b9b6\") {\n",
              "      outputDiv = document.getElementById(\"altair-viz-62c54b6a46aa4d9cb7833bd3b596b9b6\");\n",
              "    }\n",
              "    const paths = {\n",
              "      \"vega\": \"https://cdn.jsdelivr.net/npm//vega@5?noext\",\n",
              "      \"vega-lib\": \"https://cdn.jsdelivr.net/npm//vega-lib?noext\",\n",
              "      \"vega-lite\": \"https://cdn.jsdelivr.net/npm//vega-lite@4.17.0?noext\",\n",
              "      \"vega-embed\": \"https://cdn.jsdelivr.net/npm//vega-embed@6?noext\",\n",
              "    };\n",
              "\n",
              "    function maybeLoadScript(lib, version) {\n",
              "      var key = `${lib.replace(\"-\", \"\")}_version`;\n",
              "      return (VEGA_DEBUG[key] == version) ?\n",
              "        Promise.resolve(paths[lib]) :\n",
              "        new Promise(function(resolve, reject) {\n",
              "          var s = document.createElement('script');\n",
              "          document.getElementsByTagName(\"head\")[0].appendChild(s);\n",
              "          s.async = true;\n",
              "          s.onload = () => {\n",
              "            VEGA_DEBUG[key] = version;\n",
              "            return resolve(paths[lib]);\n",
              "          };\n",
              "          s.onerror = () => reject(`Error loading script: ${paths[lib]}`);\n",
              "          s.src = paths[lib];\n",
              "        });\n",
              "    }\n",
              "\n",
              "    function showError(err) {\n",
              "      outputDiv.innerHTML = `<div class=\"error\" style=\"color:red;\">${err}</div>`;\n",
              "      throw err;\n",
              "    }\n",
              "\n",
              "    function displayChart(vegaEmbed) {\n",
              "      vegaEmbed(outputDiv, spec, embedOpt)\n",
              "        .catch(err => showError(`Javascript Error: ${err.message}<br>This usually means there's a typo in your chart specification. See the javascript console for the full traceback.`));\n",
              "    }\n",
              "\n",
              "    if(typeof define === \"function\" && define.amd) {\n",
              "      requirejs.config({paths});\n",
              "      require([\"vega-embed\"], displayChart, err => showError(`Error loading script: ${err.message}`));\n",
              "    } else {\n",
              "      maybeLoadScript(\"vega\", \"5\")\n",
              "        .then(() => maybeLoadScript(\"vega-lite\", \"4.17.0\"))\n",
              "        .then(() => maybeLoadScript(\"vega-embed\", \"6\"))\n",
              "        .catch(showError)\n",
              "        .then(() => displayChart(vegaEmbed));\n",
              "    }\n",
              "  })({\"config\": {\"view\": {\"continuousWidth\": 400, \"continuousHeight\": 300}}, \"data\": {\"name\": \"data-09773d8f115bcdd7976eced50e1ebdda\"}, \"mark\": {\"type\": \"circle\", \"color\": \"orange\", \"size\": 60}, \"encoding\": {\"x\": {\"field\": \"YearsExperience\", \"type\": \"quantitative\"}, \"y\": {\"field\": \"Salary\", \"type\": \"quantitative\"}}, \"$schema\": \"https://vega.github.io/schema/vega-lite/v4.17.0.json\", \"datasets\": {\"data-09773d8f115bcdd7976eced50e1ebdda\": [{\"YearsExperience\": 1.1, \"Salary\": 39343.0}, {\"YearsExperience\": 1.3, \"Salary\": 46205.0}, {\"YearsExperience\": 1.5, \"Salary\": 37731.0}, {\"YearsExperience\": 2.0, \"Salary\": 43525.0}, {\"YearsExperience\": 2.2, \"Salary\": 39891.0}, {\"YearsExperience\": 2.9, \"Salary\": 56642.0}, {\"YearsExperience\": 3.0, \"Salary\": 60150.0}, {\"YearsExperience\": 3.2, \"Salary\": 54445.0}, {\"YearsExperience\": 3.2, \"Salary\": 64445.0}, {\"YearsExperience\": 3.7, \"Salary\": 57189.0}, {\"YearsExperience\": 3.9, \"Salary\": 63218.0}, {\"YearsExperience\": 4.0, \"Salary\": 55794.0}, {\"YearsExperience\": 4.0, \"Salary\": 56957.0}, {\"YearsExperience\": 4.1, \"Salary\": 57081.0}, {\"YearsExperience\": 4.5, \"Salary\": 61111.0}, {\"YearsExperience\": 4.9, \"Salary\": 67938.0}, {\"YearsExperience\": 5.1, \"Salary\": 66029.0}, {\"YearsExperience\": 5.3, \"Salary\": 83088.0}, {\"YearsExperience\": 5.9, \"Salary\": 81363.0}, {\"YearsExperience\": 6.0, \"Salary\": 93940.0}, {\"YearsExperience\": 6.8, \"Salary\": 91738.0}, {\"YearsExperience\": 7.1, \"Salary\": 98273.0}, {\"YearsExperience\": 7.9, \"Salary\": 101302.0}, {\"YearsExperience\": 8.2, \"Salary\": 113812.0}, {\"YearsExperience\": 8.7, \"Salary\": 109431.0}, {\"YearsExperience\": 9.0, \"Salary\": 105582.0}, {\"YearsExperience\": 9.5, \"Salary\": 116969.0}, {\"YearsExperience\": 9.6, \"Salary\": 112635.0}, {\"YearsExperience\": 10.3, \"Salary\": 122391.0}, {\"YearsExperience\": 10.5, \"Salary\": 121872.0}]}}, {\"mode\": \"vega-lite\"});\n",
              "</script>"
            ],
            "text/plain": [
              "alt.Chart(...)"
            ]
          },
          "metadata": {},
          "execution_count": 6
        }
      ]
    },
    {
      "cell_type": "markdown",
      "source": [
        "### 3. Make Predictions with Default Parameters for a Linear Regression"
      ],
      "metadata": {
        "id": "R_Dk8iWbgaMl"
      }
    },
    {
      "cell_type": "markdown",
      "source": [
        "**[3.1]** Extract the target and feature into 2 separate variables x and y"
      ],
      "metadata": {
        "id": "C8ZLuyXSpcsG"
      }
    },
    {
      "cell_type": "code",
      "source": [
        "x = data['YearsExperience'].values\n",
        "y = data['Salary'].values"
      ],
      "metadata": {
        "id": "K_RV4-sWaJuT",
        "colab": {
          "base_uri": "https://localhost:8080/"
        },
        "outputId": "5271e6ea-e963-47af-836f-4d8b4fec3cf3"
      },
      "execution_count": null,
      "outputs": [
        {
          "output_type": "execute_result",
          "data": {
            "text/plain": [
              "array([ 1.1,  1.3,  1.5,  2. ,  2.2,  2.9,  3. ,  3.2,  3.2,  3.7,  3.9,\n",
              "        4. ,  4. ,  4.1,  4.5,  4.9,  5.1,  5.3,  5.9,  6. ,  6.8,  7.1,\n",
              "        7.9,  8.2,  8.7,  9. ,  9.5,  9.6, 10.3, 10.5])"
            ]
          },
          "metadata": {},
          "execution_count": 42
        }
      ]
    },
    {
      "cell_type": "markdown",
      "source": [
        "**[3.2]** Create 2 variables called a and b that will take the value 0"
      ],
      "metadata": {
        "id": "OoZFiqIhprGQ"
      }
    },
    {
      "cell_type": "code",
      "source": [
        "# Placeholder for student's code"
      ],
      "metadata": {
        "id": "WDIIa7jOpwDj"
      },
      "execution_count": null,
      "outputs": []
    },
    {
      "cell_type": "code",
      "source": [
        "# Solution\n",
        "a = 0\n",
        "b = 0"
      ],
      "metadata": {
        "id": "VMdmFa25bM8e"
      },
      "execution_count": null,
      "outputs": []
    },
    {
      "cell_type": "markdown",
      "source": [
        "**[3.3]** Create a variables called y_hat that will calculate the result of a * x + b (univariate linear regression)"
      ],
      "metadata": {
        "id": "cCbsYJ3Vp-sO"
      }
    },
    {
      "cell_type": "code",
      "source": [
        "# Placeholder for student's code"
      ],
      "metadata": {
        "id": "TaFWh7jOpuAp"
      },
      "execution_count": null,
      "outputs": []
    },
    {
      "cell_type": "code",
      "source": [
        "# Solution\n",
        "y_hat = a * x + b"
      ],
      "metadata": {
        "id": "36F5K5wMaJ0G"
      },
      "execution_count": null,
      "outputs": []
    },
    {
      "cell_type": "markdown",
      "source": [
        "**[3.4]** Create a line chart with y_hat values as the y-axis and x as the x-axis\n"
      ],
      "metadata": {
        "id": "OzngeuMVqtxt"
      }
    },
    {
      "cell_type": "code",
      "source": [
        "line_chart = alt.Chart(pd.DataFrame({'x': x, 'y': y_hat})).mark_line().encode(\n",
        "    x='x',\n",
        "    y='y'\n",
        ")"
      ],
      "metadata": {
        "id": "6ov4fEBCdqdx"
      },
      "execution_count": null,
      "outputs": []
    },
    {
      "cell_type": "markdown",
      "source": [
        "**[3.5]** Display the line chart "
      ],
      "metadata": {
        "id": "bvgv5BXWq_GS"
      }
    },
    {
      "cell_type": "code",
      "source": [
        "scatter_chart + line_chart"
      ],
      "metadata": {
        "colab": {
          "base_uri": "https://localhost:8080/",
          "height": 363
        },
        "id": "Q9Cd4IhPd89O",
        "outputId": "5e19613a-3a35-42ae-9342-76bc487e1940"
      },
      "execution_count": null,
      "outputs": [
        {
          "output_type": "execute_result",
          "data": {
            "text/html": [
              "\n",
              "<div id=\"altair-viz-3af7c8910d9d4684acc28fceab5ee193\"></div>\n",
              "<script type=\"text/javascript\">\n",
              "  var VEGA_DEBUG = (typeof VEGA_DEBUG == \"undefined\") ? {} : VEGA_DEBUG;\n",
              "  (function(spec, embedOpt){\n",
              "    let outputDiv = document.currentScript.previousElementSibling;\n",
              "    if (outputDiv.id !== \"altair-viz-3af7c8910d9d4684acc28fceab5ee193\") {\n",
              "      outputDiv = document.getElementById(\"altair-viz-3af7c8910d9d4684acc28fceab5ee193\");\n",
              "    }\n",
              "    const paths = {\n",
              "      \"vega\": \"https://cdn.jsdelivr.net/npm//vega@5?noext\",\n",
              "      \"vega-lib\": \"https://cdn.jsdelivr.net/npm//vega-lib?noext\",\n",
              "      \"vega-lite\": \"https://cdn.jsdelivr.net/npm//vega-lite@4.17.0?noext\",\n",
              "      \"vega-embed\": \"https://cdn.jsdelivr.net/npm//vega-embed@6?noext\",\n",
              "    };\n",
              "\n",
              "    function maybeLoadScript(lib, version) {\n",
              "      var key = `${lib.replace(\"-\", \"\")}_version`;\n",
              "      return (VEGA_DEBUG[key] == version) ?\n",
              "        Promise.resolve(paths[lib]) :\n",
              "        new Promise(function(resolve, reject) {\n",
              "          var s = document.createElement('script');\n",
              "          document.getElementsByTagName(\"head\")[0].appendChild(s);\n",
              "          s.async = true;\n",
              "          s.onload = () => {\n",
              "            VEGA_DEBUG[key] = version;\n",
              "            return resolve(paths[lib]);\n",
              "          };\n",
              "          s.onerror = () => reject(`Error loading script: ${paths[lib]}`);\n",
              "          s.src = paths[lib];\n",
              "        });\n",
              "    }\n",
              "\n",
              "    function showError(err) {\n",
              "      outputDiv.innerHTML = `<div class=\"error\" style=\"color:red;\">${err}</div>`;\n",
              "      throw err;\n",
              "    }\n",
              "\n",
              "    function displayChart(vegaEmbed) {\n",
              "      vegaEmbed(outputDiv, spec, embedOpt)\n",
              "        .catch(err => showError(`Javascript Error: ${err.message}<br>This usually means there's a typo in your chart specification. See the javascript console for the full traceback.`));\n",
              "    }\n",
              "\n",
              "    if(typeof define === \"function\" && define.amd) {\n",
              "      requirejs.config({paths});\n",
              "      require([\"vega-embed\"], displayChart, err => showError(`Error loading script: ${err.message}`));\n",
              "    } else {\n",
              "      maybeLoadScript(\"vega\", \"5\")\n",
              "        .then(() => maybeLoadScript(\"vega-lite\", \"4.17.0\"))\n",
              "        .then(() => maybeLoadScript(\"vega-embed\", \"6\"))\n",
              "        .catch(showError)\n",
              "        .then(() => displayChart(vegaEmbed));\n",
              "    }\n",
              "  })({\"config\": {\"view\": {\"continuousWidth\": 400, \"continuousHeight\": 300}}, \"layer\": [{\"data\": {\"name\": \"data-09773d8f115bcdd7976eced50e1ebdda\"}, \"mark\": {\"type\": \"circle\", \"color\": \"orange\", \"size\": 60}, \"encoding\": {\"x\": {\"field\": \"YearsExperience\", \"type\": \"quantitative\"}, \"y\": {\"field\": \"Salary\", \"type\": \"quantitative\"}}}, {\"data\": {\"name\": \"data-8ca56f0410beef59e47cdf245ebc7135\"}, \"mark\": \"line\", \"encoding\": {\"x\": {\"field\": \"x\", \"type\": \"quantitative\"}, \"y\": {\"field\": \"y\", \"type\": \"quantitative\"}}}], \"$schema\": \"https://vega.github.io/schema/vega-lite/v4.17.0.json\", \"datasets\": {\"data-09773d8f115bcdd7976eced50e1ebdda\": [{\"YearsExperience\": 1.1, \"Salary\": 39343.0}, {\"YearsExperience\": 1.3, \"Salary\": 46205.0}, {\"YearsExperience\": 1.5, \"Salary\": 37731.0}, {\"YearsExperience\": 2.0, \"Salary\": 43525.0}, {\"YearsExperience\": 2.2, \"Salary\": 39891.0}, {\"YearsExperience\": 2.9, \"Salary\": 56642.0}, {\"YearsExperience\": 3.0, \"Salary\": 60150.0}, {\"YearsExperience\": 3.2, \"Salary\": 54445.0}, {\"YearsExperience\": 3.2, \"Salary\": 64445.0}, {\"YearsExperience\": 3.7, \"Salary\": 57189.0}, {\"YearsExperience\": 3.9, \"Salary\": 63218.0}, {\"YearsExperience\": 4.0, \"Salary\": 55794.0}, {\"YearsExperience\": 4.0, \"Salary\": 56957.0}, {\"YearsExperience\": 4.1, \"Salary\": 57081.0}, {\"YearsExperience\": 4.5, \"Salary\": 61111.0}, {\"YearsExperience\": 4.9, \"Salary\": 67938.0}, {\"YearsExperience\": 5.1, \"Salary\": 66029.0}, {\"YearsExperience\": 5.3, \"Salary\": 83088.0}, {\"YearsExperience\": 5.9, \"Salary\": 81363.0}, {\"YearsExperience\": 6.0, \"Salary\": 93940.0}, {\"YearsExperience\": 6.8, \"Salary\": 91738.0}, {\"YearsExperience\": 7.1, \"Salary\": 98273.0}, {\"YearsExperience\": 7.9, \"Salary\": 101302.0}, {\"YearsExperience\": 8.2, \"Salary\": 113812.0}, {\"YearsExperience\": 8.7, \"Salary\": 109431.0}, {\"YearsExperience\": 9.0, \"Salary\": 105582.0}, {\"YearsExperience\": 9.5, \"Salary\": 116969.0}, {\"YearsExperience\": 9.6, \"Salary\": 112635.0}, {\"YearsExperience\": 10.3, \"Salary\": 122391.0}, {\"YearsExperience\": 10.5, \"Salary\": 121872.0}], \"data-8ca56f0410beef59e47cdf245ebc7135\": [{\"x\": 1.1, \"y\": 0.0}, {\"x\": 1.3, \"y\": 0.0}, {\"x\": 1.5, \"y\": 0.0}, {\"x\": 2.0, \"y\": 0.0}, {\"x\": 2.2, \"y\": 0.0}, {\"x\": 2.9, \"y\": 0.0}, {\"x\": 3.0, \"y\": 0.0}, {\"x\": 3.2, \"y\": 0.0}, {\"x\": 3.2, \"y\": 0.0}, {\"x\": 3.7, \"y\": 0.0}, {\"x\": 3.9, \"y\": 0.0}, {\"x\": 4.0, \"y\": 0.0}, {\"x\": 4.0, \"y\": 0.0}, {\"x\": 4.1, \"y\": 0.0}, {\"x\": 4.5, \"y\": 0.0}, {\"x\": 4.9, \"y\": 0.0}, {\"x\": 5.1, \"y\": 0.0}, {\"x\": 5.3, \"y\": 0.0}, {\"x\": 5.9, \"y\": 0.0}, {\"x\": 6.0, \"y\": 0.0}, {\"x\": 6.8, \"y\": 0.0}, {\"x\": 7.1, \"y\": 0.0}, {\"x\": 7.9, \"y\": 0.0}, {\"x\": 8.2, \"y\": 0.0}, {\"x\": 8.7, \"y\": 0.0}, {\"x\": 9.0, \"y\": 0.0}, {\"x\": 9.5, \"y\": 0.0}, {\"x\": 9.6, \"y\": 0.0}, {\"x\": 10.3, \"y\": 0.0}, {\"x\": 10.5, \"y\": 0.0}]}}, {\"mode\": \"vega-lite\"});\n",
              "</script>"
            ],
            "text/plain": [
              "alt.LayerChart(...)"
            ]
          },
          "metadata": {},
          "execution_count": 15
        }
      ]
    },
    {
      "cell_type": "markdown",
      "source": [
        "**[3.6]** Calculate the difference between the predictions (y_hat) and the actual target values (y). Save these into a variable called errors"
      ],
      "metadata": {
        "id": "ibOSEoJ7rC3a"
      }
    },
    {
      "cell_type": "code",
      "source": [
        "# Placeholder for student's code"
      ],
      "metadata": {
        "id": "p4vuivW-rT8Y"
      },
      "execution_count": null,
      "outputs": []
    },
    {
      "cell_type": "code",
      "source": [
        "# Solution\n",
        "errors = y_hat - y"
      ],
      "metadata": {
        "id": "55WeEKr4eN19"
      },
      "execution_count": null,
      "outputs": []
    },
    {
      "cell_type": "markdown",
      "source": [
        "**[3.7]** Calculate the difference between the predictions (y_hat) and the actual target values (y)"
      ],
      "metadata": {
        "id": "SQ3_LFYwrUtq"
      }
    },
    {
      "cell_type": "code",
      "source": [
        "# Placeholder for student's code"
      ],
      "metadata": {
        "id": "gKaj0EGBrU5F"
      },
      "execution_count": null,
      "outputs": []
    },
    {
      "cell_type": "code",
      "source": [
        "# Solution\n",
        "errors"
      ],
      "metadata": {
        "colab": {
          "base_uri": "https://localhost:8080/"
        },
        "id": "QhZM74ejrU-P",
        "outputId": "499f9900-830a-4bd9-ba84-8fab0af4afe1"
      },
      "execution_count": null,
      "outputs": [
        {
          "output_type": "execute_result",
          "data": {
            "text/plain": [
              "array([ -39343.,  -46205.,  -37731.,  -43525.,  -39891.,  -56642.,\n",
              "        -60150.,  -54445.,  -64445.,  -57189.,  -63218.,  -55794.,\n",
              "        -56957.,  -57081.,  -61111.,  -67938.,  -66029.,  -83088.,\n",
              "        -81363.,  -93940.,  -91738.,  -98273., -101302., -113812.,\n",
              "       -109431., -105582., -116969., -112635., -122391., -121872.])"
            ]
          },
          "metadata": {},
          "execution_count": 48
        }
      ]
    },
    {
      "cell_type": "markdown",
      "source": [
        "**[3.8]** Calculate and display the sum of the difference between the predictions (y_hat) and the actual target values (y)"
      ],
      "metadata": {
        "id": "ixBxV0uArYGl"
      }
    },
    {
      "cell_type": "code",
      "source": [
        "sum_error = errors.sum()\n",
        "sum_error"
      ],
      "metadata": {
        "colab": {
          "base_uri": "https://localhost:8080/"
        },
        "id": "oXZY7papeSKQ",
        "outputId": "dcca7c5e-5777-4669-8a3e-49a32ec0ab1c"
      },
      "execution_count": null,
      "outputs": [
        {
          "output_type": "execute_result",
          "data": {
            "text/plain": [
              "-2280090.0"
            ]
          },
          "metadata": {},
          "execution_count": 40
        }
      ]
    },
    {
      "cell_type": "markdown",
      "source": [
        "### 4. Update Parameters"
      ],
      "metadata": {
        "id": "5FhmUVE9guee"
      }
    },
    {
      "cell_type": "markdown",
      "source": [
        "**[4.1]** Define a reusable function that will create a chart displaying the input data and the predictions and also calculate the sum of errors"
      ],
      "metadata": {
        "id": "mWA8EUYMzBrB"
      }
    },
    {
      "cell_type": "code",
      "source": [
        "def check_parameters(a, b, x, y):\n",
        "  y_hat = a * x + b\n",
        "\n",
        "  source = pd.DataFrame({'x': x, 'y': y})\n",
        "  preds = pd.DataFrame({'x': x, 'y': y_hat})\n",
        "\n",
        "  scatter_chart = alt.Chart(source).mark_circle(size=60, color='orange').encode(\n",
        "    x='x',\n",
        "    y='y'\n",
        "  )\n",
        "\n",
        "  line_chart = alt.Chart(preds).mark_line().encode(\n",
        "    x='x',\n",
        "    y='y'\n",
        "  )\n",
        "\n",
        "  errors = y_hat - y\n",
        "\n",
        "  sum_error = errors.sum()\n",
        "\n",
        "  print(sum_error)\n",
        "\n",
        "  return scatter_chart + line_chart"
      ],
      "metadata": {
        "id": "ie1MUKx_erQy"
      },
      "execution_count": null,
      "outputs": []
    },
    {
      "cell_type": "markdown",
      "source": [
        "**[4.2]** Choose 2 values for the model parameters (a and b) and use the defined function to check the predictions results"
      ],
      "metadata": {
        "id": "szmhr_5fzU8k"
      }
    },
    {
      "cell_type": "code",
      "source": [
        "# Placeholder for student's code"
      ],
      "metadata": {
        "id": "OyJ_PG-nzVDZ"
      },
      "execution_count": null,
      "outputs": []
    },
    {
      "cell_type": "code",
      "source": [
        "# Solution\n",
        "check_parameters(a=100, b=0, x=x, y=y)"
      ],
      "metadata": {
        "colab": {
          "base_uri": "https://localhost:8080/",
          "height": 381
        },
        "id": "lwkb9oEqfH8i",
        "outputId": "963e7a48-e353-406c-8731-41dcc5fa2552"
      },
      "execution_count": null,
      "outputs": [
        {
          "output_type": "stream",
          "name": "stdout",
          "text": [
            "-2264150.0\n"
          ]
        },
        {
          "output_type": "execute_result",
          "data": {
            "text/html": [
              "\n",
              "<div id=\"altair-viz-0762d655720c4d34bf5e9cfa32f4e57b\"></div>\n",
              "<script type=\"text/javascript\">\n",
              "  var VEGA_DEBUG = (typeof VEGA_DEBUG == \"undefined\") ? {} : VEGA_DEBUG;\n",
              "  (function(spec, embedOpt){\n",
              "    let outputDiv = document.currentScript.previousElementSibling;\n",
              "    if (outputDiv.id !== \"altair-viz-0762d655720c4d34bf5e9cfa32f4e57b\") {\n",
              "      outputDiv = document.getElementById(\"altair-viz-0762d655720c4d34bf5e9cfa32f4e57b\");\n",
              "    }\n",
              "    const paths = {\n",
              "      \"vega\": \"https://cdn.jsdelivr.net/npm//vega@5?noext\",\n",
              "      \"vega-lib\": \"https://cdn.jsdelivr.net/npm//vega-lib?noext\",\n",
              "      \"vega-lite\": \"https://cdn.jsdelivr.net/npm//vega-lite@4.17.0?noext\",\n",
              "      \"vega-embed\": \"https://cdn.jsdelivr.net/npm//vega-embed@6?noext\",\n",
              "    };\n",
              "\n",
              "    function maybeLoadScript(lib, version) {\n",
              "      var key = `${lib.replace(\"-\", \"\")}_version`;\n",
              "      return (VEGA_DEBUG[key] == version) ?\n",
              "        Promise.resolve(paths[lib]) :\n",
              "        new Promise(function(resolve, reject) {\n",
              "          var s = document.createElement('script');\n",
              "          document.getElementsByTagName(\"head\")[0].appendChild(s);\n",
              "          s.async = true;\n",
              "          s.onload = () => {\n",
              "            VEGA_DEBUG[key] = version;\n",
              "            return resolve(paths[lib]);\n",
              "          };\n",
              "          s.onerror = () => reject(`Error loading script: ${paths[lib]}`);\n",
              "          s.src = paths[lib];\n",
              "        });\n",
              "    }\n",
              "\n",
              "    function showError(err) {\n",
              "      outputDiv.innerHTML = `<div class=\"error\" style=\"color:red;\">${err}</div>`;\n",
              "      throw err;\n",
              "    }\n",
              "\n",
              "    function displayChart(vegaEmbed) {\n",
              "      vegaEmbed(outputDiv, spec, embedOpt)\n",
              "        .catch(err => showError(`Javascript Error: ${err.message}<br>This usually means there's a typo in your chart specification. See the javascript console for the full traceback.`));\n",
              "    }\n",
              "\n",
              "    if(typeof define === \"function\" && define.amd) {\n",
              "      requirejs.config({paths});\n",
              "      require([\"vega-embed\"], displayChart, err => showError(`Error loading script: ${err.message}`));\n",
              "    } else {\n",
              "      maybeLoadScript(\"vega\", \"5\")\n",
              "        .then(() => maybeLoadScript(\"vega-lite\", \"4.17.0\"))\n",
              "        .then(() => maybeLoadScript(\"vega-embed\", \"6\"))\n",
              "        .catch(showError)\n",
              "        .then(() => displayChart(vegaEmbed));\n",
              "    }\n",
              "  })({\"config\": {\"view\": {\"continuousWidth\": 400, \"continuousHeight\": 300}}, \"layer\": [{\"data\": {\"name\": \"data-1ee9df97fb10d69c78502e814767ebb8\"}, \"mark\": {\"type\": \"circle\", \"color\": \"orange\", \"size\": 60}, \"encoding\": {\"x\": {\"field\": \"x\", \"type\": \"quantitative\"}, \"y\": {\"field\": \"y\", \"type\": \"quantitative\"}}}, {\"data\": {\"name\": \"data-6631dc1374e412a9dc66576a4e0b8c06\"}, \"mark\": \"line\", \"encoding\": {\"x\": {\"field\": \"x\", \"type\": \"quantitative\"}, \"y\": {\"field\": \"y\", \"type\": \"quantitative\"}}}], \"$schema\": \"https://vega.github.io/schema/vega-lite/v4.17.0.json\", \"datasets\": {\"data-1ee9df97fb10d69c78502e814767ebb8\": [{\"x\": 1.1, \"y\": 39343.0}, {\"x\": 1.3, \"y\": 46205.0}, {\"x\": 1.5, \"y\": 37731.0}, {\"x\": 2.0, \"y\": 43525.0}, {\"x\": 2.2, \"y\": 39891.0}, {\"x\": 2.9, \"y\": 56642.0}, {\"x\": 3.0, \"y\": 60150.0}, {\"x\": 3.2, \"y\": 54445.0}, {\"x\": 3.2, \"y\": 64445.0}, {\"x\": 3.7, \"y\": 57189.0}, {\"x\": 3.9, \"y\": 63218.0}, {\"x\": 4.0, \"y\": 55794.0}, {\"x\": 4.0, \"y\": 56957.0}, {\"x\": 4.1, \"y\": 57081.0}, {\"x\": 4.5, \"y\": 61111.0}, {\"x\": 4.9, \"y\": 67938.0}, {\"x\": 5.1, \"y\": 66029.0}, {\"x\": 5.3, \"y\": 83088.0}, {\"x\": 5.9, \"y\": 81363.0}, {\"x\": 6.0, \"y\": 93940.0}, {\"x\": 6.8, \"y\": 91738.0}, {\"x\": 7.1, \"y\": 98273.0}, {\"x\": 7.9, \"y\": 101302.0}, {\"x\": 8.2, \"y\": 113812.0}, {\"x\": 8.7, \"y\": 109431.0}, {\"x\": 9.0, \"y\": 105582.0}, {\"x\": 9.5, \"y\": 116969.0}, {\"x\": 9.6, \"y\": 112635.0}, {\"x\": 10.3, \"y\": 122391.0}, {\"x\": 10.5, \"y\": 121872.0}], \"data-6631dc1374e412a9dc66576a4e0b8c06\": [{\"x\": 1.1, \"y\": 110.00000000000001}, {\"x\": 1.3, \"y\": 130.0}, {\"x\": 1.5, \"y\": 150.0}, {\"x\": 2.0, \"y\": 200.0}, {\"x\": 2.2, \"y\": 220.00000000000003}, {\"x\": 2.9, \"y\": 290.0}, {\"x\": 3.0, \"y\": 300.0}, {\"x\": 3.2, \"y\": 320.0}, {\"x\": 3.2, \"y\": 320.0}, {\"x\": 3.7, \"y\": 370.0}, {\"x\": 3.9, \"y\": 390.0}, {\"x\": 4.0, \"y\": 400.0}, {\"x\": 4.0, \"y\": 400.0}, {\"x\": 4.1, \"y\": 409.99999999999994}, {\"x\": 4.5, \"y\": 450.0}, {\"x\": 4.9, \"y\": 490.00000000000006}, {\"x\": 5.1, \"y\": 509.99999999999994}, {\"x\": 5.3, \"y\": 530.0}, {\"x\": 5.9, \"y\": 590.0}, {\"x\": 6.0, \"y\": 600.0}, {\"x\": 6.8, \"y\": 680.0}, {\"x\": 7.1, \"y\": 710.0}, {\"x\": 7.9, \"y\": 790.0}, {\"x\": 8.2, \"y\": 819.9999999999999}, {\"x\": 8.7, \"y\": 869.9999999999999}, {\"x\": 9.0, \"y\": 900.0}, {\"x\": 9.5, \"y\": 950.0}, {\"x\": 9.6, \"y\": 960.0}, {\"x\": 10.3, \"y\": 1030.0}, {\"x\": 10.5, \"y\": 1050.0}]}}, {\"mode\": \"vega-lite\"});\n",
              "</script>"
            ],
            "text/plain": [
              "alt.LayerChart(...)"
            ]
          },
          "metadata": {},
          "execution_count": 22
        }
      ]
    },
    {
      "cell_type": "markdown",
      "source": [
        "**[4.3]** Choose 2 new values for the model parameters (a and b) and use the defined function to check the predictions results"
      ],
      "metadata": {
        "id": "7LHcpDmBzz10"
      }
    },
    {
      "cell_type": "code",
      "source": [
        "# Placeholder for student's code"
      ],
      "metadata": {
        "id": "40oWPVhdzy2G"
      },
      "execution_count": null,
      "outputs": []
    },
    {
      "cell_type": "code",
      "source": [
        "# Solution\n",
        "check_parameters(a=5000, b=0, x=x, y=y)"
      ],
      "metadata": {
        "colab": {
          "base_uri": "https://localhost:8080/",
          "height": 381
        },
        "id": "nWHFabksfaW7",
        "outputId": "42d27c27-a3da-4ac6-f60e-33e7f979cd35"
      },
      "execution_count": null,
      "outputs": [
        {
          "output_type": "stream",
          "name": "stdout",
          "text": [
            "-1483090.0\n"
          ]
        },
        {
          "output_type": "execute_result",
          "data": {
            "text/html": [
              "\n",
              "<div id=\"altair-viz-d95945868c804c11b8438464a45ba233\"></div>\n",
              "<script type=\"text/javascript\">\n",
              "  var VEGA_DEBUG = (typeof VEGA_DEBUG == \"undefined\") ? {} : VEGA_DEBUG;\n",
              "  (function(spec, embedOpt){\n",
              "    let outputDiv = document.currentScript.previousElementSibling;\n",
              "    if (outputDiv.id !== \"altair-viz-d95945868c804c11b8438464a45ba233\") {\n",
              "      outputDiv = document.getElementById(\"altair-viz-d95945868c804c11b8438464a45ba233\");\n",
              "    }\n",
              "    const paths = {\n",
              "      \"vega\": \"https://cdn.jsdelivr.net/npm//vega@5?noext\",\n",
              "      \"vega-lib\": \"https://cdn.jsdelivr.net/npm//vega-lib?noext\",\n",
              "      \"vega-lite\": \"https://cdn.jsdelivr.net/npm//vega-lite@4.17.0?noext\",\n",
              "      \"vega-embed\": \"https://cdn.jsdelivr.net/npm//vega-embed@6?noext\",\n",
              "    };\n",
              "\n",
              "    function maybeLoadScript(lib, version) {\n",
              "      var key = `${lib.replace(\"-\", \"\")}_version`;\n",
              "      return (VEGA_DEBUG[key] == version) ?\n",
              "        Promise.resolve(paths[lib]) :\n",
              "        new Promise(function(resolve, reject) {\n",
              "          var s = document.createElement('script');\n",
              "          document.getElementsByTagName(\"head\")[0].appendChild(s);\n",
              "          s.async = true;\n",
              "          s.onload = () => {\n",
              "            VEGA_DEBUG[key] = version;\n",
              "            return resolve(paths[lib]);\n",
              "          };\n",
              "          s.onerror = () => reject(`Error loading script: ${paths[lib]}`);\n",
              "          s.src = paths[lib];\n",
              "        });\n",
              "    }\n",
              "\n",
              "    function showError(err) {\n",
              "      outputDiv.innerHTML = `<div class=\"error\" style=\"color:red;\">${err}</div>`;\n",
              "      throw err;\n",
              "    }\n",
              "\n",
              "    function displayChart(vegaEmbed) {\n",
              "      vegaEmbed(outputDiv, spec, embedOpt)\n",
              "        .catch(err => showError(`Javascript Error: ${err.message}<br>This usually means there's a typo in your chart specification. See the javascript console for the full traceback.`));\n",
              "    }\n",
              "\n",
              "    if(typeof define === \"function\" && define.amd) {\n",
              "      requirejs.config({paths});\n",
              "      require([\"vega-embed\"], displayChart, err => showError(`Error loading script: ${err.message}`));\n",
              "    } else {\n",
              "      maybeLoadScript(\"vega\", \"5\")\n",
              "        .then(() => maybeLoadScript(\"vega-lite\", \"4.17.0\"))\n",
              "        .then(() => maybeLoadScript(\"vega-embed\", \"6\"))\n",
              "        .catch(showError)\n",
              "        .then(() => displayChart(vegaEmbed));\n",
              "    }\n",
              "  })({\"config\": {\"view\": {\"continuousWidth\": 400, \"continuousHeight\": 300}}, \"layer\": [{\"data\": {\"name\": \"data-1ee9df97fb10d69c78502e814767ebb8\"}, \"mark\": {\"type\": \"circle\", \"color\": \"orange\", \"size\": 60}, \"encoding\": {\"x\": {\"field\": \"x\", \"type\": \"quantitative\"}, \"y\": {\"field\": \"y\", \"type\": \"quantitative\"}}}, {\"data\": {\"name\": \"data-62b5b0c75d123dcc7f581b1425d2277a\"}, \"mark\": \"line\", \"encoding\": {\"x\": {\"field\": \"x\", \"type\": \"quantitative\"}, \"y\": {\"field\": \"y\", \"type\": \"quantitative\"}}}], \"$schema\": \"https://vega.github.io/schema/vega-lite/v4.17.0.json\", \"datasets\": {\"data-1ee9df97fb10d69c78502e814767ebb8\": [{\"x\": 1.1, \"y\": 39343.0}, {\"x\": 1.3, \"y\": 46205.0}, {\"x\": 1.5, \"y\": 37731.0}, {\"x\": 2.0, \"y\": 43525.0}, {\"x\": 2.2, \"y\": 39891.0}, {\"x\": 2.9, \"y\": 56642.0}, {\"x\": 3.0, \"y\": 60150.0}, {\"x\": 3.2, \"y\": 54445.0}, {\"x\": 3.2, \"y\": 64445.0}, {\"x\": 3.7, \"y\": 57189.0}, {\"x\": 3.9, \"y\": 63218.0}, {\"x\": 4.0, \"y\": 55794.0}, {\"x\": 4.0, \"y\": 56957.0}, {\"x\": 4.1, \"y\": 57081.0}, {\"x\": 4.5, \"y\": 61111.0}, {\"x\": 4.9, \"y\": 67938.0}, {\"x\": 5.1, \"y\": 66029.0}, {\"x\": 5.3, \"y\": 83088.0}, {\"x\": 5.9, \"y\": 81363.0}, {\"x\": 6.0, \"y\": 93940.0}, {\"x\": 6.8, \"y\": 91738.0}, {\"x\": 7.1, \"y\": 98273.0}, {\"x\": 7.9, \"y\": 101302.0}, {\"x\": 8.2, \"y\": 113812.0}, {\"x\": 8.7, \"y\": 109431.0}, {\"x\": 9.0, \"y\": 105582.0}, {\"x\": 9.5, \"y\": 116969.0}, {\"x\": 9.6, \"y\": 112635.0}, {\"x\": 10.3, \"y\": 122391.0}, {\"x\": 10.5, \"y\": 121872.0}], \"data-62b5b0c75d123dcc7f581b1425d2277a\": [{\"x\": 1.1, \"y\": 5500.0}, {\"x\": 1.3, \"y\": 6500.0}, {\"x\": 1.5, \"y\": 7500.0}, {\"x\": 2.0, \"y\": 10000.0}, {\"x\": 2.2, \"y\": 11000.0}, {\"x\": 2.9, \"y\": 14500.0}, {\"x\": 3.0, \"y\": 15000.0}, {\"x\": 3.2, \"y\": 16000.0}, {\"x\": 3.2, \"y\": 16000.0}, {\"x\": 3.7, \"y\": 18500.0}, {\"x\": 3.9, \"y\": 19500.0}, {\"x\": 4.0, \"y\": 20000.0}, {\"x\": 4.0, \"y\": 20000.0}, {\"x\": 4.1, \"y\": 20500.0}, {\"x\": 4.5, \"y\": 22500.0}, {\"x\": 4.9, \"y\": 24500.0}, {\"x\": 5.1, \"y\": 25500.0}, {\"x\": 5.3, \"y\": 26500.0}, {\"x\": 5.9, \"y\": 29500.0}, {\"x\": 6.0, \"y\": 30000.0}, {\"x\": 6.8, \"y\": 34000.0}, {\"x\": 7.1, \"y\": 35500.0}, {\"x\": 7.9, \"y\": 39500.0}, {\"x\": 8.2, \"y\": 41000.0}, {\"x\": 8.7, \"y\": 43500.0}, {\"x\": 9.0, \"y\": 45000.0}, {\"x\": 9.5, \"y\": 47500.0}, {\"x\": 9.6, \"y\": 48000.0}, {\"x\": 10.3, \"y\": 51500.0}, {\"x\": 10.5, \"y\": 52500.0}]}}, {\"mode\": \"vega-lite\"});\n",
              "</script>"
            ],
            "text/plain": [
              "alt.LayerChart(...)"
            ]
          },
          "metadata": {},
          "execution_count": 23
        }
      ]
    },
    {
      "cell_type": "markdown",
      "source": [
        "**[4.4]** Choose 2 new values for the model parameters (a and b) and use the defined function to check the predictions results"
      ],
      "metadata": {
        "id": "g3mGzTAEz3e3"
      }
    },
    {
      "cell_type": "code",
      "source": [
        "# Placeholder for student's code"
      ],
      "metadata": {
        "id": "SvJCpLMWz3mL"
      },
      "execution_count": null,
      "outputs": []
    },
    {
      "cell_type": "code",
      "source": [
        "# Solution\n",
        "check_parameters(a=10000, b=0, x=x, y=y)"
      ],
      "metadata": {
        "colab": {
          "base_uri": "https://localhost:8080/",
          "height": 381
        },
        "id": "vx_sm-jPff46",
        "outputId": "c0dccfae-598c-4b81-831a-043a79b0fdba"
      },
      "execution_count": null,
      "outputs": [
        {
          "output_type": "stream",
          "name": "stdout",
          "text": [
            "-686090.0\n"
          ]
        },
        {
          "output_type": "execute_result",
          "data": {
            "text/html": [
              "\n",
              "<div id=\"altair-viz-e2806bd7b57848a68900ad971584146b\"></div>\n",
              "<script type=\"text/javascript\">\n",
              "  var VEGA_DEBUG = (typeof VEGA_DEBUG == \"undefined\") ? {} : VEGA_DEBUG;\n",
              "  (function(spec, embedOpt){\n",
              "    let outputDiv = document.currentScript.previousElementSibling;\n",
              "    if (outputDiv.id !== \"altair-viz-e2806bd7b57848a68900ad971584146b\") {\n",
              "      outputDiv = document.getElementById(\"altair-viz-e2806bd7b57848a68900ad971584146b\");\n",
              "    }\n",
              "    const paths = {\n",
              "      \"vega\": \"https://cdn.jsdelivr.net/npm//vega@5?noext\",\n",
              "      \"vega-lib\": \"https://cdn.jsdelivr.net/npm//vega-lib?noext\",\n",
              "      \"vega-lite\": \"https://cdn.jsdelivr.net/npm//vega-lite@4.17.0?noext\",\n",
              "      \"vega-embed\": \"https://cdn.jsdelivr.net/npm//vega-embed@6?noext\",\n",
              "    };\n",
              "\n",
              "    function maybeLoadScript(lib, version) {\n",
              "      var key = `${lib.replace(\"-\", \"\")}_version`;\n",
              "      return (VEGA_DEBUG[key] == version) ?\n",
              "        Promise.resolve(paths[lib]) :\n",
              "        new Promise(function(resolve, reject) {\n",
              "          var s = document.createElement('script');\n",
              "          document.getElementsByTagName(\"head\")[0].appendChild(s);\n",
              "          s.async = true;\n",
              "          s.onload = () => {\n",
              "            VEGA_DEBUG[key] = version;\n",
              "            return resolve(paths[lib]);\n",
              "          };\n",
              "          s.onerror = () => reject(`Error loading script: ${paths[lib]}`);\n",
              "          s.src = paths[lib];\n",
              "        });\n",
              "    }\n",
              "\n",
              "    function showError(err) {\n",
              "      outputDiv.innerHTML = `<div class=\"error\" style=\"color:red;\">${err}</div>`;\n",
              "      throw err;\n",
              "    }\n",
              "\n",
              "    function displayChart(vegaEmbed) {\n",
              "      vegaEmbed(outputDiv, spec, embedOpt)\n",
              "        .catch(err => showError(`Javascript Error: ${err.message}<br>This usually means there's a typo in your chart specification. See the javascript console for the full traceback.`));\n",
              "    }\n",
              "\n",
              "    if(typeof define === \"function\" && define.amd) {\n",
              "      requirejs.config({paths});\n",
              "      require([\"vega-embed\"], displayChart, err => showError(`Error loading script: ${err.message}`));\n",
              "    } else {\n",
              "      maybeLoadScript(\"vega\", \"5\")\n",
              "        .then(() => maybeLoadScript(\"vega-lite\", \"4.17.0\"))\n",
              "        .then(() => maybeLoadScript(\"vega-embed\", \"6\"))\n",
              "        .catch(showError)\n",
              "        .then(() => displayChart(vegaEmbed));\n",
              "    }\n",
              "  })({\"config\": {\"view\": {\"continuousWidth\": 400, \"continuousHeight\": 300}}, \"layer\": [{\"data\": {\"name\": \"data-1ee9df97fb10d69c78502e814767ebb8\"}, \"mark\": {\"type\": \"circle\", \"color\": \"orange\", \"size\": 60}, \"encoding\": {\"x\": {\"field\": \"x\", \"type\": \"quantitative\"}, \"y\": {\"field\": \"y\", \"type\": \"quantitative\"}}}, {\"data\": {\"name\": \"data-41bfa1b034850c383496703fe7749720\"}, \"mark\": \"line\", \"encoding\": {\"x\": {\"field\": \"x\", \"type\": \"quantitative\"}, \"y\": {\"field\": \"y\", \"type\": \"quantitative\"}}}], \"$schema\": \"https://vega.github.io/schema/vega-lite/v4.17.0.json\", \"datasets\": {\"data-1ee9df97fb10d69c78502e814767ebb8\": [{\"x\": 1.1, \"y\": 39343.0}, {\"x\": 1.3, \"y\": 46205.0}, {\"x\": 1.5, \"y\": 37731.0}, {\"x\": 2.0, \"y\": 43525.0}, {\"x\": 2.2, \"y\": 39891.0}, {\"x\": 2.9, \"y\": 56642.0}, {\"x\": 3.0, \"y\": 60150.0}, {\"x\": 3.2, \"y\": 54445.0}, {\"x\": 3.2, \"y\": 64445.0}, {\"x\": 3.7, \"y\": 57189.0}, {\"x\": 3.9, \"y\": 63218.0}, {\"x\": 4.0, \"y\": 55794.0}, {\"x\": 4.0, \"y\": 56957.0}, {\"x\": 4.1, \"y\": 57081.0}, {\"x\": 4.5, \"y\": 61111.0}, {\"x\": 4.9, \"y\": 67938.0}, {\"x\": 5.1, \"y\": 66029.0}, {\"x\": 5.3, \"y\": 83088.0}, {\"x\": 5.9, \"y\": 81363.0}, {\"x\": 6.0, \"y\": 93940.0}, {\"x\": 6.8, \"y\": 91738.0}, {\"x\": 7.1, \"y\": 98273.0}, {\"x\": 7.9, \"y\": 101302.0}, {\"x\": 8.2, \"y\": 113812.0}, {\"x\": 8.7, \"y\": 109431.0}, {\"x\": 9.0, \"y\": 105582.0}, {\"x\": 9.5, \"y\": 116969.0}, {\"x\": 9.6, \"y\": 112635.0}, {\"x\": 10.3, \"y\": 122391.0}, {\"x\": 10.5, \"y\": 121872.0}], \"data-41bfa1b034850c383496703fe7749720\": [{\"x\": 1.1, \"y\": 11000.0}, {\"x\": 1.3, \"y\": 13000.0}, {\"x\": 1.5, \"y\": 15000.0}, {\"x\": 2.0, \"y\": 20000.0}, {\"x\": 2.2, \"y\": 22000.0}, {\"x\": 2.9, \"y\": 29000.0}, {\"x\": 3.0, \"y\": 30000.0}, {\"x\": 3.2, \"y\": 32000.0}, {\"x\": 3.2, \"y\": 32000.0}, {\"x\": 3.7, \"y\": 37000.0}, {\"x\": 3.9, \"y\": 39000.0}, {\"x\": 4.0, \"y\": 40000.0}, {\"x\": 4.0, \"y\": 40000.0}, {\"x\": 4.1, \"y\": 41000.0}, {\"x\": 4.5, \"y\": 45000.0}, {\"x\": 4.9, \"y\": 49000.0}, {\"x\": 5.1, \"y\": 51000.0}, {\"x\": 5.3, \"y\": 53000.0}, {\"x\": 5.9, \"y\": 59000.0}, {\"x\": 6.0, \"y\": 60000.0}, {\"x\": 6.8, \"y\": 68000.0}, {\"x\": 7.1, \"y\": 71000.0}, {\"x\": 7.9, \"y\": 79000.0}, {\"x\": 8.2, \"y\": 82000.0}, {\"x\": 8.7, \"y\": 87000.0}, {\"x\": 9.0, \"y\": 90000.0}, {\"x\": 9.5, \"y\": 95000.0}, {\"x\": 9.6, \"y\": 96000.0}, {\"x\": 10.3, \"y\": 103000.0}, {\"x\": 10.5, \"y\": 105000.0}]}}, {\"mode\": \"vega-lite\"});\n",
              "</script>"
            ],
            "text/plain": [
              "alt.LayerChart(...)"
            ]
          },
          "metadata": {},
          "execution_count": 24
        }
      ]
    },
    {
      "cell_type": "markdown",
      "source": [
        "**[4.5]** Choose 2 new values for the model parameters (a and b) and use the defined function to check the predictions results"
      ],
      "metadata": {
        "id": "HoWLeXFKz_3y"
      }
    },
    {
      "cell_type": "code",
      "source": [
        "# Placeholder for student's code"
      ],
      "metadata": {
        "id": "hExuyF7n0ADy"
      },
      "execution_count": null,
      "outputs": []
    },
    {
      "cell_type": "code",
      "source": [
        "# Solution\n",
        "check_parameters(a=10000, b=10000, x=x, y=y)"
      ],
      "metadata": {
        "colab": {
          "base_uri": "https://localhost:8080/",
          "height": 381
        },
        "id": "juUwac0-fkKA",
        "outputId": "9da8ac07-6ab6-4e2a-c446-ec4f55fb8098"
      },
      "execution_count": null,
      "outputs": [
        {
          "output_type": "stream",
          "name": "stdout",
          "text": [
            "-386090.0\n"
          ]
        },
        {
          "output_type": "execute_result",
          "data": {
            "text/html": [
              "\n",
              "<div id=\"altair-viz-3a38ea5a9e124c9d9786090334a76ec2\"></div>\n",
              "<script type=\"text/javascript\">\n",
              "  var VEGA_DEBUG = (typeof VEGA_DEBUG == \"undefined\") ? {} : VEGA_DEBUG;\n",
              "  (function(spec, embedOpt){\n",
              "    let outputDiv = document.currentScript.previousElementSibling;\n",
              "    if (outputDiv.id !== \"altair-viz-3a38ea5a9e124c9d9786090334a76ec2\") {\n",
              "      outputDiv = document.getElementById(\"altair-viz-3a38ea5a9e124c9d9786090334a76ec2\");\n",
              "    }\n",
              "    const paths = {\n",
              "      \"vega\": \"https://cdn.jsdelivr.net/npm//vega@5?noext\",\n",
              "      \"vega-lib\": \"https://cdn.jsdelivr.net/npm//vega-lib?noext\",\n",
              "      \"vega-lite\": \"https://cdn.jsdelivr.net/npm//vega-lite@4.17.0?noext\",\n",
              "      \"vega-embed\": \"https://cdn.jsdelivr.net/npm//vega-embed@6?noext\",\n",
              "    };\n",
              "\n",
              "    function maybeLoadScript(lib, version) {\n",
              "      var key = `${lib.replace(\"-\", \"\")}_version`;\n",
              "      return (VEGA_DEBUG[key] == version) ?\n",
              "        Promise.resolve(paths[lib]) :\n",
              "        new Promise(function(resolve, reject) {\n",
              "          var s = document.createElement('script');\n",
              "          document.getElementsByTagName(\"head\")[0].appendChild(s);\n",
              "          s.async = true;\n",
              "          s.onload = () => {\n",
              "            VEGA_DEBUG[key] = version;\n",
              "            return resolve(paths[lib]);\n",
              "          };\n",
              "          s.onerror = () => reject(`Error loading script: ${paths[lib]}`);\n",
              "          s.src = paths[lib];\n",
              "        });\n",
              "    }\n",
              "\n",
              "    function showError(err) {\n",
              "      outputDiv.innerHTML = `<div class=\"error\" style=\"color:red;\">${err}</div>`;\n",
              "      throw err;\n",
              "    }\n",
              "\n",
              "    function displayChart(vegaEmbed) {\n",
              "      vegaEmbed(outputDiv, spec, embedOpt)\n",
              "        .catch(err => showError(`Javascript Error: ${err.message}<br>This usually means there's a typo in your chart specification. See the javascript console for the full traceback.`));\n",
              "    }\n",
              "\n",
              "    if(typeof define === \"function\" && define.amd) {\n",
              "      requirejs.config({paths});\n",
              "      require([\"vega-embed\"], displayChart, err => showError(`Error loading script: ${err.message}`));\n",
              "    } else {\n",
              "      maybeLoadScript(\"vega\", \"5\")\n",
              "        .then(() => maybeLoadScript(\"vega-lite\", \"4.17.0\"))\n",
              "        .then(() => maybeLoadScript(\"vega-embed\", \"6\"))\n",
              "        .catch(showError)\n",
              "        .then(() => displayChart(vegaEmbed));\n",
              "    }\n",
              "  })({\"config\": {\"view\": {\"continuousWidth\": 400, \"continuousHeight\": 300}}, \"layer\": [{\"data\": {\"name\": \"data-1ee9df97fb10d69c78502e814767ebb8\"}, \"mark\": {\"type\": \"circle\", \"color\": \"orange\", \"size\": 60}, \"encoding\": {\"x\": {\"field\": \"x\", \"type\": \"quantitative\"}, \"y\": {\"field\": \"y\", \"type\": \"quantitative\"}}}, {\"data\": {\"name\": \"data-5cbc1432c5cc18b63aa4204f82d69a70\"}, \"mark\": \"line\", \"encoding\": {\"x\": {\"field\": \"x\", \"type\": \"quantitative\"}, \"y\": {\"field\": \"y\", \"type\": \"quantitative\"}}}], \"$schema\": \"https://vega.github.io/schema/vega-lite/v4.17.0.json\", \"datasets\": {\"data-1ee9df97fb10d69c78502e814767ebb8\": [{\"x\": 1.1, \"y\": 39343.0}, {\"x\": 1.3, \"y\": 46205.0}, {\"x\": 1.5, \"y\": 37731.0}, {\"x\": 2.0, \"y\": 43525.0}, {\"x\": 2.2, \"y\": 39891.0}, {\"x\": 2.9, \"y\": 56642.0}, {\"x\": 3.0, \"y\": 60150.0}, {\"x\": 3.2, \"y\": 54445.0}, {\"x\": 3.2, \"y\": 64445.0}, {\"x\": 3.7, \"y\": 57189.0}, {\"x\": 3.9, \"y\": 63218.0}, {\"x\": 4.0, \"y\": 55794.0}, {\"x\": 4.0, \"y\": 56957.0}, {\"x\": 4.1, \"y\": 57081.0}, {\"x\": 4.5, \"y\": 61111.0}, {\"x\": 4.9, \"y\": 67938.0}, {\"x\": 5.1, \"y\": 66029.0}, {\"x\": 5.3, \"y\": 83088.0}, {\"x\": 5.9, \"y\": 81363.0}, {\"x\": 6.0, \"y\": 93940.0}, {\"x\": 6.8, \"y\": 91738.0}, {\"x\": 7.1, \"y\": 98273.0}, {\"x\": 7.9, \"y\": 101302.0}, {\"x\": 8.2, \"y\": 113812.0}, {\"x\": 8.7, \"y\": 109431.0}, {\"x\": 9.0, \"y\": 105582.0}, {\"x\": 9.5, \"y\": 116969.0}, {\"x\": 9.6, \"y\": 112635.0}, {\"x\": 10.3, \"y\": 122391.0}, {\"x\": 10.5, \"y\": 121872.0}], \"data-5cbc1432c5cc18b63aa4204f82d69a70\": [{\"x\": 1.1, \"y\": 21000.0}, {\"x\": 1.3, \"y\": 23000.0}, {\"x\": 1.5, \"y\": 25000.0}, {\"x\": 2.0, \"y\": 30000.0}, {\"x\": 2.2, \"y\": 32000.0}, {\"x\": 2.9, \"y\": 39000.0}, {\"x\": 3.0, \"y\": 40000.0}, {\"x\": 3.2, \"y\": 42000.0}, {\"x\": 3.2, \"y\": 42000.0}, {\"x\": 3.7, \"y\": 47000.0}, {\"x\": 3.9, \"y\": 49000.0}, {\"x\": 4.0, \"y\": 50000.0}, {\"x\": 4.0, \"y\": 50000.0}, {\"x\": 4.1, \"y\": 51000.0}, {\"x\": 4.5, \"y\": 55000.0}, {\"x\": 4.9, \"y\": 59000.0}, {\"x\": 5.1, \"y\": 61000.0}, {\"x\": 5.3, \"y\": 63000.0}, {\"x\": 5.9, \"y\": 69000.0}, {\"x\": 6.0, \"y\": 70000.0}, {\"x\": 6.8, \"y\": 78000.0}, {\"x\": 7.1, \"y\": 81000.0}, {\"x\": 7.9, \"y\": 89000.0}, {\"x\": 8.2, \"y\": 92000.0}, {\"x\": 8.7, \"y\": 97000.0}, {\"x\": 9.0, \"y\": 100000.0}, {\"x\": 9.5, \"y\": 105000.0}, {\"x\": 9.6, \"y\": 106000.0}, {\"x\": 10.3, \"y\": 113000.0}, {\"x\": 10.5, \"y\": 115000.0}]}}, {\"mode\": \"vega-lite\"});\n",
              "</script>"
            ],
            "text/plain": [
              "alt.LayerChart(...)"
            ]
          },
          "metadata": {},
          "execution_count": 25
        }
      ]
    },
    {
      "cell_type": "markdown",
      "source": [
        "**[4.6]** Choose 2 new values for the model parameters (a and b) and use the defined function to check the predictions results"
      ],
      "metadata": {
        "id": "CjNe5e_N0BlT"
      }
    },
    {
      "cell_type": "code",
      "source": [
        "# Placeholder for student's code"
      ],
      "metadata": {
        "id": "YtseP3eZ0Bqx"
      },
      "execution_count": null,
      "outputs": []
    },
    {
      "cell_type": "code",
      "source": [
        "# Solution\n",
        "check_parameters(a=10000, b=20000, x=x, y=y)"
      ],
      "metadata": {
        "colab": {
          "base_uri": "https://localhost:8080/",
          "height": 381
        },
        "id": "AcHVVYs_jiTF",
        "outputId": "f06670dc-f81f-4d9a-d220-93a6dbc44231"
      },
      "execution_count": null,
      "outputs": [
        {
          "output_type": "stream",
          "name": "stdout",
          "text": [
            "-86090.0\n"
          ]
        },
        {
          "output_type": "execute_result",
          "data": {
            "text/html": [
              "\n",
              "<div id=\"altair-viz-710e9c37c7a74172a60976cf9213ea1a\"></div>\n",
              "<script type=\"text/javascript\">\n",
              "  var VEGA_DEBUG = (typeof VEGA_DEBUG == \"undefined\") ? {} : VEGA_DEBUG;\n",
              "  (function(spec, embedOpt){\n",
              "    let outputDiv = document.currentScript.previousElementSibling;\n",
              "    if (outputDiv.id !== \"altair-viz-710e9c37c7a74172a60976cf9213ea1a\") {\n",
              "      outputDiv = document.getElementById(\"altair-viz-710e9c37c7a74172a60976cf9213ea1a\");\n",
              "    }\n",
              "    const paths = {\n",
              "      \"vega\": \"https://cdn.jsdelivr.net/npm//vega@5?noext\",\n",
              "      \"vega-lib\": \"https://cdn.jsdelivr.net/npm//vega-lib?noext\",\n",
              "      \"vega-lite\": \"https://cdn.jsdelivr.net/npm//vega-lite@4.17.0?noext\",\n",
              "      \"vega-embed\": \"https://cdn.jsdelivr.net/npm//vega-embed@6?noext\",\n",
              "    };\n",
              "\n",
              "    function maybeLoadScript(lib, version) {\n",
              "      var key = `${lib.replace(\"-\", \"\")}_version`;\n",
              "      return (VEGA_DEBUG[key] == version) ?\n",
              "        Promise.resolve(paths[lib]) :\n",
              "        new Promise(function(resolve, reject) {\n",
              "          var s = document.createElement('script');\n",
              "          document.getElementsByTagName(\"head\")[0].appendChild(s);\n",
              "          s.async = true;\n",
              "          s.onload = () => {\n",
              "            VEGA_DEBUG[key] = version;\n",
              "            return resolve(paths[lib]);\n",
              "          };\n",
              "          s.onerror = () => reject(`Error loading script: ${paths[lib]}`);\n",
              "          s.src = paths[lib];\n",
              "        });\n",
              "    }\n",
              "\n",
              "    function showError(err) {\n",
              "      outputDiv.innerHTML = `<div class=\"error\" style=\"color:red;\">${err}</div>`;\n",
              "      throw err;\n",
              "    }\n",
              "\n",
              "    function displayChart(vegaEmbed) {\n",
              "      vegaEmbed(outputDiv, spec, embedOpt)\n",
              "        .catch(err => showError(`Javascript Error: ${err.message}<br>This usually means there's a typo in your chart specification. See the javascript console for the full traceback.`));\n",
              "    }\n",
              "\n",
              "    if(typeof define === \"function\" && define.amd) {\n",
              "      requirejs.config({paths});\n",
              "      require([\"vega-embed\"], displayChart, err => showError(`Error loading script: ${err.message}`));\n",
              "    } else {\n",
              "      maybeLoadScript(\"vega\", \"5\")\n",
              "        .then(() => maybeLoadScript(\"vega-lite\", \"4.17.0\"))\n",
              "        .then(() => maybeLoadScript(\"vega-embed\", \"6\"))\n",
              "        .catch(showError)\n",
              "        .then(() => displayChart(vegaEmbed));\n",
              "    }\n",
              "  })({\"config\": {\"view\": {\"continuousWidth\": 400, \"continuousHeight\": 300}}, \"layer\": [{\"data\": {\"name\": \"data-1ee9df97fb10d69c78502e814767ebb8\"}, \"mark\": {\"type\": \"circle\", \"color\": \"orange\", \"size\": 60}, \"encoding\": {\"x\": {\"field\": \"x\", \"type\": \"quantitative\"}, \"y\": {\"field\": \"y\", \"type\": \"quantitative\"}}}, {\"data\": {\"name\": \"data-ee259ce53399077f36a1b77cb613b4fd\"}, \"mark\": \"line\", \"encoding\": {\"x\": {\"field\": \"x\", \"type\": \"quantitative\"}, \"y\": {\"field\": \"y\", \"type\": \"quantitative\"}}}], \"$schema\": \"https://vega.github.io/schema/vega-lite/v4.17.0.json\", \"datasets\": {\"data-1ee9df97fb10d69c78502e814767ebb8\": [{\"x\": 1.1, \"y\": 39343.0}, {\"x\": 1.3, \"y\": 46205.0}, {\"x\": 1.5, \"y\": 37731.0}, {\"x\": 2.0, \"y\": 43525.0}, {\"x\": 2.2, \"y\": 39891.0}, {\"x\": 2.9, \"y\": 56642.0}, {\"x\": 3.0, \"y\": 60150.0}, {\"x\": 3.2, \"y\": 54445.0}, {\"x\": 3.2, \"y\": 64445.0}, {\"x\": 3.7, \"y\": 57189.0}, {\"x\": 3.9, \"y\": 63218.0}, {\"x\": 4.0, \"y\": 55794.0}, {\"x\": 4.0, \"y\": 56957.0}, {\"x\": 4.1, \"y\": 57081.0}, {\"x\": 4.5, \"y\": 61111.0}, {\"x\": 4.9, \"y\": 67938.0}, {\"x\": 5.1, \"y\": 66029.0}, {\"x\": 5.3, \"y\": 83088.0}, {\"x\": 5.9, \"y\": 81363.0}, {\"x\": 6.0, \"y\": 93940.0}, {\"x\": 6.8, \"y\": 91738.0}, {\"x\": 7.1, \"y\": 98273.0}, {\"x\": 7.9, \"y\": 101302.0}, {\"x\": 8.2, \"y\": 113812.0}, {\"x\": 8.7, \"y\": 109431.0}, {\"x\": 9.0, \"y\": 105582.0}, {\"x\": 9.5, \"y\": 116969.0}, {\"x\": 9.6, \"y\": 112635.0}, {\"x\": 10.3, \"y\": 122391.0}, {\"x\": 10.5, \"y\": 121872.0}], \"data-ee259ce53399077f36a1b77cb613b4fd\": [{\"x\": 1.1, \"y\": 31000.0}, {\"x\": 1.3, \"y\": 33000.0}, {\"x\": 1.5, \"y\": 35000.0}, {\"x\": 2.0, \"y\": 40000.0}, {\"x\": 2.2, \"y\": 42000.0}, {\"x\": 2.9, \"y\": 49000.0}, {\"x\": 3.0, \"y\": 50000.0}, {\"x\": 3.2, \"y\": 52000.0}, {\"x\": 3.2, \"y\": 52000.0}, {\"x\": 3.7, \"y\": 57000.0}, {\"x\": 3.9, \"y\": 59000.0}, {\"x\": 4.0, \"y\": 60000.0}, {\"x\": 4.0, \"y\": 60000.0}, {\"x\": 4.1, \"y\": 61000.0}, {\"x\": 4.5, \"y\": 65000.0}, {\"x\": 4.9, \"y\": 69000.0}, {\"x\": 5.1, \"y\": 71000.0}, {\"x\": 5.3, \"y\": 73000.0}, {\"x\": 5.9, \"y\": 79000.0}, {\"x\": 6.0, \"y\": 80000.0}, {\"x\": 6.8, \"y\": 88000.0}, {\"x\": 7.1, \"y\": 91000.0}, {\"x\": 7.9, \"y\": 99000.0}, {\"x\": 8.2, \"y\": 102000.0}, {\"x\": 8.7, \"y\": 107000.0}, {\"x\": 9.0, \"y\": 110000.0}, {\"x\": 9.5, \"y\": 115000.0}, {\"x\": 9.6, \"y\": 116000.0}, {\"x\": 10.3, \"y\": 123000.0}, {\"x\": 10.5, \"y\": 125000.0}]}}, {\"mode\": \"vega-lite\"});\n",
              "</script>"
            ],
            "text/plain": [
              "alt.LayerChart(...)"
            ]
          },
          "metadata": {},
          "execution_count": 26
        }
      ]
    },
    {
      "cell_type": "markdown",
      "source": [
        "**[4.7]** Choose 2 new values for the model parameters (a and b) and use the defined function to check the predictions results"
      ],
      "metadata": {
        "id": "-at-U2Db0DOo"
      }
    },
    {
      "cell_type": "code",
      "source": [
        "# Placeholder for student's code"
      ],
      "metadata": {
        "id": "--UDNP2j0DWt"
      },
      "execution_count": null,
      "outputs": []
    },
    {
      "cell_type": "code",
      "source": [
        "# Solution\n",
        "check_parameters(a=10000, b=25000, x=x, y=y)"
      ],
      "metadata": {
        "colab": {
          "base_uri": "https://localhost:8080/",
          "height": 383
        },
        "id": "KG5hehjajmvo",
        "outputId": "9d0cf195-4017-45db-de1e-db2f34ddf24e"
      },
      "execution_count": null,
      "outputs": [
        {
          "output_type": "stream",
          "name": "stdout",
          "text": [
            "63910.0\n"
          ]
        },
        {
          "output_type": "execute_result",
          "data": {
            "text/html": [
              "\n",
              "<div id=\"altair-viz-91c7ba0585fd435c9a328fc8ed868e54\"></div>\n",
              "<script type=\"text/javascript\">\n",
              "  var VEGA_DEBUG = (typeof VEGA_DEBUG == \"undefined\") ? {} : VEGA_DEBUG;\n",
              "  (function(spec, embedOpt){\n",
              "    let outputDiv = document.currentScript.previousElementSibling;\n",
              "    if (outputDiv.id !== \"altair-viz-91c7ba0585fd435c9a328fc8ed868e54\") {\n",
              "      outputDiv = document.getElementById(\"altair-viz-91c7ba0585fd435c9a328fc8ed868e54\");\n",
              "    }\n",
              "    const paths = {\n",
              "      \"vega\": \"https://cdn.jsdelivr.net/npm//vega@5?noext\",\n",
              "      \"vega-lib\": \"https://cdn.jsdelivr.net/npm//vega-lib?noext\",\n",
              "      \"vega-lite\": \"https://cdn.jsdelivr.net/npm//vega-lite@4.17.0?noext\",\n",
              "      \"vega-embed\": \"https://cdn.jsdelivr.net/npm//vega-embed@6?noext\",\n",
              "    };\n",
              "\n",
              "    function maybeLoadScript(lib, version) {\n",
              "      var key = `${lib.replace(\"-\", \"\")}_version`;\n",
              "      return (VEGA_DEBUG[key] == version) ?\n",
              "        Promise.resolve(paths[lib]) :\n",
              "        new Promise(function(resolve, reject) {\n",
              "          var s = document.createElement('script');\n",
              "          document.getElementsByTagName(\"head\")[0].appendChild(s);\n",
              "          s.async = true;\n",
              "          s.onload = () => {\n",
              "            VEGA_DEBUG[key] = version;\n",
              "            return resolve(paths[lib]);\n",
              "          };\n",
              "          s.onerror = () => reject(`Error loading script: ${paths[lib]}`);\n",
              "          s.src = paths[lib];\n",
              "        });\n",
              "    }\n",
              "\n",
              "    function showError(err) {\n",
              "      outputDiv.innerHTML = `<div class=\"error\" style=\"color:red;\">${err}</div>`;\n",
              "      throw err;\n",
              "    }\n",
              "\n",
              "    function displayChart(vegaEmbed) {\n",
              "      vegaEmbed(outputDiv, spec, embedOpt)\n",
              "        .catch(err => showError(`Javascript Error: ${err.message}<br>This usually means there's a typo in your chart specification. See the javascript console for the full traceback.`));\n",
              "    }\n",
              "\n",
              "    if(typeof define === \"function\" && define.amd) {\n",
              "      requirejs.config({paths});\n",
              "      require([\"vega-embed\"], displayChart, err => showError(`Error loading script: ${err.message}`));\n",
              "    } else {\n",
              "      maybeLoadScript(\"vega\", \"5\")\n",
              "        .then(() => maybeLoadScript(\"vega-lite\", \"4.17.0\"))\n",
              "        .then(() => maybeLoadScript(\"vega-embed\", \"6\"))\n",
              "        .catch(showError)\n",
              "        .then(() => displayChart(vegaEmbed));\n",
              "    }\n",
              "  })({\"config\": {\"view\": {\"continuousWidth\": 400, \"continuousHeight\": 300}}, \"layer\": [{\"data\": {\"name\": \"data-1ee9df97fb10d69c78502e814767ebb8\"}, \"mark\": {\"type\": \"circle\", \"color\": \"orange\", \"size\": 60}, \"encoding\": {\"x\": {\"field\": \"x\", \"type\": \"quantitative\"}, \"y\": {\"field\": \"y\", \"type\": \"quantitative\"}}}, {\"data\": {\"name\": \"data-b524066f995352b0888eff802b7981f7\"}, \"mark\": \"line\", \"encoding\": {\"x\": {\"field\": \"x\", \"type\": \"quantitative\"}, \"y\": {\"field\": \"y\", \"type\": \"quantitative\"}}}], \"$schema\": \"https://vega.github.io/schema/vega-lite/v4.17.0.json\", \"datasets\": {\"data-1ee9df97fb10d69c78502e814767ebb8\": [{\"x\": 1.1, \"y\": 39343.0}, {\"x\": 1.3, \"y\": 46205.0}, {\"x\": 1.5, \"y\": 37731.0}, {\"x\": 2.0, \"y\": 43525.0}, {\"x\": 2.2, \"y\": 39891.0}, {\"x\": 2.9, \"y\": 56642.0}, {\"x\": 3.0, \"y\": 60150.0}, {\"x\": 3.2, \"y\": 54445.0}, {\"x\": 3.2, \"y\": 64445.0}, {\"x\": 3.7, \"y\": 57189.0}, {\"x\": 3.9, \"y\": 63218.0}, {\"x\": 4.0, \"y\": 55794.0}, {\"x\": 4.0, \"y\": 56957.0}, {\"x\": 4.1, \"y\": 57081.0}, {\"x\": 4.5, \"y\": 61111.0}, {\"x\": 4.9, \"y\": 67938.0}, {\"x\": 5.1, \"y\": 66029.0}, {\"x\": 5.3, \"y\": 83088.0}, {\"x\": 5.9, \"y\": 81363.0}, {\"x\": 6.0, \"y\": 93940.0}, {\"x\": 6.8, \"y\": 91738.0}, {\"x\": 7.1, \"y\": 98273.0}, {\"x\": 7.9, \"y\": 101302.0}, {\"x\": 8.2, \"y\": 113812.0}, {\"x\": 8.7, \"y\": 109431.0}, {\"x\": 9.0, \"y\": 105582.0}, {\"x\": 9.5, \"y\": 116969.0}, {\"x\": 9.6, \"y\": 112635.0}, {\"x\": 10.3, \"y\": 122391.0}, {\"x\": 10.5, \"y\": 121872.0}], \"data-b524066f995352b0888eff802b7981f7\": [{\"x\": 1.1, \"y\": 36000.0}, {\"x\": 1.3, \"y\": 38000.0}, {\"x\": 1.5, \"y\": 40000.0}, {\"x\": 2.0, \"y\": 45000.0}, {\"x\": 2.2, \"y\": 47000.0}, {\"x\": 2.9, \"y\": 54000.0}, {\"x\": 3.0, \"y\": 55000.0}, {\"x\": 3.2, \"y\": 57000.0}, {\"x\": 3.2, \"y\": 57000.0}, {\"x\": 3.7, \"y\": 62000.0}, {\"x\": 3.9, \"y\": 64000.0}, {\"x\": 4.0, \"y\": 65000.0}, {\"x\": 4.0, \"y\": 65000.0}, {\"x\": 4.1, \"y\": 66000.0}, {\"x\": 4.5, \"y\": 70000.0}, {\"x\": 4.9, \"y\": 74000.0}, {\"x\": 5.1, \"y\": 76000.0}, {\"x\": 5.3, \"y\": 78000.0}, {\"x\": 5.9, \"y\": 84000.0}, {\"x\": 6.0, \"y\": 85000.0}, {\"x\": 6.8, \"y\": 93000.0}, {\"x\": 7.1, \"y\": 96000.0}, {\"x\": 7.9, \"y\": 104000.0}, {\"x\": 8.2, \"y\": 107000.0}, {\"x\": 8.7, \"y\": 112000.0}, {\"x\": 9.0, \"y\": 115000.0}, {\"x\": 9.5, \"y\": 120000.0}, {\"x\": 9.6, \"y\": 121000.0}, {\"x\": 10.3, \"y\": 128000.0}, {\"x\": 10.5, \"y\": 130000.0}]}}, {\"mode\": \"vega-lite\"});\n",
              "</script>"
            ],
            "text/plain": [
              "alt.LayerChart(...)"
            ]
          },
          "metadata": {},
          "execution_count": 27
        }
      ]
    },
    {
      "cell_type": "markdown",
      "source": [
        "**[4.8]** Choose 2 new values for the model parameters (a and b) and use the defined function to check the predictions results"
      ],
      "metadata": {
        "id": "Es_cCGbP0FKK"
      }
    },
    {
      "cell_type": "code",
      "source": [
        "# Placeholder for student's code"
      ],
      "metadata": {
        "id": "HrC5jXnU0FQb"
      },
      "execution_count": null,
      "outputs": []
    },
    {
      "cell_type": "code",
      "source": [
        "# Solution\n",
        "check_parameters(a=9500, b=25000, x=x, y=y)"
      ],
      "metadata": {
        "colab": {
          "base_uri": "https://localhost:8080/",
          "height": 381
        },
        "id": "KBeCNKq5jsoT",
        "outputId": "93bd267e-bfb7-43c0-b02d-2e35231c39c0"
      },
      "execution_count": null,
      "outputs": [
        {
          "output_type": "stream",
          "name": "stdout",
          "text": [
            "-15790.0\n"
          ]
        },
        {
          "output_type": "execute_result",
          "data": {
            "text/html": [
              "\n",
              "<div id=\"altair-viz-bf4e066bf149422ab467acd96dd9b6dd\"></div>\n",
              "<script type=\"text/javascript\">\n",
              "  var VEGA_DEBUG = (typeof VEGA_DEBUG == \"undefined\") ? {} : VEGA_DEBUG;\n",
              "  (function(spec, embedOpt){\n",
              "    let outputDiv = document.currentScript.previousElementSibling;\n",
              "    if (outputDiv.id !== \"altair-viz-bf4e066bf149422ab467acd96dd9b6dd\") {\n",
              "      outputDiv = document.getElementById(\"altair-viz-bf4e066bf149422ab467acd96dd9b6dd\");\n",
              "    }\n",
              "    const paths = {\n",
              "      \"vega\": \"https://cdn.jsdelivr.net/npm//vega@5?noext\",\n",
              "      \"vega-lib\": \"https://cdn.jsdelivr.net/npm//vega-lib?noext\",\n",
              "      \"vega-lite\": \"https://cdn.jsdelivr.net/npm//vega-lite@4.17.0?noext\",\n",
              "      \"vega-embed\": \"https://cdn.jsdelivr.net/npm//vega-embed@6?noext\",\n",
              "    };\n",
              "\n",
              "    function maybeLoadScript(lib, version) {\n",
              "      var key = `${lib.replace(\"-\", \"\")}_version`;\n",
              "      return (VEGA_DEBUG[key] == version) ?\n",
              "        Promise.resolve(paths[lib]) :\n",
              "        new Promise(function(resolve, reject) {\n",
              "          var s = document.createElement('script');\n",
              "          document.getElementsByTagName(\"head\")[0].appendChild(s);\n",
              "          s.async = true;\n",
              "          s.onload = () => {\n",
              "            VEGA_DEBUG[key] = version;\n",
              "            return resolve(paths[lib]);\n",
              "          };\n",
              "          s.onerror = () => reject(`Error loading script: ${paths[lib]}`);\n",
              "          s.src = paths[lib];\n",
              "        });\n",
              "    }\n",
              "\n",
              "    function showError(err) {\n",
              "      outputDiv.innerHTML = `<div class=\"error\" style=\"color:red;\">${err}</div>`;\n",
              "      throw err;\n",
              "    }\n",
              "\n",
              "    function displayChart(vegaEmbed) {\n",
              "      vegaEmbed(outputDiv, spec, embedOpt)\n",
              "        .catch(err => showError(`Javascript Error: ${err.message}<br>This usually means there's a typo in your chart specification. See the javascript console for the full traceback.`));\n",
              "    }\n",
              "\n",
              "    if(typeof define === \"function\" && define.amd) {\n",
              "      requirejs.config({paths});\n",
              "      require([\"vega-embed\"], displayChart, err => showError(`Error loading script: ${err.message}`));\n",
              "    } else {\n",
              "      maybeLoadScript(\"vega\", \"5\")\n",
              "        .then(() => maybeLoadScript(\"vega-lite\", \"4.17.0\"))\n",
              "        .then(() => maybeLoadScript(\"vega-embed\", \"6\"))\n",
              "        .catch(showError)\n",
              "        .then(() => displayChart(vegaEmbed));\n",
              "    }\n",
              "  })({\"config\": {\"view\": {\"continuousWidth\": 400, \"continuousHeight\": 300}}, \"layer\": [{\"data\": {\"name\": \"data-1ee9df97fb10d69c78502e814767ebb8\"}, \"mark\": {\"type\": \"circle\", \"color\": \"orange\", \"size\": 60}, \"encoding\": {\"x\": {\"field\": \"x\", \"type\": \"quantitative\"}, \"y\": {\"field\": \"y\", \"type\": \"quantitative\"}}}, {\"data\": {\"name\": \"data-e83bd36106ddf512c473e3255c4f4bec\"}, \"mark\": \"line\", \"encoding\": {\"x\": {\"field\": \"x\", \"type\": \"quantitative\"}, \"y\": {\"field\": \"y\", \"type\": \"quantitative\"}}}], \"$schema\": \"https://vega.github.io/schema/vega-lite/v4.17.0.json\", \"datasets\": {\"data-1ee9df97fb10d69c78502e814767ebb8\": [{\"x\": 1.1, \"y\": 39343.0}, {\"x\": 1.3, \"y\": 46205.0}, {\"x\": 1.5, \"y\": 37731.0}, {\"x\": 2.0, \"y\": 43525.0}, {\"x\": 2.2, \"y\": 39891.0}, {\"x\": 2.9, \"y\": 56642.0}, {\"x\": 3.0, \"y\": 60150.0}, {\"x\": 3.2, \"y\": 54445.0}, {\"x\": 3.2, \"y\": 64445.0}, {\"x\": 3.7, \"y\": 57189.0}, {\"x\": 3.9, \"y\": 63218.0}, {\"x\": 4.0, \"y\": 55794.0}, {\"x\": 4.0, \"y\": 56957.0}, {\"x\": 4.1, \"y\": 57081.0}, {\"x\": 4.5, \"y\": 61111.0}, {\"x\": 4.9, \"y\": 67938.0}, {\"x\": 5.1, \"y\": 66029.0}, {\"x\": 5.3, \"y\": 83088.0}, {\"x\": 5.9, \"y\": 81363.0}, {\"x\": 6.0, \"y\": 93940.0}, {\"x\": 6.8, \"y\": 91738.0}, {\"x\": 7.1, \"y\": 98273.0}, {\"x\": 7.9, \"y\": 101302.0}, {\"x\": 8.2, \"y\": 113812.0}, {\"x\": 8.7, \"y\": 109431.0}, {\"x\": 9.0, \"y\": 105582.0}, {\"x\": 9.5, \"y\": 116969.0}, {\"x\": 9.6, \"y\": 112635.0}, {\"x\": 10.3, \"y\": 122391.0}, {\"x\": 10.5, \"y\": 121872.0}], \"data-e83bd36106ddf512c473e3255c4f4bec\": [{\"x\": 1.1, \"y\": 35450.0}, {\"x\": 1.3, \"y\": 37350.0}, {\"x\": 1.5, \"y\": 39250.0}, {\"x\": 2.0, \"y\": 44000.0}, {\"x\": 2.2, \"y\": 45900.0}, {\"x\": 2.9, \"y\": 52550.0}, {\"x\": 3.0, \"y\": 53500.0}, {\"x\": 3.2, \"y\": 55400.0}, {\"x\": 3.2, \"y\": 55400.0}, {\"x\": 3.7, \"y\": 60150.0}, {\"x\": 3.9, \"y\": 62050.0}, {\"x\": 4.0, \"y\": 63000.0}, {\"x\": 4.0, \"y\": 63000.0}, {\"x\": 4.1, \"y\": 63950.0}, {\"x\": 4.5, \"y\": 67750.0}, {\"x\": 4.9, \"y\": 71550.0}, {\"x\": 5.1, \"y\": 73450.0}, {\"x\": 5.3, \"y\": 75350.0}, {\"x\": 5.9, \"y\": 81050.0}, {\"x\": 6.0, \"y\": 82000.0}, {\"x\": 6.8, \"y\": 89600.0}, {\"x\": 7.1, \"y\": 92450.0}, {\"x\": 7.9, \"y\": 100050.0}, {\"x\": 8.2, \"y\": 102900.0}, {\"x\": 8.7, \"y\": 107650.0}, {\"x\": 9.0, \"y\": 110500.0}, {\"x\": 9.5, \"y\": 115250.0}, {\"x\": 9.6, \"y\": 116200.0}, {\"x\": 10.3, \"y\": 122850.0}, {\"x\": 10.5, \"y\": 124750.0}]}}, {\"mode\": \"vega-lite\"});\n",
              "</script>"
            ],
            "text/plain": [
              "alt.LayerChart(...)"
            ]
          },
          "metadata": {},
          "execution_count": 28
        }
      ]
    }
  ]
}