{
 "cells": [
  {
   "attachments": {},
   "cell_type": "markdown",
   "metadata": {},
   "source": [
    "Linear Regression\n",
    "\n",
    "## Attempt 1: Simulate the learning process of Univariate Linear Regression\n",
    "\n",
    "We will be using a dataset avaialeble here: \n",
    "1.testing dataset -  https://raw.githubusercontent.com/wongwara/AT1-ML_cancer/main/Dataset_cancer/cancer_us_county-training.csv\n",
    "\n",
    "2.training dataset - https://raw.githubusercontent.com/wongwara/AT1-ML_cancer/main/Dataset_cancer/cancer_us_county-training.csv\n",
    "\n",
    "The steps are:\n",
    "1.   Load data\n",
    "2.   Explore the dataset\n",
    "3.   Make predictions with Default Parameters for a Linear Regression\n",
    "4.   Update parameters"
   ]
  },
  {
   "cell_type": "code",
   "execution_count": null,
   "metadata": {},
   "outputs": [],
   "source": []
  },
  {
   "attachments": {},
   "cell_type": "markdown",
   "metadata": {},
   "source": [
    "1. Load data by import pandas, numpy and altair package"
   ]
  },
  {
   "cell_type": "code",
   "execution_count": 2,
   "metadata": {},
   "outputs": [],
   "source": [
    "import pandas as pd\n",
    "import numpy as np\n",
    "import altair as alt\n",
    "from sklearn.linear_model import LinearRegression"
   ]
  },
  {
   "attachments": {},
   "cell_type": "markdown",
   "metadata": {},
   "source": [
    "download the dataset"
   ]
  },
  {
   "cell_type": "code",
   "execution_count": 11,
   "metadata": {},
   "outputs": [],
   "source": [
    "test_url = 'https://raw.githubusercontent.com/wongwara/AT1-ML_cancer/main/Dataset_cancer/cancer_us_county-testing.csv'"
   ]
  },
  {
   "cell_type": "code",
   "execution_count": 12,
   "metadata": {},
   "outputs": [],
   "source": [
    "train_url = 'https://raw.githubusercontent.com/wongwara/AT1-ML_cancer/main/Dataset_cancer/cancer_us_county-training.csv'"
   ]
  },
  {
   "attachments": {},
   "cell_type": "markdown",
   "metadata": {},
   "source": [
    "load the data into a DataFrame called df"
   ]
  }
 ],
 "metadata": {
  "kernelspec": {
   "display_name": "Python 3",
   "language": "python",
   "name": "python3"
  },
  "language_info": {
   "codemirror_mode": {
    "name": "ipython",
    "version": 3
   },
   "file_extension": ".py",
   "mimetype": "text/x-python",
   "name": "python",
   "nbconvert_exporter": "python",
   "pygments_lexer": "ipython3",
   "version": "3.11.2"
  },
  "orig_nbformat": 4
 },
 "nbformat": 4,
 "nbformat_minor": 2
}
