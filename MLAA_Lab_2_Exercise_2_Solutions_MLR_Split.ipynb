{
  "nbformat": 4,
  "nbformat_minor": 0,
  "metadata": {
    "colab": {
      "provenance": [],
      "include_colab_link": true
    },
    "kernelspec": {
      "name": "python3",
      "display_name": "Python 3"
    }
  },
  "cells": [
    {
      "cell_type": "markdown",
      "metadata": {
        "id": "view-in-github",
        "colab_type": "text"
      },
      "source": [
        "<a href=\"https://colab.research.google.com/github/wongwara/AT1-ML_cancer/blob/main/MLAA_Lab_2_Exercise_2_Solutions_MLR_Split.ipynb\" target=\"_parent\"><img src=\"https://colab.research.google.com/assets/colab-badge.svg\" alt=\"Open In Colab\"/></a>"
      ]
    },
    {
      "cell_type": "markdown",
      "metadata": {
        "id": "uQ6wc2HE0pke"
      },
      "source": [
        "# **Lab 2: Multivariate Linear Regression**\n"
      ]
    },
    {
      "cell_type": "markdown",
      "metadata": {
        "id": "tQgxLRrvjiJb"
      },
      "source": [
        "## Exercise 2: Multivariate Linear Regression & Data Splitting\n",
        "\n",
        "You will now work on a new dataset called \"Auto MPG\" from the UCI Machine Learning Repository: https://archive.ics.uci.edu/ml/datasets/Auto+MPG\n",
        "\n",
        "You will loading the dataset from this link: \n",
        "https://raw.githubusercontent.com/aso-uts/mlaa/main/datasets/lab2/ex2/auto_mpg.csv\n",
        "\n",
        "This dataset contains the fuel consumption in miles per gallon (\"mpg\") of 398 cars. Your goal is to build a Multivariate Linear Regression model to predict the mpg.\n",
        "\n",
        "The steps are:\n",
        "\n",
        "1.   Load and Explore Dataset\n",
        "2.   Data Preparation\n",
        "3.   Assess Baseline Model\n",
        "4.   Train Initial Model with all Features\n",
        "5.   Train Second Model with less Features"
      ]
    },
    {
      "cell_type": "markdown",
      "metadata": {
        "id": "smh_LhVjIg9s"
      },
      "source": [
        "### 1. Load and Explore Dataset"
      ]
    },
    {
      "cell_type": "markdown",
      "metadata": {
        "id": "MqQvL-CLbmmB"
      },
      "source": [
        "**[1.1]** Import the pandas, numpy and altair packages"
      ]
    },
    {
      "cell_type": "code",
      "metadata": {
        "id": "ONaPp_MhboMc"
      },
      "source": [
        "# Placeholder for student's code"
      ],
      "execution_count": null,
      "outputs": []
    },
    {
      "cell_type": "code",
      "metadata": {
        "id": "faNd47YOMyk0"
      },
      "source": [
        "# Solution\n",
        "import pandas as pd\n",
        "import numpy as np\n",
        "import altair as alt"
      ],
      "execution_count": null,
      "outputs": []
    },
    {
      "cell_type": "markdown",
      "metadata": {
        "id": "Ibk9tuTLbqPU"
      },
      "source": [
        "**[1.2]** Create a variable called file_url containing the link to the CSV file "
      ]
    },
    {
      "cell_type": "code",
      "metadata": {
        "id": "yhVQgRcebx9s"
      },
      "source": [
        "# Placeholder for student's code"
      ],
      "execution_count": null,
      "outputs": []
    },
    {
      "cell_type": "code",
      "metadata": {
        "id": "8wAkIzX4MlfL"
      },
      "source": [
        "# Solution\n",
        "file_url = 'https://raw.githubusercontent.com/aso-uts/mlaa/main/datasets/lab2/ex2/auto_mpg.csv'"
      ],
      "execution_count": null,
      "outputs": []
    },
    {
      "cell_type": "markdown",
      "source": [
        "**[1.3]** Load the dataset into dataframe called df"
      ],
      "metadata": {
        "id": "_35LXawTrjVx"
      }
    },
    {
      "cell_type": "code",
      "source": [
        "# Placeholder for student's code"
      ],
      "metadata": {
        "id": "nMOBIRPerjbw"
      },
      "execution_count": null,
      "outputs": []
    },
    {
      "cell_type": "code",
      "source": [
        "# Solution\n",
        "df = pd.read_csv(file_url)\n",
        "df"
      ],
      "metadata": {
        "id": "FQ4ffcCWrjji",
        "colab": {
          "base_uri": "https://localhost:8080/",
          "height": 424
        },
        "outputId": "9d1eec25-c559-4002-b462-3e12e9761ef7"
      },
      "execution_count": null,
      "outputs": [
        {
          "output_type": "execute_result",
          "data": {
            "text/plain": [
              "      mpg  cylinders  displacement  horsepower  weight  acceleration  \\\n",
              "0    18.0          8         307.0       130.0    3504          12.0   \n",
              "1    15.0          8         350.0       165.0    3693          11.5   \n",
              "2    18.0          8         318.0       150.0    3436          11.0   \n",
              "3    16.0          8         304.0       150.0    3433          12.0   \n",
              "4    17.0          8         302.0       140.0    3449          10.5   \n",
              "..    ...        ...           ...         ...     ...           ...   \n",
              "393  27.0          4         140.0        86.0    2790          15.6   \n",
              "394  44.0          4          97.0        52.0    2130          24.6   \n",
              "395  32.0          4         135.0        84.0    2295          11.6   \n",
              "396  28.0          4         120.0        79.0    2625          18.6   \n",
              "397  31.0          4         119.0        82.0    2720          19.4   \n",
              "\n",
              "     model_year  origin_USA  origin_EU  origin_JP  \n",
              "0            70           1          0          0  \n",
              "1            70           1          0          0  \n",
              "2            70           1          0          0  \n",
              "3            70           1          0          0  \n",
              "4            70           1          0          0  \n",
              "..          ...         ...        ...        ...  \n",
              "393          82           1          0          0  \n",
              "394          82           0          1          0  \n",
              "395          82           1          0          0  \n",
              "396          82           1          0          0  \n",
              "397          82           1          0          0  \n",
              "\n",
              "[398 rows x 10 columns]"
            ],
            "text/html": [
              "\n",
              "  <div id=\"df-b1390c9e-4dab-41c8-a1c1-0cad665890e3\">\n",
              "    <div class=\"colab-df-container\">\n",
              "      <div>\n",
              "<style scoped>\n",
              "    .dataframe tbody tr th:only-of-type {\n",
              "        vertical-align: middle;\n",
              "    }\n",
              "\n",
              "    .dataframe tbody tr th {\n",
              "        vertical-align: top;\n",
              "    }\n",
              "\n",
              "    .dataframe thead th {\n",
              "        text-align: right;\n",
              "    }\n",
              "</style>\n",
              "<table border=\"1\" class=\"dataframe\">\n",
              "  <thead>\n",
              "    <tr style=\"text-align: right;\">\n",
              "      <th></th>\n",
              "      <th>mpg</th>\n",
              "      <th>cylinders</th>\n",
              "      <th>displacement</th>\n",
              "      <th>horsepower</th>\n",
              "      <th>weight</th>\n",
              "      <th>acceleration</th>\n",
              "      <th>model_year</th>\n",
              "      <th>origin_USA</th>\n",
              "      <th>origin_EU</th>\n",
              "      <th>origin_JP</th>\n",
              "    </tr>\n",
              "  </thead>\n",
              "  <tbody>\n",
              "    <tr>\n",
              "      <th>0</th>\n",
              "      <td>18.0</td>\n",
              "      <td>8</td>\n",
              "      <td>307.0</td>\n",
              "      <td>130.0</td>\n",
              "      <td>3504</td>\n",
              "      <td>12.0</td>\n",
              "      <td>70</td>\n",
              "      <td>1</td>\n",
              "      <td>0</td>\n",
              "      <td>0</td>\n",
              "    </tr>\n",
              "    <tr>\n",
              "      <th>1</th>\n",
              "      <td>15.0</td>\n",
              "      <td>8</td>\n",
              "      <td>350.0</td>\n",
              "      <td>165.0</td>\n",
              "      <td>3693</td>\n",
              "      <td>11.5</td>\n",
              "      <td>70</td>\n",
              "      <td>1</td>\n",
              "      <td>0</td>\n",
              "      <td>0</td>\n",
              "    </tr>\n",
              "    <tr>\n",
              "      <th>2</th>\n",
              "      <td>18.0</td>\n",
              "      <td>8</td>\n",
              "      <td>318.0</td>\n",
              "      <td>150.0</td>\n",
              "      <td>3436</td>\n",
              "      <td>11.0</td>\n",
              "      <td>70</td>\n",
              "      <td>1</td>\n",
              "      <td>0</td>\n",
              "      <td>0</td>\n",
              "    </tr>\n",
              "    <tr>\n",
              "      <th>3</th>\n",
              "      <td>16.0</td>\n",
              "      <td>8</td>\n",
              "      <td>304.0</td>\n",
              "      <td>150.0</td>\n",
              "      <td>3433</td>\n",
              "      <td>12.0</td>\n",
              "      <td>70</td>\n",
              "      <td>1</td>\n",
              "      <td>0</td>\n",
              "      <td>0</td>\n",
              "    </tr>\n",
              "    <tr>\n",
              "      <th>4</th>\n",
              "      <td>17.0</td>\n",
              "      <td>8</td>\n",
              "      <td>302.0</td>\n",
              "      <td>140.0</td>\n",
              "      <td>3449</td>\n",
              "      <td>10.5</td>\n",
              "      <td>70</td>\n",
              "      <td>1</td>\n",
              "      <td>0</td>\n",
              "      <td>0</td>\n",
              "    </tr>\n",
              "    <tr>\n",
              "      <th>...</th>\n",
              "      <td>...</td>\n",
              "      <td>...</td>\n",
              "      <td>...</td>\n",
              "      <td>...</td>\n",
              "      <td>...</td>\n",
              "      <td>...</td>\n",
              "      <td>...</td>\n",
              "      <td>...</td>\n",
              "      <td>...</td>\n",
              "      <td>...</td>\n",
              "    </tr>\n",
              "    <tr>\n",
              "      <th>393</th>\n",
              "      <td>27.0</td>\n",
              "      <td>4</td>\n",
              "      <td>140.0</td>\n",
              "      <td>86.0</td>\n",
              "      <td>2790</td>\n",
              "      <td>15.6</td>\n",
              "      <td>82</td>\n",
              "      <td>1</td>\n",
              "      <td>0</td>\n",
              "      <td>0</td>\n",
              "    </tr>\n",
              "    <tr>\n",
              "      <th>394</th>\n",
              "      <td>44.0</td>\n",
              "      <td>4</td>\n",
              "      <td>97.0</td>\n",
              "      <td>52.0</td>\n",
              "      <td>2130</td>\n",
              "      <td>24.6</td>\n",
              "      <td>82</td>\n",
              "      <td>0</td>\n",
              "      <td>1</td>\n",
              "      <td>0</td>\n",
              "    </tr>\n",
              "    <tr>\n",
              "      <th>395</th>\n",
              "      <td>32.0</td>\n",
              "      <td>4</td>\n",
              "      <td>135.0</td>\n",
              "      <td>84.0</td>\n",
              "      <td>2295</td>\n",
              "      <td>11.6</td>\n",
              "      <td>82</td>\n",
              "      <td>1</td>\n",
              "      <td>0</td>\n",
              "      <td>0</td>\n",
              "    </tr>\n",
              "    <tr>\n",
              "      <th>396</th>\n",
              "      <td>28.0</td>\n",
              "      <td>4</td>\n",
              "      <td>120.0</td>\n",
              "      <td>79.0</td>\n",
              "      <td>2625</td>\n",
              "      <td>18.6</td>\n",
              "      <td>82</td>\n",
              "      <td>1</td>\n",
              "      <td>0</td>\n",
              "      <td>0</td>\n",
              "    </tr>\n",
              "    <tr>\n",
              "      <th>397</th>\n",
              "      <td>31.0</td>\n",
              "      <td>4</td>\n",
              "      <td>119.0</td>\n",
              "      <td>82.0</td>\n",
              "      <td>2720</td>\n",
              "      <td>19.4</td>\n",
              "      <td>82</td>\n",
              "      <td>1</td>\n",
              "      <td>0</td>\n",
              "      <td>0</td>\n",
              "    </tr>\n",
              "  </tbody>\n",
              "</table>\n",
              "<p>398 rows × 10 columns</p>\n",
              "</div>\n",
              "      <button class=\"colab-df-convert\" onclick=\"convertToInteractive('df-b1390c9e-4dab-41c8-a1c1-0cad665890e3')\"\n",
              "              title=\"Convert this dataframe to an interactive table.\"\n",
              "              style=\"display:none;\">\n",
              "        \n",
              "  <svg xmlns=\"http://www.w3.org/2000/svg\" height=\"24px\"viewBox=\"0 0 24 24\"\n",
              "       width=\"24px\">\n",
              "    <path d=\"M0 0h24v24H0V0z\" fill=\"none\"/>\n",
              "    <path d=\"M18.56 5.44l.94 2.06.94-2.06 2.06-.94-2.06-.94-.94-2.06-.94 2.06-2.06.94zm-11 1L8.5 8.5l.94-2.06 2.06-.94-2.06-.94L8.5 2.5l-.94 2.06-2.06.94zm10 10l.94 2.06.94-2.06 2.06-.94-2.06-.94-.94-2.06-.94 2.06-2.06.94z\"/><path d=\"M17.41 7.96l-1.37-1.37c-.4-.4-.92-.59-1.43-.59-.52 0-1.04.2-1.43.59L10.3 9.45l-7.72 7.72c-.78.78-.78 2.05 0 2.83L4 21.41c.39.39.9.59 1.41.59.51 0 1.02-.2 1.41-.59l7.78-7.78 2.81-2.81c.8-.78.8-2.07 0-2.86zM5.41 20L4 18.59l7.72-7.72 1.47 1.35L5.41 20z\"/>\n",
              "  </svg>\n",
              "      </button>\n",
              "      \n",
              "  <style>\n",
              "    .colab-df-container {\n",
              "      display:flex;\n",
              "      flex-wrap:wrap;\n",
              "      gap: 12px;\n",
              "    }\n",
              "\n",
              "    .colab-df-convert {\n",
              "      background-color: #E8F0FE;\n",
              "      border: none;\n",
              "      border-radius: 50%;\n",
              "      cursor: pointer;\n",
              "      display: none;\n",
              "      fill: #1967D2;\n",
              "      height: 32px;\n",
              "      padding: 0 0 0 0;\n",
              "      width: 32px;\n",
              "    }\n",
              "\n",
              "    .colab-df-convert:hover {\n",
              "      background-color: #E2EBFA;\n",
              "      box-shadow: 0px 1px 2px rgba(60, 64, 67, 0.3), 0px 1px 3px 1px rgba(60, 64, 67, 0.15);\n",
              "      fill: #174EA6;\n",
              "    }\n",
              "\n",
              "    [theme=dark] .colab-df-convert {\n",
              "      background-color: #3B4455;\n",
              "      fill: #D2E3FC;\n",
              "    }\n",
              "\n",
              "    [theme=dark] .colab-df-convert:hover {\n",
              "      background-color: #434B5C;\n",
              "      box-shadow: 0px 1px 3px 1px rgba(0, 0, 0, 0.15);\n",
              "      filter: drop-shadow(0px 1px 2px rgba(0, 0, 0, 0.3));\n",
              "      fill: #FFFFFF;\n",
              "    }\n",
              "  </style>\n",
              "\n",
              "      <script>\n",
              "        const buttonEl =\n",
              "          document.querySelector('#df-b1390c9e-4dab-41c8-a1c1-0cad665890e3 button.colab-df-convert');\n",
              "        buttonEl.style.display =\n",
              "          google.colab.kernel.accessAllowed ? 'block' : 'none';\n",
              "\n",
              "        async function convertToInteractive(key) {\n",
              "          const element = document.querySelector('#df-b1390c9e-4dab-41c8-a1c1-0cad665890e3');\n",
              "          const dataTable =\n",
              "            await google.colab.kernel.invokeFunction('convertToInteractive',\n",
              "                                                     [key], {});\n",
              "          if (!dataTable) return;\n",
              "\n",
              "          const docLinkHtml = 'Like what you see? Visit the ' +\n",
              "            '<a target=\"_blank\" href=https://colab.research.google.com/notebooks/data_table.ipynb>data table notebook</a>'\n",
              "            + ' to learn more about interactive tables.';\n",
              "          element.innerHTML = '';\n",
              "          dataTable['output_type'] = 'display_data';\n",
              "          await google.colab.output.renderOutput(dataTable, element);\n",
              "          const docLink = document.createElement('div');\n",
              "          docLink.innerHTML = docLinkHtml;\n",
              "          element.appendChild(docLink);\n",
              "        }\n",
              "      </script>\n",
              "    </div>\n",
              "  </div>\n",
              "  "
            ]
          },
          "metadata": {},
          "execution_count": 6
        }
      ]
    },
    {
      "cell_type": "markdown",
      "metadata": {
        "id": "CDoBj0-aO_mf"
      },
      "source": [
        "**[1.4]** Display the first 5 rows of df"
      ]
    },
    {
      "cell_type": "code",
      "metadata": {
        "id": "e6bEX5o5cVVD"
      },
      "source": [
        "# Placeholder for student's code"
      ],
      "execution_count": null,
      "outputs": []
    },
    {
      "cell_type": "code",
      "metadata": {
        "id": "vqQyefaiN0CB",
        "colab": {
          "base_uri": "https://localhost:8080/",
          "height": 206
        },
        "outputId": "5fbcf4ba-aef0-40a3-eccf-9d0b39d3179d"
      },
      "source": [
        "# Solution\n",
        "df.head()"
      ],
      "execution_count": null,
      "outputs": [
        {
          "output_type": "execute_result",
          "data": {
            "text/plain": [
              "    mpg  cylinders  displacement  horsepower  weight  acceleration  \\\n",
              "0  18.0          8         307.0       130.0    3504          12.0   \n",
              "1  15.0          8         350.0       165.0    3693          11.5   \n",
              "2  18.0          8         318.0       150.0    3436          11.0   \n",
              "3  16.0          8         304.0       150.0    3433          12.0   \n",
              "4  17.0          8         302.0       140.0    3449          10.5   \n",
              "\n",
              "   model_year  origin_USA  origin_EU  origin_JP  \n",
              "0          70           1          0          0  \n",
              "1          70           1          0          0  \n",
              "2          70           1          0          0  \n",
              "3          70           1          0          0  \n",
              "4          70           1          0          0  "
            ],
            "text/html": [
              "\n",
              "  <div id=\"df-c777f702-7fa9-4ba5-af4c-c325bdfbca46\">\n",
              "    <div class=\"colab-df-container\">\n",
              "      <div>\n",
              "<style scoped>\n",
              "    .dataframe tbody tr th:only-of-type {\n",
              "        vertical-align: middle;\n",
              "    }\n",
              "\n",
              "    .dataframe tbody tr th {\n",
              "        vertical-align: top;\n",
              "    }\n",
              "\n",
              "    .dataframe thead th {\n",
              "        text-align: right;\n",
              "    }\n",
              "</style>\n",
              "<table border=\"1\" class=\"dataframe\">\n",
              "  <thead>\n",
              "    <tr style=\"text-align: right;\">\n",
              "      <th></th>\n",
              "      <th>mpg</th>\n",
              "      <th>cylinders</th>\n",
              "      <th>displacement</th>\n",
              "      <th>horsepower</th>\n",
              "      <th>weight</th>\n",
              "      <th>acceleration</th>\n",
              "      <th>model_year</th>\n",
              "      <th>origin_USA</th>\n",
              "      <th>origin_EU</th>\n",
              "      <th>origin_JP</th>\n",
              "    </tr>\n",
              "  </thead>\n",
              "  <tbody>\n",
              "    <tr>\n",
              "      <th>0</th>\n",
              "      <td>18.0</td>\n",
              "      <td>8</td>\n",
              "      <td>307.0</td>\n",
              "      <td>130.0</td>\n",
              "      <td>3504</td>\n",
              "      <td>12.0</td>\n",
              "      <td>70</td>\n",
              "      <td>1</td>\n",
              "      <td>0</td>\n",
              "      <td>0</td>\n",
              "    </tr>\n",
              "    <tr>\n",
              "      <th>1</th>\n",
              "      <td>15.0</td>\n",
              "      <td>8</td>\n",
              "      <td>350.0</td>\n",
              "      <td>165.0</td>\n",
              "      <td>3693</td>\n",
              "      <td>11.5</td>\n",
              "      <td>70</td>\n",
              "      <td>1</td>\n",
              "      <td>0</td>\n",
              "      <td>0</td>\n",
              "    </tr>\n",
              "    <tr>\n",
              "      <th>2</th>\n",
              "      <td>18.0</td>\n",
              "      <td>8</td>\n",
              "      <td>318.0</td>\n",
              "      <td>150.0</td>\n",
              "      <td>3436</td>\n",
              "      <td>11.0</td>\n",
              "      <td>70</td>\n",
              "      <td>1</td>\n",
              "      <td>0</td>\n",
              "      <td>0</td>\n",
              "    </tr>\n",
              "    <tr>\n",
              "      <th>3</th>\n",
              "      <td>16.0</td>\n",
              "      <td>8</td>\n",
              "      <td>304.0</td>\n",
              "      <td>150.0</td>\n",
              "      <td>3433</td>\n",
              "      <td>12.0</td>\n",
              "      <td>70</td>\n",
              "      <td>1</td>\n",
              "      <td>0</td>\n",
              "      <td>0</td>\n",
              "    </tr>\n",
              "    <tr>\n",
              "      <th>4</th>\n",
              "      <td>17.0</td>\n",
              "      <td>8</td>\n",
              "      <td>302.0</td>\n",
              "      <td>140.0</td>\n",
              "      <td>3449</td>\n",
              "      <td>10.5</td>\n",
              "      <td>70</td>\n",
              "      <td>1</td>\n",
              "      <td>0</td>\n",
              "      <td>0</td>\n",
              "    </tr>\n",
              "  </tbody>\n",
              "</table>\n",
              "</div>\n",
              "      <button class=\"colab-df-convert\" onclick=\"convertToInteractive('df-c777f702-7fa9-4ba5-af4c-c325bdfbca46')\"\n",
              "              title=\"Convert this dataframe to an interactive table.\"\n",
              "              style=\"display:none;\">\n",
              "        \n",
              "  <svg xmlns=\"http://www.w3.org/2000/svg\" height=\"24px\"viewBox=\"0 0 24 24\"\n",
              "       width=\"24px\">\n",
              "    <path d=\"M0 0h24v24H0V0z\" fill=\"none\"/>\n",
              "    <path d=\"M18.56 5.44l.94 2.06.94-2.06 2.06-.94-2.06-.94-.94-2.06-.94 2.06-2.06.94zm-11 1L8.5 8.5l.94-2.06 2.06-.94-2.06-.94L8.5 2.5l-.94 2.06-2.06.94zm10 10l.94 2.06.94-2.06 2.06-.94-2.06-.94-.94-2.06-.94 2.06-2.06.94z\"/><path d=\"M17.41 7.96l-1.37-1.37c-.4-.4-.92-.59-1.43-.59-.52 0-1.04.2-1.43.59L10.3 9.45l-7.72 7.72c-.78.78-.78 2.05 0 2.83L4 21.41c.39.39.9.59 1.41.59.51 0 1.02-.2 1.41-.59l7.78-7.78 2.81-2.81c.8-.78.8-2.07 0-2.86zM5.41 20L4 18.59l7.72-7.72 1.47 1.35L5.41 20z\"/>\n",
              "  </svg>\n",
              "      </button>\n",
              "      \n",
              "  <style>\n",
              "    .colab-df-container {\n",
              "      display:flex;\n",
              "      flex-wrap:wrap;\n",
              "      gap: 12px;\n",
              "    }\n",
              "\n",
              "    .colab-df-convert {\n",
              "      background-color: #E8F0FE;\n",
              "      border: none;\n",
              "      border-radius: 50%;\n",
              "      cursor: pointer;\n",
              "      display: none;\n",
              "      fill: #1967D2;\n",
              "      height: 32px;\n",
              "      padding: 0 0 0 0;\n",
              "      width: 32px;\n",
              "    }\n",
              "\n",
              "    .colab-df-convert:hover {\n",
              "      background-color: #E2EBFA;\n",
              "      box-shadow: 0px 1px 2px rgba(60, 64, 67, 0.3), 0px 1px 3px 1px rgba(60, 64, 67, 0.15);\n",
              "      fill: #174EA6;\n",
              "    }\n",
              "\n",
              "    [theme=dark] .colab-df-convert {\n",
              "      background-color: #3B4455;\n",
              "      fill: #D2E3FC;\n",
              "    }\n",
              "\n",
              "    [theme=dark] .colab-df-convert:hover {\n",
              "      background-color: #434B5C;\n",
              "      box-shadow: 0px 1px 3px 1px rgba(0, 0, 0, 0.15);\n",
              "      filter: drop-shadow(0px 1px 2px rgba(0, 0, 0, 0.3));\n",
              "      fill: #FFFFFF;\n",
              "    }\n",
              "  </style>\n",
              "\n",
              "      <script>\n",
              "        const buttonEl =\n",
              "          document.querySelector('#df-c777f702-7fa9-4ba5-af4c-c325bdfbca46 button.colab-df-convert');\n",
              "        buttonEl.style.display =\n",
              "          google.colab.kernel.accessAllowed ? 'block' : 'none';\n",
              "\n",
              "        async function convertToInteractive(key) {\n",
              "          const element = document.querySelector('#df-c777f702-7fa9-4ba5-af4c-c325bdfbca46');\n",
              "          const dataTable =\n",
              "            await google.colab.kernel.invokeFunction('convertToInteractive',\n",
              "                                                     [key], {});\n",
              "          if (!dataTable) return;\n",
              "\n",
              "          const docLinkHtml = 'Like what you see? Visit the ' +\n",
              "            '<a target=\"_blank\" href=https://colab.research.google.com/notebooks/data_table.ipynb>data table notebook</a>'\n",
              "            + ' to learn more about interactive tables.';\n",
              "          element.innerHTML = '';\n",
              "          dataTable['output_type'] = 'display_data';\n",
              "          await google.colab.output.renderOutput(dataTable, element);\n",
              "          const docLink = document.createElement('div');\n",
              "          docLink.innerHTML = docLinkHtml;\n",
              "          element.appendChild(docLink);\n",
              "        }\n",
              "      </script>\n",
              "    </div>\n",
              "  </div>\n",
              "  "
            ]
          },
          "metadata": {},
          "execution_count": 8
        }
      ]
    },
    {
      "cell_type": "markdown",
      "metadata": {
        "id": "gW9byNAUcnre"
      },
      "source": [
        "**[1.5]** Display the last 5 rows of df"
      ]
    },
    {
      "cell_type": "code",
      "metadata": {
        "id": "eR05byl2cp_g"
      },
      "source": [
        "# Placeholder for student's code"
      ],
      "execution_count": null,
      "outputs": []
    },
    {
      "cell_type": "code",
      "metadata": {
        "id": "T-KThKosN5N-",
        "colab": {
          "base_uri": "https://localhost:8080/",
          "height": 206
        },
        "outputId": "747051a3-3d61-4d24-a31e-e805e8104ac2"
      },
      "source": [
        "# Solution\n",
        "df.tail()"
      ],
      "execution_count": null,
      "outputs": [
        {
          "output_type": "execute_result",
          "data": {
            "text/plain": [
              "      mpg  cylinders  displacement  horsepower  weight  acceleration  \\\n",
              "393  27.0          4         140.0        86.0    2790          15.6   \n",
              "394  44.0          4          97.0        52.0    2130          24.6   \n",
              "395  32.0          4         135.0        84.0    2295          11.6   \n",
              "396  28.0          4         120.0        79.0    2625          18.6   \n",
              "397  31.0          4         119.0        82.0    2720          19.4   \n",
              "\n",
              "     model_year  origin_USA  origin_EU  origin_JP  \n",
              "393          82           1          0          0  \n",
              "394          82           0          1          0  \n",
              "395          82           1          0          0  \n",
              "396          82           1          0          0  \n",
              "397          82           1          0          0  "
            ],
            "text/html": [
              "\n",
              "  <div id=\"df-061d8ee0-776f-4bb8-a30a-26c54d6b07b6\">\n",
              "    <div class=\"colab-df-container\">\n",
              "      <div>\n",
              "<style scoped>\n",
              "    .dataframe tbody tr th:only-of-type {\n",
              "        vertical-align: middle;\n",
              "    }\n",
              "\n",
              "    .dataframe tbody tr th {\n",
              "        vertical-align: top;\n",
              "    }\n",
              "\n",
              "    .dataframe thead th {\n",
              "        text-align: right;\n",
              "    }\n",
              "</style>\n",
              "<table border=\"1\" class=\"dataframe\">\n",
              "  <thead>\n",
              "    <tr style=\"text-align: right;\">\n",
              "      <th></th>\n",
              "      <th>mpg</th>\n",
              "      <th>cylinders</th>\n",
              "      <th>displacement</th>\n",
              "      <th>horsepower</th>\n",
              "      <th>weight</th>\n",
              "      <th>acceleration</th>\n",
              "      <th>model_year</th>\n",
              "      <th>origin_USA</th>\n",
              "      <th>origin_EU</th>\n",
              "      <th>origin_JP</th>\n",
              "    </tr>\n",
              "  </thead>\n",
              "  <tbody>\n",
              "    <tr>\n",
              "      <th>393</th>\n",
              "      <td>27.0</td>\n",
              "      <td>4</td>\n",
              "      <td>140.0</td>\n",
              "      <td>86.0</td>\n",
              "      <td>2790</td>\n",
              "      <td>15.6</td>\n",
              "      <td>82</td>\n",
              "      <td>1</td>\n",
              "      <td>0</td>\n",
              "      <td>0</td>\n",
              "    </tr>\n",
              "    <tr>\n",
              "      <th>394</th>\n",
              "      <td>44.0</td>\n",
              "      <td>4</td>\n",
              "      <td>97.0</td>\n",
              "      <td>52.0</td>\n",
              "      <td>2130</td>\n",
              "      <td>24.6</td>\n",
              "      <td>82</td>\n",
              "      <td>0</td>\n",
              "      <td>1</td>\n",
              "      <td>0</td>\n",
              "    </tr>\n",
              "    <tr>\n",
              "      <th>395</th>\n",
              "      <td>32.0</td>\n",
              "      <td>4</td>\n",
              "      <td>135.0</td>\n",
              "      <td>84.0</td>\n",
              "      <td>2295</td>\n",
              "      <td>11.6</td>\n",
              "      <td>82</td>\n",
              "      <td>1</td>\n",
              "      <td>0</td>\n",
              "      <td>0</td>\n",
              "    </tr>\n",
              "    <tr>\n",
              "      <th>396</th>\n",
              "      <td>28.0</td>\n",
              "      <td>4</td>\n",
              "      <td>120.0</td>\n",
              "      <td>79.0</td>\n",
              "      <td>2625</td>\n",
              "      <td>18.6</td>\n",
              "      <td>82</td>\n",
              "      <td>1</td>\n",
              "      <td>0</td>\n",
              "      <td>0</td>\n",
              "    </tr>\n",
              "    <tr>\n",
              "      <th>397</th>\n",
              "      <td>31.0</td>\n",
              "      <td>4</td>\n",
              "      <td>119.0</td>\n",
              "      <td>82.0</td>\n",
              "      <td>2720</td>\n",
              "      <td>19.4</td>\n",
              "      <td>82</td>\n",
              "      <td>1</td>\n",
              "      <td>0</td>\n",
              "      <td>0</td>\n",
              "    </tr>\n",
              "  </tbody>\n",
              "</table>\n",
              "</div>\n",
              "      <button class=\"colab-df-convert\" onclick=\"convertToInteractive('df-061d8ee0-776f-4bb8-a30a-26c54d6b07b6')\"\n",
              "              title=\"Convert this dataframe to an interactive table.\"\n",
              "              style=\"display:none;\">\n",
              "        \n",
              "  <svg xmlns=\"http://www.w3.org/2000/svg\" height=\"24px\"viewBox=\"0 0 24 24\"\n",
              "       width=\"24px\">\n",
              "    <path d=\"M0 0h24v24H0V0z\" fill=\"none\"/>\n",
              "    <path d=\"M18.56 5.44l.94 2.06.94-2.06 2.06-.94-2.06-.94-.94-2.06-.94 2.06-2.06.94zm-11 1L8.5 8.5l.94-2.06 2.06-.94-2.06-.94L8.5 2.5l-.94 2.06-2.06.94zm10 10l.94 2.06.94-2.06 2.06-.94-2.06-.94-.94-2.06-.94 2.06-2.06.94z\"/><path d=\"M17.41 7.96l-1.37-1.37c-.4-.4-.92-.59-1.43-.59-.52 0-1.04.2-1.43.59L10.3 9.45l-7.72 7.72c-.78.78-.78 2.05 0 2.83L4 21.41c.39.39.9.59 1.41.59.51 0 1.02-.2 1.41-.59l7.78-7.78 2.81-2.81c.8-.78.8-2.07 0-2.86zM5.41 20L4 18.59l7.72-7.72 1.47 1.35L5.41 20z\"/>\n",
              "  </svg>\n",
              "      </button>\n",
              "      \n",
              "  <style>\n",
              "    .colab-df-container {\n",
              "      display:flex;\n",
              "      flex-wrap:wrap;\n",
              "      gap: 12px;\n",
              "    }\n",
              "\n",
              "    .colab-df-convert {\n",
              "      background-color: #E8F0FE;\n",
              "      border: none;\n",
              "      border-radius: 50%;\n",
              "      cursor: pointer;\n",
              "      display: none;\n",
              "      fill: #1967D2;\n",
              "      height: 32px;\n",
              "      padding: 0 0 0 0;\n",
              "      width: 32px;\n",
              "    }\n",
              "\n",
              "    .colab-df-convert:hover {\n",
              "      background-color: #E2EBFA;\n",
              "      box-shadow: 0px 1px 2px rgba(60, 64, 67, 0.3), 0px 1px 3px 1px rgba(60, 64, 67, 0.15);\n",
              "      fill: #174EA6;\n",
              "    }\n",
              "\n",
              "    [theme=dark] .colab-df-convert {\n",
              "      background-color: #3B4455;\n",
              "      fill: #D2E3FC;\n",
              "    }\n",
              "\n",
              "    [theme=dark] .colab-df-convert:hover {\n",
              "      background-color: #434B5C;\n",
              "      box-shadow: 0px 1px 3px 1px rgba(0, 0, 0, 0.15);\n",
              "      filter: drop-shadow(0px 1px 2px rgba(0, 0, 0, 0.3));\n",
              "      fill: #FFFFFF;\n",
              "    }\n",
              "  </style>\n",
              "\n",
              "      <script>\n",
              "        const buttonEl =\n",
              "          document.querySelector('#df-061d8ee0-776f-4bb8-a30a-26c54d6b07b6 button.colab-df-convert');\n",
              "        buttonEl.style.display =\n",
              "          google.colab.kernel.accessAllowed ? 'block' : 'none';\n",
              "\n",
              "        async function convertToInteractive(key) {\n",
              "          const element = document.querySelector('#df-061d8ee0-776f-4bb8-a30a-26c54d6b07b6');\n",
              "          const dataTable =\n",
              "            await google.colab.kernel.invokeFunction('convertToInteractive',\n",
              "                                                     [key], {});\n",
              "          if (!dataTable) return;\n",
              "\n",
              "          const docLinkHtml = 'Like what you see? Visit the ' +\n",
              "            '<a target=\"_blank\" href=https://colab.research.google.com/notebooks/data_table.ipynb>data table notebook</a>'\n",
              "            + ' to learn more about interactive tables.';\n",
              "          element.innerHTML = '';\n",
              "          dataTable['output_type'] = 'display_data';\n",
              "          await google.colab.output.renderOutput(dataTable, element);\n",
              "          const docLink = document.createElement('div');\n",
              "          docLink.innerHTML = docLinkHtml;\n",
              "          element.appendChild(docLink);\n",
              "        }\n",
              "      </script>\n",
              "    </div>\n",
              "  </div>\n",
              "  "
            ]
          },
          "metadata": {},
          "execution_count": 10
        }
      ]
    },
    {
      "cell_type": "markdown",
      "metadata": {
        "id": "C3BsOcDfcstu"
      },
      "source": [
        "**[1.6]** Display the dimensions (shape) of df"
      ]
    },
    {
      "cell_type": "code",
      "metadata": {
        "id": "brOC6k06cszh"
      },
      "source": [
        "# Placeholder for student's code"
      ],
      "execution_count": null,
      "outputs": []
    },
    {
      "cell_type": "code",
      "metadata": {
        "id": "n4NQ-imRN_qW",
        "colab": {
          "base_uri": "https://localhost:8080/"
        },
        "outputId": "09d14180-5c7c-479a-c4f6-1aac03551cea"
      },
      "source": [
        "# Solution\n",
        "df.shape"
      ],
      "execution_count": null,
      "outputs": [
        {
          "output_type": "execute_result",
          "data": {
            "text/plain": [
              "(398, 10)"
            ]
          },
          "metadata": {},
          "execution_count": 12
        }
      ]
    },
    {
      "cell_type": "markdown",
      "metadata": {
        "id": "gsY-6ExwcyAs"
      },
      "source": [
        "**[1.7]** Display the list of columns of df"
      ]
    },
    {
      "cell_type": "code",
      "metadata": {
        "id": "Ly8LCvlycyE4"
      },
      "source": [
        "# Placeholder for student's code"
      ],
      "execution_count": null,
      "outputs": []
    },
    {
      "cell_type": "code",
      "metadata": {
        "id": "6NkfRVggOB9a",
        "colab": {
          "base_uri": "https://localhost:8080/"
        },
        "outputId": "b09e1849-8b43-488f-9046-1da8c4c0846e"
      },
      "source": [
        "# Solution\n",
        "df.columns"
      ],
      "execution_count": null,
      "outputs": [
        {
          "output_type": "execute_result",
          "data": {
            "text/plain": [
              "Index(['mpg', 'cylinders', 'displacement', 'horsepower', 'weight',\n",
              "       'acceleration', 'model_year', 'origin_USA', 'origin_EU', 'origin_JP'],\n",
              "      dtype='object')"
            ]
          },
          "metadata": {},
          "execution_count": 14
        }
      ]
    },
    {
      "cell_type": "markdown",
      "metadata": {
        "id": "pb9jWM2qdCg_"
      },
      "source": [
        "**[1.8]** Display the descriptive statistics of df\n"
      ]
    },
    {
      "cell_type": "code",
      "metadata": {
        "id": "ZvtO0tx0dClo"
      },
      "source": [
        "# Placeholder for student's code"
      ],
      "execution_count": null,
      "outputs": []
    },
    {
      "cell_type": "code",
      "metadata": {
        "id": "BkKY7_n0OLBT",
        "colab": {
          "base_uri": "https://localhost:8080/",
          "height": 300
        },
        "outputId": "7d436706-826b-4ae3-dfff-0e168282e028"
      },
      "source": [
        "# Solution\n",
        "df.describe()"
      ],
      "execution_count": null,
      "outputs": [
        {
          "output_type": "execute_result",
          "data": {
            "text/plain": [
              "              mpg   cylinders  displacement  horsepower       weight  \\\n",
              "count  398.000000  398.000000    398.000000  392.000000   398.000000   \n",
              "mean    23.514573    5.454774    193.425879  104.469388  2970.424623   \n",
              "std      7.815984    1.701004    104.269838   38.491160   846.841774   \n",
              "min      9.000000    3.000000     68.000000   46.000000  1613.000000   \n",
              "25%     17.500000    4.000000    104.250000   75.000000  2223.750000   \n",
              "50%     23.000000    4.000000    148.500000   93.500000  2803.500000   \n",
              "75%     29.000000    8.000000    262.000000  126.000000  3608.000000   \n",
              "max     46.600000    8.000000    455.000000  230.000000  5140.000000   \n",
              "\n",
              "       acceleration  model_year  origin_USA   origin_EU   origin_JP  \n",
              "count    398.000000  398.000000  398.000000  398.000000  398.000000  \n",
              "mean      15.568090   76.010050    0.625628    0.175879    0.198492  \n",
              "std        2.757689    3.697627    0.484569    0.381197    0.399367  \n",
              "min        8.000000   70.000000    0.000000    0.000000    0.000000  \n",
              "25%       13.825000   73.000000    0.000000    0.000000    0.000000  \n",
              "50%       15.500000   76.000000    1.000000    0.000000    0.000000  \n",
              "75%       17.175000   79.000000    1.000000    0.000000    0.000000  \n",
              "max       24.800000   82.000000    1.000000    1.000000    1.000000  "
            ],
            "text/html": [
              "\n",
              "  <div id=\"df-7250148a-9c2f-4d04-910e-b0fda73fed0b\">\n",
              "    <div class=\"colab-df-container\">\n",
              "      <div>\n",
              "<style scoped>\n",
              "    .dataframe tbody tr th:only-of-type {\n",
              "        vertical-align: middle;\n",
              "    }\n",
              "\n",
              "    .dataframe tbody tr th {\n",
              "        vertical-align: top;\n",
              "    }\n",
              "\n",
              "    .dataframe thead th {\n",
              "        text-align: right;\n",
              "    }\n",
              "</style>\n",
              "<table border=\"1\" class=\"dataframe\">\n",
              "  <thead>\n",
              "    <tr style=\"text-align: right;\">\n",
              "      <th></th>\n",
              "      <th>mpg</th>\n",
              "      <th>cylinders</th>\n",
              "      <th>displacement</th>\n",
              "      <th>horsepower</th>\n",
              "      <th>weight</th>\n",
              "      <th>acceleration</th>\n",
              "      <th>model_year</th>\n",
              "      <th>origin_USA</th>\n",
              "      <th>origin_EU</th>\n",
              "      <th>origin_JP</th>\n",
              "    </tr>\n",
              "  </thead>\n",
              "  <tbody>\n",
              "    <tr>\n",
              "      <th>count</th>\n",
              "      <td>398.000000</td>\n",
              "      <td>398.000000</td>\n",
              "      <td>398.000000</td>\n",
              "      <td>392.000000</td>\n",
              "      <td>398.000000</td>\n",
              "      <td>398.000000</td>\n",
              "      <td>398.000000</td>\n",
              "      <td>398.000000</td>\n",
              "      <td>398.000000</td>\n",
              "      <td>398.000000</td>\n",
              "    </tr>\n",
              "    <tr>\n",
              "      <th>mean</th>\n",
              "      <td>23.514573</td>\n",
              "      <td>5.454774</td>\n",
              "      <td>193.425879</td>\n",
              "      <td>104.469388</td>\n",
              "      <td>2970.424623</td>\n",
              "      <td>15.568090</td>\n",
              "      <td>76.010050</td>\n",
              "      <td>0.625628</td>\n",
              "      <td>0.175879</td>\n",
              "      <td>0.198492</td>\n",
              "    </tr>\n",
              "    <tr>\n",
              "      <th>std</th>\n",
              "      <td>7.815984</td>\n",
              "      <td>1.701004</td>\n",
              "      <td>104.269838</td>\n",
              "      <td>38.491160</td>\n",
              "      <td>846.841774</td>\n",
              "      <td>2.757689</td>\n",
              "      <td>3.697627</td>\n",
              "      <td>0.484569</td>\n",
              "      <td>0.381197</td>\n",
              "      <td>0.399367</td>\n",
              "    </tr>\n",
              "    <tr>\n",
              "      <th>min</th>\n",
              "      <td>9.000000</td>\n",
              "      <td>3.000000</td>\n",
              "      <td>68.000000</td>\n",
              "      <td>46.000000</td>\n",
              "      <td>1613.000000</td>\n",
              "      <td>8.000000</td>\n",
              "      <td>70.000000</td>\n",
              "      <td>0.000000</td>\n",
              "      <td>0.000000</td>\n",
              "      <td>0.000000</td>\n",
              "    </tr>\n",
              "    <tr>\n",
              "      <th>25%</th>\n",
              "      <td>17.500000</td>\n",
              "      <td>4.000000</td>\n",
              "      <td>104.250000</td>\n",
              "      <td>75.000000</td>\n",
              "      <td>2223.750000</td>\n",
              "      <td>13.825000</td>\n",
              "      <td>73.000000</td>\n",
              "      <td>0.000000</td>\n",
              "      <td>0.000000</td>\n",
              "      <td>0.000000</td>\n",
              "    </tr>\n",
              "    <tr>\n",
              "      <th>50%</th>\n",
              "      <td>23.000000</td>\n",
              "      <td>4.000000</td>\n",
              "      <td>148.500000</td>\n",
              "      <td>93.500000</td>\n",
              "      <td>2803.500000</td>\n",
              "      <td>15.500000</td>\n",
              "      <td>76.000000</td>\n",
              "      <td>1.000000</td>\n",
              "      <td>0.000000</td>\n",
              "      <td>0.000000</td>\n",
              "    </tr>\n",
              "    <tr>\n",
              "      <th>75%</th>\n",
              "      <td>29.000000</td>\n",
              "      <td>8.000000</td>\n",
              "      <td>262.000000</td>\n",
              "      <td>126.000000</td>\n",
              "      <td>3608.000000</td>\n",
              "      <td>17.175000</td>\n",
              "      <td>79.000000</td>\n",
              "      <td>1.000000</td>\n",
              "      <td>0.000000</td>\n",
              "      <td>0.000000</td>\n",
              "    </tr>\n",
              "    <tr>\n",
              "      <th>max</th>\n",
              "      <td>46.600000</td>\n",
              "      <td>8.000000</td>\n",
              "      <td>455.000000</td>\n",
              "      <td>230.000000</td>\n",
              "      <td>5140.000000</td>\n",
              "      <td>24.800000</td>\n",
              "      <td>82.000000</td>\n",
              "      <td>1.000000</td>\n",
              "      <td>1.000000</td>\n",
              "      <td>1.000000</td>\n",
              "    </tr>\n",
              "  </tbody>\n",
              "</table>\n",
              "</div>\n",
              "      <button class=\"colab-df-convert\" onclick=\"convertToInteractive('df-7250148a-9c2f-4d04-910e-b0fda73fed0b')\"\n",
              "              title=\"Convert this dataframe to an interactive table.\"\n",
              "              style=\"display:none;\">\n",
              "        \n",
              "  <svg xmlns=\"http://www.w3.org/2000/svg\" height=\"24px\"viewBox=\"0 0 24 24\"\n",
              "       width=\"24px\">\n",
              "    <path d=\"M0 0h24v24H0V0z\" fill=\"none\"/>\n",
              "    <path d=\"M18.56 5.44l.94 2.06.94-2.06 2.06-.94-2.06-.94-.94-2.06-.94 2.06-2.06.94zm-11 1L8.5 8.5l.94-2.06 2.06-.94-2.06-.94L8.5 2.5l-.94 2.06-2.06.94zm10 10l.94 2.06.94-2.06 2.06-.94-2.06-.94-.94-2.06-.94 2.06-2.06.94z\"/><path d=\"M17.41 7.96l-1.37-1.37c-.4-.4-.92-.59-1.43-.59-.52 0-1.04.2-1.43.59L10.3 9.45l-7.72 7.72c-.78.78-.78 2.05 0 2.83L4 21.41c.39.39.9.59 1.41.59.51 0 1.02-.2 1.41-.59l7.78-7.78 2.81-2.81c.8-.78.8-2.07 0-2.86zM5.41 20L4 18.59l7.72-7.72 1.47 1.35L5.41 20z\"/>\n",
              "  </svg>\n",
              "      </button>\n",
              "      \n",
              "  <style>\n",
              "    .colab-df-container {\n",
              "      display:flex;\n",
              "      flex-wrap:wrap;\n",
              "      gap: 12px;\n",
              "    }\n",
              "\n",
              "    .colab-df-convert {\n",
              "      background-color: #E8F0FE;\n",
              "      border: none;\n",
              "      border-radius: 50%;\n",
              "      cursor: pointer;\n",
              "      display: none;\n",
              "      fill: #1967D2;\n",
              "      height: 32px;\n",
              "      padding: 0 0 0 0;\n",
              "      width: 32px;\n",
              "    }\n",
              "\n",
              "    .colab-df-convert:hover {\n",
              "      background-color: #E2EBFA;\n",
              "      box-shadow: 0px 1px 2px rgba(60, 64, 67, 0.3), 0px 1px 3px 1px rgba(60, 64, 67, 0.15);\n",
              "      fill: #174EA6;\n",
              "    }\n",
              "\n",
              "    [theme=dark] .colab-df-convert {\n",
              "      background-color: #3B4455;\n",
              "      fill: #D2E3FC;\n",
              "    }\n",
              "\n",
              "    [theme=dark] .colab-df-convert:hover {\n",
              "      background-color: #434B5C;\n",
              "      box-shadow: 0px 1px 3px 1px rgba(0, 0, 0, 0.15);\n",
              "      filter: drop-shadow(0px 1px 2px rgba(0, 0, 0, 0.3));\n",
              "      fill: #FFFFFF;\n",
              "    }\n",
              "  </style>\n",
              "\n",
              "      <script>\n",
              "        const buttonEl =\n",
              "          document.querySelector('#df-7250148a-9c2f-4d04-910e-b0fda73fed0b button.colab-df-convert');\n",
              "        buttonEl.style.display =\n",
              "          google.colab.kernel.accessAllowed ? 'block' : 'none';\n",
              "\n",
              "        async function convertToInteractive(key) {\n",
              "          const element = document.querySelector('#df-7250148a-9c2f-4d04-910e-b0fda73fed0b');\n",
              "          const dataTable =\n",
              "            await google.colab.kernel.invokeFunction('convertToInteractive',\n",
              "                                                     [key], {});\n",
              "          if (!dataTable) return;\n",
              "\n",
              "          const docLinkHtml = 'Like what you see? Visit the ' +\n",
              "            '<a target=\"_blank\" href=https://colab.research.google.com/notebooks/data_table.ipynb>data table notebook</a>'\n",
              "            + ' to learn more about interactive tables.';\n",
              "          element.innerHTML = '';\n",
              "          dataTable['output_type'] = 'display_data';\n",
              "          await google.colab.output.renderOutput(dataTable, element);\n",
              "          const docLink = document.createElement('div');\n",
              "          docLink.innerHTML = docLinkHtml;\n",
              "          element.appendChild(docLink);\n",
              "        }\n",
              "      </script>\n",
              "    </div>\n",
              "  </div>\n",
              "  "
            ]
          },
          "metadata": {},
          "execution_count": 16
        }
      ]
    },
    {
      "cell_type": "markdown",
      "metadata": {
        "id": "79aloQckd4HX"
      },
      "source": [
        "**[1.9]** Display the summary (info) of df"
      ]
    },
    {
      "cell_type": "code",
      "metadata": {
        "id": "hYRFbsxed-9m"
      },
      "source": [
        "# Placeholder for student's code"
      ],
      "execution_count": null,
      "outputs": []
    },
    {
      "cell_type": "code",
      "metadata": {
        "id": "FhuStDhNJFh0",
        "colab": {
          "base_uri": "https://localhost:8080/"
        },
        "outputId": "fb988d5c-1c16-43cb-8c3c-d1642996316d"
      },
      "source": [
        "# Solution\n",
        "df.info()"
      ],
      "execution_count": null,
      "outputs": [
        {
          "output_type": "stream",
          "name": "stdout",
          "text": [
            "<class 'pandas.core.frame.DataFrame'>\n",
            "RangeIndex: 398 entries, 0 to 397\n",
            "Data columns (total 10 columns):\n",
            " #   Column        Non-Null Count  Dtype  \n",
            "---  ------        --------------  -----  \n",
            " 0   mpg           398 non-null    float64\n",
            " 1   cylinders     398 non-null    int64  \n",
            " 2   displacement  398 non-null    float64\n",
            " 3   horsepower    392 non-null    float64\n",
            " 4   weight        398 non-null    int64  \n",
            " 5   acceleration  398 non-null    float64\n",
            " 6   model_year    398 non-null    int64  \n",
            " 7   origin_USA    398 non-null    int64  \n",
            " 8   origin_EU     398 non-null    int64  \n",
            " 9   origin_JP     398 non-null    int64  \n",
            "dtypes: float64(4), int64(6)\n",
            "memory usage: 31.2 KB\n"
          ]
        }
      ]
    },
    {
      "cell_type": "markdown",
      "metadata": {
        "id": "_yODKMflCVml"
      },
      "source": [
        "### 2. Data Preparation"
      ]
    },
    {
      "cell_type": "markdown",
      "metadata": {
        "id": "Cjb0A0IQwOS3"
      },
      "source": [
        "**[2.1]** Let's create a copy of our dataframe"
      ]
    },
    {
      "cell_type": "code",
      "metadata": {
        "id": "1y9EbJSMwOZ9"
      },
      "source": [
        "df_cleaned = df.copy()"
      ],
      "execution_count": null,
      "outputs": []
    },
    {
      "cell_type": "markdown",
      "metadata": {
        "id": "yeu23kFPfi7Y"
      },
      "source": [
        "**[2.2]** Display the observations with missing values in horsepower"
      ]
    },
    {
      "cell_type": "code",
      "metadata": {
        "id": "D5U7Mo9lJFtO",
        "colab": {
          "base_uri": "https://localhost:8080/",
          "height": 238
        },
        "outputId": "a43fe7c3-7b4f-4199-f020-9fd587e5807a"
      },
      "source": [
        "df_cleaned[df_cleaned['horsepower'].isnull()]"
      ],
      "execution_count": null,
      "outputs": [
        {
          "output_type": "execute_result",
          "data": {
            "text/plain": [
              "      mpg  cylinders  displacement  horsepower  weight  acceleration  \\\n",
              "32   25.0          4          98.0         NaN    2046          19.0   \n",
              "126  21.0          6         200.0         NaN    2875          17.0   \n",
              "330  40.9          4          85.0         NaN    1835          17.3   \n",
              "336  23.6          4         140.0         NaN    2905          14.3   \n",
              "354  34.5          4         100.0         NaN    2320          15.8   \n",
              "374  23.0          4         151.0         NaN    3035          20.5   \n",
              "\n",
              "     model_year  origin_USA  origin_EU  origin_JP  \n",
              "32           71           1          0          0  \n",
              "126          74           1          0          0  \n",
              "330          80           0          1          0  \n",
              "336          80           1          0          0  \n",
              "354          81           0          1          0  \n",
              "374          82           1          0          0  "
            ],
            "text/html": [
              "\n",
              "  <div id=\"df-0a2eae95-a808-44b8-b4e4-4cef77e4d07b\">\n",
              "    <div class=\"colab-df-container\">\n",
              "      <div>\n",
              "<style scoped>\n",
              "    .dataframe tbody tr th:only-of-type {\n",
              "        vertical-align: middle;\n",
              "    }\n",
              "\n",
              "    .dataframe tbody tr th {\n",
              "        vertical-align: top;\n",
              "    }\n",
              "\n",
              "    .dataframe thead th {\n",
              "        text-align: right;\n",
              "    }\n",
              "</style>\n",
              "<table border=\"1\" class=\"dataframe\">\n",
              "  <thead>\n",
              "    <tr style=\"text-align: right;\">\n",
              "      <th></th>\n",
              "      <th>mpg</th>\n",
              "      <th>cylinders</th>\n",
              "      <th>displacement</th>\n",
              "      <th>horsepower</th>\n",
              "      <th>weight</th>\n",
              "      <th>acceleration</th>\n",
              "      <th>model_year</th>\n",
              "      <th>origin_USA</th>\n",
              "      <th>origin_EU</th>\n",
              "      <th>origin_JP</th>\n",
              "    </tr>\n",
              "  </thead>\n",
              "  <tbody>\n",
              "    <tr>\n",
              "      <th>32</th>\n",
              "      <td>25.0</td>\n",
              "      <td>4</td>\n",
              "      <td>98.0</td>\n",
              "      <td>NaN</td>\n",
              "      <td>2046</td>\n",
              "      <td>19.0</td>\n",
              "      <td>71</td>\n",
              "      <td>1</td>\n",
              "      <td>0</td>\n",
              "      <td>0</td>\n",
              "    </tr>\n",
              "    <tr>\n",
              "      <th>126</th>\n",
              "      <td>21.0</td>\n",
              "      <td>6</td>\n",
              "      <td>200.0</td>\n",
              "      <td>NaN</td>\n",
              "      <td>2875</td>\n",
              "      <td>17.0</td>\n",
              "      <td>74</td>\n",
              "      <td>1</td>\n",
              "      <td>0</td>\n",
              "      <td>0</td>\n",
              "    </tr>\n",
              "    <tr>\n",
              "      <th>330</th>\n",
              "      <td>40.9</td>\n",
              "      <td>4</td>\n",
              "      <td>85.0</td>\n",
              "      <td>NaN</td>\n",
              "      <td>1835</td>\n",
              "      <td>17.3</td>\n",
              "      <td>80</td>\n",
              "      <td>0</td>\n",
              "      <td>1</td>\n",
              "      <td>0</td>\n",
              "    </tr>\n",
              "    <tr>\n",
              "      <th>336</th>\n",
              "      <td>23.6</td>\n",
              "      <td>4</td>\n",
              "      <td>140.0</td>\n",
              "      <td>NaN</td>\n",
              "      <td>2905</td>\n",
              "      <td>14.3</td>\n",
              "      <td>80</td>\n",
              "      <td>1</td>\n",
              "      <td>0</td>\n",
              "      <td>0</td>\n",
              "    </tr>\n",
              "    <tr>\n",
              "      <th>354</th>\n",
              "      <td>34.5</td>\n",
              "      <td>4</td>\n",
              "      <td>100.0</td>\n",
              "      <td>NaN</td>\n",
              "      <td>2320</td>\n",
              "      <td>15.8</td>\n",
              "      <td>81</td>\n",
              "      <td>0</td>\n",
              "      <td>1</td>\n",
              "      <td>0</td>\n",
              "    </tr>\n",
              "    <tr>\n",
              "      <th>374</th>\n",
              "      <td>23.0</td>\n",
              "      <td>4</td>\n",
              "      <td>151.0</td>\n",
              "      <td>NaN</td>\n",
              "      <td>3035</td>\n",
              "      <td>20.5</td>\n",
              "      <td>82</td>\n",
              "      <td>1</td>\n",
              "      <td>0</td>\n",
              "      <td>0</td>\n",
              "    </tr>\n",
              "  </tbody>\n",
              "</table>\n",
              "</div>\n",
              "      <button class=\"colab-df-convert\" onclick=\"convertToInteractive('df-0a2eae95-a808-44b8-b4e4-4cef77e4d07b')\"\n",
              "              title=\"Convert this dataframe to an interactive table.\"\n",
              "              style=\"display:none;\">\n",
              "        \n",
              "  <svg xmlns=\"http://www.w3.org/2000/svg\" height=\"24px\"viewBox=\"0 0 24 24\"\n",
              "       width=\"24px\">\n",
              "    <path d=\"M0 0h24v24H0V0z\" fill=\"none\"/>\n",
              "    <path d=\"M18.56 5.44l.94 2.06.94-2.06 2.06-.94-2.06-.94-.94-2.06-.94 2.06-2.06.94zm-11 1L8.5 8.5l.94-2.06 2.06-.94-2.06-.94L8.5 2.5l-.94 2.06-2.06.94zm10 10l.94 2.06.94-2.06 2.06-.94-2.06-.94-.94-2.06-.94 2.06-2.06.94z\"/><path d=\"M17.41 7.96l-1.37-1.37c-.4-.4-.92-.59-1.43-.59-.52 0-1.04.2-1.43.59L10.3 9.45l-7.72 7.72c-.78.78-.78 2.05 0 2.83L4 21.41c.39.39.9.59 1.41.59.51 0 1.02-.2 1.41-.59l7.78-7.78 2.81-2.81c.8-.78.8-2.07 0-2.86zM5.41 20L4 18.59l7.72-7.72 1.47 1.35L5.41 20z\"/>\n",
              "  </svg>\n",
              "      </button>\n",
              "      \n",
              "  <style>\n",
              "    .colab-df-container {\n",
              "      display:flex;\n",
              "      flex-wrap:wrap;\n",
              "      gap: 12px;\n",
              "    }\n",
              "\n",
              "    .colab-df-convert {\n",
              "      background-color: #E8F0FE;\n",
              "      border: none;\n",
              "      border-radius: 50%;\n",
              "      cursor: pointer;\n",
              "      display: none;\n",
              "      fill: #1967D2;\n",
              "      height: 32px;\n",
              "      padding: 0 0 0 0;\n",
              "      width: 32px;\n",
              "    }\n",
              "\n",
              "    .colab-df-convert:hover {\n",
              "      background-color: #E2EBFA;\n",
              "      box-shadow: 0px 1px 2px rgba(60, 64, 67, 0.3), 0px 1px 3px 1px rgba(60, 64, 67, 0.15);\n",
              "      fill: #174EA6;\n",
              "    }\n",
              "\n",
              "    [theme=dark] .colab-df-convert {\n",
              "      background-color: #3B4455;\n",
              "      fill: #D2E3FC;\n",
              "    }\n",
              "\n",
              "    [theme=dark] .colab-df-convert:hover {\n",
              "      background-color: #434B5C;\n",
              "      box-shadow: 0px 1px 3px 1px rgba(0, 0, 0, 0.15);\n",
              "      filter: drop-shadow(0px 1px 2px rgba(0, 0, 0, 0.3));\n",
              "      fill: #FFFFFF;\n",
              "    }\n",
              "  </style>\n",
              "\n",
              "      <script>\n",
              "        const buttonEl =\n",
              "          document.querySelector('#df-0a2eae95-a808-44b8-b4e4-4cef77e4d07b button.colab-df-convert');\n",
              "        buttonEl.style.display =\n",
              "          google.colab.kernel.accessAllowed ? 'block' : 'none';\n",
              "\n",
              "        async function convertToInteractive(key) {\n",
              "          const element = document.querySelector('#df-0a2eae95-a808-44b8-b4e4-4cef77e4d07b');\n",
              "          const dataTable =\n",
              "            await google.colab.kernel.invokeFunction('convertToInteractive',\n",
              "                                                     [key], {});\n",
              "          if (!dataTable) return;\n",
              "\n",
              "          const docLinkHtml = 'Like what you see? Visit the ' +\n",
              "            '<a target=\"_blank\" href=https://colab.research.google.com/notebooks/data_table.ipynb>data table notebook</a>'\n",
              "            + ' to learn more about interactive tables.';\n",
              "          element.innerHTML = '';\n",
              "          dataTable['output_type'] = 'display_data';\n",
              "          await google.colab.output.renderOutput(dataTable, element);\n",
              "          const docLink = document.createElement('div');\n",
              "          docLink.innerHTML = docLinkHtml;\n",
              "          element.appendChild(docLink);\n",
              "        }\n",
              "      </script>\n",
              "    </div>\n",
              "  </div>\n",
              "  "
            ]
          },
          "metadata": {},
          "execution_count": 20
        }
      ]
    },
    {
      "cell_type": "markdown",
      "metadata": {
        "id": "926Jj-s0wryy"
      },
      "source": [
        "**[2.3]** Replace all \"horsepower\" missing values with its mean"
      ]
    },
    {
      "cell_type": "code",
      "metadata": {
        "id": "0anAWvYoJFIV"
      },
      "source": [
        "horsepower_mean = df_cleaned['horsepower'].mean()\n",
        "df_cleaned['horsepower'] = df_cleaned['horsepower'].fillna(horsepower_mean)"
      ],
      "execution_count": null,
      "outputs": []
    },
    {
      "cell_type": "markdown",
      "metadata": {
        "id": "nv9W_F8exuo9"
      },
      "source": [
        "**[2.4]** Check there is no missing value for all columns"
      ]
    },
    {
      "cell_type": "code",
      "metadata": {
        "id": "gqD2rrHNxjQ6",
        "colab": {
          "base_uri": "https://localhost:8080/"
        },
        "outputId": "66e7be06-fdea-4c16-9d9e-e9efab051623"
      },
      "source": [
        "df_cleaned.isna().sum()"
      ],
      "execution_count": null,
      "outputs": [
        {
          "output_type": "execute_result",
          "data": {
            "text/plain": [
              "mpg             0\n",
              "cylinders       0\n",
              "displacement    0\n",
              "horsepower      0\n",
              "weight          0\n",
              "acceleration    0\n",
              "model_year      0\n",
              "origin_USA      0\n",
              "origin_EU       0\n",
              "origin_JP       0\n",
              "dtype: int64"
            ]
          },
          "metadata": {},
          "execution_count": 22
        }
      ]
    },
    {
      "cell_type": "markdown",
      "source": [
        "**[2.5]** Extract the target variable into a variable called y"
      ],
      "metadata": {
        "id": "W-VhzxWptfop"
      }
    },
    {
      "cell_type": "code",
      "source": [
        "y = df_cleaned.pop('mpg')"
      ],
      "metadata": {
        "id": "CX6QecoCtfwu"
      },
      "execution_count": null,
      "outputs": []
    },
    {
      "cell_type": "markdown",
      "source": [
        "**[2.6]** Save all the features into a variable called X"
      ],
      "metadata": {
        "id": "0EruTwf0tziG"
      }
    },
    {
      "cell_type": "code",
      "source": [
        "# Placeholder for student's code"
      ],
      "metadata": {
        "id": "pXH3U1xlt0BG"
      },
      "execution_count": null,
      "outputs": []
    },
    {
      "cell_type": "code",
      "source": [
        "# Solution\n",
        "X = df_cleaned"
      ],
      "metadata": {
        "id": "_8T1Tvzqt0D0"
      },
      "execution_count": null,
      "outputs": []
    },
    {
      "cell_type": "markdown",
      "source": [
        "**[2.7]** Import train_test_split from sklearn.model_selection"
      ],
      "metadata": {
        "id": "W_Gd6USZtJ3t"
      }
    },
    {
      "cell_type": "code",
      "source": [
        "# Placeholder for student's code"
      ],
      "metadata": {
        "id": "Xjx6YOVBtKLJ"
      },
      "execution_count": null,
      "outputs": []
    },
    {
      "cell_type": "code",
      "source": [
        "# Solution\n",
        "from sklearn.model_selection import train_test_split"
      ],
      "metadata": {
        "id": "AdGwbAV7tKPJ"
      },
      "execution_count": null,
      "outputs": []
    },
    {
      "cell_type": "markdown",
      "source": [
        "**[2.8]** Split the features and target variable into a training and test sets"
      ],
      "metadata": {
        "id": "zmmSGKl6tbVF"
      }
    },
    {
      "cell_type": "code",
      "source": [
        "X_train, X_test, y_train, y_test = train_test_split(X, y, test_size=0.2, random_state=42)"
      ],
      "metadata": {
        "id": "BED3hVKNtbaL"
      },
      "execution_count": null,
      "outputs": []
    },
    {
      "cell_type": "markdown",
      "metadata": {
        "id": "3a83eGnoROLd"
      },
      "source": [
        "### 3. Assess Baseline Model"
      ]
    },
    {
      "cell_type": "markdown",
      "metadata": {
        "id": "WBPdF5VvRVs5"
      },
      "source": [
        "**[3.1]** Find the average of the target variable"
      ]
    },
    {
      "cell_type": "code",
      "metadata": {
        "id": "_zzaiRj6ROSY"
      },
      "source": [
        "# Placeholder for student's code"
      ],
      "execution_count": null,
      "outputs": []
    },
    {
      "cell_type": "code",
      "metadata": {
        "id": "qdbB-RjpRbcC"
      },
      "source": [
        "# Solution\n",
        "y_mean = y_train.mean()"
      ],
      "execution_count": null,
      "outputs": []
    },
    {
      "cell_type": "markdown",
      "metadata": {
        "id": "9VV-m6E5Rg88"
      },
      "source": [
        "**[3.2]** Create a numpy array called y_base filled with this value"
      ]
    },
    {
      "cell_type": "code",
      "metadata": {
        "id": "GbfgKmVzRhED"
      },
      "source": [
        "# Placeholder for student's code"
      ],
      "execution_count": null,
      "outputs": []
    },
    {
      "cell_type": "code",
      "metadata": {
        "id": "AG-cf3I8RhG6"
      },
      "source": [
        "# Solution\n",
        "y_base = np.full(y_train.shape, y_mean)"
      ],
      "execution_count": null,
      "outputs": []
    },
    {
      "cell_type": "markdown",
      "metadata": {
        "id": "q5U4hHH_KjOC"
      },
      "source": [
        "**[3.3]** Import the MSE and MAE from sklearn"
      ]
    },
    {
      "cell_type": "code",
      "metadata": {
        "id": "kMarPqp0KrNX"
      },
      "source": [
        "# Placeholder for student's code"
      ],
      "execution_count": null,
      "outputs": []
    },
    {
      "cell_type": "code",
      "metadata": {
        "id": "WTb0sSdwRkCv"
      },
      "source": [
        "# Solution\n",
        "from sklearn.metrics import mean_squared_error as mse\n",
        "from sklearn.metrics import mean_absolute_error as mae"
      ],
      "execution_count": null,
      "outputs": []
    },
    {
      "cell_type": "markdown",
      "metadata": {
        "id": "UCVfsksbSAHO"
      },
      "source": [
        "**[3.4]** Display the RMSE and MAE scores of this baseline model"
      ]
    },
    {
      "cell_type": "code",
      "metadata": {
        "id": "Wy_WWtWlSCgJ"
      },
      "source": [
        "# Placeholder for student's code"
      ],
      "execution_count": null,
      "outputs": []
    },
    {
      "cell_type": "code",
      "metadata": {
        "id": "9TtDSXmZSAMs",
        "colab": {
          "base_uri": "https://localhost:8080/"
        },
        "outputId": "7f291c88-5d2b-4209-9177-de593c3a9ca2"
      },
      "source": [
        "# Solution\n",
        "print(mse(y_train, y_base, squared=False))\n",
        "print(mae(y_train, y_base))"
      ],
      "execution_count": null,
      "outputs": [
        {
          "output_type": "stream",
          "name": "stdout",
          "text": [
            "7.918094623048818\n",
            "6.684739527708555\n"
          ]
        }
      ]
    },
    {
      "cell_type": "markdown",
      "metadata": {
        "id": "L2SUhKukEu3p"
      },
      "source": [
        "### 4. Train Initial Model with all Features"
      ]
    },
    {
      "cell_type": "markdown",
      "metadata": {
        "id": "CL0cKC3aI4Nk"
      },
      "source": [
        "**[4.1]** Import the linear regression module from sklearn"
      ]
    },
    {
      "cell_type": "code",
      "metadata": {
        "id": "obQTgYsQJEev"
      },
      "source": [
        "# Placeholder for student's code"
      ],
      "execution_count": null,
      "outputs": []
    },
    {
      "cell_type": "code",
      "metadata": {
        "id": "HvjoHR1YI4gu"
      },
      "source": [
        "# Solution\n",
        "from sklearn.linear_model import LinearRegression"
      ],
      "execution_count": null,
      "outputs": []
    },
    {
      "cell_type": "markdown",
      "metadata": {
        "id": "ewVmzWGlJSmd"
      },
      "source": [
        "**[4.2]** instantiate the LinearRegression class into a variable called reg1"
      ]
    },
    {
      "cell_type": "code",
      "metadata": {
        "id": "jf7epJFPJQc3"
      },
      "source": [
        "# Placeholder for student's code"
      ],
      "execution_count": null,
      "outputs": []
    },
    {
      "cell_type": "code",
      "metadata": {
        "id": "LBBSFcSmJYe8"
      },
      "source": [
        "reg1 = LinearRegression()"
      ],
      "execution_count": null,
      "outputs": []
    },
    {
      "cell_type": "markdown",
      "metadata": {
        "id": "EMyXMeEYJa3d"
      },
      "source": [
        "**[4.3]** Task: Fit the model with the prepared data"
      ]
    },
    {
      "cell_type": "code",
      "metadata": {
        "id": "j7qD7dBIJnwQ"
      },
      "source": [
        "# Placeholder for student's code"
      ],
      "execution_count": null,
      "outputs": []
    },
    {
      "cell_type": "code",
      "metadata": {
        "id": "mgFgpXg6Ja9f",
        "colab": {
          "base_uri": "https://localhost:8080/",
          "height": 75
        },
        "outputId": "3ddc4c2e-256a-4bad-99b1-ed91cd6218df"
      },
      "source": [
        "# Solution\n",
        "reg1.fit(X_train, y_train)"
      ],
      "execution_count": null,
      "outputs": [
        {
          "output_type": "execute_result",
          "data": {
            "text/plain": [
              "LinearRegression()"
            ],
            "text/html": [
              "<style>#sk-container-id-1 {color: black;background-color: white;}#sk-container-id-1 pre{padding: 0;}#sk-container-id-1 div.sk-toggleable {background-color: white;}#sk-container-id-1 label.sk-toggleable__label {cursor: pointer;display: block;width: 100%;margin-bottom: 0;padding: 0.3em;box-sizing: border-box;text-align: center;}#sk-container-id-1 label.sk-toggleable__label-arrow:before {content: \"▸\";float: left;margin-right: 0.25em;color: #696969;}#sk-container-id-1 label.sk-toggleable__label-arrow:hover:before {color: black;}#sk-container-id-1 div.sk-estimator:hover label.sk-toggleable__label-arrow:before {color: black;}#sk-container-id-1 div.sk-toggleable__content {max-height: 0;max-width: 0;overflow: hidden;text-align: left;background-color: #f0f8ff;}#sk-container-id-1 div.sk-toggleable__content pre {margin: 0.2em;color: black;border-radius: 0.25em;background-color: #f0f8ff;}#sk-container-id-1 input.sk-toggleable__control:checked~div.sk-toggleable__content {max-height: 200px;max-width: 100%;overflow: auto;}#sk-container-id-1 input.sk-toggleable__control:checked~label.sk-toggleable__label-arrow:before {content: \"▾\";}#sk-container-id-1 div.sk-estimator input.sk-toggleable__control:checked~label.sk-toggleable__label {background-color: #d4ebff;}#sk-container-id-1 div.sk-label input.sk-toggleable__control:checked~label.sk-toggleable__label {background-color: #d4ebff;}#sk-container-id-1 input.sk-hidden--visually {border: 0;clip: rect(1px 1px 1px 1px);clip: rect(1px, 1px, 1px, 1px);height: 1px;margin: -1px;overflow: hidden;padding: 0;position: absolute;width: 1px;}#sk-container-id-1 div.sk-estimator {font-family: monospace;background-color: #f0f8ff;border: 1px dotted black;border-radius: 0.25em;box-sizing: border-box;margin-bottom: 0.5em;}#sk-container-id-1 div.sk-estimator:hover {background-color: #d4ebff;}#sk-container-id-1 div.sk-parallel-item::after {content: \"\";width: 100%;border-bottom: 1px solid gray;flex-grow: 1;}#sk-container-id-1 div.sk-label:hover label.sk-toggleable__label {background-color: #d4ebff;}#sk-container-id-1 div.sk-serial::before {content: \"\";position: absolute;border-left: 1px solid gray;box-sizing: border-box;top: 0;bottom: 0;left: 50%;z-index: 0;}#sk-container-id-1 div.sk-serial {display: flex;flex-direction: column;align-items: center;background-color: white;padding-right: 0.2em;padding-left: 0.2em;position: relative;}#sk-container-id-1 div.sk-item {position: relative;z-index: 1;}#sk-container-id-1 div.sk-parallel {display: flex;align-items: stretch;justify-content: center;background-color: white;position: relative;}#sk-container-id-1 div.sk-item::before, #sk-container-id-1 div.sk-parallel-item::before {content: \"\";position: absolute;border-left: 1px solid gray;box-sizing: border-box;top: 0;bottom: 0;left: 50%;z-index: -1;}#sk-container-id-1 div.sk-parallel-item {display: flex;flex-direction: column;z-index: 1;position: relative;background-color: white;}#sk-container-id-1 div.sk-parallel-item:first-child::after {align-self: flex-end;width: 50%;}#sk-container-id-1 div.sk-parallel-item:last-child::after {align-self: flex-start;width: 50%;}#sk-container-id-1 div.sk-parallel-item:only-child::after {width: 0;}#sk-container-id-1 div.sk-dashed-wrapped {border: 1px dashed gray;margin: 0 0.4em 0.5em 0.4em;box-sizing: border-box;padding-bottom: 0.4em;background-color: white;}#sk-container-id-1 div.sk-label label {font-family: monospace;font-weight: bold;display: inline-block;line-height: 1.2em;}#sk-container-id-1 div.sk-label-container {text-align: center;}#sk-container-id-1 div.sk-container {/* jupyter's `normalize.less` sets `[hidden] { display: none; }` but bootstrap.min.css set `[hidden] { display: none !important; }` so we also need the `!important` here to be able to override the default hidden behavior on the sphinx rendered scikit-learn.org. See: https://github.com/scikit-learn/scikit-learn/issues/21755 */display: inline-block !important;position: relative;}#sk-container-id-1 div.sk-text-repr-fallback {display: none;}</style><div id=\"sk-container-id-1\" class=\"sk-top-container\"><div class=\"sk-text-repr-fallback\"><pre>LinearRegression()</pre><b>In a Jupyter environment, please rerun this cell to show the HTML representation or trust the notebook. <br />On GitHub, the HTML representation is unable to render, please try loading this page with nbviewer.org.</b></div><div class=\"sk-container\" hidden><div class=\"sk-item\"><div class=\"sk-estimator sk-toggleable\"><input class=\"sk-toggleable__control sk-hidden--visually\" id=\"sk-estimator-id-1\" type=\"checkbox\" checked><label for=\"sk-estimator-id-1\" class=\"sk-toggleable__label sk-toggleable__label-arrow\">LinearRegression</label><div class=\"sk-toggleable__content\"><pre>LinearRegression()</pre></div></div></div></div></div>"
            ]
          },
          "metadata": {},
          "execution_count": 42
        }
      ]
    },
    {
      "cell_type": "markdown",
      "metadata": {
        "id": "bGcphha9Jsnk"
      },
      "source": [
        "**[4.4]** Use the trained model to predict the outcome on X_train and save them into y_preds"
      ]
    },
    {
      "cell_type": "code",
      "metadata": {
        "id": "YHRFtZoqJ9dt"
      },
      "source": [
        "# Placeholder for student's code"
      ],
      "execution_count": null,
      "outputs": []
    },
    {
      "cell_type": "code",
      "metadata": {
        "id": "nciboJCPJsvM"
      },
      "source": [
        "# Solution\n",
        "y_train_preds = reg1.predict(X_train)"
      ],
      "execution_count": null,
      "outputs": []
    },
    {
      "cell_type": "markdown",
      "metadata": {
        "id": "ilbUUPqeKK31"
      },
      "source": [
        "**[4.5]** Display the RMSE and MAE scores on the training set"
      ]
    },
    {
      "cell_type": "code",
      "metadata": {
        "id": "lgXYJauVK_FH"
      },
      "source": [
        "# Placeholder for student's code"
      ],
      "execution_count": null,
      "outputs": []
    },
    {
      "cell_type": "code",
      "metadata": {
        "id": "5Jyiud9sKK-J",
        "colab": {
          "base_uri": "https://localhost:8080/"
        },
        "outputId": "c44130c9-d980-45f3-e13a-a75b1fd6b85a"
      },
      "source": [
        "# Solution\n",
        "print(mse(y_train, y_train_preds, squared=False))\n",
        "print(mae(y_train, y_train_preds))"
      ],
      "execution_count": null,
      "outputs": [
        {
          "output_type": "stream",
          "name": "stdout",
          "text": [
            "3.3702735639389054\n",
            "2.605484693771035\n"
          ]
        }
      ]
    },
    {
      "cell_type": "markdown",
      "source": [
        "**[4.6]** Display the RMSE and MAE scores on the testing set"
      ],
      "metadata": {
        "id": "hJYl0sBNv74Y"
      }
    },
    {
      "cell_type": "code",
      "source": [
        "# Placeholder for student's code"
      ],
      "metadata": {
        "id": "g6kej_xnv8AJ"
      },
      "execution_count": null,
      "outputs": []
    },
    {
      "cell_type": "code",
      "source": [
        "# Solution\n",
        "y_test_preds = reg1.predict(X_test)\n",
        "print(mse(y_test, y_test_preds, squared=False))\n",
        "print(mae(y_test, y_test_preds))"
      ],
      "metadata": {
        "colab": {
          "base_uri": "https://localhost:8080/"
        },
        "id": "P3Vn2sMIv8Cy",
        "outputId": "eb6244f8-2514-4f33-8aa0-bb7b5690cfdc"
      },
      "execution_count": null,
      "outputs": [
        {
          "output_type": "stream",
          "name": "stdout",
          "text": [
            "2.8877573478836305\n",
            "2.287586770442105\n"
          ]
        }
      ]
    },
    {
      "cell_type": "markdown",
      "source": [
        "**[4.7]** Display the predictions versus the target line charts on the training set"
      ],
      "metadata": {
        "id": "AaKjYqhVOCbf"
      }
    },
    {
      "cell_type": "code",
      "source": [
        "# Placeholder for student's code"
      ],
      "metadata": {
        "id": "VGBDNQFxOCi3"
      },
      "execution_count": null,
      "outputs": []
    },
    {
      "cell_type": "code",
      "source": [
        "# Solution\n",
        "perfect_test = alt.Chart(pd.DataFrame({'target': y_train, 'preds': y_train})).mark_line(color='green').encode(\n",
        "    x='target',\n",
        "    y='preds'\n",
        ")\n",
        "\n",
        "pred_chart_test = alt.Chart(pd.DataFrame({'target': y_train, 'preds': y_train_preds})).mark_line().encode(\n",
        "    x='target',\n",
        "    y='preds'\n",
        "  )\n",
        "\n",
        "pred_chart_test + perfect_test"
      ],
      "metadata": {
        "colab": {
          "base_uri": "https://localhost:8080/",
          "height": 368
        },
        "id": "zvM35E8jOCoU",
        "outputId": "297ea7db-9a47-4256-995e-1e813bc8f9bd"
      },
      "execution_count": null,
      "outputs": [
        {
          "output_type": "execute_result",
          "data": {
            "text/html": [
              "\n",
              "<div id=\"altair-viz-e5c11ff44561405986d741dc00f825b1\"></div>\n",
              "<script type=\"text/javascript\">\n",
              "  var VEGA_DEBUG = (typeof VEGA_DEBUG == \"undefined\") ? {} : VEGA_DEBUG;\n",
              "  (function(spec, embedOpt){\n",
              "    let outputDiv = document.currentScript.previousElementSibling;\n",
              "    if (outputDiv.id !== \"altair-viz-e5c11ff44561405986d741dc00f825b1\") {\n",
              "      outputDiv = document.getElementById(\"altair-viz-e5c11ff44561405986d741dc00f825b1\");\n",
              "    }\n",
              "    const paths = {\n",
              "      \"vega\": \"https://cdn.jsdelivr.net/npm//vega@5?noext\",\n",
              "      \"vega-lib\": \"https://cdn.jsdelivr.net/npm//vega-lib?noext\",\n",
              "      \"vega-lite\": \"https://cdn.jsdelivr.net/npm//vega-lite@4.17.0?noext\",\n",
              "      \"vega-embed\": \"https://cdn.jsdelivr.net/npm//vega-embed@6?noext\",\n",
              "    };\n",
              "\n",
              "    function maybeLoadScript(lib, version) {\n",
              "      var key = `${lib.replace(\"-\", \"\")}_version`;\n",
              "      return (VEGA_DEBUG[key] == version) ?\n",
              "        Promise.resolve(paths[lib]) :\n",
              "        new Promise(function(resolve, reject) {\n",
              "          var s = document.createElement('script');\n",
              "          document.getElementsByTagName(\"head\")[0].appendChild(s);\n",
              "          s.async = true;\n",
              "          s.onload = () => {\n",
              "            VEGA_DEBUG[key] = version;\n",
              "            return resolve(paths[lib]);\n",
              "          };\n",
              "          s.onerror = () => reject(`Error loading script: ${paths[lib]}`);\n",
              "          s.src = paths[lib];\n",
              "        });\n",
              "    }\n",
              "\n",
              "    function showError(err) {\n",
              "      outputDiv.innerHTML = `<div class=\"error\" style=\"color:red;\">${err}</div>`;\n",
              "      throw err;\n",
              "    }\n",
              "\n",
              "    function displayChart(vegaEmbed) {\n",
              "      vegaEmbed(outputDiv, spec, embedOpt)\n",
              "        .catch(err => showError(`Javascript Error: ${err.message}<br>This usually means there's a typo in your chart specification. See the javascript console for the full traceback.`));\n",
              "    }\n",
              "\n",
              "    if(typeof define === \"function\" && define.amd) {\n",
              "      requirejs.config({paths});\n",
              "      require([\"vega-embed\"], displayChart, err => showError(`Error loading script: ${err.message}`));\n",
              "    } else {\n",
              "      maybeLoadScript(\"vega\", \"5\")\n",
              "        .then(() => maybeLoadScript(\"vega-lite\", \"4.17.0\"))\n",
              "        .then(() => maybeLoadScript(\"vega-embed\", \"6\"))\n",
              "        .catch(showError)\n",
              "        .then(() => displayChart(vegaEmbed));\n",
              "    }\n",
              "  })({\"config\": {\"view\": {\"continuousWidth\": 400, \"continuousHeight\": 300}}, \"layer\": [{\"data\": {\"name\": \"data-910a53c0b25af9e58fd86fd8e056ce28\"}, \"mark\": \"line\", \"encoding\": {\"x\": {\"field\": \"target\", \"type\": \"quantitative\"}, \"y\": {\"field\": \"preds\", \"type\": \"quantitative\"}}}, {\"data\": {\"name\": \"data-4eb1adfe4e769cf142702b957a28d4d9\"}, \"mark\": {\"type\": \"line\", \"color\": \"green\"}, \"encoding\": {\"x\": {\"field\": \"target\", \"type\": \"quantitative\"}, \"y\": {\"field\": \"preds\", \"type\": \"quantitative\"}}}], \"$schema\": \"https://vega.github.io/schema/vega-lite/v4.17.0.json\", \"datasets\": {\"data-910a53c0b25af9e58fd86fd8e056ce28\": [{\"target\": 16.0, \"preds\": 15.092569833670062}, {\"target\": 27.0, \"preds\": 24.573038978683115}, {\"target\": 37.0, \"preds\": 35.66523027885329}, {\"target\": 36.1, \"preds\": 33.92173534119373}, {\"target\": 23.0, \"preds\": 25.303112919275648}, {\"target\": 14.0, \"preds\": 11.56055585360317}, {\"target\": 32.8, \"preds\": 32.685491822129165}, {\"target\": 29.9, \"preds\": 30.034602167780072}, {\"target\": 20.0, \"preds\": 26.33146739036001}, {\"target\": 12.0, \"preds\": 8.602039820222942}, {\"target\": 15.5, \"preds\": 15.936409672004324}, {\"target\": 23.7, \"preds\": 30.12404389530409}, {\"target\": 24.0, \"preds\": 27.76246220955226}, {\"target\": 36.0, \"preds\": 33.15691325063908}, {\"target\": 19.0, \"preds\": 24.5136772526673}, {\"target\": 38.0, \"preds\": 32.38922689782409}, {\"target\": 29.0, \"preds\": 29.962765994205398}, {\"target\": 21.5, \"preds\": 23.48310413780213}, {\"target\": 27.9, \"preds\": 26.376632506381}, {\"target\": 14.0, \"preds\": 12.613390166142153}, {\"target\": 36.1, \"preds\": 31.179153991586844}, {\"target\": 22.0, \"preds\": 25.576173503987526}, {\"target\": 18.0, \"preds\": 18.988641616776604}, {\"target\": 17.0, \"preds\": 15.020302525755397}, {\"target\": 18.0, \"preds\": 19.209497417172585}, {\"target\": 14.0, \"preds\": 10.414922933714578}, {\"target\": 26.0, \"preds\": 27.94641540879087}, {\"target\": 13.0, \"preds\": 10.532297552103145}, {\"target\": 33.0, \"preds\": 33.857879430020276}, {\"target\": 37.0, \"preds\": 35.202020254473204}, {\"target\": 32.0, \"preds\": 30.236534604068297}, {\"target\": 28.0, \"preds\": 27.757347076220057}, {\"target\": 19.2, \"preds\": 21.151691168654402}, {\"target\": 32.0, \"preds\": 35.91956442980027}, {\"target\": 27.4, \"preds\": 26.160877173538346}, {\"target\": 20.0, \"preds\": 22.790881136170796}, {\"target\": 26.0, \"preds\": 26.58757253100778}, {\"target\": 20.6, \"preds\": 22.70697702666491}, {\"target\": 37.3, \"preds\": 32.456671551435186}, {\"target\": 16.2, \"preds\": 22.885373637119656}, {\"target\": 15.0, \"preds\": 13.22158492960881}, {\"target\": 21.0, \"preds\": 23.90799006906557}, {\"target\": 21.0, \"preds\": 20.527639677217813}, {\"target\": 20.5, \"preds\": 23.157422283163214}, {\"target\": 21.0, \"preds\": 19.93654496485707}, {\"target\": 25.4, \"preds\": 28.77838293372536}, {\"target\": 34.1, \"preds\": 34.959372451582645}, {\"target\": 27.0, \"preds\": 27.285479023791467}, {\"target\": 36.0, \"preds\": 32.349437411648246}, {\"target\": 31.6, \"preds\": 31.018658828219024}, {\"target\": 38.1, \"preds\": 34.525180736080415}, {\"target\": 32.0, \"preds\": 29.19707123857009}, {\"target\": 40.8, \"preds\": 33.405131558687025}, {\"target\": 19.0, \"preds\": 20.884546199664975}, {\"target\": 20.0, \"preds\": 24.40091007107369}, {\"target\": 22.0, \"preds\": 20.676581105889944}, {\"target\": 17.5, \"preds\": 22.34039415397975}, {\"target\": 35.1, \"preds\": 36.46899278668398}, {\"target\": 30.5, \"preds\": 28.807240484490265}, {\"target\": 33.7, \"preds\": 33.47057538054285}, {\"target\": 19.0, \"preds\": 17.20051182031115}, {\"target\": 14.0, \"preds\": 10.26717473131881}, {\"target\": 15.5, \"preds\": 19.342878884306288}, {\"target\": 15.0, \"preds\": 22.035491342352557}, {\"target\": 22.5, \"preds\": 22.647120211919542}, {\"target\": 29.0, \"preds\": 28.36662622439807}, {\"target\": 23.0, \"preds\": 26.7510221784134}, {\"target\": 18.0, \"preds\": 26.632591361995395}, {\"target\": 25.5, \"preds\": 26.965745586055803}, {\"target\": 24.0, \"preds\": 26.268957249508183}, {\"target\": 14.0, \"preds\": 10.361995532589418}, {\"target\": 16.5, \"preds\": 20.015774194618103}, {\"target\": 20.3, \"preds\": 26.93228330639299}, {\"target\": 26.0, \"preds\": 26.2586923839359}, {\"target\": 15.0, \"preds\": 15.30665582641943}, {\"target\": 33.8, \"preds\": 33.27788386267093}, {\"target\": 11.0, \"preds\": 8.539745060366776}, {\"target\": 28.0, \"preds\": 25.240336591977602}, {\"target\": 19.0, \"preds\": 19.356670549510383}, {\"target\": 30.0, \"preds\": 31.809971154065813}, {\"target\": 27.2, \"preds\": 26.652903848706032}, {\"target\": 16.5, \"preds\": 18.66816582870385}, {\"target\": 29.0, \"preds\": 28.703548188404184}, {\"target\": 20.0, \"preds\": 20.550260498759876}, {\"target\": 15.0, \"preds\": 15.45258728152372}, {\"target\": 17.5, \"preds\": 17.66799733961038}, {\"target\": 18.0, \"preds\": 16.76767747145695}, {\"target\": 24.0, \"preds\": 28.43431344727621}, {\"target\": 20.2, \"preds\": 23.90022777041952}, {\"target\": 13.0, \"preds\": 11.88414616976359}, {\"target\": 12.0, \"preds\": 10.389384944087901}, {\"target\": 20.0, \"preds\": 22.567908795895328}, {\"target\": 13.0, \"preds\": 15.520274396234512}, {\"target\": 26.0, \"preds\": 27.100049580377103}, {\"target\": 34.5, \"preds\": 29.651473818406863}, {\"target\": 18.0, \"preds\": 19.49236721779718}, {\"target\": 18.5, \"preds\": 20.710953320233557}, {\"target\": 13.0, \"preds\": 10.130761300436582}, {\"target\": 26.0, \"preds\": 24.11351673730696}, {\"target\": 18.0, \"preds\": 16.7868837032118}, {\"target\": 31.0, \"preds\": 31.500462399152447}, {\"target\": 24.0, \"preds\": 23.732776734074577}, {\"target\": 11.0, \"preds\": 9.860728727596676}, {\"target\": 19.4, \"preds\": 20.071420880360883}, {\"target\": 32.9, \"preds\": 30.536845517443822}, {\"target\": 31.5, \"preds\": 32.56827195158664}, {\"target\": 19.1, \"preds\": 23.806773436825736}, {\"target\": 24.0, \"preds\": 22.656844403023058}, {\"target\": 20.0, \"preds\": 20.05882490636465}, {\"target\": 28.0, \"preds\": 25.301482498582132}, {\"target\": 29.0, \"preds\": 32.1284318401472}, {\"target\": 14.0, \"preds\": 15.847699991041111}, {\"target\": 35.0, \"preds\": 31.050048584241182}, {\"target\": 29.5, \"preds\": 32.03910719330223}, {\"target\": 23.6, \"preds\": 25.320395750665455}, {\"target\": 15.5, \"preds\": 16.34951205804606}, {\"target\": 20.6, \"preds\": 21.86367121453481}, {\"target\": 34.2, \"preds\": 29.173141069276454}, {\"target\": 25.0, \"preds\": 29.828766942826604}, {\"target\": 36.4, \"preds\": 28.316313465552795}, {\"target\": 22.3, \"preds\": 25.038916864095967}, {\"target\": 19.0, \"preds\": 22.754054608709637}, {\"target\": 19.8, \"preds\": 25.285269113995263}, {\"target\": 31.0, \"preds\": 29.413523606604734}, {\"target\": 14.0, \"preds\": 11.1322085599733}, {\"target\": 14.0, \"preds\": 14.125943188227097}, {\"target\": 43.4, \"preds\": 32.754958698041015}, {\"target\": 26.0, \"preds\": 26.374834122015116}, {\"target\": 33.5, \"preds\": 31.847179633099636}, {\"target\": 19.0, \"preds\": 23.952268947401222}, {\"target\": 22.0, \"preds\": 23.5686479147178}, {\"target\": 27.2, \"preds\": 30.315267940119845}, {\"target\": 32.7, \"preds\": 27.578724698349937}, {\"target\": 29.0, \"preds\": 29.520960280658528}, {\"target\": 17.6, \"preds\": 23.952747441727283}, {\"target\": 23.0, \"preds\": 26.72592808464674}, {\"target\": 34.0, \"preds\": 34.320108830977475}, {\"target\": 17.6, \"preds\": 20.817662298396684}, {\"target\": 30.7, \"preds\": 27.822612603438735}, {\"target\": 21.0, \"preds\": 21.667883474680814}, {\"target\": 38.0, \"preds\": 35.7440570199736}, {\"target\": 16.0, \"preds\": 13.635630978112054}, {\"target\": 15.0, \"preds\": 20.207583182428195}, {\"target\": 20.0, \"preds\": 18.38074534216308}, {\"target\": 29.0, \"preds\": 31.2699161972009}, {\"target\": 32.0, \"preds\": 31.487568350765493}, {\"target\": 18.0, \"preds\": 15.272177270263633}, {\"target\": 32.0, \"preds\": 30.71617846635791}, {\"target\": 15.0, \"preds\": 14.025484206040872}, {\"target\": 16.0, \"preds\": 15.621899366947765}, {\"target\": 34.0, \"preds\": 30.525113746949216}, {\"target\": 10.0, \"preds\": 8.034540989925215}, {\"target\": 19.0, \"preds\": 22.344980913617007}, {\"target\": 28.4, \"preds\": 26.68830131712368}, {\"target\": 15.0, \"preds\": 15.228080752002725}, {\"target\": 32.3, \"preds\": 34.65643126618196}, {\"target\": 30.0, \"preds\": 28.79567407129747}, {\"target\": 26.4, \"preds\": 26.0664494479537}, {\"target\": 30.0, \"preds\": 29.898167987233826}, {\"target\": 19.0, \"preds\": 22.04290528160812}, {\"target\": 13.0, \"preds\": 11.045405670708664}, {\"target\": 32.2, \"preds\": 32.33244080097527}, {\"target\": 27.0, \"preds\": 25.40043644396883}, {\"target\": 28.0, \"preds\": 23.497474482983627}, {\"target\": 44.6, \"preds\": 34.9387704061921}, {\"target\": 18.0, \"preds\": 21.93430561631871}, {\"target\": 39.4, \"preds\": 31.92251367943573}, {\"target\": 25.1, \"preds\": 25.27452153498244}, {\"target\": 16.0, \"preds\": 16.244747570234466}, {\"target\": 43.1, \"preds\": 33.4142557882986}, {\"target\": 25.0, \"preds\": 24.57644019846353}, {\"target\": 16.9, \"preds\": 17.02956422448952}, {\"target\": 13.0, \"preds\": 5.393232423722218}, {\"target\": 20.2, \"preds\": 26.324252694220114}, {\"target\": 14.0, \"preds\": 12.778494954981078}, {\"target\": 37.0, \"preds\": 31.11104230760531}, {\"target\": 13.0, \"preds\": 13.497837679086558}, {\"target\": 21.5, \"preds\": 27.37871138333763}, {\"target\": 27.0, \"preds\": 29.518267216253832}, {\"target\": 14.0, \"preds\": 11.629673468225079}, {\"target\": 15.0, \"preds\": 14.469395487782634}, {\"target\": 17.0, \"preds\": 16.849412767014215}, {\"target\": 9.0, \"preds\": 5.808027684489243}, {\"target\": 23.0, \"preds\": 24.05847225742147}, {\"target\": 26.0, \"preds\": 29.351194808057926}, {\"target\": 34.3, \"preds\": 32.951937534718375}, {\"target\": 23.2, \"preds\": 25.279544167649185}, {\"target\": 17.5, \"preds\": 17.845814916231966}, {\"target\": 12.0, \"preds\": 8.72131786929014}, {\"target\": 30.0, \"preds\": 26.33729413144718}, {\"target\": 30.5, \"preds\": 30.330904371585888}, {\"target\": 25.4, \"preds\": 24.482152878399987}, {\"target\": 44.3, \"preds\": 34.37644578820508}, {\"target\": 23.0, \"preds\": 23.781012002542752}, {\"target\": 14.0, \"preds\": 11.578260300373287}, {\"target\": 29.8, \"preds\": 35.39805675053903}, {\"target\": 26.5, \"preds\": 24.79748559669133}, {\"target\": 20.2, \"preds\": 24.458650010861803}, {\"target\": 38.0, \"preds\": 28.716829885372277}, {\"target\": 17.0, \"preds\": 14.963658303550346}, {\"target\": 20.5, \"preds\": 21.56194286035943}, {\"target\": 32.4, \"preds\": 32.67601480065748}, {\"target\": 18.0, \"preds\": 20.91609955232461}, {\"target\": 20.5, \"preds\": 20.79868518969205}, {\"target\": 25.8, \"preds\": 28.650604284918614}, {\"target\": 13.0, \"preds\": 16.625290684025956}, {\"target\": 24.0, \"preds\": 25.208914406739574}, {\"target\": 16.0, \"preds\": 19.048293322470442}, {\"target\": 13.0, \"preds\": 18.200405405562705}, {\"target\": 21.0, \"preds\": 23.55893756723888}, {\"target\": 19.0, \"preds\": 17.145156920414536}, {\"target\": 25.0, \"preds\": 23.471528700028088}, {\"target\": 27.5, \"preds\": 28.760126927075753}, {\"target\": 18.0, \"preds\": 19.95058279464095}, {\"target\": 34.5, \"preds\": 32.55126147697709}, {\"target\": 11.0, \"preds\": 7.964057454516592}, {\"target\": 32.1, \"preds\": 30.59797594538879}, {\"target\": 15.5, \"preds\": 16.29706140149562}, {\"target\": 18.6, \"preds\": 20.19469999076187}, {\"target\": 18.2, \"preds\": 20.44033028584927}, {\"target\": 15.0, \"preds\": 17.60278181400983}, {\"target\": 27.2, \"preds\": 29.360909718389337}, {\"target\": 14.0, \"preds\": 11.543865161528242}, {\"target\": 13.0, \"preds\": 11.499877299830285}, {\"target\": 18.0, \"preds\": 16.839971869068506}, {\"target\": 15.0, \"preds\": 19.39212115201576}, {\"target\": 14.0, \"preds\": 9.886041616929194}, {\"target\": 15.0, \"preds\": 12.16649560923453}, {\"target\": 23.9, \"preds\": 23.31824293506847}, {\"target\": 24.0, \"preds\": 23.118040495167243}, {\"target\": 16.0, \"preds\": 12.071207866566851}, {\"target\": 14.0, \"preds\": 11.810953827978615}, {\"target\": 26.6, \"preds\": 24.143519201044946}, {\"target\": 46.6, \"preds\": 33.3293603425165}, {\"target\": 31.5, \"preds\": 31.545880928847282}, {\"target\": 29.5, \"preds\": 31.597365628590268}, {\"target\": 27.0, \"preds\": 28.83630018416332}, {\"target\": 25.5, \"preds\": 24.215573328201664}, {\"target\": 20.0, \"preds\": 23.157029524680127}, {\"target\": 16.5, \"preds\": 13.866922199930421}, {\"target\": 35.7, \"preds\": 31.006361301257442}, {\"target\": 24.2, \"preds\": 28.169994609614555}, {\"target\": 20.2, \"preds\": 20.909085251999073}, {\"target\": 26.0, \"preds\": 29.732883002740188}, {\"target\": 22.4, \"preds\": 24.031594534662858}, {\"target\": 31.8, \"preds\": 33.21428155937956}, {\"target\": 30.9, \"preds\": 28.162193481336722}, {\"target\": 18.5, \"preds\": 18.66931064534326}, {\"target\": 16.0, \"preds\": 16.295008476908947}, {\"target\": 13.0, \"preds\": 8.246618613742289}, {\"target\": 30.0, \"preds\": 27.938038378807292}, {\"target\": 14.5, \"preds\": 15.478502884892464}, {\"target\": 41.5, \"preds\": 33.228726469032}, {\"target\": 20.8, \"preds\": 23.782026442452825}, {\"target\": 13.0, \"preds\": 9.84209711541562}, {\"target\": 31.0, \"preds\": 28.05322511906489}, {\"target\": 15.0, \"preds\": 13.917674820796734}, {\"target\": 23.0, \"preds\": 22.59060120552124}, {\"target\": 22.0, \"preds\": 22.32696780229142}, {\"target\": 28.0, \"preds\": 29.673449710707786}, {\"target\": 16.0, \"preds\": 15.515087749770451}, {\"target\": 17.7, \"preds\": 20.42722804319149}, {\"target\": 13.0, \"preds\": 12.16282029355132}, {\"target\": 26.6, \"preds\": 28.700049954282363}, {\"target\": 30.0, \"preds\": 26.130386582117474}, {\"target\": 18.1, \"preds\": 23.3732786117571}, {\"target\": 22.0, \"preds\": 26.03204112458028}, {\"target\": 14.0, \"preds\": 19.356453360761016}, {\"target\": 24.3, \"preds\": 25.461208804718538}, {\"target\": 14.0, \"preds\": 13.585144507611034}, {\"target\": 23.9, \"preds\": 29.587299261345002}, {\"target\": 13.0, \"preds\": 21.337831006343237}, {\"target\": 30.0, \"preds\": 26.987184078817407}, {\"target\": 36.0, \"preds\": 30.8389917126158}, {\"target\": 16.0, \"preds\": 17.395163654012677}, {\"target\": 28.8, \"preds\": 26.643784395571345}, {\"target\": 36.0, \"preds\": 34.340671609705005}, {\"target\": 31.3, \"preds\": 30.777002383853123}, {\"target\": 21.5, \"preds\": 25.655770980545235}, {\"target\": 35.0, \"preds\": 29.07772061854306}, {\"target\": 28.0, \"preds\": 26.045019762372533}, {\"target\": 18.0, \"preds\": 21.01864967867367}, {\"target\": 15.5, \"preds\": 16.855172408679834}, {\"target\": 32.0, \"preds\": 31.266757713532606}, {\"target\": 17.5, \"preds\": 14.752444245375344}, {\"target\": 20.0, \"preds\": 22.77835700180809}, {\"target\": 25.0, \"preds\": 23.9031472895526}, {\"target\": 18.0, \"preds\": 18.28001985102844}, {\"target\": 39.0, \"preds\": 33.06927175117466}, {\"target\": 26.0, \"preds\": 29.854875001373593}, {\"target\": 19.2, \"preds\": 21.016785559190616}, {\"target\": 24.0, \"preds\": 22.906707342819786}, {\"target\": 28.0, \"preds\": 27.49579186426631}, {\"target\": 17.0, \"preds\": 15.968837748794911}, {\"target\": 21.6, \"preds\": 26.97291529060739}, {\"target\": 22.0, \"preds\": 21.168449321520214}, {\"target\": 31.9, \"preds\": 33.789383000402104}, {\"target\": 39.1, \"preds\": 36.55055781892093}, {\"target\": 19.4, \"preds\": 23.388481376677206}, {\"target\": 33.5, \"preds\": 27.28921433256599}, {\"target\": 24.0, \"preds\": 25.710517436516987}, {\"target\": 26.0, \"preds\": 23.70243123961643}, {\"target\": 31.0, \"preds\": 29.126178150877408}, {\"target\": 28.1, \"preds\": 27.58194699054235}, {\"target\": 18.0, \"preds\": 20.90430683295527}, {\"target\": 27.0, \"preds\": 28.857465302883128}, {\"target\": 13.0, \"preds\": 14.69032267050703}, {\"target\": 40.9, \"preds\": 34.97041298293048}, {\"target\": 13.0, \"preds\": 17.41393689182526}, {\"target\": 15.0, \"preds\": 18.01606140213405}, {\"target\": 31.0, \"preds\": 28.546315668851555}, {\"target\": 25.0, \"preds\": 21.513938077056878}, {\"target\": 16.0, \"preds\": 15.050409162335683}, {\"target\": 19.0, \"preds\": 24.25479550003802}, {\"target\": 12.0, \"preds\": 10.572412662123817}, {\"target\": 21.1, \"preds\": 29.12241075466418}, {\"target\": 37.7, \"preds\": 34.63589836028153}, {\"target\": 26.0, \"preds\": 29.651916676953014}], \"data-4eb1adfe4e769cf142702b957a28d4d9\": [{\"target\": 16.0, \"preds\": 16.0}, {\"target\": 27.0, \"preds\": 27.0}, {\"target\": 37.0, \"preds\": 37.0}, {\"target\": 36.1, \"preds\": 36.1}, {\"target\": 23.0, \"preds\": 23.0}, {\"target\": 14.0, \"preds\": 14.0}, {\"target\": 32.8, \"preds\": 32.8}, {\"target\": 29.9, \"preds\": 29.9}, {\"target\": 20.0, \"preds\": 20.0}, {\"target\": 12.0, \"preds\": 12.0}, {\"target\": 15.5, \"preds\": 15.5}, {\"target\": 23.7, \"preds\": 23.7}, {\"target\": 24.0, \"preds\": 24.0}, {\"target\": 36.0, \"preds\": 36.0}, {\"target\": 19.0, \"preds\": 19.0}, {\"target\": 38.0, \"preds\": 38.0}, {\"target\": 29.0, \"preds\": 29.0}, {\"target\": 21.5, \"preds\": 21.5}, {\"target\": 27.9, \"preds\": 27.9}, {\"target\": 14.0, \"preds\": 14.0}, {\"target\": 36.1, \"preds\": 36.1}, {\"target\": 22.0, \"preds\": 22.0}, {\"target\": 18.0, \"preds\": 18.0}, {\"target\": 17.0, \"preds\": 17.0}, {\"target\": 18.0, \"preds\": 18.0}, {\"target\": 14.0, \"preds\": 14.0}, {\"target\": 26.0, \"preds\": 26.0}, {\"target\": 13.0, \"preds\": 13.0}, {\"target\": 33.0, \"preds\": 33.0}, {\"target\": 37.0, \"preds\": 37.0}, {\"target\": 32.0, \"preds\": 32.0}, {\"target\": 28.0, \"preds\": 28.0}, {\"target\": 19.2, \"preds\": 19.2}, {\"target\": 32.0, \"preds\": 32.0}, {\"target\": 27.4, \"preds\": 27.4}, {\"target\": 20.0, \"preds\": 20.0}, {\"target\": 26.0, \"preds\": 26.0}, {\"target\": 20.6, \"preds\": 20.6}, {\"target\": 37.3, \"preds\": 37.3}, {\"target\": 16.2, \"preds\": 16.2}, {\"target\": 15.0, \"preds\": 15.0}, {\"target\": 21.0, \"preds\": 21.0}, {\"target\": 21.0, \"preds\": 21.0}, {\"target\": 20.5, \"preds\": 20.5}, {\"target\": 21.0, \"preds\": 21.0}, {\"target\": 25.4, \"preds\": 25.4}, {\"target\": 34.1, \"preds\": 34.1}, {\"target\": 27.0, \"preds\": 27.0}, {\"target\": 36.0, \"preds\": 36.0}, {\"target\": 31.6, \"preds\": 31.6}, {\"target\": 38.1, \"preds\": 38.1}, {\"target\": 32.0, \"preds\": 32.0}, {\"target\": 40.8, \"preds\": 40.8}, {\"target\": 19.0, \"preds\": 19.0}, {\"target\": 20.0, \"preds\": 20.0}, {\"target\": 22.0, \"preds\": 22.0}, {\"target\": 17.5, \"preds\": 17.5}, {\"target\": 35.1, \"preds\": 35.1}, {\"target\": 30.5, \"preds\": 30.5}, {\"target\": 33.7, \"preds\": 33.7}, {\"target\": 19.0, \"preds\": 19.0}, {\"target\": 14.0, \"preds\": 14.0}, {\"target\": 15.5, \"preds\": 15.5}, {\"target\": 15.0, \"preds\": 15.0}, {\"target\": 22.5, \"preds\": 22.5}, {\"target\": 29.0, \"preds\": 29.0}, {\"target\": 23.0, \"preds\": 23.0}, {\"target\": 18.0, \"preds\": 18.0}, {\"target\": 25.5, \"preds\": 25.5}, {\"target\": 24.0, \"preds\": 24.0}, {\"target\": 14.0, \"preds\": 14.0}, {\"target\": 16.5, \"preds\": 16.5}, {\"target\": 20.3, \"preds\": 20.3}, {\"target\": 26.0, \"preds\": 26.0}, {\"target\": 15.0, \"preds\": 15.0}, {\"target\": 33.8, \"preds\": 33.8}, {\"target\": 11.0, \"preds\": 11.0}, {\"target\": 28.0, \"preds\": 28.0}, {\"target\": 19.0, \"preds\": 19.0}, {\"target\": 30.0, \"preds\": 30.0}, {\"target\": 27.2, \"preds\": 27.2}, {\"target\": 16.5, \"preds\": 16.5}, {\"target\": 29.0, \"preds\": 29.0}, {\"target\": 20.0, \"preds\": 20.0}, {\"target\": 15.0, \"preds\": 15.0}, {\"target\": 17.5, \"preds\": 17.5}, {\"target\": 18.0, \"preds\": 18.0}, {\"target\": 24.0, \"preds\": 24.0}, {\"target\": 20.2, \"preds\": 20.2}, {\"target\": 13.0, \"preds\": 13.0}, {\"target\": 12.0, \"preds\": 12.0}, {\"target\": 20.0, \"preds\": 20.0}, {\"target\": 13.0, \"preds\": 13.0}, {\"target\": 26.0, \"preds\": 26.0}, {\"target\": 34.5, \"preds\": 34.5}, {\"target\": 18.0, \"preds\": 18.0}, {\"target\": 18.5, \"preds\": 18.5}, {\"target\": 13.0, \"preds\": 13.0}, {\"target\": 26.0, \"preds\": 26.0}, {\"target\": 18.0, \"preds\": 18.0}, {\"target\": 31.0, \"preds\": 31.0}, {\"target\": 24.0, \"preds\": 24.0}, {\"target\": 11.0, \"preds\": 11.0}, {\"target\": 19.4, \"preds\": 19.4}, {\"target\": 32.9, \"preds\": 32.9}, {\"target\": 31.5, \"preds\": 31.5}, {\"target\": 19.1, \"preds\": 19.1}, {\"target\": 24.0, \"preds\": 24.0}, {\"target\": 20.0, \"preds\": 20.0}, {\"target\": 28.0, \"preds\": 28.0}, {\"target\": 29.0, \"preds\": 29.0}, {\"target\": 14.0, \"preds\": 14.0}, {\"target\": 35.0, \"preds\": 35.0}, {\"target\": 29.5, \"preds\": 29.5}, {\"target\": 23.6, \"preds\": 23.6}, {\"target\": 15.5, \"preds\": 15.5}, {\"target\": 20.6, \"preds\": 20.6}, {\"target\": 34.2, \"preds\": 34.2}, {\"target\": 25.0, \"preds\": 25.0}, {\"target\": 36.4, \"preds\": 36.4}, {\"target\": 22.3, \"preds\": 22.3}, {\"target\": 19.0, \"preds\": 19.0}, {\"target\": 19.8, \"preds\": 19.8}, {\"target\": 31.0, \"preds\": 31.0}, {\"target\": 14.0, \"preds\": 14.0}, {\"target\": 14.0, \"preds\": 14.0}, {\"target\": 43.4, \"preds\": 43.4}, {\"target\": 26.0, \"preds\": 26.0}, {\"target\": 33.5, \"preds\": 33.5}, {\"target\": 19.0, \"preds\": 19.0}, {\"target\": 22.0, \"preds\": 22.0}, {\"target\": 27.2, \"preds\": 27.2}, {\"target\": 32.7, \"preds\": 32.7}, {\"target\": 29.0, \"preds\": 29.0}, {\"target\": 17.6, \"preds\": 17.6}, {\"target\": 23.0, \"preds\": 23.0}, {\"target\": 34.0, \"preds\": 34.0}, {\"target\": 17.6, \"preds\": 17.6}, {\"target\": 30.7, \"preds\": 30.7}, {\"target\": 21.0, \"preds\": 21.0}, {\"target\": 38.0, \"preds\": 38.0}, {\"target\": 16.0, \"preds\": 16.0}, {\"target\": 15.0, \"preds\": 15.0}, {\"target\": 20.0, \"preds\": 20.0}, {\"target\": 29.0, \"preds\": 29.0}, {\"target\": 32.0, \"preds\": 32.0}, {\"target\": 18.0, \"preds\": 18.0}, {\"target\": 32.0, \"preds\": 32.0}, {\"target\": 15.0, \"preds\": 15.0}, {\"target\": 16.0, \"preds\": 16.0}, {\"target\": 34.0, \"preds\": 34.0}, {\"target\": 10.0, \"preds\": 10.0}, {\"target\": 19.0, \"preds\": 19.0}, {\"target\": 28.4, \"preds\": 28.4}, {\"target\": 15.0, \"preds\": 15.0}, {\"target\": 32.3, \"preds\": 32.3}, {\"target\": 30.0, \"preds\": 30.0}, {\"target\": 26.4, \"preds\": 26.4}, {\"target\": 30.0, \"preds\": 30.0}, {\"target\": 19.0, \"preds\": 19.0}, {\"target\": 13.0, \"preds\": 13.0}, {\"target\": 32.2, \"preds\": 32.2}, {\"target\": 27.0, \"preds\": 27.0}, {\"target\": 28.0, \"preds\": 28.0}, {\"target\": 44.6, \"preds\": 44.6}, {\"target\": 18.0, \"preds\": 18.0}, {\"target\": 39.4, \"preds\": 39.4}, {\"target\": 25.1, \"preds\": 25.1}, {\"target\": 16.0, \"preds\": 16.0}, {\"target\": 43.1, \"preds\": 43.1}, {\"target\": 25.0, \"preds\": 25.0}, {\"target\": 16.9, \"preds\": 16.9}, {\"target\": 13.0, \"preds\": 13.0}, {\"target\": 20.2, \"preds\": 20.2}, {\"target\": 14.0, \"preds\": 14.0}, {\"target\": 37.0, \"preds\": 37.0}, {\"target\": 13.0, \"preds\": 13.0}, {\"target\": 21.5, \"preds\": 21.5}, {\"target\": 27.0, \"preds\": 27.0}, {\"target\": 14.0, \"preds\": 14.0}, {\"target\": 15.0, \"preds\": 15.0}, {\"target\": 17.0, \"preds\": 17.0}, {\"target\": 9.0, \"preds\": 9.0}, {\"target\": 23.0, \"preds\": 23.0}, {\"target\": 26.0, \"preds\": 26.0}, {\"target\": 34.3, \"preds\": 34.3}, {\"target\": 23.2, \"preds\": 23.2}, {\"target\": 17.5, \"preds\": 17.5}, {\"target\": 12.0, \"preds\": 12.0}, {\"target\": 30.0, \"preds\": 30.0}, {\"target\": 30.5, \"preds\": 30.5}, {\"target\": 25.4, \"preds\": 25.4}, {\"target\": 44.3, \"preds\": 44.3}, {\"target\": 23.0, \"preds\": 23.0}, {\"target\": 14.0, \"preds\": 14.0}, {\"target\": 29.8, \"preds\": 29.8}, {\"target\": 26.5, \"preds\": 26.5}, {\"target\": 20.2, \"preds\": 20.2}, {\"target\": 38.0, \"preds\": 38.0}, {\"target\": 17.0, \"preds\": 17.0}, {\"target\": 20.5, \"preds\": 20.5}, {\"target\": 32.4, \"preds\": 32.4}, {\"target\": 18.0, \"preds\": 18.0}, {\"target\": 20.5, \"preds\": 20.5}, {\"target\": 25.8, \"preds\": 25.8}, {\"target\": 13.0, \"preds\": 13.0}, {\"target\": 24.0, \"preds\": 24.0}, {\"target\": 16.0, \"preds\": 16.0}, {\"target\": 13.0, \"preds\": 13.0}, {\"target\": 21.0, \"preds\": 21.0}, {\"target\": 19.0, \"preds\": 19.0}, {\"target\": 25.0, \"preds\": 25.0}, {\"target\": 27.5, \"preds\": 27.5}, {\"target\": 18.0, \"preds\": 18.0}, {\"target\": 34.5, \"preds\": 34.5}, {\"target\": 11.0, \"preds\": 11.0}, {\"target\": 32.1, \"preds\": 32.1}, {\"target\": 15.5, \"preds\": 15.5}, {\"target\": 18.6, \"preds\": 18.6}, {\"target\": 18.2, \"preds\": 18.2}, {\"target\": 15.0, \"preds\": 15.0}, {\"target\": 27.2, \"preds\": 27.2}, {\"target\": 14.0, \"preds\": 14.0}, {\"target\": 13.0, \"preds\": 13.0}, {\"target\": 18.0, \"preds\": 18.0}, {\"target\": 15.0, \"preds\": 15.0}, {\"target\": 14.0, \"preds\": 14.0}, {\"target\": 15.0, \"preds\": 15.0}, {\"target\": 23.9, \"preds\": 23.9}, {\"target\": 24.0, \"preds\": 24.0}, {\"target\": 16.0, \"preds\": 16.0}, {\"target\": 14.0, \"preds\": 14.0}, {\"target\": 26.6, \"preds\": 26.6}, {\"target\": 46.6, \"preds\": 46.6}, {\"target\": 31.5, \"preds\": 31.5}, {\"target\": 29.5, \"preds\": 29.5}, {\"target\": 27.0, \"preds\": 27.0}, {\"target\": 25.5, \"preds\": 25.5}, {\"target\": 20.0, \"preds\": 20.0}, {\"target\": 16.5, \"preds\": 16.5}, {\"target\": 35.7, \"preds\": 35.7}, {\"target\": 24.2, \"preds\": 24.2}, {\"target\": 20.2, \"preds\": 20.2}, {\"target\": 26.0, \"preds\": 26.0}, {\"target\": 22.4, \"preds\": 22.4}, {\"target\": 31.8, \"preds\": 31.8}, {\"target\": 30.9, \"preds\": 30.9}, {\"target\": 18.5, \"preds\": 18.5}, {\"target\": 16.0, \"preds\": 16.0}, {\"target\": 13.0, \"preds\": 13.0}, {\"target\": 30.0, \"preds\": 30.0}, {\"target\": 14.5, \"preds\": 14.5}, {\"target\": 41.5, \"preds\": 41.5}, {\"target\": 20.8, \"preds\": 20.8}, {\"target\": 13.0, \"preds\": 13.0}, {\"target\": 31.0, \"preds\": 31.0}, {\"target\": 15.0, \"preds\": 15.0}, {\"target\": 23.0, \"preds\": 23.0}, {\"target\": 22.0, \"preds\": 22.0}, {\"target\": 28.0, \"preds\": 28.0}, {\"target\": 16.0, \"preds\": 16.0}, {\"target\": 17.7, \"preds\": 17.7}, {\"target\": 13.0, \"preds\": 13.0}, {\"target\": 26.6, \"preds\": 26.6}, {\"target\": 30.0, \"preds\": 30.0}, {\"target\": 18.1, \"preds\": 18.1}, {\"target\": 22.0, \"preds\": 22.0}, {\"target\": 14.0, \"preds\": 14.0}, {\"target\": 24.3, \"preds\": 24.3}, {\"target\": 14.0, \"preds\": 14.0}, {\"target\": 23.9, \"preds\": 23.9}, {\"target\": 13.0, \"preds\": 13.0}, {\"target\": 30.0, \"preds\": 30.0}, {\"target\": 36.0, \"preds\": 36.0}, {\"target\": 16.0, \"preds\": 16.0}, {\"target\": 28.8, \"preds\": 28.8}, {\"target\": 36.0, \"preds\": 36.0}, {\"target\": 31.3, \"preds\": 31.3}, {\"target\": 21.5, \"preds\": 21.5}, {\"target\": 35.0, \"preds\": 35.0}, {\"target\": 28.0, \"preds\": 28.0}, {\"target\": 18.0, \"preds\": 18.0}, {\"target\": 15.5, \"preds\": 15.5}, {\"target\": 32.0, \"preds\": 32.0}, {\"target\": 17.5, \"preds\": 17.5}, {\"target\": 20.0, \"preds\": 20.0}, {\"target\": 25.0, \"preds\": 25.0}, {\"target\": 18.0, \"preds\": 18.0}, {\"target\": 39.0, \"preds\": 39.0}, {\"target\": 26.0, \"preds\": 26.0}, {\"target\": 19.2, \"preds\": 19.2}, {\"target\": 24.0, \"preds\": 24.0}, {\"target\": 28.0, \"preds\": 28.0}, {\"target\": 17.0, \"preds\": 17.0}, {\"target\": 21.6, \"preds\": 21.6}, {\"target\": 22.0, \"preds\": 22.0}, {\"target\": 31.9, \"preds\": 31.9}, {\"target\": 39.1, \"preds\": 39.1}, {\"target\": 19.4, \"preds\": 19.4}, {\"target\": 33.5, \"preds\": 33.5}, {\"target\": 24.0, \"preds\": 24.0}, {\"target\": 26.0, \"preds\": 26.0}, {\"target\": 31.0, \"preds\": 31.0}, {\"target\": 28.1, \"preds\": 28.1}, {\"target\": 18.0, \"preds\": 18.0}, {\"target\": 27.0, \"preds\": 27.0}, {\"target\": 13.0, \"preds\": 13.0}, {\"target\": 40.9, \"preds\": 40.9}, {\"target\": 13.0, \"preds\": 13.0}, {\"target\": 15.0, \"preds\": 15.0}, {\"target\": 31.0, \"preds\": 31.0}, {\"target\": 25.0, \"preds\": 25.0}, {\"target\": 16.0, \"preds\": 16.0}, {\"target\": 19.0, \"preds\": 19.0}, {\"target\": 12.0, \"preds\": 12.0}, {\"target\": 21.1, \"preds\": 21.1}, {\"target\": 37.7, \"preds\": 37.7}, {\"target\": 26.0, \"preds\": 26.0}]}}, {\"mode\": \"vega-lite\"});\n",
              "</script>"
            ],
            "text/plain": [
              "alt.LayerChart(...)"
            ]
          },
          "metadata": {},
          "execution_count": 50
        }
      ]
    },
    {
      "cell_type": "markdown",
      "source": [
        "**[4.8]** Display the predictions versus the target line charts on the testing set"
      ],
      "metadata": {
        "id": "jmVoYRbaOC47"
      }
    },
    {
      "cell_type": "code",
      "source": [
        "# Placeholder for student's code"
      ],
      "metadata": {
        "id": "nZIUCVAnOC-2"
      },
      "execution_count": null,
      "outputs": []
    },
    {
      "cell_type": "code",
      "source": [
        "# Solution\n",
        "perfect_test = alt.Chart(pd.DataFrame({'target': y_test, 'preds': y_test})).mark_line(color='green').encode(\n",
        "    x='target',\n",
        "    y='preds'\n",
        ")\n",
        "\n",
        "pred_chart_test = alt.Chart(pd.DataFrame({'target': y_test, 'preds': y_test_preds})).mark_line().encode(\n",
        "    x='target',\n",
        "    y='preds'\n",
        "  )\n",
        "\n",
        "pred_chart_test + perfect_test"
      ],
      "metadata": {
        "colab": {
          "base_uri": "https://localhost:8080/",
          "height": 368
        },
        "id": "uJDk5MVAODBO",
        "outputId": "c1650b25-40b7-4622-c1f2-9709b8bc6a06"
      },
      "execution_count": null,
      "outputs": [
        {
          "output_type": "execute_result",
          "data": {
            "text/html": [
              "\n",
              "<div id=\"altair-viz-99bada03f4bf4cbca028f396489b3ae7\"></div>\n",
              "<script type=\"text/javascript\">\n",
              "  var VEGA_DEBUG = (typeof VEGA_DEBUG == \"undefined\") ? {} : VEGA_DEBUG;\n",
              "  (function(spec, embedOpt){\n",
              "    let outputDiv = document.currentScript.previousElementSibling;\n",
              "    if (outputDiv.id !== \"altair-viz-99bada03f4bf4cbca028f396489b3ae7\") {\n",
              "      outputDiv = document.getElementById(\"altair-viz-99bada03f4bf4cbca028f396489b3ae7\");\n",
              "    }\n",
              "    const paths = {\n",
              "      \"vega\": \"https://cdn.jsdelivr.net/npm//vega@5?noext\",\n",
              "      \"vega-lib\": \"https://cdn.jsdelivr.net/npm//vega-lib?noext\",\n",
              "      \"vega-lite\": \"https://cdn.jsdelivr.net/npm//vega-lite@4.17.0?noext\",\n",
              "      \"vega-embed\": \"https://cdn.jsdelivr.net/npm//vega-embed@6?noext\",\n",
              "    };\n",
              "\n",
              "    function maybeLoadScript(lib, version) {\n",
              "      var key = `${lib.replace(\"-\", \"\")}_version`;\n",
              "      return (VEGA_DEBUG[key] == version) ?\n",
              "        Promise.resolve(paths[lib]) :\n",
              "        new Promise(function(resolve, reject) {\n",
              "          var s = document.createElement('script');\n",
              "          document.getElementsByTagName(\"head\")[0].appendChild(s);\n",
              "          s.async = true;\n",
              "          s.onload = () => {\n",
              "            VEGA_DEBUG[key] = version;\n",
              "            return resolve(paths[lib]);\n",
              "          };\n",
              "          s.onerror = () => reject(`Error loading script: ${paths[lib]}`);\n",
              "          s.src = paths[lib];\n",
              "        });\n",
              "    }\n",
              "\n",
              "    function showError(err) {\n",
              "      outputDiv.innerHTML = `<div class=\"error\" style=\"color:red;\">${err}</div>`;\n",
              "      throw err;\n",
              "    }\n",
              "\n",
              "    function displayChart(vegaEmbed) {\n",
              "      vegaEmbed(outputDiv, spec, embedOpt)\n",
              "        .catch(err => showError(`Javascript Error: ${err.message}<br>This usually means there's a typo in your chart specification. See the javascript console for the full traceback.`));\n",
              "    }\n",
              "\n",
              "    if(typeof define === \"function\" && define.amd) {\n",
              "      requirejs.config({paths});\n",
              "      require([\"vega-embed\"], displayChart, err => showError(`Error loading script: ${err.message}`));\n",
              "    } else {\n",
              "      maybeLoadScript(\"vega\", \"5\")\n",
              "        .then(() => maybeLoadScript(\"vega-lite\", \"4.17.0\"))\n",
              "        .then(() => maybeLoadScript(\"vega-embed\", \"6\"))\n",
              "        .catch(showError)\n",
              "        .then(() => displayChart(vegaEmbed));\n",
              "    }\n",
              "  })({\"config\": {\"view\": {\"continuousWidth\": 400, \"continuousHeight\": 300}}, \"layer\": [{\"data\": {\"name\": \"data-eade36c44cf0fc25515a9f37ceeb1598\"}, \"mark\": \"line\", \"encoding\": {\"x\": {\"field\": \"target\", \"type\": \"quantitative\"}, \"y\": {\"field\": \"preds\", \"type\": \"quantitative\"}}}, {\"data\": {\"name\": \"data-01cbfc20fcc4c39e7c1ec79cb2f345ff\"}, \"mark\": {\"type\": \"line\", \"color\": \"green\"}, \"encoding\": {\"x\": {\"field\": \"target\", \"type\": \"quantitative\"}, \"y\": {\"field\": \"preds\", \"type\": \"quantitative\"}}}], \"$schema\": \"https://vega.github.io/schema/vega-lite/v4.17.0.json\", \"datasets\": {\"data-eade36c44cf0fc25515a9f37ceeb1598\": [{\"target\": 33.0, \"preds\": 32.46906629094143}, {\"target\": 28.0, \"preds\": 29.219164448977793}, {\"target\": 19.0, \"preds\": 21.22908656182321}, {\"target\": 13.0, \"preds\": 16.83326659936391}, {\"target\": 14.0, \"preds\": 12.345822770743752}, {\"target\": 27.0, \"preds\": 26.586716713244996}, {\"target\": 24.0, \"preds\": 27.578534587435826}, {\"target\": 13.0, \"preds\": 10.088717633637792}, {\"target\": 17.0, \"preds\": 16.63527638606078}, {\"target\": 21.0, \"preds\": 21.61381724012999}, {\"target\": 15.0, \"preds\": 13.036948014136172}, {\"target\": 38.0, \"preds\": 35.868219319434395}, {\"target\": 26.0, \"preds\": 24.548065312209232}, {\"target\": 15.0, \"preds\": 13.537647766585224}, {\"target\": 25.0, \"preds\": 23.51472074011236}, {\"target\": 12.0, \"preds\": 6.2653653764870825}, {\"target\": 31.0, \"preds\": 29.160022234570675}, {\"target\": 17.0, \"preds\": 24.740402230525874}, {\"target\": 16.0, \"preds\": 16.731808886799755}, {\"target\": 31.0, \"preds\": 36.010221413462894}, {\"target\": 22.0, \"preds\": 24.706334898052525}, {\"target\": 22.0, \"preds\": 18.578454535869014}, {\"target\": 22.0, \"preds\": 28.873396460475888}, {\"target\": 33.5, \"preds\": 28.289917964291547}, {\"target\": 18.0, \"preds\": 14.916047932732496}, {\"target\": 44.0, \"preds\": 36.0093920934121}, {\"target\": 26.0, \"preds\": 26.452997684817404}, {\"target\": 24.5, \"preds\": 24.56510304859753}, {\"target\": 18.1, \"preds\": 21.92874279608563}, {\"target\": 12.0, \"preds\": 8.846482387005473}, {\"target\": 27.0, \"preds\": 28.130378089703676}, {\"target\": 36.0, \"preds\": 36.25123948935395}, {\"target\": 23.0, \"preds\": 20.866741478522997}, {\"target\": 24.0, \"preds\": 25.474348969037592}, {\"target\": 37.2, \"preds\": 33.862955321618436}, {\"target\": 16.0, \"preds\": 12.227410905719424}, {\"target\": 21.0, \"preds\": 22.5016379770896}, {\"target\": 19.2, \"preds\": 21.94265856988465}, {\"target\": 16.0, \"preds\": 12.154630049978273}, {\"target\": 29.0, \"preds\": 27.77250376492342}, {\"target\": 26.8, \"preds\": 26.018505937528232}, {\"target\": 27.0, \"preds\": 28.484036438112895}, {\"target\": 18.0, \"preds\": 20.984504565237053}, {\"target\": 10.0, \"preds\": 7.108586561843236}, {\"target\": 23.0, \"preds\": 23.89881068353914}, {\"target\": 36.0, \"preds\": 34.740057815729095}, {\"target\": 26.0, \"preds\": 27.857432471605406}, {\"target\": 25.0, \"preds\": 25.20637350101167}, {\"target\": 25.0, \"preds\": 23.39028423968155}, {\"target\": 25.0, \"preds\": 28.57507313486751}, {\"target\": 22.0, \"preds\": 22.167010812307524}, {\"target\": 34.1, \"preds\": 33.25873865050124}, {\"target\": 32.4, \"preds\": 32.30810205880491}, {\"target\": 13.0, \"preds\": 11.135370679543318}, {\"target\": 23.5, \"preds\": 27.54119991921027}, {\"target\": 14.0, \"preds\": 10.137736089348234}, {\"target\": 18.5, \"preds\": 20.123316493063058}, {\"target\": 29.8, \"preds\": 29.50901470865309}, {\"target\": 28.0, \"preds\": 22.688558985788177}, {\"target\": 19.0, \"preds\": 20.232529551512187}, {\"target\": 11.0, \"preds\": 16.36813335997921}, {\"target\": 33.0, \"preds\": 31.649003841422264}, {\"target\": 23.0, \"preds\": 23.549304949730328}, {\"target\": 21.0, \"preds\": 21.339939076957798}, {\"target\": 23.0, \"preds\": 20.59515678739831}, {\"target\": 25.0, \"preds\": 24.89056374835262}, {\"target\": 23.8, \"preds\": 24.73652826299619}, {\"target\": 34.4, \"preds\": 32.07389758164867}, {\"target\": 24.5, \"preds\": 27.594741819390784}, {\"target\": 13.0, \"preds\": 12.516329903178573}, {\"target\": 34.7, \"preds\": 30.93995199809325}, {\"target\": 14.0, \"preds\": 12.83093955813034}, {\"target\": 15.0, \"preds\": 10.331272206897573}, {\"target\": 18.0, \"preds\": 19.32163779538761}, {\"target\": 25.0, \"preds\": 27.24799497714642}, {\"target\": 19.9, \"preds\": 22.121509286793582}, {\"target\": 17.5, \"preds\": 20.39547184490963}, {\"target\": 28.0, \"preds\": 29.157196578598167}, {\"target\": 29.0, \"preds\": 30.427848700382086}, {\"target\": 17.0, \"preds\": 20.19640380579196}], \"data-01cbfc20fcc4c39e7c1ec79cb2f345ff\": [{\"target\": 33.0, \"preds\": 33.0}, {\"target\": 28.0, \"preds\": 28.0}, {\"target\": 19.0, \"preds\": 19.0}, {\"target\": 13.0, \"preds\": 13.0}, {\"target\": 14.0, \"preds\": 14.0}, {\"target\": 27.0, \"preds\": 27.0}, {\"target\": 24.0, \"preds\": 24.0}, {\"target\": 13.0, \"preds\": 13.0}, {\"target\": 17.0, \"preds\": 17.0}, {\"target\": 21.0, \"preds\": 21.0}, {\"target\": 15.0, \"preds\": 15.0}, {\"target\": 38.0, \"preds\": 38.0}, {\"target\": 26.0, \"preds\": 26.0}, {\"target\": 15.0, \"preds\": 15.0}, {\"target\": 25.0, \"preds\": 25.0}, {\"target\": 12.0, \"preds\": 12.0}, {\"target\": 31.0, \"preds\": 31.0}, {\"target\": 17.0, \"preds\": 17.0}, {\"target\": 16.0, \"preds\": 16.0}, {\"target\": 31.0, \"preds\": 31.0}, {\"target\": 22.0, \"preds\": 22.0}, {\"target\": 22.0, \"preds\": 22.0}, {\"target\": 22.0, \"preds\": 22.0}, {\"target\": 33.5, \"preds\": 33.5}, {\"target\": 18.0, \"preds\": 18.0}, {\"target\": 44.0, \"preds\": 44.0}, {\"target\": 26.0, \"preds\": 26.0}, {\"target\": 24.5, \"preds\": 24.5}, {\"target\": 18.1, \"preds\": 18.1}, {\"target\": 12.0, \"preds\": 12.0}, {\"target\": 27.0, \"preds\": 27.0}, {\"target\": 36.0, \"preds\": 36.0}, {\"target\": 23.0, \"preds\": 23.0}, {\"target\": 24.0, \"preds\": 24.0}, {\"target\": 37.2, \"preds\": 37.2}, {\"target\": 16.0, \"preds\": 16.0}, {\"target\": 21.0, \"preds\": 21.0}, {\"target\": 19.2, \"preds\": 19.2}, {\"target\": 16.0, \"preds\": 16.0}, {\"target\": 29.0, \"preds\": 29.0}, {\"target\": 26.8, \"preds\": 26.8}, {\"target\": 27.0, \"preds\": 27.0}, {\"target\": 18.0, \"preds\": 18.0}, {\"target\": 10.0, \"preds\": 10.0}, {\"target\": 23.0, \"preds\": 23.0}, {\"target\": 36.0, \"preds\": 36.0}, {\"target\": 26.0, \"preds\": 26.0}, {\"target\": 25.0, \"preds\": 25.0}, {\"target\": 25.0, \"preds\": 25.0}, {\"target\": 25.0, \"preds\": 25.0}, {\"target\": 22.0, \"preds\": 22.0}, {\"target\": 34.1, \"preds\": 34.1}, {\"target\": 32.4, \"preds\": 32.4}, {\"target\": 13.0, \"preds\": 13.0}, {\"target\": 23.5, \"preds\": 23.5}, {\"target\": 14.0, \"preds\": 14.0}, {\"target\": 18.5, \"preds\": 18.5}, {\"target\": 29.8, \"preds\": 29.8}, {\"target\": 28.0, \"preds\": 28.0}, {\"target\": 19.0, \"preds\": 19.0}, {\"target\": 11.0, \"preds\": 11.0}, {\"target\": 33.0, \"preds\": 33.0}, {\"target\": 23.0, \"preds\": 23.0}, {\"target\": 21.0, \"preds\": 21.0}, {\"target\": 23.0, \"preds\": 23.0}, {\"target\": 25.0, \"preds\": 25.0}, {\"target\": 23.8, \"preds\": 23.8}, {\"target\": 34.4, \"preds\": 34.4}, {\"target\": 24.5, \"preds\": 24.5}, {\"target\": 13.0, \"preds\": 13.0}, {\"target\": 34.7, \"preds\": 34.7}, {\"target\": 14.0, \"preds\": 14.0}, {\"target\": 15.0, \"preds\": 15.0}, {\"target\": 18.0, \"preds\": 18.0}, {\"target\": 25.0, \"preds\": 25.0}, {\"target\": 19.9, \"preds\": 19.9}, {\"target\": 17.5, \"preds\": 17.5}, {\"target\": 28.0, \"preds\": 28.0}, {\"target\": 29.0, \"preds\": 29.0}, {\"target\": 17.0, \"preds\": 17.0}]}}, {\"mode\": \"vega-lite\"});\n",
              "</script>"
            ],
            "text/plain": [
              "alt.LayerChart(...)"
            ]
          },
          "metadata": {},
          "execution_count": 52
        }
      ]
    },
    {
      "cell_type": "markdown",
      "metadata": {
        "id": "wA4RpS-iFWd9"
      },
      "source": [
        "### 5. Train Second Model with less Features"
      ]
    },
    {
      "cell_type": "markdown",
      "metadata": {
        "id": "xQmoF4qEPXth"
      },
      "source": [
        "**[5.1]** Create 2 variables X_train_2 and X_test_2 that will contain the features 'weight' and 'model_year' for the training and testing sets"
      ]
    },
    {
      "cell_type": "code",
      "metadata": {
        "id": "I2TmrsanPcKy"
      },
      "source": [
        "# Placeholder for student's code"
      ],
      "execution_count": null,
      "outputs": []
    },
    {
      "cell_type": "code",
      "metadata": {
        "id": "9NjlrE0PKhXT"
      },
      "source": [
        "# Solution\n",
        "X_train_2 = X_train[['weight','model_year']]\n",
        "X_test_2 = X_test[['weight','model_year']]"
      ],
      "execution_count": null,
      "outputs": []
    },
    {
      "cell_type": "markdown",
      "metadata": {
        "id": "JJRnvYJrP7oh"
      },
      "source": [
        "**[5.2]** Instantiate the LinearRegression class into a variable called reg2 and fit it with X_train_2"
      ]
    },
    {
      "cell_type": "code",
      "metadata": {
        "id": "ub7Zsi12QLs9"
      },
      "source": [
        "# Placeholder for student's code"
      ],
      "execution_count": null,
      "outputs": []
    },
    {
      "cell_type": "code",
      "metadata": {
        "id": "n8aGyqzgP7u1",
        "colab": {
          "base_uri": "https://localhost:8080/",
          "height": 75
        },
        "outputId": "1d9adc97-893c-493c-a9eb-51be350f910b"
      },
      "source": [
        "# Solution\n",
        "reg2 = LinearRegression()\n",
        "reg2.fit(X_train_2, y_train)"
      ],
      "execution_count": null,
      "outputs": [
        {
          "output_type": "execute_result",
          "data": {
            "text/plain": [
              "LinearRegression()"
            ],
            "text/html": [
              "<style>#sk-container-id-2 {color: black;background-color: white;}#sk-container-id-2 pre{padding: 0;}#sk-container-id-2 div.sk-toggleable {background-color: white;}#sk-container-id-2 label.sk-toggleable__label {cursor: pointer;display: block;width: 100%;margin-bottom: 0;padding: 0.3em;box-sizing: border-box;text-align: center;}#sk-container-id-2 label.sk-toggleable__label-arrow:before {content: \"▸\";float: left;margin-right: 0.25em;color: #696969;}#sk-container-id-2 label.sk-toggleable__label-arrow:hover:before {color: black;}#sk-container-id-2 div.sk-estimator:hover label.sk-toggleable__label-arrow:before {color: black;}#sk-container-id-2 div.sk-toggleable__content {max-height: 0;max-width: 0;overflow: hidden;text-align: left;background-color: #f0f8ff;}#sk-container-id-2 div.sk-toggleable__content pre {margin: 0.2em;color: black;border-radius: 0.25em;background-color: #f0f8ff;}#sk-container-id-2 input.sk-toggleable__control:checked~div.sk-toggleable__content {max-height: 200px;max-width: 100%;overflow: auto;}#sk-container-id-2 input.sk-toggleable__control:checked~label.sk-toggleable__label-arrow:before {content: \"▾\";}#sk-container-id-2 div.sk-estimator input.sk-toggleable__control:checked~label.sk-toggleable__label {background-color: #d4ebff;}#sk-container-id-2 div.sk-label input.sk-toggleable__control:checked~label.sk-toggleable__label {background-color: #d4ebff;}#sk-container-id-2 input.sk-hidden--visually {border: 0;clip: rect(1px 1px 1px 1px);clip: rect(1px, 1px, 1px, 1px);height: 1px;margin: -1px;overflow: hidden;padding: 0;position: absolute;width: 1px;}#sk-container-id-2 div.sk-estimator {font-family: monospace;background-color: #f0f8ff;border: 1px dotted black;border-radius: 0.25em;box-sizing: border-box;margin-bottom: 0.5em;}#sk-container-id-2 div.sk-estimator:hover {background-color: #d4ebff;}#sk-container-id-2 div.sk-parallel-item::after {content: \"\";width: 100%;border-bottom: 1px solid gray;flex-grow: 1;}#sk-container-id-2 div.sk-label:hover label.sk-toggleable__label {background-color: #d4ebff;}#sk-container-id-2 div.sk-serial::before {content: \"\";position: absolute;border-left: 1px solid gray;box-sizing: border-box;top: 0;bottom: 0;left: 50%;z-index: 0;}#sk-container-id-2 div.sk-serial {display: flex;flex-direction: column;align-items: center;background-color: white;padding-right: 0.2em;padding-left: 0.2em;position: relative;}#sk-container-id-2 div.sk-item {position: relative;z-index: 1;}#sk-container-id-2 div.sk-parallel {display: flex;align-items: stretch;justify-content: center;background-color: white;position: relative;}#sk-container-id-2 div.sk-item::before, #sk-container-id-2 div.sk-parallel-item::before {content: \"\";position: absolute;border-left: 1px solid gray;box-sizing: border-box;top: 0;bottom: 0;left: 50%;z-index: -1;}#sk-container-id-2 div.sk-parallel-item {display: flex;flex-direction: column;z-index: 1;position: relative;background-color: white;}#sk-container-id-2 div.sk-parallel-item:first-child::after {align-self: flex-end;width: 50%;}#sk-container-id-2 div.sk-parallel-item:last-child::after {align-self: flex-start;width: 50%;}#sk-container-id-2 div.sk-parallel-item:only-child::after {width: 0;}#sk-container-id-2 div.sk-dashed-wrapped {border: 1px dashed gray;margin: 0 0.4em 0.5em 0.4em;box-sizing: border-box;padding-bottom: 0.4em;background-color: white;}#sk-container-id-2 div.sk-label label {font-family: monospace;font-weight: bold;display: inline-block;line-height: 1.2em;}#sk-container-id-2 div.sk-label-container {text-align: center;}#sk-container-id-2 div.sk-container {/* jupyter's `normalize.less` sets `[hidden] { display: none; }` but bootstrap.min.css set `[hidden] { display: none !important; }` so we also need the `!important` here to be able to override the default hidden behavior on the sphinx rendered scikit-learn.org. See: https://github.com/scikit-learn/scikit-learn/issues/21755 */display: inline-block !important;position: relative;}#sk-container-id-2 div.sk-text-repr-fallback {display: none;}</style><div id=\"sk-container-id-2\" class=\"sk-top-container\"><div class=\"sk-text-repr-fallback\"><pre>LinearRegression()</pre><b>In a Jupyter environment, please rerun this cell to show the HTML representation or trust the notebook. <br />On GitHub, the HTML representation is unable to render, please try loading this page with nbviewer.org.</b></div><div class=\"sk-container\" hidden><div class=\"sk-item\"><div class=\"sk-estimator sk-toggleable\"><input class=\"sk-toggleable__control sk-hidden--visually\" id=\"sk-estimator-id-2\" type=\"checkbox\" checked><label for=\"sk-estimator-id-2\" class=\"sk-toggleable__label sk-toggleable__label-arrow\">LinearRegression</label><div class=\"sk-toggleable__content\"><pre>LinearRegression()</pre></div></div></div></div></div>"
            ]
          },
          "metadata": {},
          "execution_count": 56
        }
      ]
    },
    {
      "cell_type": "markdown",
      "metadata": {
        "id": "6TeqTtlJQPiI"
      },
      "source": [
        "**[5.3]** Print the RMSE and MAE scores for the training set"
      ]
    },
    {
      "cell_type": "code",
      "metadata": {
        "id": "aZKm_qr_Ql8G"
      },
      "source": [
        "# Placeholder for student's code"
      ],
      "execution_count": null,
      "outputs": []
    },
    {
      "cell_type": "code",
      "metadata": {
        "id": "9LkRzsi6QPre",
        "colab": {
          "base_uri": "https://localhost:8080/"
        },
        "outputId": "52289b41-bc53-4587-918c-c2cd0f4fda81"
      },
      "source": [
        "# Solution\n",
        "y_train_preds_2 = reg2.predict(X_train_2)\n",
        "print(mse(y_train, y_train_preds_2, squared=False))\n",
        "print(mae(y_train, y_train_preds_2))"
      ],
      "execution_count": null,
      "outputs": [
        {
          "output_type": "stream",
          "name": "stdout",
          "text": [
            "3.510165609914317\n",
            "2.691022270699614\n"
          ]
        }
      ]
    },
    {
      "cell_type": "markdown",
      "source": [
        "**[5.4]** Print the RMSE and MAE scores for the testing set"
      ],
      "metadata": {
        "id": "8_1NqqAow3cn"
      }
    },
    {
      "cell_type": "code",
      "source": [
        "# Placeholder for student's code"
      ],
      "metadata": {
        "id": "rh_meYr-w3hZ"
      },
      "execution_count": null,
      "outputs": []
    },
    {
      "cell_type": "code",
      "source": [
        "# Solution\n",
        "y_test_preds_2 = reg2.predict(X_test_2)\n",
        "print(mse(y_test, y_test_preds_2, squared=False))\n",
        "print(mae(y_test, y_test_preds_2))"
      ],
      "metadata": {
        "colab": {
          "base_uri": "https://localhost:8080/"
        },
        "id": "N6GZKU2bw3k-",
        "outputId": "10d7198b-068e-40c9-ded7-8b97d448de21"
      },
      "execution_count": null,
      "outputs": [
        {
          "output_type": "stream",
          "name": "stdout",
          "text": [
            "3.072548791150287\n",
            "2.4463344389350405\n"
          ]
        }
      ]
    },
    {
      "cell_type": "markdown",
      "source": [
        "**[5.5]** Display the predictions versus the target line charts on the training set"
      ],
      "metadata": {
        "id": "bd2-2WMvNRYu"
      }
    },
    {
      "cell_type": "code",
      "source": [
        "# Placeholder for student's code"
      ],
      "metadata": {
        "id": "sXiDVfFUNRg-"
      },
      "execution_count": null,
      "outputs": []
    },
    {
      "cell_type": "code",
      "source": [
        "# Solution\n",
        "perfect_test = alt.Chart(pd.DataFrame({'target': y_train, 'preds': y_train})).mark_line(color='green').encode(\n",
        "    x='target',\n",
        "    y='preds'\n",
        ")\n",
        "\n",
        "pred_chart_test = alt.Chart(pd.DataFrame({'target': y_train, 'preds': y_train_preds_2})).mark_line().encode(\n",
        "    x='target',\n",
        "    y='preds'\n",
        "  )\n",
        "\n",
        "pred_chart_test + perfect_test"
      ],
      "metadata": {
        "colab": {
          "base_uri": "https://localhost:8080/",
          "height": 368
        },
        "id": "dhxFv1fONRoD",
        "outputId": "bfd42ad0-33db-404c-8ba2-601eef18ef3e"
      },
      "execution_count": null,
      "outputs": [
        {
          "output_type": "execute_result",
          "data": {
            "text/html": [
              "\n",
              "<div id=\"altair-viz-c1b30ea8cfa34cae9ad5be1b2d86da34\"></div>\n",
              "<script type=\"text/javascript\">\n",
              "  var VEGA_DEBUG = (typeof VEGA_DEBUG == \"undefined\") ? {} : VEGA_DEBUG;\n",
              "  (function(spec, embedOpt){\n",
              "    let outputDiv = document.currentScript.previousElementSibling;\n",
              "    if (outputDiv.id !== \"altair-viz-c1b30ea8cfa34cae9ad5be1b2d86da34\") {\n",
              "      outputDiv = document.getElementById(\"altair-viz-c1b30ea8cfa34cae9ad5be1b2d86da34\");\n",
              "    }\n",
              "    const paths = {\n",
              "      \"vega\": \"https://cdn.jsdelivr.net/npm//vega@5?noext\",\n",
              "      \"vega-lib\": \"https://cdn.jsdelivr.net/npm//vega-lib?noext\",\n",
              "      \"vega-lite\": \"https://cdn.jsdelivr.net/npm//vega-lite@4.17.0?noext\",\n",
              "      \"vega-embed\": \"https://cdn.jsdelivr.net/npm//vega-embed@6?noext\",\n",
              "    };\n",
              "\n",
              "    function maybeLoadScript(lib, version) {\n",
              "      var key = `${lib.replace(\"-\", \"\")}_version`;\n",
              "      return (VEGA_DEBUG[key] == version) ?\n",
              "        Promise.resolve(paths[lib]) :\n",
              "        new Promise(function(resolve, reject) {\n",
              "          var s = document.createElement('script');\n",
              "          document.getElementsByTagName(\"head\")[0].appendChild(s);\n",
              "          s.async = true;\n",
              "          s.onload = () => {\n",
              "            VEGA_DEBUG[key] = version;\n",
              "            return resolve(paths[lib]);\n",
              "          };\n",
              "          s.onerror = () => reject(`Error loading script: ${paths[lib]}`);\n",
              "          s.src = paths[lib];\n",
              "        });\n",
              "    }\n",
              "\n",
              "    function showError(err) {\n",
              "      outputDiv.innerHTML = `<div class=\"error\" style=\"color:red;\">${err}</div>`;\n",
              "      throw err;\n",
              "    }\n",
              "\n",
              "    function displayChart(vegaEmbed) {\n",
              "      vegaEmbed(outputDiv, spec, embedOpt)\n",
              "        .catch(err => showError(`Javascript Error: ${err.message}<br>This usually means there's a typo in your chart specification. See the javascript console for the full traceback.`));\n",
              "    }\n",
              "\n",
              "    if(typeof define === \"function\" && define.amd) {\n",
              "      requirejs.config({paths});\n",
              "      require([\"vega-embed\"], displayChart, err => showError(`Error loading script: ${err.message}`));\n",
              "    } else {\n",
              "      maybeLoadScript(\"vega\", \"5\")\n",
              "        .then(() => maybeLoadScript(\"vega-lite\", \"4.17.0\"))\n",
              "        .then(() => maybeLoadScript(\"vega-embed\", \"6\"))\n",
              "        .catch(showError)\n",
              "        .then(() => displayChart(vegaEmbed));\n",
              "    }\n",
              "  })({\"config\": {\"view\": {\"continuousWidth\": 400, \"continuousHeight\": 300}}, \"layer\": [{\"data\": {\"name\": \"data-aabb151b1ff8259eb804e840cd6f320a\"}, \"mark\": \"line\", \"encoding\": {\"x\": {\"field\": \"target\", \"type\": \"quantitative\"}, \"y\": {\"field\": \"preds\", \"type\": \"quantitative\"}}}, {\"data\": {\"name\": \"data-4eb1adfe4e769cf142702b957a28d4d9\"}, \"mark\": {\"type\": \"line\", \"color\": \"green\"}, \"encoding\": {\"x\": {\"field\": \"target\", \"type\": \"quantitative\"}, \"y\": {\"field\": \"preds\", \"type\": \"quantitative\"}}}], \"$schema\": \"https://vega.github.io/schema/vega-lite/v4.17.0.json\", \"datasets\": {\"data-aabb151b1ff8259eb804e840cd6f320a\": [{\"target\": 16.0, \"preds\": 15.60482482955598}, {\"target\": 27.0, \"preds\": 24.376433210138913}, {\"target\": 37.0, \"preds\": 34.67709908369912}, {\"target\": 36.1, \"preds\": 32.993826355023174}, {\"target\": 23.0, \"preds\": 24.577091834253352}, {\"target\": 14.0, \"preds\": 10.795068073786982}, {\"target\": 32.8, \"preds\": 31.748432993236648}, {\"target\": 29.9, \"preds\": 31.48780511755872}, {\"target\": 20.0, \"preds\": 25.771841912836592}, {\"target\": 12.0, \"preds\": 7.777590799023709}, {\"target\": 15.5, \"preds\": 15.196404847927319}, {\"target\": 23.7, \"preds\": 30.419045794460267}, {\"target\": 24.0, \"preds\": 26.58639649000508}, {\"target\": 36.0, \"preds\": 32.02604487206956}, {\"target\": 19.0, \"preds\": 23.78785889868651}, {\"target\": 38.0, \"preds\": 34.003913482733424}, {\"target\": 29.0, \"preds\": 31.31117107887067}, {\"target\": 21.5, \"preds\": 24.065779503781137}, {\"target\": 27.9, \"preds\": 27.86094051079065}, {\"target\": 14.0, \"preds\": 12.868479724761308}, {\"target\": 36.1, \"preds\": 32.993826355023174}, {\"target\": 22.0, \"preds\": 25.098656311870904}, {\"target\": 18.0, \"preds\": 20.04111793991987}, {\"target\": 17.0, \"preds\": 15.59488140867235}, {\"target\": 18.0, \"preds\": 19.427221986865824}, {\"target\": 14.0, \"preds\": 9.687523397067565}, {\"target\": 26.0, \"preds\": 26.3623307329877}, {\"target\": 13.0, \"preds\": 10.280235452179085}, {\"target\": 33.0, \"preds\": 32.76685775939353}, {\"target\": 37.0, \"preds\": 34.214206801469764}, {\"target\": 32.0, \"preds\": 29.55353920782678}, {\"target\": 28.0, \"preds\": 26.924903799186623}, {\"target\": 19.2, \"preds\": 21.64231134030466}, {\"target\": 32.0, \"preds\": 35.08101044427853}, {\"target\": 27.4, \"preds\": 27.936596709333855}, {\"target\": 20.0, \"preds\": 24.103947404878667}, {\"target\": 26.0, \"preds\": 25.578223870993526}, {\"target\": 20.6, \"preds\": 23.2916160626706}, {\"target\": 37.3, \"preds\": 31.571798954548576}, {\"target\": 16.2, \"preds\": 22.15553817947557}, {\"target\": 15.0, \"preds\": 12.823271241392408}, {\"target\": 21.0, \"preds\": 24.950555479658455}, {\"target\": 21.0, \"preds\": 21.299975013725714}, {\"target\": 20.5, \"preds\": 23.872161461938077}, {\"target\": 21.0, \"preds\": 20.88933179713664}, {\"target\": 25.4, \"preds\": 27.987239992537134}, {\"target\": 34.1, \"preds\": 34.1468882413732}, {\"target\": 27.0, \"preds\": 28.45013227476649}, {\"target\": 36.0, \"preds\": 34.003913482733424}, {\"target\": 31.6, \"preds\": 29.771181835096215}, {\"target\": 38.1, \"preds\": 33.46184471082518}, {\"target\": 32.0, \"preds\": 28.42931925421408}, {\"target\": 40.8, \"preds\": 32.505921157453905}, {\"target\": 19.0, \"preds\": 21.09672227726074}, {\"target\": 20.0, \"preds\": 23.732089541910554}, {\"target\": 22.0, \"preds\": 20.94028380660164}, {\"target\": 17.5, \"preds\": 22.01738076814675}, {\"target\": 35.1, \"preds\": 35.661555843546}, {\"target\": 30.5, \"preds\": 30.504645413887104}, {\"target\": 33.7, \"preds\": 32.6322206392004}, {\"target\": 19.0, \"preds\": 17.286183049533214}, {\"target\": 14.0, \"preds\": 10.690878668768157}, {\"target\": 15.5, \"preds\": 18.61970799196871}, {\"target\": 15.0, \"preds\": 21.453510645772553}, {\"target\": 22.5, \"preds\": 22.74442121718969}, {\"target\": 29.0, \"preds\": 29.81287002732943}, {\"target\": 23.0, \"preds\": 25.140653230365828}, {\"target\": 18.0, \"preds\": 26.81527959433341}, {\"target\": 25.5, \"preds\": 28.82841326748254}, {\"target\": 24.0, \"preds\": 25.58013837969223}, {\"target\": 14.0, \"preds\": 9.404785444661979}, {\"target\": 16.5, \"preds\": 19.28616173692474}, {\"target\": 20.3, \"preds\": 26.060014665076572}, {\"target\": 26.0, \"preds\": 25.817359122467202}, {\"target\": 15.0, \"preds\": 14.729683548300581}, {\"target\": 33.8, \"preds\": 32.270306197115914}, {\"target\": 11.0, \"preds\": 7.474657278589149}, {\"target\": 28.0, \"preds\": 24.911770126037496}, {\"target\": 19.0, \"preds\": 19.875044774638866}, {\"target\": 30.0, \"preds\": 30.94894791052446}, {\"target\": 27.2, \"preds\": 24.436031584312268}, {\"target\": 16.5, \"preds\": 17.796507050091876}, {\"target\": 29.0, \"preds\": 28.097852527303907}, {\"target\": 20.0, \"preds\": 21.029403717164165}, {\"target\": 15.0, \"preds\": 15.68752161037056}, {\"target\": 17.5, \"preds\": 17.645194653005447}, {\"target\": 18.0, \"preds\": 17.232636927717678}, {\"target\": 24.0, \"preds\": 27.722474373200107}, {\"target\": 20.2, \"preds\": 23.931142383588003}, {\"target\": 13.0, \"preds\": 11.742653988711623}, {\"target\": 12.0, \"preds\": 10.317106297101343}, {\"target\": 20.0, \"preds\": 22.217421939737754}, {\"target\": 13.0, \"preds\": 15.39131994594566}, {\"target\": 26.0, \"preds\": 26.42995801934598}, {\"target\": 34.5, \"preds\": 31.437161834355443}, {\"target\": 18.0, \"preds\": 20.103619152705484}, {\"target\": 18.5, \"preds\": 20.581889655652837}, {\"target\": 13.0, \"preds\": 10.007440920657125}, {\"target\": 26.0, \"preds\": 23.6763201851346}, {\"target\": 18.0, \"preds\": 17.380429033668406}, {\"target\": 31.0, \"preds\": 30.812396281632623}, {\"target\": 24.0, \"preds\": 23.207004773157315}, {\"target\": 11.0, \"preds\": 9.125567783392071}, {\"target\": 19.4, \"preds\": 19.967684976337075}, {\"target\": 32.9, \"preds\": 29.905818955289355}, {\"target\": 31.5, \"preds\": 31.714773713188364}, {\"target\": 19.1, \"preds\": 23.94973216917999}, {\"target\": 24.0, \"preds\": 23.235846705894645}, {\"target\": 20.0, \"preds\": 21.031009499601147}, {\"target\": 28.0, \"preds\": 27.608032821035934}, {\"target\": 29.0, \"preds\": 31.251881430959017}, {\"target\": 14.0, \"preds\": 16.394366491384538}, {\"target\": 35.0, \"preds\": 29.880497313687712}, {\"target\": 29.5, \"preds\": 31.22655978935738}, {\"target\": 23.6, \"preds\": 27.15409562977667}, {\"target\": 15.5, \"preds\": 16.441798209713845}, {\"target\": 20.6, \"preds\": 22.357493859765277}, {\"target\": 34.2, \"preds\": 31.100569033872596}, {\"target\": 25.0, \"preds\": 28.567476665542905}, {\"target\": 36.4, \"preds\": 26.851162109342113}, {\"target\": 22.3, \"preds\": 26.45558838720934}, {\"target\": 19.0, \"preds\": 21.499027855403163}, {\"target\": 19.8, \"preds\": 25.782402786243644}, {\"target\": 31.0, \"preds\": 28.786107622725893}, {\"target\": 14.0, \"preds\": 11.180389648774408}, {\"target\": 14.0, \"preds\": 14.420018171856366}, {\"target\": 43.4, \"preds\": 30.991253555281105}, {\"target\": 26.0, \"preds\": 28.331861705204915}, {\"target\": 33.5, \"preds\": 31.218222150910734}, {\"target\": 19.0, \"preds\": 25.563154376537227}, {\"target\": 22.0, \"preds\": 22.88739597582947}, {\"target\": 27.2, \"preds\": 29.627898350194727}, {\"target\": 32.7, \"preds\": 27.120436349728386}, {\"target\": 29.0, \"preds\": 28.545366588815234}, {\"target\": 17.6, \"preds\": 24.18374134708099}, {\"target\": 23.0, \"preds\": 27.87792451394565}, {\"target\": 34.0, \"preds\": 33.1960907615746}, {\"target\": 17.6, \"preds\": 20.83448861914583}, {\"target\": 30.7, \"preds\": 26.236957430026344}, {\"target\": 21.0, \"preds\": 22.254601510921724}, {\"target\": 38.0, \"preds\": 34.879054763988826}, {\"target\": 16.0, \"preds\": 14.036611105567633}, {\"target\": 15.0, \"preds\": 19.608982099126564}, {\"target\": 20.0, \"preds\": 18.934190715723886}, {\"target\": 29.0, \"preds\": 30.47259191627581}, {\"target\": 32.0, \"preds\": 30.368711237518703}, {\"target\": 18.0, \"preds\": 15.584629261527006}, {\"target\": 32.0, \"preds\": 30.115803547763996}, {\"target\": 15.0, \"preds\": 13.634305527425209}, {\"target\": 16.0, \"preds\": 15.129086287830752}, {\"target\": 34.0, \"preds\": 32.18631236012607}, {\"target\": 10.0, \"preds\": 9.256684612449526}, {\"target\": 19.0, \"preds\": 21.806778723148682}, {\"target\": 28.4, \"preds\": 27.936596709333855}, {\"target\": 15.0, \"preds\": 15.398360528217026}, {\"target\": 32.3, \"preds\": 33.60833976060064}, {\"target\": 30.0, \"preds\": 30.60401747159497}, {\"target\": 26.4, \"preds\": 27.38971059011466}, {\"target\": 30.0, \"preds\": 31.45414583751044}, {\"target\": 19.0, \"preds\": 22.38411255754219}, {\"target\": 13.0, \"preds\": 11.407666970665758}, {\"target\": 32.2, \"preds\": 31.462483475957086}, {\"target\": 27.0, \"preds\": 25.175918292851094}, {\"target\": 28.0, \"preds\": 25.74652027123495}, {\"target\": 44.6, \"preds\": 34.256203719964695}, {\"target\": 18.0, \"preds\": 22.33859534791158}, {\"target\": 39.4, \"preds\": 31.17622523241581}, {\"target\": 25.1, \"preds\": 26.800518826138827}, {\"target\": 16.0, \"preds\": 16.460079269044115}, {\"target\": 43.1, \"preds\": 31.748432993236648}, {\"target\": 25.0, \"preds\": 26.197863350143678}, {\"target\": 16.9, \"preds\": 16.559760053013697}, {\"target\": 13.0, \"preds\": 4.913031703783837}, {\"target\": 20.2, \"preds\": 26.91014303099203}, {\"target\": 14.0, \"preds\": 12.518423212259147}, {\"target\": 37.0, \"preds\": 30.324799810325068}, {\"target\": 13.0, \"preds\": 13.513132119251384}, {\"target\": 21.5, \"preds\": 26.808856464585467}, {\"target\": 27.0, \"preds\": 28.68865007371673}, {\"target\": 14.0, \"preds\": 11.362458487296863}, {\"target\": 15.0, \"preds\": 13.396776058388518}, {\"target\": 17.0, \"preds\": 17.104422937272474}, {\"target\": 9.0, \"preds\": 6.860143873011669}, {\"target\": 23.0, \"preds\": 25.263741147238356}, {\"target\": 26.0, \"preds\": 28.698593494600352}, {\"target\": 34.3, \"preds\": 31.980836388700666}, {\"target\": 23.2, \"preds\": 26.632222425897403}, {\"target\": 17.5, \"preds\": 18.192080772224642}, {\"target\": 12.0, \"preds\": 7.7843226550333675}, {\"target\": 30.0, \"preds\": 25.552902229391883}, {\"target\": 30.5, \"preds\": 29.568917428544793}, {\"target\": 25.4, \"preds\": 22.147200541028923}, {\"target\": 44.3, \"preds\": 32.67421755769533}, {\"target\": 23.0, \"preds\": 22.806613703713587}, {\"target\": 14.0, \"preds\": 11.941089377865637}, {\"target\": 29.8, \"preds\": 34.28986300001298}, {\"target\": 26.5, \"preds\": 26.244986342211277}, {\"target\": 20.2, \"preds\": 25.151214103772887}, {\"target\": 38.0, \"preds\": 28.01256163413879}, {\"target\": 17.0, \"preds\": 15.497115133401465}, {\"target\": 20.5, \"preds\": 22.02090105928243}, {\"target\": 32.4, \"preds\": 31.68976079784843}, {\"target\": 18.0, \"preds\": 20.77680475367118}, {\"target\": 20.5, \"preds\": 21.255075256618525}, {\"target\": 25.8, \"preds\": 29.872159675241065}, {\"target\": 13.0, \"preds\": 16.214520887822502}, {\"target\": 24.0, \"preds\": 24.523236986176094}, {\"target\": 16.0, \"preds\": 19.046717759189356}, {\"target\": 13.0, \"preds\": 18.234077690719573}, {\"target\": 21.0, \"preds\": 25.32914519863622}, {\"target\": 19.0, \"preds\": 17.420820169726348}, {\"target\": 25.0, \"preds\": 25.741394197662274}, {\"target\": 27.5, \"preds\": 27.87761578768393}, {\"target\": 18.0, \"preds\": 19.452543628467467}, {\"target\": 34.5, \"preds\": 31.891716478138136}, {\"target\": 11.0, \"preds\": 9.216293476391584}, {\"target\": 32.1, \"preds\": 32.43860259735734}, {\"target\": 15.5, \"preds\": 16.273501809472428}, {\"target\": 18.6, \"preds\": 20.74184841744762}, {\"target\": 18.2, \"preds\": 20.12764373813185}, {\"target\": 15.0, \"preds\": 17.60288900824881}, {\"target\": 27.2, \"preds\": 30.747300956496467}, {\"target\": 14.0, \"preds\": 11.909344606516054}, {\"target\": 13.0, \"preds\": 11.542304090858899}, {\"target\": 18.0, \"preds\": 17.591031078666475}, {\"target\": 15.0, \"preds\": 19.45575519334144}, {\"target\": 14.0, \"preds\": 8.926823667976336}, {\"target\": 15.0, \"preds\": 12.478032076201206}, {\"target\": 23.9, \"preds\": 22.887704702091185}, {\"target\": 24.0, \"preds\": 22.747324055801947}, {\"target\": 16.0, \"preds\": 11.288408071190638}, {\"target\": 14.0, \"preds\": 11.550641729305536}, {\"target\": 26.6, \"preds\": 22.4334587845702}, {\"target\": 46.6, \"preds\": 32.505921157453905}, {\"target\": 31.5, \"preds\": 30.545036549945046}, {\"target\": 29.5, \"preds\": 30.738654591788112}, {\"target\": 27.0, \"preds\": 30.537007637760126}, {\"target\": 25.5, \"preds\": 25.76541878308865}, {\"target\": 20.0, \"preds\": 22.30685057656199}, {\"target\": 16.5, \"preds\": 14.02666768468401}, {\"target\": 35.7, \"preds\": 33.01914799662481}, {\"target\": 24.2, \"preds\": 27.785284312247427}, {\"target\": 20.2, \"preds\": 21.078441217930468}, {\"target\": 26.0, \"preds\": 30.907259718291257}, {\"target\": 22.4, \"preds\": 24.520334147563837}, {\"target\": 31.8, \"preds\": 32.31230311561084}, {\"target\": 30.9, \"preds\": 30.099128270870708}, {\"target\": 18.5, \"preds\": 18.974581851781828}, {\"target\": 16.0, \"preds\": 16.478669054636107}, {\"target\": 13.0, \"preds\": 7.5653829715886545}, {\"target\": 30.0, \"preds\": 29.804532388882784}, {\"target\": 14.5, \"preds\": 15.1374239262774}, {\"target\": 41.5, \"preds\": 32.27703805312557}, {\"target\": 20.8, \"preds\": 24.444369222758915}, {\"target\": 13.0, \"preds\": 9.783683889901464}, {\"target\": 31.0, \"preds\": 27.579190888298605}, {\"target\": 15.0, \"preds\": 13.854542267045186}, {\"target\": 23.0, \"preds\": 24.570051251981972}, {\"target\": 22.0, \"preds\": 24.191461533004208}, {\"target\": 28.0, \"preds\": 29.005047306170603}, {\"target\": 16.0, \"preds\": 16.36391877621022}, {\"target\": 17.7, \"preds\": 21.91992321913758}, {\"target\": 13.0, \"preds\": 11.062736531736274}, {\"target\": 26.6, \"preds\": 29.771181835096215}, {\"target\": 30.0, \"preds\": 25.61348893347879}, {\"target\": 18.1, \"preds\": 23.535568661455237}, {\"target\": 22.0, \"preds\": 25.361507422509234}, {\"target\": 14.0, \"preds\": 17.940778864906925}, {\"target\": 24.3, \"preds\": 26.494373740830298}, {\"target\": 14.0, \"preds\": 13.903579767811486}, {\"target\": 23.9, \"preds\": 28.921053469180748}, {\"target\": 13.0, \"preds\": 21.37946022966633}, {\"target\": 30.0, \"preds\": 24.83160530644504}, {\"target\": 36.0, \"preds\": 32.35460876036749}, {\"target\": 16.0, \"preds\": 17.463125814482993}, {\"target\": 28.8, \"preds\": 28.44148591005812}, {\"target\": 36.0, \"preds\": 33.465365001960876}, {\"target\": 31.3, \"preds\": 29.597759361282122}, {\"target\": 21.5, \"preds\": 26.00103374342664}, {\"target\": 35.0, \"preds\": 28.656287849843714}, {\"target\": 28.0, \"preds\": 25.223041284918693}, {\"target\": 18.0, \"preds\": 22.624853591452847}, {\"target\": 15.5, \"preds\": 16.840583496720598}, {\"target\": 32.0, \"preds\": 32.859497961091755}, {\"target\": 17.5, \"preds\": 15.1374239262774}, {\"target\": 20.0, \"preds\": 23.096083512128835}, {\"target\": 25.0, \"preds\": 26.002330799601914}, {\"target\": 18.0, \"preds\": 18.383475579107284}, {\"target\": 39.0, \"preds\": 34.88739240243545}, {\"target\": 26.0, \"preds\": 29.06402822782053}, {\"target\": 19.2, \"preds\": 21.31405617826846}, {\"target\": 24.0, \"preds\": 22.35687640724185}, {\"target\": 28.0, \"preds\": 28.682226943968786}, {\"target\": 17.0, \"preds\": 16.411350494539533}, {\"target\": 21.6, \"preds\": 26.295629625414563}, {\"target\": 22.0, \"preds\": 21.74810652776047}, {\"target\": 31.9, \"preds\": 32.95182943652824}, {\"target\": 39.1, \"preds\": 35.69521512359428}, {\"target\": 19.4, \"preds\": 23.501909381406946}, {\"target\": 33.5, \"preds\": 28.704028294434742}, {\"target\": 24.0, \"preds\": 25.157637233520823}, {\"target\": 26.0, \"preds\": 25.413447761887788}, {\"target\": 31.0, \"preds\": 28.449514822243046}, {\"target\": 28.1, \"preds\": 25.765727509350363}, {\"target\": 18.0, \"preds\": 21.2884258104051}, {\"target\": 27.0, \"preds\": 29.897481316842722}, {\"target\": 13.0, \"preds\": 14.267099992332959}, {\"target\": 40.9, \"preds\": 34.35718156010955}, {\"target\": 13.0, \"preds\": 17.459914249609028}, {\"target\": 15.0, \"preds\": 18.23216318202087}, {\"target\": 31.0, \"preds\": 29.998459156987572}, {\"target\": 25.0, \"preds\": 20.727767252904876}, {\"target\": 16.0, \"preds\": 15.305720326518824}, {\"target\": 19.0, \"preds\": 24.629032173631906}, {\"target\": 12.0, \"preds\": 10.827121571398283}, {\"target\": 21.1, \"preds\": 28.180549308118493}, {\"target\": 37.7, \"preds\": 33.7093176007455}, {\"target\": 26.0, \"preds\": 27.986622540013713}], \"data-4eb1adfe4e769cf142702b957a28d4d9\": [{\"target\": 16.0, \"preds\": 16.0}, {\"target\": 27.0, \"preds\": 27.0}, {\"target\": 37.0, \"preds\": 37.0}, {\"target\": 36.1, \"preds\": 36.1}, {\"target\": 23.0, \"preds\": 23.0}, {\"target\": 14.0, \"preds\": 14.0}, {\"target\": 32.8, \"preds\": 32.8}, {\"target\": 29.9, \"preds\": 29.9}, {\"target\": 20.0, \"preds\": 20.0}, {\"target\": 12.0, \"preds\": 12.0}, {\"target\": 15.5, \"preds\": 15.5}, {\"target\": 23.7, \"preds\": 23.7}, {\"target\": 24.0, \"preds\": 24.0}, {\"target\": 36.0, \"preds\": 36.0}, {\"target\": 19.0, \"preds\": 19.0}, {\"target\": 38.0, \"preds\": 38.0}, {\"target\": 29.0, \"preds\": 29.0}, {\"target\": 21.5, \"preds\": 21.5}, {\"target\": 27.9, \"preds\": 27.9}, {\"target\": 14.0, \"preds\": 14.0}, {\"target\": 36.1, \"preds\": 36.1}, {\"target\": 22.0, \"preds\": 22.0}, {\"target\": 18.0, \"preds\": 18.0}, {\"target\": 17.0, \"preds\": 17.0}, {\"target\": 18.0, \"preds\": 18.0}, {\"target\": 14.0, \"preds\": 14.0}, {\"target\": 26.0, \"preds\": 26.0}, {\"target\": 13.0, \"preds\": 13.0}, {\"target\": 33.0, \"preds\": 33.0}, {\"target\": 37.0, \"preds\": 37.0}, {\"target\": 32.0, \"preds\": 32.0}, {\"target\": 28.0, \"preds\": 28.0}, {\"target\": 19.2, \"preds\": 19.2}, {\"target\": 32.0, \"preds\": 32.0}, {\"target\": 27.4, \"preds\": 27.4}, {\"target\": 20.0, \"preds\": 20.0}, {\"target\": 26.0, \"preds\": 26.0}, {\"target\": 20.6, \"preds\": 20.6}, {\"target\": 37.3, \"preds\": 37.3}, {\"target\": 16.2, \"preds\": 16.2}, {\"target\": 15.0, \"preds\": 15.0}, {\"target\": 21.0, \"preds\": 21.0}, {\"target\": 21.0, \"preds\": 21.0}, {\"target\": 20.5, \"preds\": 20.5}, {\"target\": 21.0, \"preds\": 21.0}, {\"target\": 25.4, \"preds\": 25.4}, {\"target\": 34.1, \"preds\": 34.1}, {\"target\": 27.0, \"preds\": 27.0}, {\"target\": 36.0, \"preds\": 36.0}, {\"target\": 31.6, \"preds\": 31.6}, {\"target\": 38.1, \"preds\": 38.1}, {\"target\": 32.0, \"preds\": 32.0}, {\"target\": 40.8, \"preds\": 40.8}, {\"target\": 19.0, \"preds\": 19.0}, {\"target\": 20.0, \"preds\": 20.0}, {\"target\": 22.0, \"preds\": 22.0}, {\"target\": 17.5, \"preds\": 17.5}, {\"target\": 35.1, \"preds\": 35.1}, {\"target\": 30.5, \"preds\": 30.5}, {\"target\": 33.7, \"preds\": 33.7}, {\"target\": 19.0, \"preds\": 19.0}, {\"target\": 14.0, \"preds\": 14.0}, {\"target\": 15.5, \"preds\": 15.5}, {\"target\": 15.0, \"preds\": 15.0}, {\"target\": 22.5, \"preds\": 22.5}, {\"target\": 29.0, \"preds\": 29.0}, {\"target\": 23.0, \"preds\": 23.0}, {\"target\": 18.0, \"preds\": 18.0}, {\"target\": 25.5, \"preds\": 25.5}, {\"target\": 24.0, \"preds\": 24.0}, {\"target\": 14.0, \"preds\": 14.0}, {\"target\": 16.5, \"preds\": 16.5}, {\"target\": 20.3, \"preds\": 20.3}, {\"target\": 26.0, \"preds\": 26.0}, {\"target\": 15.0, \"preds\": 15.0}, {\"target\": 33.8, \"preds\": 33.8}, {\"target\": 11.0, \"preds\": 11.0}, {\"target\": 28.0, \"preds\": 28.0}, {\"target\": 19.0, \"preds\": 19.0}, {\"target\": 30.0, \"preds\": 30.0}, {\"target\": 27.2, \"preds\": 27.2}, {\"target\": 16.5, \"preds\": 16.5}, {\"target\": 29.0, \"preds\": 29.0}, {\"target\": 20.0, \"preds\": 20.0}, {\"target\": 15.0, \"preds\": 15.0}, {\"target\": 17.5, \"preds\": 17.5}, {\"target\": 18.0, \"preds\": 18.0}, {\"target\": 24.0, \"preds\": 24.0}, {\"target\": 20.2, \"preds\": 20.2}, {\"target\": 13.0, \"preds\": 13.0}, {\"target\": 12.0, \"preds\": 12.0}, {\"target\": 20.0, \"preds\": 20.0}, {\"target\": 13.0, \"preds\": 13.0}, {\"target\": 26.0, \"preds\": 26.0}, {\"target\": 34.5, \"preds\": 34.5}, {\"target\": 18.0, \"preds\": 18.0}, {\"target\": 18.5, \"preds\": 18.5}, {\"target\": 13.0, \"preds\": 13.0}, {\"target\": 26.0, \"preds\": 26.0}, {\"target\": 18.0, \"preds\": 18.0}, {\"target\": 31.0, \"preds\": 31.0}, {\"target\": 24.0, \"preds\": 24.0}, {\"target\": 11.0, \"preds\": 11.0}, {\"target\": 19.4, \"preds\": 19.4}, {\"target\": 32.9, \"preds\": 32.9}, {\"target\": 31.5, \"preds\": 31.5}, {\"target\": 19.1, \"preds\": 19.1}, {\"target\": 24.0, \"preds\": 24.0}, {\"target\": 20.0, \"preds\": 20.0}, {\"target\": 28.0, \"preds\": 28.0}, {\"target\": 29.0, \"preds\": 29.0}, {\"target\": 14.0, \"preds\": 14.0}, {\"target\": 35.0, \"preds\": 35.0}, {\"target\": 29.5, \"preds\": 29.5}, {\"target\": 23.6, \"preds\": 23.6}, {\"target\": 15.5, \"preds\": 15.5}, {\"target\": 20.6, \"preds\": 20.6}, {\"target\": 34.2, \"preds\": 34.2}, {\"target\": 25.0, \"preds\": 25.0}, {\"target\": 36.4, \"preds\": 36.4}, {\"target\": 22.3, \"preds\": 22.3}, {\"target\": 19.0, \"preds\": 19.0}, {\"target\": 19.8, \"preds\": 19.8}, {\"target\": 31.0, \"preds\": 31.0}, {\"target\": 14.0, \"preds\": 14.0}, {\"target\": 14.0, \"preds\": 14.0}, {\"target\": 43.4, \"preds\": 43.4}, {\"target\": 26.0, \"preds\": 26.0}, {\"target\": 33.5, \"preds\": 33.5}, {\"target\": 19.0, \"preds\": 19.0}, {\"target\": 22.0, \"preds\": 22.0}, {\"target\": 27.2, \"preds\": 27.2}, {\"target\": 32.7, \"preds\": 32.7}, {\"target\": 29.0, \"preds\": 29.0}, {\"target\": 17.6, \"preds\": 17.6}, {\"target\": 23.0, \"preds\": 23.0}, {\"target\": 34.0, \"preds\": 34.0}, {\"target\": 17.6, \"preds\": 17.6}, {\"target\": 30.7, \"preds\": 30.7}, {\"target\": 21.0, \"preds\": 21.0}, {\"target\": 38.0, \"preds\": 38.0}, {\"target\": 16.0, \"preds\": 16.0}, {\"target\": 15.0, \"preds\": 15.0}, {\"target\": 20.0, \"preds\": 20.0}, {\"target\": 29.0, \"preds\": 29.0}, {\"target\": 32.0, \"preds\": 32.0}, {\"target\": 18.0, \"preds\": 18.0}, {\"target\": 32.0, \"preds\": 32.0}, {\"target\": 15.0, \"preds\": 15.0}, {\"target\": 16.0, \"preds\": 16.0}, {\"target\": 34.0, \"preds\": 34.0}, {\"target\": 10.0, \"preds\": 10.0}, {\"target\": 19.0, \"preds\": 19.0}, {\"target\": 28.4, \"preds\": 28.4}, {\"target\": 15.0, \"preds\": 15.0}, {\"target\": 32.3, \"preds\": 32.3}, {\"target\": 30.0, \"preds\": 30.0}, {\"target\": 26.4, \"preds\": 26.4}, {\"target\": 30.0, \"preds\": 30.0}, {\"target\": 19.0, \"preds\": 19.0}, {\"target\": 13.0, \"preds\": 13.0}, {\"target\": 32.2, \"preds\": 32.2}, {\"target\": 27.0, \"preds\": 27.0}, {\"target\": 28.0, \"preds\": 28.0}, {\"target\": 44.6, \"preds\": 44.6}, {\"target\": 18.0, \"preds\": 18.0}, {\"target\": 39.4, \"preds\": 39.4}, {\"target\": 25.1, \"preds\": 25.1}, {\"target\": 16.0, \"preds\": 16.0}, {\"target\": 43.1, \"preds\": 43.1}, {\"target\": 25.0, \"preds\": 25.0}, {\"target\": 16.9, \"preds\": 16.9}, {\"target\": 13.0, \"preds\": 13.0}, {\"target\": 20.2, \"preds\": 20.2}, {\"target\": 14.0, \"preds\": 14.0}, {\"target\": 37.0, \"preds\": 37.0}, {\"target\": 13.0, \"preds\": 13.0}, {\"target\": 21.5, \"preds\": 21.5}, {\"target\": 27.0, \"preds\": 27.0}, {\"target\": 14.0, \"preds\": 14.0}, {\"target\": 15.0, \"preds\": 15.0}, {\"target\": 17.0, \"preds\": 17.0}, {\"target\": 9.0, \"preds\": 9.0}, {\"target\": 23.0, \"preds\": 23.0}, {\"target\": 26.0, \"preds\": 26.0}, {\"target\": 34.3, \"preds\": 34.3}, {\"target\": 23.2, \"preds\": 23.2}, {\"target\": 17.5, \"preds\": 17.5}, {\"target\": 12.0, \"preds\": 12.0}, {\"target\": 30.0, \"preds\": 30.0}, {\"target\": 30.5, \"preds\": 30.5}, {\"target\": 25.4, \"preds\": 25.4}, {\"target\": 44.3, \"preds\": 44.3}, {\"target\": 23.0, \"preds\": 23.0}, {\"target\": 14.0, \"preds\": 14.0}, {\"target\": 29.8, \"preds\": 29.8}, {\"target\": 26.5, \"preds\": 26.5}, {\"target\": 20.2, \"preds\": 20.2}, {\"target\": 38.0, \"preds\": 38.0}, {\"target\": 17.0, \"preds\": 17.0}, {\"target\": 20.5, \"preds\": 20.5}, {\"target\": 32.4, \"preds\": 32.4}, {\"target\": 18.0, \"preds\": 18.0}, {\"target\": 20.5, \"preds\": 20.5}, {\"target\": 25.8, \"preds\": 25.8}, {\"target\": 13.0, \"preds\": 13.0}, {\"target\": 24.0, \"preds\": 24.0}, {\"target\": 16.0, \"preds\": 16.0}, {\"target\": 13.0, \"preds\": 13.0}, {\"target\": 21.0, \"preds\": 21.0}, {\"target\": 19.0, \"preds\": 19.0}, {\"target\": 25.0, \"preds\": 25.0}, {\"target\": 27.5, \"preds\": 27.5}, {\"target\": 18.0, \"preds\": 18.0}, {\"target\": 34.5, \"preds\": 34.5}, {\"target\": 11.0, \"preds\": 11.0}, {\"target\": 32.1, \"preds\": 32.1}, {\"target\": 15.5, \"preds\": 15.5}, {\"target\": 18.6, \"preds\": 18.6}, {\"target\": 18.2, \"preds\": 18.2}, {\"target\": 15.0, \"preds\": 15.0}, {\"target\": 27.2, \"preds\": 27.2}, {\"target\": 14.0, \"preds\": 14.0}, {\"target\": 13.0, \"preds\": 13.0}, {\"target\": 18.0, \"preds\": 18.0}, {\"target\": 15.0, \"preds\": 15.0}, {\"target\": 14.0, \"preds\": 14.0}, {\"target\": 15.0, \"preds\": 15.0}, {\"target\": 23.9, \"preds\": 23.9}, {\"target\": 24.0, \"preds\": 24.0}, {\"target\": 16.0, \"preds\": 16.0}, {\"target\": 14.0, \"preds\": 14.0}, {\"target\": 26.6, \"preds\": 26.6}, {\"target\": 46.6, \"preds\": 46.6}, {\"target\": 31.5, \"preds\": 31.5}, {\"target\": 29.5, \"preds\": 29.5}, {\"target\": 27.0, \"preds\": 27.0}, {\"target\": 25.5, \"preds\": 25.5}, {\"target\": 20.0, \"preds\": 20.0}, {\"target\": 16.5, \"preds\": 16.5}, {\"target\": 35.7, \"preds\": 35.7}, {\"target\": 24.2, \"preds\": 24.2}, {\"target\": 20.2, \"preds\": 20.2}, {\"target\": 26.0, \"preds\": 26.0}, {\"target\": 22.4, \"preds\": 22.4}, {\"target\": 31.8, \"preds\": 31.8}, {\"target\": 30.9, \"preds\": 30.9}, {\"target\": 18.5, \"preds\": 18.5}, {\"target\": 16.0, \"preds\": 16.0}, {\"target\": 13.0, \"preds\": 13.0}, {\"target\": 30.0, \"preds\": 30.0}, {\"target\": 14.5, \"preds\": 14.5}, {\"target\": 41.5, \"preds\": 41.5}, {\"target\": 20.8, \"preds\": 20.8}, {\"target\": 13.0, \"preds\": 13.0}, {\"target\": 31.0, \"preds\": 31.0}, {\"target\": 15.0, \"preds\": 15.0}, {\"target\": 23.0, \"preds\": 23.0}, {\"target\": 22.0, \"preds\": 22.0}, {\"target\": 28.0, \"preds\": 28.0}, {\"target\": 16.0, \"preds\": 16.0}, {\"target\": 17.7, \"preds\": 17.7}, {\"target\": 13.0, \"preds\": 13.0}, {\"target\": 26.6, \"preds\": 26.6}, {\"target\": 30.0, \"preds\": 30.0}, {\"target\": 18.1, \"preds\": 18.1}, {\"target\": 22.0, \"preds\": 22.0}, {\"target\": 14.0, \"preds\": 14.0}, {\"target\": 24.3, \"preds\": 24.3}, {\"target\": 14.0, \"preds\": 14.0}, {\"target\": 23.9, \"preds\": 23.9}, {\"target\": 13.0, \"preds\": 13.0}, {\"target\": 30.0, \"preds\": 30.0}, {\"target\": 36.0, \"preds\": 36.0}, {\"target\": 16.0, \"preds\": 16.0}, {\"target\": 28.8, \"preds\": 28.8}, {\"target\": 36.0, \"preds\": 36.0}, {\"target\": 31.3, \"preds\": 31.3}, {\"target\": 21.5, \"preds\": 21.5}, {\"target\": 35.0, \"preds\": 35.0}, {\"target\": 28.0, \"preds\": 28.0}, {\"target\": 18.0, \"preds\": 18.0}, {\"target\": 15.5, \"preds\": 15.5}, {\"target\": 32.0, \"preds\": 32.0}, {\"target\": 17.5, \"preds\": 17.5}, {\"target\": 20.0, \"preds\": 20.0}, {\"target\": 25.0, \"preds\": 25.0}, {\"target\": 18.0, \"preds\": 18.0}, {\"target\": 39.0, \"preds\": 39.0}, {\"target\": 26.0, \"preds\": 26.0}, {\"target\": 19.2, \"preds\": 19.2}, {\"target\": 24.0, \"preds\": 24.0}, {\"target\": 28.0, \"preds\": 28.0}, {\"target\": 17.0, \"preds\": 17.0}, {\"target\": 21.6, \"preds\": 21.6}, {\"target\": 22.0, \"preds\": 22.0}, {\"target\": 31.9, \"preds\": 31.9}, {\"target\": 39.1, \"preds\": 39.1}, {\"target\": 19.4, \"preds\": 19.4}, {\"target\": 33.5, \"preds\": 33.5}, {\"target\": 24.0, \"preds\": 24.0}, {\"target\": 26.0, \"preds\": 26.0}, {\"target\": 31.0, \"preds\": 31.0}, {\"target\": 28.1, \"preds\": 28.1}, {\"target\": 18.0, \"preds\": 18.0}, {\"target\": 27.0, \"preds\": 27.0}, {\"target\": 13.0, \"preds\": 13.0}, {\"target\": 40.9, \"preds\": 40.9}, {\"target\": 13.0, \"preds\": 13.0}, {\"target\": 15.0, \"preds\": 15.0}, {\"target\": 31.0, \"preds\": 31.0}, {\"target\": 25.0, \"preds\": 25.0}, {\"target\": 16.0, \"preds\": 16.0}, {\"target\": 19.0, \"preds\": 19.0}, {\"target\": 12.0, \"preds\": 12.0}, {\"target\": 21.1, \"preds\": 21.1}, {\"target\": 37.7, \"preds\": 37.7}, {\"target\": 26.0, \"preds\": 26.0}]}}, {\"mode\": \"vega-lite\"});\n",
              "</script>"
            ],
            "text/plain": [
              "alt.LayerChart(...)"
            ]
          },
          "metadata": {},
          "execution_count": 62
        }
      ]
    },
    {
      "cell_type": "markdown",
      "source": [
        "**[5.6]** Display the predictions versus the target line charts on the testing set"
      ],
      "metadata": {
        "id": "fZaswZ1DNSO2"
      }
    },
    {
      "cell_type": "code",
      "source": [
        "# Placeholder for student's code"
      ],
      "metadata": {
        "id": "8_fyRswwNSX0"
      },
      "execution_count": null,
      "outputs": []
    },
    {
      "cell_type": "code",
      "source": [
        "# Solution\n",
        "perfect_test = alt.Chart(pd.DataFrame({'target': y_test, 'preds': y_test})).mark_line(color='green').encode(\n",
        "    x='target',\n",
        "    y='preds'\n",
        ")\n",
        "\n",
        "pred_chart_test = alt.Chart(pd.DataFrame({'target': y_test, 'preds': y_test_preds_2})).mark_line().encode(\n",
        "    x='target',\n",
        "    y='preds'\n",
        "  )\n",
        "\n",
        "pred_chart_test + perfect_test"
      ],
      "metadata": {
        "colab": {
          "base_uri": "https://localhost:8080/",
          "height": 368
        },
        "id": "ZHAQa9ZWNSkc",
        "outputId": "96b082e2-7809-453a-ab3a-123ca163e3a1"
      },
      "execution_count": null,
      "outputs": [
        {
          "output_type": "execute_result",
          "data": {
            "text/html": [
              "\n",
              "<div id=\"altair-viz-bc5c7b8b77e84304a1d63391981a3b87\"></div>\n",
              "<script type=\"text/javascript\">\n",
              "  var VEGA_DEBUG = (typeof VEGA_DEBUG == \"undefined\") ? {} : VEGA_DEBUG;\n",
              "  (function(spec, embedOpt){\n",
              "    let outputDiv = document.currentScript.previousElementSibling;\n",
              "    if (outputDiv.id !== \"altair-viz-bc5c7b8b77e84304a1d63391981a3b87\") {\n",
              "      outputDiv = document.getElementById(\"altair-viz-bc5c7b8b77e84304a1d63391981a3b87\");\n",
              "    }\n",
              "    const paths = {\n",
              "      \"vega\": \"https://cdn.jsdelivr.net/npm//vega@5?noext\",\n",
              "      \"vega-lib\": \"https://cdn.jsdelivr.net/npm//vega-lib?noext\",\n",
              "      \"vega-lite\": \"https://cdn.jsdelivr.net/npm//vega-lite@4.17.0?noext\",\n",
              "      \"vega-embed\": \"https://cdn.jsdelivr.net/npm//vega-embed@6?noext\",\n",
              "    };\n",
              "\n",
              "    function maybeLoadScript(lib, version) {\n",
              "      var key = `${lib.replace(\"-\", \"\")}_version`;\n",
              "      return (VEGA_DEBUG[key] == version) ?\n",
              "        Promise.resolve(paths[lib]) :\n",
              "        new Promise(function(resolve, reject) {\n",
              "          var s = document.createElement('script');\n",
              "          document.getElementsByTagName(\"head\")[0].appendChild(s);\n",
              "          s.async = true;\n",
              "          s.onload = () => {\n",
              "            VEGA_DEBUG[key] = version;\n",
              "            return resolve(paths[lib]);\n",
              "          };\n",
              "          s.onerror = () => reject(`Error loading script: ${paths[lib]}`);\n",
              "          s.src = paths[lib];\n",
              "        });\n",
              "    }\n",
              "\n",
              "    function showError(err) {\n",
              "      outputDiv.innerHTML = `<div class=\"error\" style=\"color:red;\">${err}</div>`;\n",
              "      throw err;\n",
              "    }\n",
              "\n",
              "    function displayChart(vegaEmbed) {\n",
              "      vegaEmbed(outputDiv, spec, embedOpt)\n",
              "        .catch(err => showError(`Javascript Error: ${err.message}<br>This usually means there's a typo in your chart specification. See the javascript console for the full traceback.`));\n",
              "    }\n",
              "\n",
              "    if(typeof define === \"function\" && define.amd) {\n",
              "      requirejs.config({paths});\n",
              "      require([\"vega-embed\"], displayChart, err => showError(`Error loading script: ${err.message}`));\n",
              "    } else {\n",
              "      maybeLoadScript(\"vega\", \"5\")\n",
              "        .then(() => maybeLoadScript(\"vega-lite\", \"4.17.0\"))\n",
              "        .then(() => maybeLoadScript(\"vega-embed\", \"6\"))\n",
              "        .catch(showError)\n",
              "        .then(() => displayChart(vegaEmbed));\n",
              "    }\n",
              "  })({\"config\": {\"view\": {\"continuousWidth\": 400, \"continuousHeight\": 300}}, \"layer\": [{\"data\": {\"name\": \"data-f9c59376d3ff6e2fe629a3b5cd0f0b71\"}, \"mark\": \"line\", \"encoding\": {\"x\": {\"field\": \"target\", \"type\": \"quantitative\"}, \"y\": {\"field\": \"preds\", \"type\": \"quantitative\"}}}, {\"data\": {\"name\": \"data-01cbfc20fcc4c39e7c1ec79cb2f345ff\"}, \"mark\": {\"type\": \"line\", \"color\": \"green\"}, \"encoding\": {\"x\": {\"field\": \"target\", \"type\": \"quantitative\"}, \"y\": {\"field\": \"preds\", \"type\": \"quantitative\"}}}], \"$schema\": \"https://vega.github.io/schema/vega-lite/v4.17.0.json\", \"datasets\": {\"data-f9c59376d3ff6e2fe629a3b5cd0f0b71\": [{\"target\": 33.0, \"preds\": 31.42851546964709}, {\"target\": 28.0, \"preds\": 30.637985477904977}, {\"target\": 19.0, \"preds\": 21.78306286398402}, {\"target\": 13.0, \"preds\": 16.988684328933047}, {\"target\": 14.0, \"preds\": 12.59086784592839}, {\"target\": 27.0, \"preds\": 26.17735905585299}, {\"target\": 24.0, \"preds\": 29.022340035587327}, {\"target\": 13.0, \"preds\": 9.238403553119255}, {\"target\": 17.0, \"preds\": 16.9803466904864}, {\"target\": 21.0, \"preds\": 22.559140813793263}, {\"target\": 15.0, \"preds\": 12.797640873529051}, {\"target\": 38.0, \"preds\": 35.08101044427853}, {\"target\": 26.0, \"preds\": 26.353993094541053}, {\"target\": 15.0, \"preds\": 14.113873086547834}, {\"target\": 25.0, \"preds\": 24.80084886500901}, {\"target\": 12.0, \"preds\": 6.158425065570363}, {\"target\": 31.0, \"preds\": 30.974578278387824}, {\"target\": 17.0, \"preds\": 23.973139302082934}, {\"target\": 16.0, \"preds\": 15.903249728941297}, {\"target\": 31.0, \"preds\": 35.04735116423024}, {\"target\": 22.0, \"preds\": 23.410566235884005}, {\"target\": 22.0, \"preds\": 19.643938435350115}, {\"target\": 22.0, \"preds\": 29.224295715877027}, {\"target\": 33.5, \"preds\": 30.34308086965534}, {\"target\": 18.0, \"preds\": 15.126863052870341}, {\"target\": 44.0, \"preds\": 33.97025420268514}, {\"target\": 26.0, \"preds\": 25.86608789697179}, {\"target\": 24.5, \"preds\": 25.866396623233506}, {\"target\": 18.1, \"preds\": 22.15553817947557}, {\"target\": 12.0, \"preds\": 8.087256175467928}, {\"target\": 27.0, \"preds\": 29.52722923631159}, {\"target\": 36.0, \"preds\": 34.980032604133676}, {\"target\": 23.0, \"preds\": 19.65641381745587}, {\"target\": 24.0, \"preds\": 24.979088686134062}, {\"target\": 37.2, \"preds\": 33.118520054332684}, {\"target\": 16.0, \"preds\": 12.314861749532458}, {\"target\": 21.0, \"preds\": 24.472593702972816}, {\"target\": 19.2, \"preds\": 22.054560339330713}, {\"target\": 16.0, \"preds\": 12.43282359283231}, {\"target\": 29.0, \"preds\": 26.975238356128187}, {\"target\": 26.8, \"preds\": 27.73464102904415}, {\"target\": 27.0, \"preds\": 27.16854767170954}, {\"target\": 18.0, \"preds\": 20.569722999808796}, {\"target\": 10.0, \"preds\": 7.647771026141527}, {\"target\": 23.0, \"preds\": 23.44422551593229}, {\"target\": 36.0, \"preds\": 33.76829852239543}, {\"target\": 26.0, \"preds\": 26.793478243867455}, {\"target\": 25.0, \"preds\": 24.73192452247546}, {\"target\": 25.0, \"preds\": 22.727128487772973}, {\"target\": 25.0, \"preds\": 27.74779601480175}, {\"target\": 22.0, \"preds\": 23.30446232216648}, {\"target\": 34.1, \"preds\": 32.615236636045395}, {\"target\": 32.4, \"preds\": 31.294187075715662}, {\"target\": 13.0, \"preds\": 10.545989401429676}, {\"target\": 23.5, \"preds\": 29.165314794227093}, {\"target\": 14.0, \"preds\": 9.463766366311898}, {\"target\": 18.5, \"preds\": 19.387139577069597}, {\"target\": 29.8, \"preds\": 28.46007569565011}, {\"target\": 28.0, \"preds\": 24.273849587557073}, {\"target\": 19.0, \"preds\": 20.739933908748917}, {\"target\": 11.0, \"preds\": 16.448221339461796}, {\"target\": 33.0, \"preds\": 30.6290303869349}, {\"target\": 23.0, \"preds\": 24.947343914784483}, {\"target\": 21.0, \"preds\": 20.26005762336458}, {\"target\": 23.0, \"preds\": 21.564431906801033}, {\"target\": 25.0, \"preds\": 24.516196403904722}, {\"target\": 23.8, \"preds\": 25.89171826483515}, {\"target\": 34.4, \"preds\": 33.74297688079378}, {\"target\": 24.5, \"preds\": 28.944460602083694}, {\"target\": 13.0, \"preds\": 12.727110748558513}, {\"target\": 34.7, \"preds\": 32.598561359152114}, {\"target\": 14.0, \"preds\": 13.255715808447434}, {\"target\": 15.0, \"preds\": 9.492299572787516}, {\"target\": 18.0, \"preds\": 19.57501409281656}, {\"target\": 25.0, \"preds\": 28.483791554814772}, {\"target\": 19.9, \"preds\": 22.458471699910127}, {\"target\": 17.5, \"preds\": 20.61554893570112}, {\"target\": 28.0, \"preds\": 30.772622598098117}, {\"target\": 29.0, \"preds\": 29.673106833563622}, {\"target\": 17.0, \"preds\": 20.060325178035285}], \"data-01cbfc20fcc4c39e7c1ec79cb2f345ff\": [{\"target\": 33.0, \"preds\": 33.0}, {\"target\": 28.0, \"preds\": 28.0}, {\"target\": 19.0, \"preds\": 19.0}, {\"target\": 13.0, \"preds\": 13.0}, {\"target\": 14.0, \"preds\": 14.0}, {\"target\": 27.0, \"preds\": 27.0}, {\"target\": 24.0, \"preds\": 24.0}, {\"target\": 13.0, \"preds\": 13.0}, {\"target\": 17.0, \"preds\": 17.0}, {\"target\": 21.0, \"preds\": 21.0}, {\"target\": 15.0, \"preds\": 15.0}, {\"target\": 38.0, \"preds\": 38.0}, {\"target\": 26.0, \"preds\": 26.0}, {\"target\": 15.0, \"preds\": 15.0}, {\"target\": 25.0, \"preds\": 25.0}, {\"target\": 12.0, \"preds\": 12.0}, {\"target\": 31.0, \"preds\": 31.0}, {\"target\": 17.0, \"preds\": 17.0}, {\"target\": 16.0, \"preds\": 16.0}, {\"target\": 31.0, \"preds\": 31.0}, {\"target\": 22.0, \"preds\": 22.0}, {\"target\": 22.0, \"preds\": 22.0}, {\"target\": 22.0, \"preds\": 22.0}, {\"target\": 33.5, \"preds\": 33.5}, {\"target\": 18.0, \"preds\": 18.0}, {\"target\": 44.0, \"preds\": 44.0}, {\"target\": 26.0, \"preds\": 26.0}, {\"target\": 24.5, \"preds\": 24.5}, {\"target\": 18.1, \"preds\": 18.1}, {\"target\": 12.0, \"preds\": 12.0}, {\"target\": 27.0, \"preds\": 27.0}, {\"target\": 36.0, \"preds\": 36.0}, {\"target\": 23.0, \"preds\": 23.0}, {\"target\": 24.0, \"preds\": 24.0}, {\"target\": 37.2, \"preds\": 37.2}, {\"target\": 16.0, \"preds\": 16.0}, {\"target\": 21.0, \"preds\": 21.0}, {\"target\": 19.2, \"preds\": 19.2}, {\"target\": 16.0, \"preds\": 16.0}, {\"target\": 29.0, \"preds\": 29.0}, {\"target\": 26.8, \"preds\": 26.8}, {\"target\": 27.0, \"preds\": 27.0}, {\"target\": 18.0, \"preds\": 18.0}, {\"target\": 10.0, \"preds\": 10.0}, {\"target\": 23.0, \"preds\": 23.0}, {\"target\": 36.0, \"preds\": 36.0}, {\"target\": 26.0, \"preds\": 26.0}, {\"target\": 25.0, \"preds\": 25.0}, {\"target\": 25.0, \"preds\": 25.0}, {\"target\": 25.0, \"preds\": 25.0}, {\"target\": 22.0, \"preds\": 22.0}, {\"target\": 34.1, \"preds\": 34.1}, {\"target\": 32.4, \"preds\": 32.4}, {\"target\": 13.0, \"preds\": 13.0}, {\"target\": 23.5, \"preds\": 23.5}, {\"target\": 14.0, \"preds\": 14.0}, {\"target\": 18.5, \"preds\": 18.5}, {\"target\": 29.8, \"preds\": 29.8}, {\"target\": 28.0, \"preds\": 28.0}, {\"target\": 19.0, \"preds\": 19.0}, {\"target\": 11.0, \"preds\": 11.0}, {\"target\": 33.0, \"preds\": 33.0}, {\"target\": 23.0, \"preds\": 23.0}, {\"target\": 21.0, \"preds\": 21.0}, {\"target\": 23.0, \"preds\": 23.0}, {\"target\": 25.0, \"preds\": 25.0}, {\"target\": 23.8, \"preds\": 23.8}, {\"target\": 34.4, \"preds\": 34.4}, {\"target\": 24.5, \"preds\": 24.5}, {\"target\": 13.0, \"preds\": 13.0}, {\"target\": 34.7, \"preds\": 34.7}, {\"target\": 14.0, \"preds\": 14.0}, {\"target\": 15.0, \"preds\": 15.0}, {\"target\": 18.0, \"preds\": 18.0}, {\"target\": 25.0, \"preds\": 25.0}, {\"target\": 19.9, \"preds\": 19.9}, {\"target\": 17.5, \"preds\": 17.5}, {\"target\": 28.0, \"preds\": 28.0}, {\"target\": 29.0, \"preds\": 29.0}, {\"target\": 17.0, \"preds\": 17.0}]}}, {\"mode\": \"vega-lite\"});\n",
              "</script>"
            ],
            "text/plain": [
              "alt.LayerChart(...)"
            ]
          },
          "metadata": {},
          "execution_count": 64
        }
      ]
    }
  ]
}