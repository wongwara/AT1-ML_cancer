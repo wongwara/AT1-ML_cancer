{
  "nbformat": 4,
  "nbformat_minor": 0,
  "metadata": {
    "colab": {
      "provenance": [],
      "include_colab_link": true
    },
    "kernelspec": {
      "name": "python3",
      "display_name": "Python 3"
    }
  },
  "cells": [
    {
      "cell_type": "markdown",
      "metadata": {
        "id": "view-in-github",
        "colab_type": "text"
      },
      "source": [
        "<a href=\"https://colab.research.google.com/github/wongwara/AT1-ML_cancer/blob/main/MLAA_Lab_3_Exercise_1_Instructions_Categorical.ipynb\" target=\"_parent\"><img src=\"https://colab.research.google.com/assets/colab-badge.svg\" alt=\"Open In Colab\"/></a>"
      ]
    },
    {
      "cell_type": "markdown",
      "metadata": {
        "id": "uQ6wc2HE0pke"
      },
      "source": [
        "# **Lab 3: Categorical Data**\n"
      ]
    },
    {
      "cell_type": "markdown",
      "metadata": {
        "id": "tQgxLRrvjiJb"
      },
      "source": [
        "## Exercise 1: \n",
        "\n",
        "The dataset we will be using contains data related to second hand car sales. Your goal is to build a regression model with regularisation to predict accurately the sale price.\n",
        "\n",
        "You will be loading the dataset from this link: \n",
        "https://raw.githubusercontent.com/aso-uts/mlaa/main/datasets/lab3/ex1/car_details.csv\n",
        "\n",
        "The steps are:\n",
        "\n",
        "1.   Load and Explore Dataset\n",
        "2.   Data Preparation\n",
        "3.   Assess Baseline Model\n",
        "4.   Train Elastic Model"
      ]
    },
    {
      "cell_type": "markdown",
      "metadata": {
        "id": "smh_LhVjIg9s"
      },
      "source": [
        "### 1. Load and Explore Dataset"
      ]
    },
    {
      "cell_type": "markdown",
      "metadata": {
        "id": "MqQvL-CLbmmB"
      },
      "source": [
        "**[1.1]** Import the pandas, numpy and altair packages"
      ]
    },
    {
      "cell_type": "code",
      "metadata": {
        "id": "ONaPp_MhboMc"
      },
      "source": [
        "# Placeholder for student's code"
      ],
      "execution_count": null,
      "outputs": []
    },
    {
      "cell_type": "markdown",
      "metadata": {
        "id": "Ibk9tuTLbqPU"
      },
      "source": [
        "**[1.2]** Create a variable called file_url containing the link to the CSV file "
      ]
    },
    {
      "cell_type": "code",
      "metadata": {
        "id": "yhVQgRcebx9s"
      },
      "source": [
        "# Placeholder for student's code"
      ],
      "execution_count": null,
      "outputs": []
    },
    {
      "cell_type": "markdown",
      "source": [
        "**[1.3]** Load the dataset into dataframe called df"
      ],
      "metadata": {
        "id": "_35LXawTrjVx"
      }
    },
    {
      "cell_type": "code",
      "source": [
        "# Placeholder for student's code"
      ],
      "metadata": {
        "id": "nMOBIRPerjbw"
      },
      "execution_count": null,
      "outputs": []
    },
    {
      "cell_type": "markdown",
      "metadata": {
        "id": "CDoBj0-aO_mf"
      },
      "source": [
        "**[1.4]** Display the first 5 rows of df"
      ]
    },
    {
      "cell_type": "code",
      "metadata": {
        "id": "e6bEX5o5cVVD"
      },
      "source": [
        "# Placeholder for student's code"
      ],
      "execution_count": null,
      "outputs": []
    },
    {
      "cell_type": "markdown",
      "metadata": {
        "id": "gW9byNAUcnre"
      },
      "source": [
        "**[1.5]** Display the last 5 rows of df"
      ]
    },
    {
      "cell_type": "code",
      "metadata": {
        "id": "eR05byl2cp_g"
      },
      "source": [
        "# Placeholder for student's code"
      ],
      "execution_count": null,
      "outputs": []
    },
    {
      "cell_type": "markdown",
      "metadata": {
        "id": "C3BsOcDfcstu"
      },
      "source": [
        "**[1.6]** Display the dimensions (shape) of df"
      ]
    },
    {
      "cell_type": "code",
      "metadata": {
        "id": "brOC6k06cszh"
      },
      "source": [
        "# Placeholder for student's code"
      ],
      "execution_count": null,
      "outputs": []
    },
    {
      "cell_type": "markdown",
      "metadata": {
        "id": "pb9jWM2qdCg_"
      },
      "source": [
        "**[1.7]** Display the descriptive statistics of df\n"
      ]
    },
    {
      "cell_type": "code",
      "metadata": {
        "id": "ZvtO0tx0dClo"
      },
      "source": [
        "# Placeholder for student's code"
      ],
      "execution_count": null,
      "outputs": []
    },
    {
      "cell_type": "markdown",
      "metadata": {
        "id": "79aloQckd4HX"
      },
      "source": [
        "**[1.8]** Display the summary (info) of df"
      ]
    },
    {
      "cell_type": "code",
      "metadata": {
        "id": "hYRFbsxed-9m"
      },
      "source": [
        "# Placeholder for student's code"
      ],
      "execution_count": null,
      "outputs": []
    },
    {
      "cell_type": "markdown",
      "metadata": {
        "id": "_yODKMflCVml"
      },
      "source": [
        "### 2. Data Preparation"
      ]
    },
    {
      "cell_type": "markdown",
      "metadata": {
        "id": "Cjb0A0IQwOS3"
      },
      "source": [
        "**[2.1]** Create a copy of our dataframe"
      ]
    },
    {
      "cell_type": "code",
      "source": [
        "# Placeholder for student's code"
      ],
      "metadata": {
        "id": "3BodQwax5ahc"
      },
      "execution_count": null,
      "outputs": []
    },
    {
      "cell_type": "markdown",
      "source": [
        "**[2.2]** Extract the target variable into a variable called y"
      ],
      "metadata": {
        "id": "D0b2t3Gv5xtg"
      }
    },
    {
      "cell_type": "markdown",
      "source": [
        "**[2.3]** Save all the numeric features into a variable called num_cols"
      ],
      "metadata": {
        "id": "0EruTwf0tziG"
      }
    },
    {
      "cell_type": "code",
      "source": [
        "# Placeholder for student's code"
      ],
      "metadata": {
        "id": "pXH3U1xlt0BG"
      },
      "execution_count": null,
      "outputs": []
    },
    {
      "cell_type": "markdown",
      "source": [
        "**[2.4]** Save all the ordinal features into a variable called ord_cols"
      ],
      "metadata": {
        "id": "Wv1FWurm6RSC"
      }
    },
    {
      "cell_type": "code",
      "source": [
        "# Placeholder for student's code"
      ],
      "metadata": {
        "id": "HLLkaGnJ6Rfz"
      },
      "execution_count": null,
      "outputs": []
    },
    {
      "cell_type": "markdown",
      "source": [
        "**[2.5]** Save all the categorical features into a variable called num_cols"
      ],
      "metadata": {
        "id": "blpZqT5Y6Sh6"
      }
    },
    {
      "cell_type": "code",
      "source": [
        "# Placeholder for student's code"
      ],
      "metadata": {
        "id": "XmZZwHWa6SnV"
      },
      "execution_count": null,
      "outputs": []
    },
    {
      "cell_type": "markdown",
      "source": [
        "**[2.6]** Iterate through all columns from ord_cols and print their list of unique values"
      ],
      "metadata": {
        "id": "BcmJBdvr6t44"
      }
    },
    {
      "cell_type": "code",
      "source": [
        "for col in ord_cols:\n",
        "  print(col)\n",
        "  print(df_cleaned[col].unique())"
      ],
      "metadata": {
        "colab": {
          "base_uri": "https://localhost:8080/"
        },
        "id": "841vAKKg7DX2",
        "outputId": "049bb791-3572-408d-8fd2-713ac9da7152"
      },
      "execution_count": null,
      "outputs": [
        {
          "output_type": "stream",
          "name": "stdout",
          "text": [
            "owner\n",
            "['First Owner' 'Second Owner' 'Fourth & Above Owner' 'Third Owner'\n",
            " 'Test Drive Car']\n"
          ]
        }
      ]
    },
    {
      "cell_type": "markdown",
      "source": [
        "**[2.7]** Create a dictionary mapping the values of owner column to an ordinal value"
      ],
      "metadata": {
        "id": "kqA-_LYh7PDu"
      }
    },
    {
      "cell_type": "code",
      "source": [
        "owner_mapper = {\n",
        "    \"Test Drive Car\": 0, \n",
        "    \"First Owner\": 1, \n",
        "    \"Second Owner\": 2,\n",
        "    \"Third Owner\": 3,\n",
        "    \"Fourth & Above Owner\": 4\n",
        "}"
      ],
      "metadata": {
        "id": "OBdkpQjb7PLr"
      },
      "execution_count": null,
      "outputs": []
    },
    {
      "cell_type": "markdown",
      "source": [
        "**[2.8]** Replace the values of owner column to ordinal ones"
      ],
      "metadata": {
        "id": "kRHe9q6s7CrA"
      }
    },
    {
      "cell_type": "code",
      "source": [
        "df_cleaned[\"owner\"] = df_cleaned[\"owner\"].replace(owner_mapper)"
      ],
      "metadata": {
        "id": "fnhB7AUA6uGM"
      },
      "execution_count": null,
      "outputs": []
    },
    {
      "cell_type": "markdown",
      "source": [
        "**[2.9]** Iterate through all columns from cat_cols and print their list of unique values"
      ],
      "metadata": {
        "id": "k7uYQ-QW7voQ"
      }
    },
    {
      "cell_type": "code",
      "source": [
        "# Placeholder for student's code"
      ],
      "metadata": {
        "id": "AlT3zFEg7vwX"
      },
      "execution_count": null,
      "outputs": []
    },
    {
      "cell_type": "markdown",
      "source": [
        "**[2.10]** Perform one-hot encoding on all categorical columns"
      ],
      "metadata": {
        "id": "bY6QUJbv8GZh"
      }
    },
    {
      "cell_type": "code",
      "source": [
        "df_cat = pd.get_dummies(df_cleaned[cat_cols])"
      ],
      "metadata": {
        "id": "-FJtZfq_7v3Z"
      },
      "execution_count": null,
      "outputs": []
    },
    {
      "cell_type": "markdown",
      "source": [
        "**[2.11]** Save all the features into a variable called X"
      ],
      "metadata": {
        "id": "W-VhzxWptfop"
      }
    },
    {
      "cell_type": "code",
      "source": [
        "# Placeholder for student's code"
      ],
      "metadata": {
        "id": "DJwb1r_W9RLs"
      },
      "execution_count": null,
      "outputs": []
    },
    {
      "cell_type": "markdown",
      "source": [
        "**[2.12]** Concat the one-hot encoded columns to X"
      ],
      "metadata": {
        "id": "3sKtikkV9NpJ"
      }
    },
    {
      "cell_type": "code",
      "source": [
        "X = pd.concat([X, df_cat], axis=1)"
      ],
      "metadata": {
        "id": "CX6QecoCtfwu"
      },
      "execution_count": null,
      "outputs": []
    },
    {
      "cell_type": "markdown",
      "source": [
        "**[2.13]** Import train_test_split from sklearn.model_selection"
      ],
      "metadata": {
        "id": "W_Gd6USZtJ3t"
      }
    },
    {
      "cell_type": "code",
      "source": [
        "# Placeholder for student's code"
      ],
      "metadata": {
        "id": "Xjx6YOVBtKLJ"
      },
      "execution_count": null,
      "outputs": []
    },
    {
      "cell_type": "markdown",
      "source": [
        "**[2.14]** Split the features and target variable into 2 different sets (data and test) with 80-20 ratio"
      ],
      "metadata": {
        "id": "zmmSGKl6tbVF"
      }
    },
    {
      "cell_type": "code",
      "source": [
        "# Placeholder for student's code"
      ],
      "metadata": {
        "id": "A5woGjl89LO8"
      },
      "execution_count": null,
      "outputs": []
    },
    {
      "cell_type": "markdown",
      "source": [
        "**[2.15]** Split data into 2 different sets (training and validation) with 80-20 ratio"
      ],
      "metadata": {
        "id": "5_Gd6nWxvyr0"
      }
    },
    {
      "cell_type": "code",
      "source": [
        "# Placeholder for student's code"
      ],
      "metadata": {
        "id": "MfvJDs4_vyzF"
      },
      "execution_count": null,
      "outputs": []
    },
    {
      "cell_type": "markdown",
      "metadata": {
        "id": "3a83eGnoROLd"
      },
      "source": [
        "### 3. Assess Baseline Model"
      ]
    },
    {
      "cell_type": "markdown",
      "metadata": {
        "id": "WBPdF5VvRVs5"
      },
      "source": [
        "**[3.1]** Find the average of the target variable"
      ]
    },
    {
      "cell_type": "code",
      "metadata": {
        "id": "_zzaiRj6ROSY"
      },
      "source": [
        "# Placeholder for student's code"
      ],
      "execution_count": null,
      "outputs": []
    },
    {
      "cell_type": "markdown",
      "metadata": {
        "id": "9VV-m6E5Rg88"
      },
      "source": [
        "**[3.2]** Create a numpy array called y_base filled with this value"
      ]
    },
    {
      "cell_type": "code",
      "metadata": {
        "id": "GbfgKmVzRhED"
      },
      "source": [
        "# Placeholder for student's code"
      ],
      "execution_count": null,
      "outputs": []
    },
    {
      "cell_type": "markdown",
      "metadata": {
        "id": "q5U4hHH_KjOC"
      },
      "source": [
        "**[3.3]** Import the MSE and MAE from sklearn"
      ]
    },
    {
      "cell_type": "code",
      "metadata": {
        "id": "kMarPqp0KrNX"
      },
      "source": [
        "# Placeholder for student's code"
      ],
      "execution_count": null,
      "outputs": []
    },
    {
      "cell_type": "markdown",
      "metadata": {
        "id": "UCVfsksbSAHO"
      },
      "source": [
        "**[3.4]** Display the RMSE and MAE scores of this baseline model"
      ]
    },
    {
      "cell_type": "code",
      "metadata": {
        "id": "Wy_WWtWlSCgJ"
      },
      "source": [
        "# Placeholder for student's code"
      ],
      "execution_count": null,
      "outputs": []
    },
    {
      "cell_type": "markdown",
      "metadata": {
        "id": "L2SUhKukEu3p"
      },
      "source": [
        "### 4. Train Elastic Model"
      ]
    },
    {
      "cell_type": "markdown",
      "metadata": {
        "id": "CL0cKC3aI4Nk"
      },
      "source": [
        "**[4.1]** Import the ElasticNet module from sklearn"
      ]
    },
    {
      "cell_type": "code",
      "metadata": {
        "id": "obQTgYsQJEev"
      },
      "source": [
        "# Placeholder for student's code"
      ],
      "execution_count": null,
      "outputs": []
    },
    {
      "cell_type": "markdown",
      "metadata": {
        "id": "ewVmzWGlJSmd"
      },
      "source": [
        "**[4.2]** Instantiate the ElasticNet class into a variable called elasticnet_reg and fit it on the training set"
      ]
    },
    {
      "cell_type": "code",
      "metadata": {
        "id": "jf7epJFPJQc3"
      },
      "source": [
        "# Placeholder for student's code"
      ],
      "execution_count": null,
      "outputs": []
    },
    {
      "cell_type": "markdown",
      "metadata": {
        "id": "bGcphha9Jsnk"
      },
      "source": [
        "**[4.3]** Use the trained model to predict the outcome on X_train and save them into y_preds"
      ]
    },
    {
      "cell_type": "code",
      "metadata": {
        "id": "YHRFtZoqJ9dt"
      },
      "source": [
        "# Placeholder for student's code"
      ],
      "execution_count": null,
      "outputs": []
    },
    {
      "cell_type": "markdown",
      "metadata": {
        "id": "ilbUUPqeKK31"
      },
      "source": [
        "**[4.4]** Display the RMSE and MAE scores on the training set"
      ]
    },
    {
      "cell_type": "code",
      "metadata": {
        "id": "lgXYJauVK_FH"
      },
      "source": [
        "# Placeholder for student's code"
      ],
      "execution_count": null,
      "outputs": []
    },
    {
      "cell_type": "markdown",
      "source": [
        "**[4.5]** Display the RMSE and MAE scores on the validation set"
      ],
      "metadata": {
        "id": "hJYl0sBNv74Y"
      }
    },
    {
      "cell_type": "code",
      "source": [
        "# Placeholder for student's code"
      ],
      "metadata": {
        "id": "g6kej_xnv8AJ"
      },
      "execution_count": null,
      "outputs": []
    },
    {
      "cell_type": "markdown",
      "source": [
        "**[4.6]** Display the predictions versus the target line charts on the training set"
      ],
      "metadata": {
        "id": "JELipWB4Goir"
      }
    },
    {
      "cell_type": "code",
      "source": [
        "# Placeholder for student's code"
      ],
      "metadata": {
        "id": "Gb-udMrAGo0s"
      },
      "execution_count": null,
      "outputs": []
    },
    {
      "cell_type": "markdown",
      "source": [
        "**[4.7]** Display the predictions versus the target line charts on the validation set"
      ],
      "metadata": {
        "id": "CdfJ_wE9LR9q"
      }
    },
    {
      "cell_type": "code",
      "source": [
        "# Placeholder for student's code"
      ],
      "metadata": {
        "id": "QHnv8B_uLSFy"
      },
      "execution_count": null,
      "outputs": []
    }
  ]
}