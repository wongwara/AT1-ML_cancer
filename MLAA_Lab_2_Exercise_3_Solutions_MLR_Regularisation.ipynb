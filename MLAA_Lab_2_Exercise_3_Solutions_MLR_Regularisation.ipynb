{
  "nbformat": 4,
  "nbformat_minor": 0,
  "metadata": {
    "colab": {
      "provenance": [],
      "include_colab_link": true
    },
    "kernelspec": {
      "name": "python3",
      "display_name": "Python 3"
    }
  },
  "cells": [
    {
      "cell_type": "markdown",
      "metadata": {
        "id": "view-in-github",
        "colab_type": "text"
      },
      "source": [
        "<a href=\"https://colab.research.google.com/github/wongwara/AT1-ML_cancer/blob/main/MLAA_Lab_2_Exercise_3_Solutions_MLR_Regularisation.ipynb\" target=\"_parent\"><img src=\"https://colab.research.google.com/assets/colab-badge.svg\" alt=\"Open In Colab\"/></a>"
      ]
    },
    {
      "cell_type": "markdown",
      "metadata": {
        "id": "uQ6wc2HE0pke"
      },
      "source": [
        "# **Lab 2: Data Splitting**\n"
      ]
    },
    {
      "cell_type": "markdown",
      "metadata": {
        "id": "tQgxLRrvjiJb"
      },
      "source": [
        "## Exercise 2: Multivariate Linear Regression & Regularisation\n",
        "\n",
        "You will now work on a new dataset called \"Auto MPG\" from the UCI Machine Learning Repository: https://archive.ics.uci.edu/ml/datasets/Auto+MPG\n",
        "\n",
        "You will loading the dataset from this link: \n",
        "https://github.com/aso-uts/mlaa/tree/main/datasets/lab2/ex3\n",
        "\n",
        "This dataset contains the fuel consumption in miles per gallon (\"mpg\") of 398 cars. Your goal is to build a Multivariate Linear Regression model with regularisation to predict the mpg.\n",
        "\n",
        "The steps are:\n",
        "\n",
        "1.   Load Dataset\n",
        "2.   Train Lasso Model with all Features\n",
        "3.   Train Ridge Model with all Features\n",
        "4.   Train Elastinet Model with all Features\n"
      ]
    },
    {
      "cell_type": "markdown",
      "metadata": {
        "id": "smh_LhVjIg9s"
      },
      "source": [
        "### 1. Load and Prepare Dataset"
      ]
    },
    {
      "cell_type": "markdown",
      "metadata": {
        "id": "MqQvL-CLbmmB"
      },
      "source": [
        "**[1.1]** Import the pandas and numpy packages"
      ]
    },
    {
      "cell_type": "code",
      "metadata": {
        "id": "ONaPp_MhboMc"
      },
      "source": [
        "# Placeholder for student's code"
      ],
      "execution_count": null,
      "outputs": []
    },
    {
      "cell_type": "code",
      "metadata": {
        "id": "faNd47YOMyk0"
      },
      "source": [
        "# Solution\n",
        "import pandas as pd\n",
        "import numpy as np"
      ],
      "execution_count": null,
      "outputs": []
    },
    {
      "cell_type": "markdown",
      "metadata": {
        "id": "Ibk9tuTLbqPU"
      },
      "source": [
        "**[1.2]** Create 4 variables containing the link to the CSV files "
      ]
    },
    {
      "cell_type": "code",
      "metadata": {
        "id": "8wAkIzX4MlfL"
      },
      "source": [
        "X_train_url = 'https://raw.githubusercontent.com/aso-uts/mlaa/main/datasets/lab2/ex3/X_train.csv'\n",
        "X_test_url = 'https://raw.githubusercontent.com/aso-uts/mlaa/main/datasets/lab2/ex3/X_test.csv'\n",
        "y_train_url = 'https://raw.githubusercontent.com/aso-uts/mlaa/main/datasets/lab2/ex3/y_train.csv'\n",
        "y_test_url = 'https://raw.githubusercontent.com/aso-uts/mlaa/main/datasets/lab2/ex3/y_test.csv'"
      ],
      "execution_count": null,
      "outputs": []
    },
    {
      "cell_type": "markdown",
      "source": [
        "**[1.3]** Load the different sets into separate dataframes"
      ],
      "metadata": {
        "id": "_35LXawTrjVx"
      }
    },
    {
      "cell_type": "code",
      "source": [
        "X_train = pd.read_csv(X_train_url, index_col=0)\n",
        "X_test = pd.read_csv(X_test_url, index_col=0)\n",
        "y_train = pd.read_csv(y_train_url, index_col=0)\n",
        "y_test = pd.read_csv(y_test_url, index_col=0)"
      ],
      "metadata": {
        "id": "FQ4ffcCWrjji"
      },
      "execution_count": null,
      "outputs": []
    },
    {
      "cell_type": "markdown",
      "metadata": {
        "id": "Cjb0A0IQwOS3"
      },
      "source": [
        "**[1.4]** Display the first 5 rows of X_train"
      ]
    },
    {
      "cell_type": "code",
      "source": [
        "# Placeholder for student's code"
      ],
      "metadata": {
        "id": "Zex28UsEz3Dr"
      },
      "execution_count": null,
      "outputs": []
    },
    {
      "cell_type": "code",
      "metadata": {
        "id": "1y9EbJSMwOZ9",
        "colab": {
          "base_uri": "https://localhost:8080/",
          "height": 206
        },
        "outputId": "47719e4d-c072-4e3e-a224-f8ad060d7407"
      },
      "source": [
        "# Solution\n",
        "X_train.head()"
      ],
      "execution_count": null,
      "outputs": [
        {
          "output_type": "execute_result",
          "data": {
            "text/plain": [
              "     cylinders  displacement  horsepower  weight  acceleration  model_year  \\\n",
              "3            8         304.0       150.0    3433          12.0          70   \n",
              "18           4          97.0        88.0    2130          14.5          70   \n",
              "376          4          91.0        68.0    2025          18.2          82   \n",
              "248          4          91.0        60.0    1800          16.4          78   \n",
              "177          4         115.0        95.0    2694          15.0          75   \n",
              "\n",
              "     origin_USA  origin_EU  origin_JP  \n",
              "3             1          0          0  \n",
              "18            0          0          1  \n",
              "376           0          0          1  \n",
              "248           0          0          1  \n",
              "177           0          1          0  "
            ],
            "text/html": [
              "\n",
              "  <div id=\"df-237a326d-94a0-42c9-8739-a97af29a5937\">\n",
              "    <div class=\"colab-df-container\">\n",
              "      <div>\n",
              "<style scoped>\n",
              "    .dataframe tbody tr th:only-of-type {\n",
              "        vertical-align: middle;\n",
              "    }\n",
              "\n",
              "    .dataframe tbody tr th {\n",
              "        vertical-align: top;\n",
              "    }\n",
              "\n",
              "    .dataframe thead th {\n",
              "        text-align: right;\n",
              "    }\n",
              "</style>\n",
              "<table border=\"1\" class=\"dataframe\">\n",
              "  <thead>\n",
              "    <tr style=\"text-align: right;\">\n",
              "      <th></th>\n",
              "      <th>cylinders</th>\n",
              "      <th>displacement</th>\n",
              "      <th>horsepower</th>\n",
              "      <th>weight</th>\n",
              "      <th>acceleration</th>\n",
              "      <th>model_year</th>\n",
              "      <th>origin_USA</th>\n",
              "      <th>origin_EU</th>\n",
              "      <th>origin_JP</th>\n",
              "    </tr>\n",
              "  </thead>\n",
              "  <tbody>\n",
              "    <tr>\n",
              "      <th>3</th>\n",
              "      <td>8</td>\n",
              "      <td>304.0</td>\n",
              "      <td>150.0</td>\n",
              "      <td>3433</td>\n",
              "      <td>12.0</td>\n",
              "      <td>70</td>\n",
              "      <td>1</td>\n",
              "      <td>0</td>\n",
              "      <td>0</td>\n",
              "    </tr>\n",
              "    <tr>\n",
              "      <th>18</th>\n",
              "      <td>4</td>\n",
              "      <td>97.0</td>\n",
              "      <td>88.0</td>\n",
              "      <td>2130</td>\n",
              "      <td>14.5</td>\n",
              "      <td>70</td>\n",
              "      <td>0</td>\n",
              "      <td>0</td>\n",
              "      <td>1</td>\n",
              "    </tr>\n",
              "    <tr>\n",
              "      <th>376</th>\n",
              "      <td>4</td>\n",
              "      <td>91.0</td>\n",
              "      <td>68.0</td>\n",
              "      <td>2025</td>\n",
              "      <td>18.2</td>\n",
              "      <td>82</td>\n",
              "      <td>0</td>\n",
              "      <td>0</td>\n",
              "      <td>1</td>\n",
              "    </tr>\n",
              "    <tr>\n",
              "      <th>248</th>\n",
              "      <td>4</td>\n",
              "      <td>91.0</td>\n",
              "      <td>60.0</td>\n",
              "      <td>1800</td>\n",
              "      <td>16.4</td>\n",
              "      <td>78</td>\n",
              "      <td>0</td>\n",
              "      <td>0</td>\n",
              "      <td>1</td>\n",
              "    </tr>\n",
              "    <tr>\n",
              "      <th>177</th>\n",
              "      <td>4</td>\n",
              "      <td>115.0</td>\n",
              "      <td>95.0</td>\n",
              "      <td>2694</td>\n",
              "      <td>15.0</td>\n",
              "      <td>75</td>\n",
              "      <td>0</td>\n",
              "      <td>1</td>\n",
              "      <td>0</td>\n",
              "    </tr>\n",
              "  </tbody>\n",
              "</table>\n",
              "</div>\n",
              "      <button class=\"colab-df-convert\" onclick=\"convertToInteractive('df-237a326d-94a0-42c9-8739-a97af29a5937')\"\n",
              "              title=\"Convert this dataframe to an interactive table.\"\n",
              "              style=\"display:none;\">\n",
              "        \n",
              "  <svg xmlns=\"http://www.w3.org/2000/svg\" height=\"24px\"viewBox=\"0 0 24 24\"\n",
              "       width=\"24px\">\n",
              "    <path d=\"M0 0h24v24H0V0z\" fill=\"none\"/>\n",
              "    <path d=\"M18.56 5.44l.94 2.06.94-2.06 2.06-.94-2.06-.94-.94-2.06-.94 2.06-2.06.94zm-11 1L8.5 8.5l.94-2.06 2.06-.94-2.06-.94L8.5 2.5l-.94 2.06-2.06.94zm10 10l.94 2.06.94-2.06 2.06-.94-2.06-.94-.94-2.06-.94 2.06-2.06.94z\"/><path d=\"M17.41 7.96l-1.37-1.37c-.4-.4-.92-.59-1.43-.59-.52 0-1.04.2-1.43.59L10.3 9.45l-7.72 7.72c-.78.78-.78 2.05 0 2.83L4 21.41c.39.39.9.59 1.41.59.51 0 1.02-.2 1.41-.59l7.78-7.78 2.81-2.81c.8-.78.8-2.07 0-2.86zM5.41 20L4 18.59l7.72-7.72 1.47 1.35L5.41 20z\"/>\n",
              "  </svg>\n",
              "      </button>\n",
              "      \n",
              "  <style>\n",
              "    .colab-df-container {\n",
              "      display:flex;\n",
              "      flex-wrap:wrap;\n",
              "      gap: 12px;\n",
              "    }\n",
              "\n",
              "    .colab-df-convert {\n",
              "      background-color: #E8F0FE;\n",
              "      border: none;\n",
              "      border-radius: 50%;\n",
              "      cursor: pointer;\n",
              "      display: none;\n",
              "      fill: #1967D2;\n",
              "      height: 32px;\n",
              "      padding: 0 0 0 0;\n",
              "      width: 32px;\n",
              "    }\n",
              "\n",
              "    .colab-df-convert:hover {\n",
              "      background-color: #E2EBFA;\n",
              "      box-shadow: 0px 1px 2px rgba(60, 64, 67, 0.3), 0px 1px 3px 1px rgba(60, 64, 67, 0.15);\n",
              "      fill: #174EA6;\n",
              "    }\n",
              "\n",
              "    [theme=dark] .colab-df-convert {\n",
              "      background-color: #3B4455;\n",
              "      fill: #D2E3FC;\n",
              "    }\n",
              "\n",
              "    [theme=dark] .colab-df-convert:hover {\n",
              "      background-color: #434B5C;\n",
              "      box-shadow: 0px 1px 3px 1px rgba(0, 0, 0, 0.15);\n",
              "      filter: drop-shadow(0px 1px 2px rgba(0, 0, 0, 0.3));\n",
              "      fill: #FFFFFF;\n",
              "    }\n",
              "  </style>\n",
              "\n",
              "      <script>\n",
              "        const buttonEl =\n",
              "          document.querySelector('#df-237a326d-94a0-42c9-8739-a97af29a5937 button.colab-df-convert');\n",
              "        buttonEl.style.display =\n",
              "          google.colab.kernel.accessAllowed ? 'block' : 'none';\n",
              "\n",
              "        async function convertToInteractive(key) {\n",
              "          const element = document.querySelector('#df-237a326d-94a0-42c9-8739-a97af29a5937');\n",
              "          const dataTable =\n",
              "            await google.colab.kernel.invokeFunction('convertToInteractive',\n",
              "                                                     [key], {});\n",
              "          if (!dataTable) return;\n",
              "\n",
              "          const docLinkHtml = 'Like what you see? Visit the ' +\n",
              "            '<a target=\"_blank\" href=https://colab.research.google.com/notebooks/data_table.ipynb>data table notebook</a>'\n",
              "            + ' to learn more about interactive tables.';\n",
              "          element.innerHTML = '';\n",
              "          dataTable['output_type'] = 'display_data';\n",
              "          await google.colab.output.renderOutput(dataTable, element);\n",
              "          const docLink = document.createElement('div');\n",
              "          docLink.innerHTML = docLinkHtml;\n",
              "          element.appendChild(docLink);\n",
              "        }\n",
              "      </script>\n",
              "    </div>\n",
              "  </div>\n",
              "  "
            ]
          },
          "metadata": {},
          "execution_count": 4
        }
      ]
    },
    {
      "cell_type": "markdown",
      "metadata": {
        "id": "926Jj-s0wryy"
      },
      "source": [
        "**[1.5]** Display the dimensions of each sets"
      ]
    },
    {
      "cell_type": "code",
      "source": [
        "# Placeholder for student's code"
      ],
      "metadata": {
        "id": "np0fE5zoz2b3"
      },
      "execution_count": null,
      "outputs": []
    },
    {
      "cell_type": "code",
      "metadata": {
        "id": "0anAWvYoJFIV",
        "colab": {
          "base_uri": "https://localhost:8080/"
        },
        "outputId": "79e3e5f1-46c0-4609-828b-ff9b2303af11"
      },
      "source": [
        "# Solution\n",
        "print(X_train.shape)\n",
        "print(X_test.shape)\n",
        "print(y_train.shape)\n",
        "print(y_test.shape)"
      ],
      "execution_count": null,
      "outputs": [
        {
          "output_type": "stream",
          "name": "stdout",
          "text": [
            "(318, 9)\n",
            "(80, 9)\n",
            "(318, 1)\n",
            "(80, 1)\n"
          ]
        }
      ]
    },
    {
      "cell_type": "markdown",
      "metadata": {
        "id": "L2SUhKukEu3p"
      },
      "source": [
        "### 2. Train Lasso Model"
      ]
    },
    {
      "cell_type": "markdown",
      "metadata": {
        "id": "CL0cKC3aI4Nk"
      },
      "source": [
        "**[2.1]** Import the Lasso regression module from sklearn"
      ]
    },
    {
      "cell_type": "code",
      "metadata": {
        "id": "obQTgYsQJEev"
      },
      "source": [
        "# Placeholder for student's code"
      ],
      "execution_count": null,
      "outputs": []
    },
    {
      "cell_type": "code",
      "metadata": {
        "id": "HvjoHR1YI4gu"
      },
      "source": [
        "# Solution\n",
        "from sklearn.linear_model import Lasso "
      ],
      "execution_count": null,
      "outputs": []
    },
    {
      "cell_type": "markdown",
      "metadata": {
        "id": "ewVmzWGlJSmd"
      },
      "source": [
        "**[2.2]** instantiate the LinearRegression class into a variable called lasso_reg"
      ]
    },
    {
      "cell_type": "code",
      "metadata": {
        "id": "jf7epJFPJQc3"
      },
      "source": [
        "# Placeholder for student's code"
      ],
      "execution_count": null,
      "outputs": []
    },
    {
      "cell_type": "code",
      "metadata": {
        "id": "LBBSFcSmJYe8"
      },
      "source": [
        "lasso_reg = Lasso()"
      ],
      "execution_count": null,
      "outputs": []
    },
    {
      "cell_type": "markdown",
      "metadata": {
        "id": "EMyXMeEYJa3d"
      },
      "source": [
        "**[2.3]** Task: Fit the model on the training set"
      ]
    },
    {
      "cell_type": "code",
      "metadata": {
        "id": "j7qD7dBIJnwQ"
      },
      "source": [
        "# Placeholder for student's code"
      ],
      "execution_count": null,
      "outputs": []
    },
    {
      "cell_type": "code",
      "metadata": {
        "id": "mgFgpXg6Ja9f",
        "colab": {
          "base_uri": "https://localhost:8080/"
        },
        "outputId": "3fdae9a5-aa7b-4b0f-fb84-49c50fce23b8"
      },
      "source": [
        "# Solution\n",
        "lasso_reg.fit(X_train, y_train)"
      ],
      "execution_count": null,
      "outputs": [
        {
          "output_type": "execute_result",
          "data": {
            "text/plain": [
              "Lasso()"
            ]
          },
          "metadata": {},
          "execution_count": 8
        }
      ]
    },
    {
      "cell_type": "markdown",
      "source": [
        "**[2.4]** Import the MSE and MAE metrics from sklearn"
      ],
      "metadata": {
        "id": "FjjsiOm31UA-"
      }
    },
    {
      "cell_type": "code",
      "metadata": {
        "id": "kMarPqp0KrNX"
      },
      "source": [
        "# Placeholder for student's code"
      ],
      "execution_count": null,
      "outputs": []
    },
    {
      "cell_type": "code",
      "metadata": {
        "id": "WTb0sSdwRkCv"
      },
      "source": [
        "# Solution\n",
        "from sklearn.metrics import mean_squared_error as mse\n",
        "from sklearn.metrics import mean_absolute_error as mae"
      ],
      "execution_count": null,
      "outputs": []
    },
    {
      "cell_type": "markdown",
      "metadata": {
        "id": "ilbUUPqeKK31"
      },
      "source": [
        "**[2.5]** Display the RMSE and MAE scores on the training set"
      ]
    },
    {
      "cell_type": "code",
      "metadata": {
        "id": "lgXYJauVK_FH"
      },
      "source": [
        "# Placeholder for student's code"
      ],
      "execution_count": null,
      "outputs": []
    },
    {
      "cell_type": "code",
      "metadata": {
        "id": "5Jyiud9sKK-J",
        "colab": {
          "base_uri": "https://localhost:8080/"
        },
        "outputId": "8e7a2cf0-8e93-4370-f144-381257f98fc6"
      },
      "source": [
        "# Solution\n",
        "y_train_preds = lasso_reg.predict(X_train)\n",
        "print(mse(y_train, y_train_preds, squared=False))\n",
        "print(mae(y_train, y_train_preds))"
      ],
      "execution_count": null,
      "outputs": [
        {
          "output_type": "stream",
          "name": "stdout",
          "text": [
            "3.5222972726026702\n",
            "2.680594707558376\n"
          ]
        }
      ]
    },
    {
      "cell_type": "markdown",
      "source": [
        "**[2.6]** Display the RMSE and MAE scores on the testing set"
      ],
      "metadata": {
        "id": "hJYl0sBNv74Y"
      }
    },
    {
      "cell_type": "code",
      "source": [
        "# Placeholder for student's code"
      ],
      "metadata": {
        "id": "g6kej_xnv8AJ"
      },
      "execution_count": null,
      "outputs": []
    },
    {
      "cell_type": "code",
      "source": [
        "# Solution\n",
        "y_test_preds = lasso_reg.predict(X_test)\n",
        "print(mse(y_test, y_test_preds, squared=False))\n",
        "print(mae(y_test, y_test_preds))"
      ],
      "metadata": {
        "colab": {
          "base_uri": "https://localhost:8080/"
        },
        "id": "P3Vn2sMIv8Cy",
        "outputId": "2e06442f-4fe6-41ef-8d0d-4944067dcecc"
      },
      "execution_count": null,
      "outputs": [
        {
          "output_type": "stream",
          "name": "stdout",
          "text": [
            "3.018608145991618\n",
            "2.4227519401354085\n"
          ]
        }
      ]
    },
    {
      "cell_type": "markdown",
      "metadata": {
        "id": "wA4RpS-iFWd9"
      },
      "source": [
        "### 3. Train Ridge Model"
      ]
    },
    {
      "cell_type": "markdown",
      "source": [
        "**[3.1]** Import the Ridge regression module from sklearn"
      ],
      "metadata": {
        "id": "hjZcqNm01C9j"
      }
    },
    {
      "cell_type": "code",
      "source": [
        "# Placeholder for student's code"
      ],
      "metadata": {
        "id": "6Hp8tKJE1DD2"
      },
      "execution_count": null,
      "outputs": []
    },
    {
      "cell_type": "code",
      "source": [
        "# Solution\n",
        "from sklearn.linear_model import Ridge"
      ],
      "metadata": {
        "id": "dEntgNDH1DGd"
      },
      "execution_count": null,
      "outputs": []
    },
    {
      "cell_type": "markdown",
      "metadata": {
        "id": "JJRnvYJrP7oh"
      },
      "source": [
        "**[3.2]** Instantiate the Ridge model into a variable called ridge_reg and fit it on the training set"
      ]
    },
    {
      "cell_type": "code",
      "metadata": {
        "id": "ub7Zsi12QLs9"
      },
      "source": [
        "# Placeholder for student's code"
      ],
      "execution_count": null,
      "outputs": []
    },
    {
      "cell_type": "code",
      "metadata": {
        "id": "n8aGyqzgP7u1",
        "colab": {
          "base_uri": "https://localhost:8080/"
        },
        "outputId": "e95f2c25-ed4a-4bf9-9fc2-2e19ac1a3515"
      },
      "source": [
        "# Solution\n",
        "ridge_reg = Ridge()\n",
        "ridge_reg.fit(X_train, y_train)"
      ],
      "execution_count": null,
      "outputs": [
        {
          "output_type": "execute_result",
          "data": {
            "text/plain": [
              "Ridge()"
            ]
          },
          "metadata": {},
          "execution_count": 13
        }
      ]
    },
    {
      "cell_type": "markdown",
      "metadata": {
        "id": "6TeqTtlJQPiI"
      },
      "source": [
        "**[3.3]** Print the RMSE and MAE scores for the training set"
      ]
    },
    {
      "cell_type": "code",
      "metadata": {
        "id": "aZKm_qr_Ql8G"
      },
      "source": [
        "# Placeholder for student's code"
      ],
      "execution_count": null,
      "outputs": []
    },
    {
      "cell_type": "code",
      "metadata": {
        "id": "9LkRzsi6QPre",
        "colab": {
          "base_uri": "https://localhost:8080/"
        },
        "outputId": "6895d750-1d70-4991-c443-53b389bc8fc8"
      },
      "source": [
        "# Solution\n",
        "y_train_preds = ridge_reg.predict(X_train)\n",
        "print(mse(y_train, y_train_preds, squared=False))\n",
        "print(mae(y_train, y_train_preds))"
      ],
      "execution_count": null,
      "outputs": [
        {
          "output_type": "stream",
          "name": "stdout",
          "text": [
            "3.37031650816875\n",
            "2.6051299137680677\n"
          ]
        }
      ]
    },
    {
      "cell_type": "markdown",
      "source": [
        "**[3.4]** Print the RMSE and MAE scores for the testing set"
      ],
      "metadata": {
        "id": "8_1NqqAow3cn"
      }
    },
    {
      "cell_type": "code",
      "source": [
        "# Placeholder for student's code"
      ],
      "metadata": {
        "id": "rh_meYr-w3hZ"
      },
      "execution_count": null,
      "outputs": []
    },
    {
      "cell_type": "code",
      "source": [
        "# Solution\n",
        "y_test_preds = ridge_reg.predict(X_test)\n",
        "print(mse(y_test, y_test_preds, squared=False))\n",
        "print(mae(y_test, y_test_preds))"
      ],
      "metadata": {
        "colab": {
          "base_uri": "https://localhost:8080/"
        },
        "id": "N6GZKU2bw3k-",
        "outputId": "9f49e0c0-8a48-4984-f584-140e3554fed4"
      },
      "execution_count": null,
      "outputs": [
        {
          "output_type": "stream",
          "name": "stdout",
          "text": [
            "2.8879337925201995\n",
            "2.288566550216823\n"
          ]
        }
      ]
    },
    {
      "cell_type": "markdown",
      "source": [
        "### 4. Train Elastinet Model\n"
      ],
      "metadata": {
        "id": "iOjiVbwG2amF"
      }
    },
    {
      "cell_type": "markdown",
      "source": [
        "**[4.1]** Import the ElasticNet module from sklearn"
      ],
      "metadata": {
        "id": "FhlKmsjN2a5A"
      }
    },
    {
      "cell_type": "code",
      "source": [
        "# Placeholder for student's code"
      ],
      "metadata": {
        "id": "AOJwKyj32a_l"
      },
      "execution_count": null,
      "outputs": []
    },
    {
      "cell_type": "code",
      "source": [
        "# Solution\n",
        "from sklearn.linear_model import ElasticNet "
      ],
      "metadata": {
        "id": "_7oZzY4z2bbc"
      },
      "execution_count": null,
      "outputs": []
    },
    {
      "cell_type": "markdown",
      "source": [
        "**[4.2]** Instantiate the ElasticNet class into a variable called elasticnet_reg and fit it on the training set"
      ],
      "metadata": {
        "id": "gWRx7o1n2qAH"
      }
    },
    {
      "cell_type": "code",
      "source": [
        "# Placeholder for student's code"
      ],
      "metadata": {
        "id": "L9zEvmDE2qGf"
      },
      "execution_count": null,
      "outputs": []
    },
    {
      "cell_type": "code",
      "source": [
        "# Solution\n",
        "elasticnet_reg = ElasticNet()\n",
        "elasticnet_reg.fit(X_train, y_train)"
      ],
      "metadata": {
        "colab": {
          "base_uri": "https://localhost:8080/"
        },
        "id": "HpYosTXg2qIz",
        "outputId": "52c0ff8a-25ce-43ac-e825-815fead52ee7"
      },
      "execution_count": null,
      "outputs": [
        {
          "output_type": "execute_result",
          "data": {
            "text/plain": [
              "ElasticNet()"
            ]
          },
          "metadata": {},
          "execution_count": 18
        }
      ]
    },
    {
      "cell_type": "markdown",
      "source": [
        "**[4.3]** Print the RMSE and MAE scores for the training set"
      ],
      "metadata": {
        "id": "To8a81mL20w2"
      }
    },
    {
      "cell_type": "code",
      "source": [
        "# Placeholder for student's code"
      ],
      "metadata": {
        "id": "FsMihtto202v"
      },
      "execution_count": null,
      "outputs": []
    },
    {
      "cell_type": "code",
      "source": [
        "# Solution\n",
        "y_train_preds = elasticnet_reg.predict(X_train)\n",
        "print(mse(y_train, y_train_preds, squared=False))\n",
        "print(mae(y_train, y_train_preds))"
      ],
      "metadata": {
        "colab": {
          "base_uri": "https://localhost:8080/"
        },
        "id": "QYc9d_yo2041",
        "outputId": "6db7320c-2561-41e9-98be-8a3f3d838af5"
      },
      "execution_count": null,
      "outputs": [
        {
          "output_type": "stream",
          "name": "stdout",
          "text": [
            "3.519255447413876\n",
            "2.682374303424249\n"
          ]
        }
      ]
    },
    {
      "cell_type": "markdown",
      "source": [
        "**[4.4]** Print the RMSE and MAE scores for the testing set"
      ],
      "metadata": {
        "id": "4RYXcsec3Aqd"
      }
    },
    {
      "cell_type": "code",
      "source": [
        "# Placeholder for student's code"
      ],
      "metadata": {
        "id": "XEJdx8_73AvN"
      },
      "execution_count": null,
      "outputs": []
    },
    {
      "cell_type": "code",
      "source": [
        "# Solution\n",
        "y_test_preds = elasticnet_reg.predict(X_test)\n",
        "print(mse(y_test, y_test_preds, squared=False))\n",
        "print(mae(y_test, y_test_preds))"
      ],
      "metadata": {
        "colab": {
          "base_uri": "https://localhost:8080/"
        },
        "id": "PO6gE36m3Axw",
        "outputId": "39eccf1b-d94d-4c30-eb7e-188b5d5bf33d"
      },
      "execution_count": null,
      "outputs": [
        {
          "output_type": "stream",
          "name": "stdout",
          "text": [
            "3.0247039198496593\n",
            "2.4272833353348986\n"
          ]
        }
      ]
    }
  ]
}