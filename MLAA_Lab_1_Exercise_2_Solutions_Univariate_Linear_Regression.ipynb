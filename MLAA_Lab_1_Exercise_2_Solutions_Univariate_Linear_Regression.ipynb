{
  "nbformat": 4,
  "nbformat_minor": 0,
  "metadata": {
    "colab": {
      "provenance": [],
      "include_colab_link": true
    },
    "kernelspec": {
      "name": "python3",
      "display_name": "Python 3"
    }
  },
  "cells": [
    {
      "cell_type": "markdown",
      "metadata": {
        "id": "view-in-github",
        "colab_type": "text"
      },
      "source": [
        "<a href=\"https://colab.research.google.com/github/wongwara/AT1-ML_cancer/blob/main/MLAA_Lab_1_Exercise_2_Solutions_Univariate_Linear_Regression.ipynb\" target=\"_parent\"><img src=\"https://colab.research.google.com/assets/colab-badge.svg\" alt=\"Open In Colab\"/></a>"
      ]
    },
    {
      "cell_type": "markdown",
      "metadata": {
        "id": "uQ6wc2HE0pke"
      },
      "source": [
        "# **Lab 1: Linear Regression**\n",
        "\n",
        "During the first lecture, you have been introduced to Univariate and Multivariate Linear Regression. In this lab, we will see how to train such models using sklearn.\n"
      ]
    },
    {
      "cell_type": "markdown",
      "metadata": {
        "id": "tQgxLRrvjiJb"
      },
      "source": [
        "## Exercise 2: Univariate Linear Regression\n",
        "\n",
        "We are going to use a dataset from The World Bank organisation which contains some keys indicators on Australia (https://data.worldbank.org/country/AU).\n",
        "\n",
        "We will be loading the dataset from the following link:\n",
        "https://raw.githubusercontent.com/aso-uts/mlaa/main/datasets/lab1/ex2/WorldBank_OpenData_Australia.csv\n",
        "\n",
        "We will build an univariate linear regression model that will predict the \"CO2 emissions (kt)\" in Australia from the population feature.\n",
        "\n",
        "The steps are:\n",
        "1.   Load and explore dataset\n",
        "2.   Visualise relationship between target and feature\n",
        "3.   Data Preparation\n",
        "4.   Assess Baseline Performance\n",
        "5.   Train Univariate Linear Regression Model\n",
        "6.   Analyse Model's Performance"
      ]
    },
    {
      "cell_type": "markdown",
      "metadata": {
        "id": "smh_LhVjIg9s"
      },
      "source": [
        "### 1. Load and Explore Dataset"
      ]
    },
    {
      "cell_type": "markdown",
      "metadata": {
        "id": "7rJL-1q04KcV"
      },
      "source": [
        "**[1.1]** Import the pandas package"
      ]
    },
    {
      "cell_type": "code",
      "metadata": {
        "id": "IYGqPVAt4Rph"
      },
      "source": [
        "# Placeholder for student's code"
      ],
      "execution_count": null,
      "outputs": []
    },
    {
      "cell_type": "code",
      "metadata": {
        "id": "faNd47YOMyk0"
      },
      "source": [
        "# Solution\n",
        "import pandas as pd"
      ],
      "execution_count": null,
      "outputs": []
    },
    {
      "cell_type": "markdown",
      "metadata": {
        "id": "8W_aIXKC5pQ0"
      },
      "source": [
        "**[1.2]** Create a variable called file_url containing the link to the CSV file"
      ]
    },
    {
      "cell_type": "code",
      "metadata": {
        "id": "wgLKzqDb551C"
      },
      "source": [
        "# Placeholder for student's code"
      ],
      "execution_count": null,
      "outputs": []
    },
    {
      "cell_type": "code",
      "metadata": {
        "id": "8wAkIzX4MlfL"
      },
      "source": [
        "# Solution\n",
        "file_url = 'https://raw.githubusercontent.com/aso-uts/mlaa/main/datasets/lab1/ex2/WorldBank_OpenData_Australia.csv'"
      ],
      "execution_count": null,
      "outputs": []
    },
    {
      "cell_type": "markdown",
      "metadata": {
        "id": "CDoBj0-aO_mf"
      },
      "source": [
        "**[1.3]** Load the data into a DataFrame called df"
      ]
    },
    {
      "cell_type": "code",
      "metadata": {
        "id": "9FHeJY5fImb_"
      },
      "source": [
        "df = pd.read_csv(file_url)"
      ],
      "execution_count": null,
      "outputs": []
    },
    {
      "cell_type": "markdown",
      "metadata": {
        "id": "QvJDAGTP6OjA"
      },
      "source": [
        "**[1.4]** Display the data of df\n",
        "\n"
      ]
    },
    {
      "cell_type": "code",
      "metadata": {
        "id": "vqQyefaiN0CB",
        "colab": {
          "base_uri": "https://localhost:8080/",
          "height": 206
        },
        "outputId": "1dc2467b-f81a-49df-cd75-a0ea0e5aecde"
      },
      "source": [
        "df.head()"
      ],
      "execution_count": null,
      "outputs": [
        {
          "output_type": "execute_result",
          "data": {
            "text/plain": [
              "   Year  Population  Life_expectancy  Urban_population         CO2  Land_area  \\\n",
              "0  1960    10276477        70.817073         54.199946   88202.351  7682300.0   \n",
              "1  1961    10483000        70.973171         54.615272   90589.568  7682300.0   \n",
              "2  1962    10742000        70.942439         54.662232   94912.961  7682300.0   \n",
              "3  1963    10950000        70.911707         54.998932  101029.517  7682300.0   \n",
              "4  1964    11167000        70.880976         55.317928  108979.573  7682300.0   \n",
              "\n",
              "           GDP  Gross_savings  Interest_rate  \n",
              "0  18577668272      31.185194            NaN  \n",
              "1  19652816665      30.635970       2.207440  \n",
              "2  19892485161      28.926923       5.579625  \n",
              "3  21507447643      29.920850       3.273874  \n",
              "4  23764139321      31.226731       1.731211  "
            ],
            "text/html": [
              "\n",
              "  <div id=\"df-025cb738-d67d-45d0-9347-ccb2c8c8f41b\">\n",
              "    <div class=\"colab-df-container\">\n",
              "      <div>\n",
              "<style scoped>\n",
              "    .dataframe tbody tr th:only-of-type {\n",
              "        vertical-align: middle;\n",
              "    }\n",
              "\n",
              "    .dataframe tbody tr th {\n",
              "        vertical-align: top;\n",
              "    }\n",
              "\n",
              "    .dataframe thead th {\n",
              "        text-align: right;\n",
              "    }\n",
              "</style>\n",
              "<table border=\"1\" class=\"dataframe\">\n",
              "  <thead>\n",
              "    <tr style=\"text-align: right;\">\n",
              "      <th></th>\n",
              "      <th>Year</th>\n",
              "      <th>Population</th>\n",
              "      <th>Life_expectancy</th>\n",
              "      <th>Urban_population</th>\n",
              "      <th>CO2</th>\n",
              "      <th>Land_area</th>\n",
              "      <th>GDP</th>\n",
              "      <th>Gross_savings</th>\n",
              "      <th>Interest_rate</th>\n",
              "    </tr>\n",
              "  </thead>\n",
              "  <tbody>\n",
              "    <tr>\n",
              "      <th>0</th>\n",
              "      <td>1960</td>\n",
              "      <td>10276477</td>\n",
              "      <td>70.817073</td>\n",
              "      <td>54.199946</td>\n",
              "      <td>88202.351</td>\n",
              "      <td>7682300.0</td>\n",
              "      <td>18577668272</td>\n",
              "      <td>31.185194</td>\n",
              "      <td>NaN</td>\n",
              "    </tr>\n",
              "    <tr>\n",
              "      <th>1</th>\n",
              "      <td>1961</td>\n",
              "      <td>10483000</td>\n",
              "      <td>70.973171</td>\n",
              "      <td>54.615272</td>\n",
              "      <td>90589.568</td>\n",
              "      <td>7682300.0</td>\n",
              "      <td>19652816665</td>\n",
              "      <td>30.635970</td>\n",
              "      <td>2.207440</td>\n",
              "    </tr>\n",
              "    <tr>\n",
              "      <th>2</th>\n",
              "      <td>1962</td>\n",
              "      <td>10742000</td>\n",
              "      <td>70.942439</td>\n",
              "      <td>54.662232</td>\n",
              "      <td>94912.961</td>\n",
              "      <td>7682300.0</td>\n",
              "      <td>19892485161</td>\n",
              "      <td>28.926923</td>\n",
              "      <td>5.579625</td>\n",
              "    </tr>\n",
              "    <tr>\n",
              "      <th>3</th>\n",
              "      <td>1963</td>\n",
              "      <td>10950000</td>\n",
              "      <td>70.911707</td>\n",
              "      <td>54.998932</td>\n",
              "      <td>101029.517</td>\n",
              "      <td>7682300.0</td>\n",
              "      <td>21507447643</td>\n",
              "      <td>29.920850</td>\n",
              "      <td>3.273874</td>\n",
              "    </tr>\n",
              "    <tr>\n",
              "      <th>4</th>\n",
              "      <td>1964</td>\n",
              "      <td>11167000</td>\n",
              "      <td>70.880976</td>\n",
              "      <td>55.317928</td>\n",
              "      <td>108979.573</td>\n",
              "      <td>7682300.0</td>\n",
              "      <td>23764139321</td>\n",
              "      <td>31.226731</td>\n",
              "      <td>1.731211</td>\n",
              "    </tr>\n",
              "  </tbody>\n",
              "</table>\n",
              "</div>\n",
              "      <button class=\"colab-df-convert\" onclick=\"convertToInteractive('df-025cb738-d67d-45d0-9347-ccb2c8c8f41b')\"\n",
              "              title=\"Convert this dataframe to an interactive table.\"\n",
              "              style=\"display:none;\">\n",
              "        \n",
              "  <svg xmlns=\"http://www.w3.org/2000/svg\" height=\"24px\"viewBox=\"0 0 24 24\"\n",
              "       width=\"24px\">\n",
              "    <path d=\"M0 0h24v24H0V0z\" fill=\"none\"/>\n",
              "    <path d=\"M18.56 5.44l.94 2.06.94-2.06 2.06-.94-2.06-.94-.94-2.06-.94 2.06-2.06.94zm-11 1L8.5 8.5l.94-2.06 2.06-.94-2.06-.94L8.5 2.5l-.94 2.06-2.06.94zm10 10l.94 2.06.94-2.06 2.06-.94-2.06-.94-.94-2.06-.94 2.06-2.06.94z\"/><path d=\"M17.41 7.96l-1.37-1.37c-.4-.4-.92-.59-1.43-.59-.52 0-1.04.2-1.43.59L10.3 9.45l-7.72 7.72c-.78.78-.78 2.05 0 2.83L4 21.41c.39.39.9.59 1.41.59.51 0 1.02-.2 1.41-.59l7.78-7.78 2.81-2.81c.8-.78.8-2.07 0-2.86zM5.41 20L4 18.59l7.72-7.72 1.47 1.35L5.41 20z\"/>\n",
              "  </svg>\n",
              "      </button>\n",
              "      \n",
              "  <style>\n",
              "    .colab-df-container {\n",
              "      display:flex;\n",
              "      flex-wrap:wrap;\n",
              "      gap: 12px;\n",
              "    }\n",
              "\n",
              "    .colab-df-convert {\n",
              "      background-color: #E8F0FE;\n",
              "      border: none;\n",
              "      border-radius: 50%;\n",
              "      cursor: pointer;\n",
              "      display: none;\n",
              "      fill: #1967D2;\n",
              "      height: 32px;\n",
              "      padding: 0 0 0 0;\n",
              "      width: 32px;\n",
              "    }\n",
              "\n",
              "    .colab-df-convert:hover {\n",
              "      background-color: #E2EBFA;\n",
              "      box-shadow: 0px 1px 2px rgba(60, 64, 67, 0.3), 0px 1px 3px 1px rgba(60, 64, 67, 0.15);\n",
              "      fill: #174EA6;\n",
              "    }\n",
              "\n",
              "    [theme=dark] .colab-df-convert {\n",
              "      background-color: #3B4455;\n",
              "      fill: #D2E3FC;\n",
              "    }\n",
              "\n",
              "    [theme=dark] .colab-df-convert:hover {\n",
              "      background-color: #434B5C;\n",
              "      box-shadow: 0px 1px 3px 1px rgba(0, 0, 0, 0.15);\n",
              "      filter: drop-shadow(0px 1px 2px rgba(0, 0, 0, 0.3));\n",
              "      fill: #FFFFFF;\n",
              "    }\n",
              "  </style>\n",
              "\n",
              "      <script>\n",
              "        const buttonEl =\n",
              "          document.querySelector('#df-025cb738-d67d-45d0-9347-ccb2c8c8f41b button.colab-df-convert');\n",
              "        buttonEl.style.display =\n",
              "          google.colab.kernel.accessAllowed ? 'block' : 'none';\n",
              "\n",
              "        async function convertToInteractive(key) {\n",
              "          const element = document.querySelector('#df-025cb738-d67d-45d0-9347-ccb2c8c8f41b');\n",
              "          const dataTable =\n",
              "            await google.colab.kernel.invokeFunction('convertToInteractive',\n",
              "                                                     [key], {});\n",
              "          if (!dataTable) return;\n",
              "\n",
              "          const docLinkHtml = 'Like what you see? Visit the ' +\n",
              "            '<a target=\"_blank\" href=https://colab.research.google.com/notebooks/data_table.ipynb>data table notebook</a>'\n",
              "            + ' to learn more about interactive tables.';\n",
              "          element.innerHTML = '';\n",
              "          dataTable['output_type'] = 'display_data';\n",
              "          await google.colab.output.renderOutput(dataTable, element);\n",
              "          const docLink = document.createElement('div');\n",
              "          docLink.innerHTML = docLinkHtml;\n",
              "          element.appendChild(docLink);\n",
              "        }\n",
              "      </script>\n",
              "    </div>\n",
              "  </div>\n",
              "  "
            ]
          },
          "metadata": {},
          "execution_count": 6
        }
      ]
    },
    {
      "cell_type": "markdown",
      "metadata": {
        "id": "i--1PZM7Nxo3"
      },
      "source": [
        "### 2. Visualise relationship between target and feature"
      ]
    },
    {
      "cell_type": "markdown",
      "source": [
        "**[2.1]** Import the altair package"
      ],
      "metadata": {
        "id": "184zFSh-1h3n"
      }
    },
    {
      "cell_type": "code",
      "source": [
        "# Placeholder for student's code"
      ],
      "metadata": {
        "id": "kz6Vl9Tb1jD6"
      },
      "execution_count": null,
      "outputs": []
    },
    {
      "cell_type": "code",
      "source": [
        "# Solution\n",
        "import altair as alt"
      ],
      "metadata": {
        "id": "r-D7fN3d1jI3"
      },
      "execution_count": null,
      "outputs": []
    },
    {
      "cell_type": "markdown",
      "metadata": {
        "id": "KME3udIL5ZGf"
      },
      "source": [
        "**[2.1]** Create a scatter plot with Population as the x-axis and CO2 as the y-axis"
      ]
    },
    {
      "cell_type": "code",
      "source": [
        "# Placeholder for student's code"
      ],
      "metadata": {
        "id": "JKbOCVObD6uX"
      },
      "execution_count": null,
      "outputs": []
    },
    {
      "cell_type": "code",
      "metadata": {
        "id": "bbNDNu-lm6gd",
        "colab": {
          "base_uri": "https://localhost:8080/",
          "height": 368
        },
        "outputId": "5d40725a-4418-4093-8cc7-ede838e416b9"
      },
      "source": [
        "# Solution\n",
        "scatter_chart = alt.Chart(df).mark_circle(size=60, color='orange').encode(\n",
        "    x='Population',\n",
        "    y='CO2'\n",
        ")\n",
        "scatter_chart"
      ],
      "execution_count": null,
      "outputs": [
        {
          "output_type": "execute_result",
          "data": {
            "text/html": [
              "\n",
              "<div id=\"altair-viz-84833239a7584ab0b5007c4e90706a22\"></div>\n",
              "<script type=\"text/javascript\">\n",
              "  var VEGA_DEBUG = (typeof VEGA_DEBUG == \"undefined\") ? {} : VEGA_DEBUG;\n",
              "  (function(spec, embedOpt){\n",
              "    let outputDiv = document.currentScript.previousElementSibling;\n",
              "    if (outputDiv.id !== \"altair-viz-84833239a7584ab0b5007c4e90706a22\") {\n",
              "      outputDiv = document.getElementById(\"altair-viz-84833239a7584ab0b5007c4e90706a22\");\n",
              "    }\n",
              "    const paths = {\n",
              "      \"vega\": \"https://cdn.jsdelivr.net/npm//vega@5?noext\",\n",
              "      \"vega-lib\": \"https://cdn.jsdelivr.net/npm//vega-lib?noext\",\n",
              "      \"vega-lite\": \"https://cdn.jsdelivr.net/npm//vega-lite@4.17.0?noext\",\n",
              "      \"vega-embed\": \"https://cdn.jsdelivr.net/npm//vega-embed@6?noext\",\n",
              "    };\n",
              "\n",
              "    function maybeLoadScript(lib, version) {\n",
              "      var key = `${lib.replace(\"-\", \"\")}_version`;\n",
              "      return (VEGA_DEBUG[key] == version) ?\n",
              "        Promise.resolve(paths[lib]) :\n",
              "        new Promise(function(resolve, reject) {\n",
              "          var s = document.createElement('script');\n",
              "          document.getElementsByTagName(\"head\")[0].appendChild(s);\n",
              "          s.async = true;\n",
              "          s.onload = () => {\n",
              "            VEGA_DEBUG[key] = version;\n",
              "            return resolve(paths[lib]);\n",
              "          };\n",
              "          s.onerror = () => reject(`Error loading script: ${paths[lib]}`);\n",
              "          s.src = paths[lib];\n",
              "        });\n",
              "    }\n",
              "\n",
              "    function showError(err) {\n",
              "      outputDiv.innerHTML = `<div class=\"error\" style=\"color:red;\">${err}</div>`;\n",
              "      throw err;\n",
              "    }\n",
              "\n",
              "    function displayChart(vegaEmbed) {\n",
              "      vegaEmbed(outputDiv, spec, embedOpt)\n",
              "        .catch(err => showError(`Javascript Error: ${err.message}<br>This usually means there's a typo in your chart specification. See the javascript console for the full traceback.`));\n",
              "    }\n",
              "\n",
              "    if(typeof define === \"function\" && define.amd) {\n",
              "      requirejs.config({paths});\n",
              "      require([\"vega-embed\"], displayChart, err => showError(`Error loading script: ${err.message}`));\n",
              "    } else {\n",
              "      maybeLoadScript(\"vega\", \"5\")\n",
              "        .then(() => maybeLoadScript(\"vega-lite\", \"4.17.0\"))\n",
              "        .then(() => maybeLoadScript(\"vega-embed\", \"6\"))\n",
              "        .catch(showError)\n",
              "        .then(() => displayChart(vegaEmbed));\n",
              "    }\n",
              "  })({\"config\": {\"view\": {\"continuousWidth\": 400, \"continuousHeight\": 300}}, \"data\": {\"name\": \"data-5bf6e4b8fe0da1d7f515c5cf33476e40\"}, \"mark\": {\"type\": \"circle\", \"color\": \"orange\", \"size\": 60}, \"encoding\": {\"x\": {\"field\": \"Population\", \"type\": \"quantitative\"}, \"y\": {\"field\": \"CO2\", \"type\": \"quantitative\"}}, \"$schema\": \"https://vega.github.io/schema/vega-lite/v4.17.0.json\", \"datasets\": {\"data-5bf6e4b8fe0da1d7f515c5cf33476e40\": [{\"Year\": 1960, \"Population\": 10276477, \"Life_expectancy\": 70.81707317, \"Urban_population\": 54.19994615, \"CO2\": 88202.351, \"Land_area\": 7682300.0, \"GDP\": 18577668272, \"Gross_savings\": 31.18519412, \"Interest_rate\": null}, {\"Year\": 1961, \"Population\": 10483000, \"Life_expectancy\": 70.97317073, \"Urban_population\": 54.61527235, \"CO2\": 90589.568, \"Land_area\": 7682300.0, \"GDP\": 19652816665, \"Gross_savings\": 30.63596991, \"Interest_rate\": 2.207440174}, {\"Year\": 1962, \"Population\": 10742000, \"Life_expectancy\": 70.94243902, \"Urban_population\": 54.66223236, \"CO2\": 94912.961, \"Land_area\": 7682300.0, \"GDP\": 19892485161, \"Gross_savings\": 28.92692264, \"Interest_rate\": 5.579624519}, {\"Year\": 1963, \"Population\": 10950000, \"Life_expectancy\": 70.91170732, \"Urban_population\": 54.99893151, \"CO2\": 101029.517, \"Land_area\": 7682300.0, \"GDP\": 21507447643, \"Gross_savings\": 29.92084982, \"Interest_rate\": 3.273873961}, {\"Year\": 1964, \"Population\": 11167000, \"Life_expectancy\": 70.88097561, \"Urban_population\": 55.31792782, \"CO2\": 108979.573, \"Land_area\": 7682300.0, \"GDP\": 23764139321, \"Gross_savings\": 31.22673076, \"Interest_rate\": 1.731210559}, {\"Year\": 1965, \"Population\": 11388000, \"Life_expectancy\": 70.8502439, \"Urban_population\": 55.63934844, \"CO2\": 120966.996, \"Land_area\": 7682300.0, \"GDP\": 25936835032, \"Gross_savings\": 31.08942528, \"Interest_rate\": 2.26418151}, {\"Year\": 1966, \"Population\": 11651000, \"Life_expectancy\": 70.8195122, \"Urban_population\": 55.79005236, \"CO2\": 120332.605, \"Land_area\": 7682300.0, \"GDP\": 27268451114, \"Gross_savings\": 29.41514703, \"Interest_rate\": 2.617167504}, {\"Year\": 1967, \"Population\": 11799000, \"Life_expectancy\": 70.86926829, \"Urban_population\": 57.71173828, \"CO2\": 129265.417, \"Land_area\": 7682300.0, \"GDP\": 30397580916, \"Gross_savings\": 31.17308968, \"Interest_rate\": 0.4853115037}, {\"Year\": 1968, \"Population\": 12009000, \"Life_expectancy\": 70.91902439, \"Urban_population\": 59.4116829, \"CO2\": 134622.904, \"Land_area\": 7682300.0, \"GDP\": 32665472057, \"Gross_savings\": 29.58137621, \"Interest_rate\": 3.259768631}, {\"Year\": 1969, \"Population\": 12263000, \"Life_expectancy\": 70.96878049, \"Urban_population\": 60.96052353, \"CO2\": 142257.598, \"Land_area\": 7682300.0, \"GDP\": 36628961810, \"Gross_savings\": 31.80456185, \"Interest_rate\": 1.069711235}, {\"Year\": 1970, \"Population\": 12507000, \"Life_expectancy\": 71.01853659, \"Urban_population\": 62.63852243, \"CO2\": 147618.752, \"Land_area\": 7682300.0, \"GDP\": 41271138985, \"Gross_savings\": 32.67482565, \"Interest_rate\": 1.68652945}, {\"Year\": 1971, \"Population\": 12937000, \"Life_expectancy\": 71.06829268, \"Urban_population\": 63.45899358, \"CO2\": 152774.554, \"Land_area\": 7682300.0, \"GDP\": 45149512823, \"Gross_savings\": 31.58456119, \"Interest_rate\": 1.962288622}, {\"Year\": 1972, \"Population\": 13177000, \"Life_expectancy\": 71.45756098, \"Urban_population\": 63.10311907, \"CO2\": 157486.649, \"Land_area\": 7682300.0, \"GDP\": 51967289720, \"Gross_savings\": 30.9302221, \"Interest_rate\": 0.7833603106}, {\"Year\": 1973, \"Population\": 13380000, \"Life_expectancy\": 71.84682927, \"Urban_population\": 62.94321375, \"CO2\": 170992.21, \"Land_area\": 7682300.0, \"GDP\": 63737347854, \"Gross_savings\": 30.9003558, \"Interest_rate\": -1.504191056}, {\"Year\": 1974, \"Population\": 13723000, \"Life_expectancy\": 72.23609756, \"Urban_population\": 62.16038038, \"CO2\": 172356.334, \"Land_area\": 7682300.0, \"GDP\": 88831245394, \"Gross_savings\": 31.98500133, \"Interest_rate\": -6.020115362}, {\"Year\": 1975, \"Population\": 13893000, \"Life_expectancy\": 72.62536585, \"Urban_population\": 62.19234147, \"CO2\": 175883.988, \"Land_area\": 7682300.0, \"GDP\": 97170558514, \"Gross_savings\": 27.25624666, \"Interest_rate\": -5.337893848}, {\"Year\": 1976, \"Population\": 14033000, \"Life_expectancy\": 73.01463415, \"Urban_population\": 62.36882349, \"CO2\": 174244.839, \"Land_area\": 7682300.0, \"GDP\": 104921215177, \"Gross_savings\": 26.26931302, \"Interest_rate\": -3.598997077}, {\"Year\": 1977, \"Population\": 14192000, \"Life_expectancy\": 73.34439024, \"Urban_population\": 62.30374154, \"CO2\": 187787.07, \"Land_area\": 7682300.0, \"GDP\": 110201881165, \"Gross_savings\": 25.76763745, \"Interest_rate\": -1.384973093}, {\"Year\": 1978, \"Population\": 14358000, \"Life_expectancy\": 73.67414634, \"Urban_population\": 62.21857501, \"CO2\": 202015.03, \"Land_area\": 7682300.0, \"GDP\": 118338596887, \"Gross_savings\": 24.24537024, \"Interest_rate\": 1.052514096}, {\"Year\": 1979, \"Population\": 14514000, \"Life_expectancy\": 74.00390244, \"Urban_population\": 62.18616508, \"CO2\": 205069.641, \"Land_area\": 7682300.0, \"GDP\": 134712029990, \"Gross_savings\": 25.90756154, \"Interest_rate\": 0.4514676838}, {\"Year\": 1980, \"Population\": 14692000, \"Life_expectancy\": 74.33365854, \"Urban_population\": 62.07028315, \"CO2\": 220746.066, \"Land_area\": 7682300.0, \"GDP\": 149774930362, \"Gross_savings\": 26.79526569, \"Interest_rate\": -0.03343452245}, {\"Year\": 1981, \"Population\": 14927000, \"Life_expectancy\": 74.66341463, \"Urban_population\": 61.72776177, \"CO2\": 230360.94, \"Land_area\": 7682300.0, \"GDP\": 176642284918, \"Gross_savings\": 26.1117903, \"Interest_rate\": 2.10702243}, {\"Year\": 1982, \"Population\": 15178000, \"Life_expectancy\": 74.90487805, \"Urban_population\": 61.51278166, \"CO2\": 234119.615, \"Land_area\": 7682300.0, \"GDP\": 193770274743, \"Gross_savings\": 26.11579942, \"Interest_rate\": 1.416275825}, {\"Year\": 1983, \"Population\": 15369000, \"Life_expectancy\": 75.14634146, \"Urban_population\": 61.55641877, \"CO2\": 225003.453, \"Land_area\": 7682300.0, \"GDP\": 177030416472, \"Gross_savings\": 22.20483514, \"Interest_rate\": 2.050566334}, {\"Year\": 1984, \"Population\": 15544000, \"Life_expectancy\": 75.38780488, \"Urban_population\": 61.6758878, \"CO2\": 236594.84, \"Land_area\": 7682300.0, \"GDP\": 193242166274, \"Gross_savings\": 24.80340054, \"Interest_rate\": 3.371675151}, {\"Year\": 1985, \"Population\": 15758000, \"Life_expectancy\": 75.62926829, \"Urban_population\": 61.64999365, \"CO2\": 241229.928, \"Land_area\": 7682300.0, \"GDP\": 180234716576, \"Gross_savings\": 25.8154163, \"Interest_rate\": 7.444255902}, {\"Year\": 1986, \"Population\": 16018400, \"Life_expectancy\": 75.87073171, \"Urban_population\": 61.46020202, \"CO2\": 239964.813, \"Land_area\": 7682300.0, \"GDP\": 182036933408, \"Gross_savings\": 24.62227175, \"Interest_rate\": 8.026114619}, {\"Year\": 1987, \"Population\": 16263900, \"Life_expectancy\": 76.15170732, \"Urban_population\": 61.43003831, \"CO2\": 256106.947, \"Land_area\": 7682300.0, \"GDP\": 189060349391, \"Gross_savings\": 24.21248267, \"Interest_rate\": 7.501286052}, {\"Year\": 1988, \"Population\": 16532200, \"Life_expectancy\": 76.43268293, \"Urban_population\": 61.33214575, \"CO2\": 261145.405, \"Land_area\": 7682300.0, \"GDP\": 235659196740, \"Gross_savings\": 26.54790207, \"Interest_rate\": 6.411695294}, {\"Year\": 1989, \"Population\": 16814400, \"Life_expectancy\": 76.71365854, \"Urban_population\": 61.19913289, \"CO2\": 277771.583, \"Land_area\": 7682300.0, \"GDP\": 299267974921, \"Gross_savings\": 28.12198155, \"Interest_rate\": 6.596303523}, {\"Year\": 1990, \"Population\": 17065100, \"Life_expectancy\": 76.99463415, \"Urban_population\": 61.1993308, \"CO2\": 263704.971, \"Land_area\": 7682300.0, \"GDP\": 310777222008, \"Gross_savings\": 27.59530029, \"Interest_rate\": 9.669791408}, {\"Year\": 1991, \"Population\": 17284000, \"Life_expectancy\": 77.27560976, \"Urban_population\": 61.32585628, \"CO2\": 261471.768, \"Land_area\": 7682300.0, \"GDP\": 325310415195, \"Gross_savings\": 24.60902629, \"Interest_rate\": 10.07083699}, {\"Year\": 1992, \"Population\": 17495000, \"Life_expectancy\": 77.37804878, \"Urban_population\": 61.23496999, \"CO2\": 267984.36, \"Land_area\": 7682300.0, \"GDP\": 324878874106, \"Gross_savings\": 22.02490294, \"Interest_rate\": 8.946688063}, {\"Year\": 1993, \"Population\": 17667000, \"Life_expectancy\": 77.87804878, \"Urban_population\": 61.28799457, \"CO2\": 277397.549, \"Land_area\": 7682300.0, \"GDP\": 311544406970, \"Gross_savings\": 22.83475045, \"Interest_rate\": 8.447301476}, {\"Year\": 1994, \"Population\": 17855000, \"Life_expectancy\": 77.87804878, \"Urban_population\": 61.29451694, \"CO2\": 278119.948, \"Land_area\": 7682300.0, \"GDP\": 322211691456, \"Gross_savings\": 23.9491838, \"Interest_rate\": 7.984783638}, {\"Year\": 1995, \"Population\": 18072000, \"Life_expectancy\": 77.82926829, \"Urban_population\": 61.21115538, \"CO2\": 281860.288, \"Land_area\": 7682300.0, \"GDP\": 367216364716, \"Gross_savings\": 24.07924508, \"Interest_rate\": 8.054966025}, {\"Year\": 1996, \"Population\": 18311000, \"Life_expectancy\": 78.07804878, \"Urban_population\": 61.0644476, \"CO2\": 302164.467, \"Land_area\": 7682300.0, \"GDP\": 400302731411, \"Gross_savings\": 24.3973169, \"Interest_rate\": 6.848742914}, {\"Year\": 1997, \"Population\": 18517000, \"Life_expectancy\": 78.4804878, \"Urban_population\": 60.51489982, \"CO2\": 305794.797, \"Land_area\": 7682300.0, \"GDP\": 434568007513, \"Gross_savings\": 25.19147618, \"Interest_rate\": 5.861114393}, {\"Year\": 1998, \"Population\": 18711000, \"Life_expectancy\": 78.63170732, \"Urban_population\": 60.01842766, \"CO2\": 316883.805, \"Land_area\": 7682300.0, \"GDP\": 398899138574, \"Gross_savings\": 24.81172324, \"Interest_rate\": 5.342386955}, {\"Year\": 1999, \"Population\": 18926000, \"Life_expectancy\": 78.93170732, \"Urban_population\": 59.46843496, \"CO2\": 325343.574, \"Land_area\": 7682300.0, \"GDP\": 388608221582, \"Gross_savings\": 23.76749804, \"Interest_rate\": 6.187513529}, {\"Year\": 2000, \"Population\": 19153000, \"Life_expectancy\": 79.23414634, \"Urban_population\": 58.89639743, \"CO2\": 329443.28, \"Land_area\": 7682300.0, \"GDP\": 415222633926, \"Gross_savings\": 24.14835161, \"Interest_rate\": 5.00773849}, {\"Year\": 2001, \"Population\": 19413000, \"Life_expectancy\": 79.63414634, \"Urban_population\": 58.24218822, \"CO2\": 324844.862, \"Land_area\": 7682300.0, \"GDP\": 378376086723, \"Gross_savings\": 23.56602077, \"Interest_rate\": 2.122768612}, {\"Year\": 2002, \"Population\": 19651400, \"Life_expectancy\": 79.93658537, \"Urban_population\": 58.27181778, \"CO2\": 341353.696, \"Land_area\": 7682300.0, \"GDP\": 394648911679, \"Gross_savings\": 24.48502028, \"Interest_rate\": 3.404717507}, {\"Year\": 2003, \"Population\": 19895400, \"Life_expectancy\": 80.23902439, \"Urban_population\": 58.29543513, \"CO2\": 336271.234, \"Land_area\": 7682300.0, \"GDP\": 466488060571, \"Gross_savings\": 23.91043248, \"Interest_rate\": 3.393273388}, {\"Year\": 2004, \"Population\": 20127400, \"Life_expectancy\": 80.4902439, \"Urban_population\": 58.36546698, \"CO2\": 342699.485, \"Land_area\": 7682300.0, \"GDP\": 612490396927, \"Gross_savings\": 24.45789331, \"Interest_rate\": 3.619128093}, {\"Year\": 2005, \"Population\": 20394800, \"Life_expectancy\": 80.84146341, \"Urban_population\": 58.34166062, \"CO2\": 350172.831, \"Land_area\": 7682300.0, \"GDP\": 693407758232, \"Gross_savings\": 24.81799623, \"Interest_rate\": 3.334521094}, {\"Year\": 2006, \"Population\": 20697900, \"Life_expectancy\": 81.04146341, \"Urban_population\": 58.23126501, \"CO2\": 365346.877, \"Land_area\": 7682300.0, \"GDP\": 746054207847, \"Gross_savings\": 25.78816374, \"Interest_rate\": 2.39807602}, {\"Year\": 2007, \"Population\": 20827600, \"Life_expectancy\": 81.29268293, \"Urban_population\": 59.02911041, \"CO2\": 372090.49, \"Land_area\": 7682300.0, \"GDP\": 853099630996, \"Gross_savings\": 25.92718709, \"Interest_rate\": 3.032237433}, {\"Year\": 2008, \"Population\": 21249200, \"Life_expectancy\": 81.39512195, \"Urban_population\": 59.02113962, \"CO2\": 385904.079, \"Land_area\": 7682300.0, \"GDP\": 1053995523724, \"Gross_savings\": 26.11743861, \"Interest_rate\": 4.192998028}, {\"Year\": 2009, \"Population\": 21691700, \"Life_expectancy\": 81.54390244, \"Urban_population\": 58.97763661, \"CO2\": 394792.887, \"Land_area\": 7682300.0, \"GDP\": 927805183331, \"Gross_savings\": 27.6077753, \"Interest_rate\": 0.9704164202}, {\"Year\": 2010, \"Population\": 22031750, \"Life_expectancy\": 81.69512195, \"Urban_population\": 59.23583465, \"CO2\": 390861.863, \"Land_area\": 7682300.0, \"GDP\": 1146138465604, \"Gross_savings\": 25.82163846, \"Interest_rate\": 6.041415743}, {\"Year\": 2011, \"Population\": 22340024, \"Life_expectancy\": 81.89512195, \"Urban_population\": 59.5951777, \"CO2\": 391818.95, \"Land_area\": 7682300.0, \"GDP\": 1396649906339, \"Gross_savings\": 27.47345446, \"Interest_rate\": 1.397395241}, {\"Year\": 2012, \"Population\": 22733465, \"Life_expectancy\": 82.04634146, \"Urban_population\": 59.68724961, \"CO2\": 388126.281, \"Land_area\": 7682300.0, \"GDP\": 1546151783873, \"Gross_savings\": 27.49393447, \"Interest_rate\": 5.025178277}, {\"Year\": 2013, \"Population\": 23128129, \"Life_expectancy\": 82.14878049, \"Urban_population\": 59.79226422, \"CO2\": 372266.506, \"Land_area\": 7682300.0, \"GDP\": 1576184467015, \"Gross_savings\": 26.59976164, \"Interest_rate\": 6.311181032}, {\"Year\": 2014, \"Population\": 23475686, \"Life_expectancy\": 82.3, \"Urban_population\": 60.03789197, \"CO2\": 361261.839, \"Land_area\": 7682300.0, \"GDP\": 1467483705132, \"Gross_savings\": 26.31805471, \"Interest_rate\": 4.405248823}, {\"Year\": 2015, \"Population\": 23815995, \"Life_expectancy\": 82.4, \"Urban_population\": 60.31729516, \"CO2\": null, \"Land_area\": 7692020.0, \"GDP\": 1351693984525, \"Gross_savings\": 24.74601456, \"Interest_rate\": 6.158502557}, {\"Year\": 2016, \"Population\": 24190907, \"Life_expectancy\": 82.44878049, \"Urban_population\": 60.52645318, \"CO2\": null, \"Land_area\": 7692020.0, \"GDP\": 1208846993740, \"Gross_savings\": 23.0965115, \"Interest_rate\": 5.985742318}, {\"Year\": 2017, \"Population\": 24601860, \"Life_expectancy\": 82.5, \"Urban_population\": 60.66312466, \"CO2\": null, \"Land_area\": 7692020.0, \"GDP\": 1330135756844, \"Gross_savings\": 24.68719293, \"Interest_rate\": 1.450510829}, {\"Year\": 2018, \"Population\": 24982688, \"Life_expectancy\": 82.74878049, \"Urban_population\": 60.89161823, \"CO2\": null, \"Land_area\": null, \"GDP\": 1433904348500, \"Gross_savings\": 24.90799403, \"Interest_rate\": 3.303623962}]}}, {\"mode\": \"vega-lite\"});\n",
              "</script>"
            ],
            "text/plain": [
              "alt.Chart(...)"
            ]
          },
          "metadata": {},
          "execution_count": 10
        }
      ]
    },
    {
      "cell_type": "markdown",
      "metadata": {
        "id": "JY5PGg42N3RK"
      },
      "source": [
        "### 3. Data Preparation"
      ]
    },
    {
      "cell_type": "markdown",
      "metadata": {
        "id": "NXWjgo9KN6_X"
      },
      "source": [
        "**[3.1]** Delete any missing values on the CO2 and Population columns"
      ]
    },
    {
      "cell_type": "code",
      "metadata": {
        "id": "e0WITFgj8BoF"
      },
      "source": [
        "df_cleaned = df.dropna(how='any', subset=['CO2'])"
      ],
      "execution_count": null,
      "outputs": []
    },
    {
      "cell_type": "markdown",
      "metadata": {
        "id": "_cDc3nKr9Loz"
      },
      "source": [
        "**[3.2]** Extract the feature and target respectively into 2 variables called X and y"
      ]
    },
    {
      "cell_type": "code",
      "metadata": {
        "id": "7_A8bcTwDkJr"
      },
      "source": [
        "# Placeholder for student's code"
      ],
      "execution_count": null,
      "outputs": []
    },
    {
      "cell_type": "code",
      "metadata": {
        "id": "Fdu4yB5pm6V6"
      },
      "source": [
        "# Solution\n",
        "X = df_cleaned['Population'].values\n",
        "y = df_cleaned['CO2'].values"
      ],
      "execution_count": null,
      "outputs": []
    },
    {
      "cell_type": "markdown",
      "metadata": {
        "id": "CDwRHLJA-FyS"
      },
      "source": [
        "### 4. Assess Baseline Performance"
      ]
    },
    {
      "cell_type": "markdown",
      "source": [
        "**[4.1]** Import the numpy package"
      ],
      "metadata": {
        "id": "C50gxxAYL8Vs"
      }
    },
    {
      "cell_type": "code",
      "source": [
        "# Placeholder for student's code"
      ],
      "metadata": {
        "id": "18rzZe0fL8ol"
      },
      "execution_count": null,
      "outputs": []
    },
    {
      "cell_type": "code",
      "source": [
        "# Solution\n",
        "import numpy as np"
      ],
      "metadata": {
        "id": "mmUzwo_VL8r9"
      },
      "execution_count": null,
      "outputs": []
    },
    {
      "cell_type": "markdown",
      "metadata": {
        "id": "pFSmBH0j-gul"
      },
      "source": [
        "**[4.2]** Calculate the average value of the target variable and save it into a variable called y_mean"
      ]
    },
    {
      "cell_type": "code",
      "metadata": {
        "id": "_ESt7D5C-F8b"
      },
      "source": [
        "y_mean = y.mean()"
      ],
      "execution_count": null,
      "outputs": []
    },
    {
      "cell_type": "code",
      "source": [
        "y_mean"
      ],
      "metadata": {
        "colab": {
          "base_uri": "https://localhost:8080/"
        },
        "id": "FpiqJku3v89N",
        "outputId": "6c3a1d00-b3a3-413d-939d-e28de56ffe7b"
      },
      "execution_count": null,
      "outputs": [
        {
          "output_type": "execute_result",
          "data": {
            "text/plain": [
              "247789.32425454544"
            ]
          },
          "metadata": {},
          "execution_count": 17
        }
      ]
    },
    {
      "cell_type": "markdown",
      "metadata": {
        "id": "byXhlzk2-k0g"
      },
      "source": [
        "**[4.3]** Create an array called y_base with the same number of rows and columns as the target variable and that only contains the value from y_mean"
      ]
    },
    {
      "cell_type": "code",
      "metadata": {
        "id": "v7M7a5Nz-k7Z"
      },
      "source": [
        "y_base = np.full((55, ), y_mean)"
      ],
      "execution_count": null,
      "outputs": []
    },
    {
      "cell_type": "markdown",
      "metadata": {
        "id": "9a7P-bEZENNy"
      },
      "source": [
        "**[4.4]** Calculate the sum of errors between the target variable and the average value"
      ]
    },
    {
      "cell_type": "code",
      "source": [
        "# Placeholder for student's code"
      ],
      "metadata": {
        "id": "sDzSQ6oINL_O"
      },
      "execution_count": null,
      "outputs": []
    },
    {
      "cell_type": "code",
      "metadata": {
        "id": "yyn4zbt7EO-q",
        "colab": {
          "base_uri": "https://localhost:8080/"
        },
        "outputId": "bac7e003-4830-43d2-c1c9-dc588a0ef37f"
      },
      "source": [
        "# Solution\n",
        "(y_base - y).sum()"
      ],
      "execution_count": null,
      "outputs": [
        {
          "output_type": "execute_result",
          "data": {
            "text/plain": [
              "-8.731149137020111e-10"
            ]
          },
          "metadata": {},
          "execution_count": 20
        }
      ]
    },
    {
      "cell_type": "markdown",
      "metadata": {
        "id": "TrAHjeLjOBQQ"
      },
      "source": [
        "### 5. Train Univariate Linear Regression Model\n",
        "\n",
        "**[5.1]** Import the linear regression module from sklearn"
      ]
    },
    {
      "cell_type": "code",
      "metadata": {
        "id": "Azoo4_HNPQ33"
      },
      "source": [
        "from sklearn.linear_model import LinearRegression "
      ],
      "execution_count": null,
      "outputs": []
    },
    {
      "cell_type": "markdown",
      "metadata": {
        "id": "gx6gZ-gQEUT6"
      },
      "source": [
        "**[5.2]** instantiate the LinearRegression class into a variable called reg"
      ]
    },
    {
      "cell_type": "code",
      "metadata": {
        "id": "0q_GYH7SEuTJ"
      },
      "source": [
        "# Placeholder for student's code"
      ],
      "execution_count": null,
      "outputs": []
    },
    {
      "cell_type": "code",
      "metadata": {
        "id": "AlEacqRzEYEi"
      },
      "source": [
        "# Solution\n",
        "reg = LinearRegression()"
      ],
      "execution_count": null,
      "outputs": []
    },
    {
      "cell_type": "markdown",
      "metadata": {
        "id": "KPm48vkNE1Fm"
      },
      "source": [
        "**[5.3]** Fit the model with the prepared data"
      ]
    },
    {
      "cell_type": "code",
      "metadata": {
        "id": "PMUMtgS-E1Qs"
      },
      "source": [
        "# Placeholder for student's code"
      ],
      "execution_count": null,
      "outputs": []
    },
    {
      "cell_type": "code",
      "metadata": {
        "id": "9-yvaHBEpGUa",
        "colab": {
          "base_uri": "https://localhost:8080/"
        },
        "outputId": "47b0054e-0527-49a0-efd0-e53eda009684"
      },
      "source": [
        "# Solution\n",
        "reg.fit(X.reshape(-1, 1), y)"
      ],
      "execution_count": null,
      "outputs": [
        {
          "output_type": "execute_result",
          "data": {
            "text/plain": [
              "LinearRegression()"
            ]
          },
          "metadata": {},
          "execution_count": 25
        }
      ]
    },
    {
      "cell_type": "markdown",
      "metadata": {
        "id": "jea4YDBiGTz9"
      },
      "source": [
        "### 6. Analyse Model's Performance\n"
      ]
    },
    {
      "cell_type": "markdown",
      "metadata": {
        "id": "qEs4FPe6FUwC"
      },
      "source": [
        "**[6.1]** Use your trained model to predict the outcome for all observations and save them into a variable called y_preds\n",
        "\n"
      ]
    },
    {
      "cell_type": "code",
      "source": [
        "# Placeholder for student's code"
      ],
      "metadata": {
        "id": "RwPO2m54NkYc"
      },
      "execution_count": null,
      "outputs": []
    },
    {
      "cell_type": "code",
      "metadata": {
        "id": "D0XNS1b_FU31"
      },
      "source": [
        "# Solution\n",
        "y_preds = reg.predict(X.reshape(-1, 1))"
      ],
      "execution_count": null,
      "outputs": []
    },
    {
      "cell_type": "markdown",
      "metadata": {
        "id": "MegyKJZxFoDZ"
      },
      "source": [
        "**[6.2]** Calculate the sum of errors between the target variable and the predictions"
      ]
    },
    {
      "cell_type": "code",
      "metadata": {
        "id": "BLCDHKymFBS5",
        "colab": {
          "base_uri": "https://localhost:8080/"
        },
        "outputId": "8f4abbea-b380-4c6d-b102-78199c164b1d"
      },
      "source": [
        "(y_preds - y).sum()"
      ],
      "execution_count": null,
      "outputs": [
        {
          "output_type": "execute_result",
          "data": {
            "text/plain": [
              "-3.245077095925808e-09"
            ]
          },
          "metadata": {},
          "execution_count": 28
        }
      ]
    },
    {
      "cell_type": "markdown",
      "metadata": {
        "id": "SbHBWQ95950H"
      },
      "source": [
        "**[6.3]** Create a line chart for the predictions:"
      ]
    },
    {
      "cell_type": "code",
      "metadata": {
        "id": "P8-DJ28gzsYP"
      },
      "source": [
        "line_chart = alt.Chart(pd.DataFrame({'x': X, 'y': y_preds})).mark_line().encode(\n",
        "    x='x',\n",
        "    y='y'\n",
        "  )"
      ],
      "execution_count": null,
      "outputs": []
    },
    {
      "cell_type": "markdown",
      "source": [
        "**[6.4]** Display the combine scatter plot and line chart to compare predictions against actuals"
      ],
      "metadata": {
        "id": "tAbxSJhDprYK"
      }
    },
    {
      "cell_type": "code",
      "source": [
        "scatter_chart + line_chart"
      ],
      "metadata": {
        "colab": {
          "base_uri": "https://localhost:8080/",
          "height": 368
        },
        "id": "PzgYibUESY8g",
        "outputId": "f4c37ce3-3826-4d08-99fc-ec95c86e534f"
      },
      "execution_count": null,
      "outputs": [
        {
          "output_type": "execute_result",
          "data": {
            "text/html": [
              "\n",
              "<div id=\"altair-viz-6e71818dc50d4af89c988de23d1fcc07\"></div>\n",
              "<script type=\"text/javascript\">\n",
              "  var VEGA_DEBUG = (typeof VEGA_DEBUG == \"undefined\") ? {} : VEGA_DEBUG;\n",
              "  (function(spec, embedOpt){\n",
              "    let outputDiv = document.currentScript.previousElementSibling;\n",
              "    if (outputDiv.id !== \"altair-viz-6e71818dc50d4af89c988de23d1fcc07\") {\n",
              "      outputDiv = document.getElementById(\"altair-viz-6e71818dc50d4af89c988de23d1fcc07\");\n",
              "    }\n",
              "    const paths = {\n",
              "      \"vega\": \"https://cdn.jsdelivr.net/npm//vega@5?noext\",\n",
              "      \"vega-lib\": \"https://cdn.jsdelivr.net/npm//vega-lib?noext\",\n",
              "      \"vega-lite\": \"https://cdn.jsdelivr.net/npm//vega-lite@4.17.0?noext\",\n",
              "      \"vega-embed\": \"https://cdn.jsdelivr.net/npm//vega-embed@6?noext\",\n",
              "    };\n",
              "\n",
              "    function maybeLoadScript(lib, version) {\n",
              "      var key = `${lib.replace(\"-\", \"\")}_version`;\n",
              "      return (VEGA_DEBUG[key] == version) ?\n",
              "        Promise.resolve(paths[lib]) :\n",
              "        new Promise(function(resolve, reject) {\n",
              "          var s = document.createElement('script');\n",
              "          document.getElementsByTagName(\"head\")[0].appendChild(s);\n",
              "          s.async = true;\n",
              "          s.onload = () => {\n",
              "            VEGA_DEBUG[key] = version;\n",
              "            return resolve(paths[lib]);\n",
              "          };\n",
              "          s.onerror = () => reject(`Error loading script: ${paths[lib]}`);\n",
              "          s.src = paths[lib];\n",
              "        });\n",
              "    }\n",
              "\n",
              "    function showError(err) {\n",
              "      outputDiv.innerHTML = `<div class=\"error\" style=\"color:red;\">${err}</div>`;\n",
              "      throw err;\n",
              "    }\n",
              "\n",
              "    function displayChart(vegaEmbed) {\n",
              "      vegaEmbed(outputDiv, spec, embedOpt)\n",
              "        .catch(err => showError(`Javascript Error: ${err.message}<br>This usually means there's a typo in your chart specification. See the javascript console for the full traceback.`));\n",
              "    }\n",
              "\n",
              "    if(typeof define === \"function\" && define.amd) {\n",
              "      requirejs.config({paths});\n",
              "      require([\"vega-embed\"], displayChart, err => showError(`Error loading script: ${err.message}`));\n",
              "    } else {\n",
              "      maybeLoadScript(\"vega\", \"5\")\n",
              "        .then(() => maybeLoadScript(\"vega-lite\", \"4.17.0\"))\n",
              "        .then(() => maybeLoadScript(\"vega-embed\", \"6\"))\n",
              "        .catch(showError)\n",
              "        .then(() => displayChart(vegaEmbed));\n",
              "    }\n",
              "  })({\"config\": {\"view\": {\"continuousWidth\": 400, \"continuousHeight\": 300}}, \"layer\": [{\"data\": {\"name\": \"data-5bf6e4b8fe0da1d7f515c5cf33476e40\"}, \"mark\": {\"type\": \"circle\", \"color\": \"orange\", \"size\": 60}, \"encoding\": {\"x\": {\"field\": \"Population\", \"type\": \"quantitative\"}, \"y\": {\"field\": \"CO2\", \"type\": \"quantitative\"}}}, {\"data\": {\"name\": \"data-420e0d69fe1ae80805545cce47abeab3\"}, \"mark\": \"line\", \"encoding\": {\"x\": {\"field\": \"x\", \"type\": \"quantitative\"}, \"y\": {\"field\": \"y\", \"type\": \"quantitative\"}}}], \"$schema\": \"https://vega.github.io/schema/vega-lite/v4.17.0.json\", \"datasets\": {\"data-5bf6e4b8fe0da1d7f515c5cf33476e40\": [{\"Year\": 1960, \"Population\": 10276477, \"Life_expectancy\": 70.81707317, \"Urban_population\": 54.19994615, \"CO2\": 88202.351, \"Land_area\": 7682300.0, \"GDP\": 18577668272, \"Gross_savings\": 31.18519412, \"Interest_rate\": null}, {\"Year\": 1961, \"Population\": 10483000, \"Life_expectancy\": 70.97317073, \"Urban_population\": 54.61527235, \"CO2\": 90589.568, \"Land_area\": 7682300.0, \"GDP\": 19652816665, \"Gross_savings\": 30.63596991, \"Interest_rate\": 2.207440174}, {\"Year\": 1962, \"Population\": 10742000, \"Life_expectancy\": 70.94243902, \"Urban_population\": 54.66223236, \"CO2\": 94912.961, \"Land_area\": 7682300.0, \"GDP\": 19892485161, \"Gross_savings\": 28.92692264, \"Interest_rate\": 5.579624519}, {\"Year\": 1963, \"Population\": 10950000, \"Life_expectancy\": 70.91170732, \"Urban_population\": 54.99893151, \"CO2\": 101029.517, \"Land_area\": 7682300.0, \"GDP\": 21507447643, \"Gross_savings\": 29.92084982, \"Interest_rate\": 3.273873961}, {\"Year\": 1964, \"Population\": 11167000, \"Life_expectancy\": 70.88097561, \"Urban_population\": 55.31792782, \"CO2\": 108979.573, \"Land_area\": 7682300.0, \"GDP\": 23764139321, \"Gross_savings\": 31.22673076, \"Interest_rate\": 1.731210559}, {\"Year\": 1965, \"Population\": 11388000, \"Life_expectancy\": 70.8502439, \"Urban_population\": 55.63934844, \"CO2\": 120966.996, \"Land_area\": 7682300.0, \"GDP\": 25936835032, \"Gross_savings\": 31.08942528, \"Interest_rate\": 2.26418151}, {\"Year\": 1966, \"Population\": 11651000, \"Life_expectancy\": 70.8195122, \"Urban_population\": 55.79005236, \"CO2\": 120332.605, \"Land_area\": 7682300.0, \"GDP\": 27268451114, \"Gross_savings\": 29.41514703, \"Interest_rate\": 2.617167504}, {\"Year\": 1967, \"Population\": 11799000, \"Life_expectancy\": 70.86926829, \"Urban_population\": 57.71173828, \"CO2\": 129265.417, \"Land_area\": 7682300.0, \"GDP\": 30397580916, \"Gross_savings\": 31.17308968, \"Interest_rate\": 0.4853115037}, {\"Year\": 1968, \"Population\": 12009000, \"Life_expectancy\": 70.91902439, \"Urban_population\": 59.4116829, \"CO2\": 134622.904, \"Land_area\": 7682300.0, \"GDP\": 32665472057, \"Gross_savings\": 29.58137621, \"Interest_rate\": 3.259768631}, {\"Year\": 1969, \"Population\": 12263000, \"Life_expectancy\": 70.96878049, \"Urban_population\": 60.96052353, \"CO2\": 142257.598, \"Land_area\": 7682300.0, \"GDP\": 36628961810, \"Gross_savings\": 31.80456185, \"Interest_rate\": 1.069711235}, {\"Year\": 1970, \"Population\": 12507000, \"Life_expectancy\": 71.01853659, \"Urban_population\": 62.63852243, \"CO2\": 147618.752, \"Land_area\": 7682300.0, \"GDP\": 41271138985, \"Gross_savings\": 32.67482565, \"Interest_rate\": 1.68652945}, {\"Year\": 1971, \"Population\": 12937000, \"Life_expectancy\": 71.06829268, \"Urban_population\": 63.45899358, \"CO2\": 152774.554, \"Land_area\": 7682300.0, \"GDP\": 45149512823, \"Gross_savings\": 31.58456119, \"Interest_rate\": 1.962288622}, {\"Year\": 1972, \"Population\": 13177000, \"Life_expectancy\": 71.45756098, \"Urban_population\": 63.10311907, \"CO2\": 157486.649, \"Land_area\": 7682300.0, \"GDP\": 51967289720, \"Gross_savings\": 30.9302221, \"Interest_rate\": 0.7833603106}, {\"Year\": 1973, \"Population\": 13380000, \"Life_expectancy\": 71.84682927, \"Urban_population\": 62.94321375, \"CO2\": 170992.21, \"Land_area\": 7682300.0, \"GDP\": 63737347854, \"Gross_savings\": 30.9003558, \"Interest_rate\": -1.504191056}, {\"Year\": 1974, \"Population\": 13723000, \"Life_expectancy\": 72.23609756, \"Urban_population\": 62.16038038, \"CO2\": 172356.334, \"Land_area\": 7682300.0, \"GDP\": 88831245394, \"Gross_savings\": 31.98500133, \"Interest_rate\": -6.020115362}, {\"Year\": 1975, \"Population\": 13893000, \"Life_expectancy\": 72.62536585, \"Urban_population\": 62.19234147, \"CO2\": 175883.988, \"Land_area\": 7682300.0, \"GDP\": 97170558514, \"Gross_savings\": 27.25624666, \"Interest_rate\": -5.337893848}, {\"Year\": 1976, \"Population\": 14033000, \"Life_expectancy\": 73.01463415, \"Urban_population\": 62.36882349, \"CO2\": 174244.839, \"Land_area\": 7682300.0, \"GDP\": 104921215177, \"Gross_savings\": 26.26931302, \"Interest_rate\": -3.598997077}, {\"Year\": 1977, \"Population\": 14192000, \"Life_expectancy\": 73.34439024, \"Urban_population\": 62.30374154, \"CO2\": 187787.07, \"Land_area\": 7682300.0, \"GDP\": 110201881165, \"Gross_savings\": 25.76763745, \"Interest_rate\": -1.384973093}, {\"Year\": 1978, \"Population\": 14358000, \"Life_expectancy\": 73.67414634, \"Urban_population\": 62.21857501, \"CO2\": 202015.03, \"Land_area\": 7682300.0, \"GDP\": 118338596887, \"Gross_savings\": 24.24537024, \"Interest_rate\": 1.052514096}, {\"Year\": 1979, \"Population\": 14514000, \"Life_expectancy\": 74.00390244, \"Urban_population\": 62.18616508, \"CO2\": 205069.641, \"Land_area\": 7682300.0, \"GDP\": 134712029990, \"Gross_savings\": 25.90756154, \"Interest_rate\": 0.4514676838}, {\"Year\": 1980, \"Population\": 14692000, \"Life_expectancy\": 74.33365854, \"Urban_population\": 62.07028315, \"CO2\": 220746.066, \"Land_area\": 7682300.0, \"GDP\": 149774930362, \"Gross_savings\": 26.79526569, \"Interest_rate\": -0.03343452245}, {\"Year\": 1981, \"Population\": 14927000, \"Life_expectancy\": 74.66341463, \"Urban_population\": 61.72776177, \"CO2\": 230360.94, \"Land_area\": 7682300.0, \"GDP\": 176642284918, \"Gross_savings\": 26.1117903, \"Interest_rate\": 2.10702243}, {\"Year\": 1982, \"Population\": 15178000, \"Life_expectancy\": 74.90487805, \"Urban_population\": 61.51278166, \"CO2\": 234119.615, \"Land_area\": 7682300.0, \"GDP\": 193770274743, \"Gross_savings\": 26.11579942, \"Interest_rate\": 1.416275825}, {\"Year\": 1983, \"Population\": 15369000, \"Life_expectancy\": 75.14634146, \"Urban_population\": 61.55641877, \"CO2\": 225003.453, \"Land_area\": 7682300.0, \"GDP\": 177030416472, \"Gross_savings\": 22.20483514, \"Interest_rate\": 2.050566334}, {\"Year\": 1984, \"Population\": 15544000, \"Life_expectancy\": 75.38780488, \"Urban_population\": 61.6758878, \"CO2\": 236594.84, \"Land_area\": 7682300.0, \"GDP\": 193242166274, \"Gross_savings\": 24.80340054, \"Interest_rate\": 3.371675151}, {\"Year\": 1985, \"Population\": 15758000, \"Life_expectancy\": 75.62926829, \"Urban_population\": 61.64999365, \"CO2\": 241229.928, \"Land_area\": 7682300.0, \"GDP\": 180234716576, \"Gross_savings\": 25.8154163, \"Interest_rate\": 7.444255902}, {\"Year\": 1986, \"Population\": 16018400, \"Life_expectancy\": 75.87073171, \"Urban_population\": 61.46020202, \"CO2\": 239964.813, \"Land_area\": 7682300.0, \"GDP\": 182036933408, \"Gross_savings\": 24.62227175, \"Interest_rate\": 8.026114619}, {\"Year\": 1987, \"Population\": 16263900, \"Life_expectancy\": 76.15170732, \"Urban_population\": 61.43003831, \"CO2\": 256106.947, \"Land_area\": 7682300.0, \"GDP\": 189060349391, \"Gross_savings\": 24.21248267, \"Interest_rate\": 7.501286052}, {\"Year\": 1988, \"Population\": 16532200, \"Life_expectancy\": 76.43268293, \"Urban_population\": 61.33214575, \"CO2\": 261145.405, \"Land_area\": 7682300.0, \"GDP\": 235659196740, \"Gross_savings\": 26.54790207, \"Interest_rate\": 6.411695294}, {\"Year\": 1989, \"Population\": 16814400, \"Life_expectancy\": 76.71365854, \"Urban_population\": 61.19913289, \"CO2\": 277771.583, \"Land_area\": 7682300.0, \"GDP\": 299267974921, \"Gross_savings\": 28.12198155, \"Interest_rate\": 6.596303523}, {\"Year\": 1990, \"Population\": 17065100, \"Life_expectancy\": 76.99463415, \"Urban_population\": 61.1993308, \"CO2\": 263704.971, \"Land_area\": 7682300.0, \"GDP\": 310777222008, \"Gross_savings\": 27.59530029, \"Interest_rate\": 9.669791408}, {\"Year\": 1991, \"Population\": 17284000, \"Life_expectancy\": 77.27560976, \"Urban_population\": 61.32585628, \"CO2\": 261471.768, \"Land_area\": 7682300.0, \"GDP\": 325310415195, \"Gross_savings\": 24.60902629, \"Interest_rate\": 10.07083699}, {\"Year\": 1992, \"Population\": 17495000, \"Life_expectancy\": 77.37804878, \"Urban_population\": 61.23496999, \"CO2\": 267984.36, \"Land_area\": 7682300.0, \"GDP\": 324878874106, \"Gross_savings\": 22.02490294, \"Interest_rate\": 8.946688063}, {\"Year\": 1993, \"Population\": 17667000, \"Life_expectancy\": 77.87804878, \"Urban_population\": 61.28799457, \"CO2\": 277397.549, \"Land_area\": 7682300.0, \"GDP\": 311544406970, \"Gross_savings\": 22.83475045, \"Interest_rate\": 8.447301476}, {\"Year\": 1994, \"Population\": 17855000, \"Life_expectancy\": 77.87804878, \"Urban_population\": 61.29451694, \"CO2\": 278119.948, \"Land_area\": 7682300.0, \"GDP\": 322211691456, \"Gross_savings\": 23.9491838, \"Interest_rate\": 7.984783638}, {\"Year\": 1995, \"Population\": 18072000, \"Life_expectancy\": 77.82926829, \"Urban_population\": 61.21115538, \"CO2\": 281860.288, \"Land_area\": 7682300.0, \"GDP\": 367216364716, \"Gross_savings\": 24.07924508, \"Interest_rate\": 8.054966025}, {\"Year\": 1996, \"Population\": 18311000, \"Life_expectancy\": 78.07804878, \"Urban_population\": 61.0644476, \"CO2\": 302164.467, \"Land_area\": 7682300.0, \"GDP\": 400302731411, \"Gross_savings\": 24.3973169, \"Interest_rate\": 6.848742914}, {\"Year\": 1997, \"Population\": 18517000, \"Life_expectancy\": 78.4804878, \"Urban_population\": 60.51489982, \"CO2\": 305794.797, \"Land_area\": 7682300.0, \"GDP\": 434568007513, \"Gross_savings\": 25.19147618, \"Interest_rate\": 5.861114393}, {\"Year\": 1998, \"Population\": 18711000, \"Life_expectancy\": 78.63170732, \"Urban_population\": 60.01842766, \"CO2\": 316883.805, \"Land_area\": 7682300.0, \"GDP\": 398899138574, \"Gross_savings\": 24.81172324, \"Interest_rate\": 5.342386955}, {\"Year\": 1999, \"Population\": 18926000, \"Life_expectancy\": 78.93170732, \"Urban_population\": 59.46843496, \"CO2\": 325343.574, \"Land_area\": 7682300.0, \"GDP\": 388608221582, \"Gross_savings\": 23.76749804, \"Interest_rate\": 6.187513529}, {\"Year\": 2000, \"Population\": 19153000, \"Life_expectancy\": 79.23414634, \"Urban_population\": 58.89639743, \"CO2\": 329443.28, \"Land_area\": 7682300.0, \"GDP\": 415222633926, \"Gross_savings\": 24.14835161, \"Interest_rate\": 5.00773849}, {\"Year\": 2001, \"Population\": 19413000, \"Life_expectancy\": 79.63414634, \"Urban_population\": 58.24218822, \"CO2\": 324844.862, \"Land_area\": 7682300.0, \"GDP\": 378376086723, \"Gross_savings\": 23.56602077, \"Interest_rate\": 2.122768612}, {\"Year\": 2002, \"Population\": 19651400, \"Life_expectancy\": 79.93658537, \"Urban_population\": 58.27181778, \"CO2\": 341353.696, \"Land_area\": 7682300.0, \"GDP\": 394648911679, \"Gross_savings\": 24.48502028, \"Interest_rate\": 3.404717507}, {\"Year\": 2003, \"Population\": 19895400, \"Life_expectancy\": 80.23902439, \"Urban_population\": 58.29543513, \"CO2\": 336271.234, \"Land_area\": 7682300.0, \"GDP\": 466488060571, \"Gross_savings\": 23.91043248, \"Interest_rate\": 3.393273388}, {\"Year\": 2004, \"Population\": 20127400, \"Life_expectancy\": 80.4902439, \"Urban_population\": 58.36546698, \"CO2\": 342699.485, \"Land_area\": 7682300.0, \"GDP\": 612490396927, \"Gross_savings\": 24.45789331, \"Interest_rate\": 3.619128093}, {\"Year\": 2005, \"Population\": 20394800, \"Life_expectancy\": 80.84146341, \"Urban_population\": 58.34166062, \"CO2\": 350172.831, \"Land_area\": 7682300.0, \"GDP\": 693407758232, \"Gross_savings\": 24.81799623, \"Interest_rate\": 3.334521094}, {\"Year\": 2006, \"Population\": 20697900, \"Life_expectancy\": 81.04146341, \"Urban_population\": 58.23126501, \"CO2\": 365346.877, \"Land_area\": 7682300.0, \"GDP\": 746054207847, \"Gross_savings\": 25.78816374, \"Interest_rate\": 2.39807602}, {\"Year\": 2007, \"Population\": 20827600, \"Life_expectancy\": 81.29268293, \"Urban_population\": 59.02911041, \"CO2\": 372090.49, \"Land_area\": 7682300.0, \"GDP\": 853099630996, \"Gross_savings\": 25.92718709, \"Interest_rate\": 3.032237433}, {\"Year\": 2008, \"Population\": 21249200, \"Life_expectancy\": 81.39512195, \"Urban_population\": 59.02113962, \"CO2\": 385904.079, \"Land_area\": 7682300.0, \"GDP\": 1053995523724, \"Gross_savings\": 26.11743861, \"Interest_rate\": 4.192998028}, {\"Year\": 2009, \"Population\": 21691700, \"Life_expectancy\": 81.54390244, \"Urban_population\": 58.97763661, \"CO2\": 394792.887, \"Land_area\": 7682300.0, \"GDP\": 927805183331, \"Gross_savings\": 27.6077753, \"Interest_rate\": 0.9704164202}, {\"Year\": 2010, \"Population\": 22031750, \"Life_expectancy\": 81.69512195, \"Urban_population\": 59.23583465, \"CO2\": 390861.863, \"Land_area\": 7682300.0, \"GDP\": 1146138465604, \"Gross_savings\": 25.82163846, \"Interest_rate\": 6.041415743}, {\"Year\": 2011, \"Population\": 22340024, \"Life_expectancy\": 81.89512195, \"Urban_population\": 59.5951777, \"CO2\": 391818.95, \"Land_area\": 7682300.0, \"GDP\": 1396649906339, \"Gross_savings\": 27.47345446, \"Interest_rate\": 1.397395241}, {\"Year\": 2012, \"Population\": 22733465, \"Life_expectancy\": 82.04634146, \"Urban_population\": 59.68724961, \"CO2\": 388126.281, \"Land_area\": 7682300.0, \"GDP\": 1546151783873, \"Gross_savings\": 27.49393447, \"Interest_rate\": 5.025178277}, {\"Year\": 2013, \"Population\": 23128129, \"Life_expectancy\": 82.14878049, \"Urban_population\": 59.79226422, \"CO2\": 372266.506, \"Land_area\": 7682300.0, \"GDP\": 1576184467015, \"Gross_savings\": 26.59976164, \"Interest_rate\": 6.311181032}, {\"Year\": 2014, \"Population\": 23475686, \"Life_expectancy\": 82.3, \"Urban_population\": 60.03789197, \"CO2\": 361261.839, \"Land_area\": 7682300.0, \"GDP\": 1467483705132, \"Gross_savings\": 26.31805471, \"Interest_rate\": 4.405248823}, {\"Year\": 2015, \"Population\": 23815995, \"Life_expectancy\": 82.4, \"Urban_population\": 60.31729516, \"CO2\": null, \"Land_area\": 7692020.0, \"GDP\": 1351693984525, \"Gross_savings\": 24.74601456, \"Interest_rate\": 6.158502557}, {\"Year\": 2016, \"Population\": 24190907, \"Life_expectancy\": 82.44878049, \"Urban_population\": 60.52645318, \"CO2\": null, \"Land_area\": 7692020.0, \"GDP\": 1208846993740, \"Gross_savings\": 23.0965115, \"Interest_rate\": 5.985742318}, {\"Year\": 2017, \"Population\": 24601860, \"Life_expectancy\": 82.5, \"Urban_population\": 60.66312466, \"CO2\": null, \"Land_area\": 7692020.0, \"GDP\": 1330135756844, \"Gross_savings\": 24.68719293, \"Interest_rate\": 1.450510829}, {\"Year\": 2018, \"Population\": 24982688, \"Life_expectancy\": 82.74878049, \"Urban_population\": 60.89161823, \"CO2\": null, \"Land_area\": null, \"GDP\": 1433904348500, \"Gross_savings\": 24.90799403, \"Interest_rate\": 3.303623962}], \"data-420e0d69fe1ae80805545cce47abeab3\": [{\"x\": 10276477, \"y\": 94564.47914060281}, {\"x\": 10483000, \"y\": 99713.01343602652}, {\"x\": 10742000, \"y\": 106169.77797321964}, {\"x\": 10950000, \"y\": 111355.1332772203}, {\"x\": 11167000, \"y\": 116764.85491649027}, {\"x\": 11388000, \"y\": 122274.29492699099}, {\"x\": 11651000, \"y\": 128830.77783541492}, {\"x\": 11799000, \"y\": 132520.35757095384}, {\"x\": 12009000, \"y\": 137755.5720605699}, {\"x\": 12263000, \"y\": 144087.68863372458}, {\"x\": 12507000, \"y\": 150170.50927880232}, {\"x\": 12937000, \"y\": 160890.23418611137}, {\"x\": 13177000, \"y\": 166873.3364599583}, {\"x\": 13380000, \"y\": 171934.04379992053}, {\"x\": 13723000, \"y\": 180484.89413296006}, {\"x\": 13893000, \"y\": 184722.92491026834}, {\"x\": 14033000, \"y\": 188213.06790334568}, {\"x\": 14192000, \"y\": 192176.87315976928}, {\"x\": 14358000, \"y\": 196315.18556584674}, {\"x\": 14514000, \"y\": 200204.20204384724}, {\"x\": 14692000, \"y\": 204641.6695636171}, {\"x\": 14927000, \"y\": 210500.12387342553}, {\"x\": 15178000, \"y\": 216757.45166815713}, {\"x\": 15369000, \"y\": 221519.00389442698}, {\"x\": 15544000, \"y\": 225881.68263577367}, {\"x\": 15758000, \"y\": 231216.61549662054}, {\"x\": 16018400, \"y\": 237708.2814637444}, {\"x\": 16263900, \"y\": 243828.4964980337}, {\"x\": 16532200, \"y\": 250517.10624833842}, {\"x\": 16814400, \"y\": 257552.23733867006}, {\"x\": 17065100, \"y\": 263802.08625555935}, {\"x\": 17284000, \"y\": 269259.1741211639}, {\"x\": 17495000, \"y\": 274519.31820358767}, {\"x\": 17667000, \"y\": 278807.2081665113}, {\"x\": 17855000, \"y\": 283493.9716143581}, {\"x\": 18072000, \"y\": 288903.69325362804}, {\"x\": 18311000, \"y\": 294861.86593466724}, {\"x\": 18517000, \"y\": 299997.3620530525}, {\"x\": 18711000, \"y\": 304833.7030577455}, {\"x\": 18926000, \"y\": 310193.5655114}, {\"x\": 19153000, \"y\": 315852.5830787469}, {\"x\": 19413000, \"y\": 322334.27720874775}, {\"x\": 19651400, \"y\": 328277.49213410233}, {\"x\": 19895400, \"y\": 334360.31277918007}, {\"x\": 20127400, \"y\": 340143.9783105654}, {\"x\": 20394800, \"y\": 346810.1514273432}, {\"x\": 20697900, \"y\": 354366.31100735575}, {\"x\": 20827600, \"y\": 357599.6791945139}, {\"x\": 21249200, \"y\": 368109.9955222383}, {\"x\": 21691700, \"y\": 379141.34033964353}, {\"x\": 22031750, \"y\": 387618.64837390045}, {\"x\": 22340024, \"y\": 395303.7936671}, {\"x\": 22733465, \"y\": 405112.11759095255}, {\"x\": 23128129, \"y\": 414950.93040680885}, {\"x\": 23475686, \"y\": 423615.3848942731}]}}, {\"mode\": \"vega-lite\"});\n",
              "</script>"
            ],
            "text/plain": [
              "alt.LayerChart(...)"
            ]
          },
          "metadata": {},
          "execution_count": 30
        }
      ]
    }
  ]
}