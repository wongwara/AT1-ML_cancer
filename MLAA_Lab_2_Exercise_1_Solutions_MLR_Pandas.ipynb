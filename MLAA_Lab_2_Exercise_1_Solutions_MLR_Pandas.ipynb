{
  "nbformat": 4,
  "nbformat_minor": 0,
  "metadata": {
    "colab": {
      "provenance": [],
      "include_colab_link": true
    },
    "kernelspec": {
      "name": "python3",
      "display_name": "Python 3"
    }
  },
  "cells": [
    {
      "cell_type": "markdown",
      "metadata": {
        "id": "view-in-github",
        "colab_type": "text"
      },
      "source": [
        "<a href=\"https://colab.research.google.com/github/wongwara/AT1-ML_cancer/blob/main/MLAA_Lab_2_Exercise_1_Solutions_MLR_Pandas.ipynb\" target=\"_parent\"><img src=\"https://colab.research.google.com/assets/colab-badge.svg\" alt=\"Open In Colab\"/></a>"
      ]
    },
    {
      "cell_type": "markdown",
      "metadata": {
        "id": "uQ6wc2HE0pke"
      },
      "source": [
        "# **Lab 2: Data Splitting**\n"
      ]
    },
    {
      "cell_type": "markdown",
      "metadata": {
        "id": "tQgxLRrvjiJb"
      },
      "source": [
        "## Exercise 1: Multivariate Linear Regression & Data Exploration\n",
        "\n",
        "We are going to use a dataset from The World Bank organisation which contains some keys indicators on Australia (https://data.worldbank.org/country/AU).\n",
        "\n",
        "The dataset can be dowloaded from here: https://raw.githubusercontent.com/aso-uts/mlaa/main/datasets/lab1/ex2/WorldBank_OpenData_Australia.csv\n",
        "\n",
        "We will build an univariate linear regression model that will predict the \"GDP\" in Australia.\n",
        "\n",
        "The steps are:\n",
        "1.   Load and Explore Dataset\n",
        "2.   Prepare Data\n",
        "3.   Assess Baseline\n",
        "4.   Train Initial Model\n",
        "5.   Train Second Model"
      ]
    },
    {
      "cell_type": "markdown",
      "metadata": {
        "id": "smh_LhVjIg9s"
      },
      "source": [
        "### 1. Load and Explore Dataset"
      ]
    },
    {
      "cell_type": "markdown",
      "metadata": {
        "id": "HmzUc5K_JAQp"
      },
      "source": [
        "**[1.1]** Import the pandas package"
      ]
    },
    {
      "cell_type": "code",
      "metadata": {
        "id": "eMDBRt0LJCxw"
      },
      "source": [
        "# Placeholder for student's code"
      ],
      "execution_count": null,
      "outputs": []
    },
    {
      "cell_type": "code",
      "metadata": {
        "id": "faNd47YOMyk0"
      },
      "source": [
        "# Solution\n",
        "import pandas as pd"
      ],
      "execution_count": null,
      "outputs": []
    },
    {
      "cell_type": "markdown",
      "metadata": {
        "id": "PZt8el_EJHSu"
      },
      "source": [
        "**[1.2]** Create a variable called file_url containing the link to the CSV file"
      ]
    },
    {
      "cell_type": "code",
      "metadata": {
        "id": "3EypENfpJHjO"
      },
      "source": [
        "# Placeholder for student's code"
      ],
      "execution_count": null,
      "outputs": []
    },
    {
      "cell_type": "code",
      "metadata": {
        "id": "8wAkIzX4MlfL"
      },
      "source": [
        "# Solution\n",
        "file_url = 'https://raw.githubusercontent.com/aso-uts/mlaa/main/datasets/lab1/ex2/WorldBank_OpenData_Australia.csv'"
      ],
      "execution_count": null,
      "outputs": []
    },
    {
      "cell_type": "markdown",
      "metadata": {
        "id": "CDoBj0-aO_mf"
      },
      "source": [
        "**[1.3]** Load the data into a DataFrame called df"
      ]
    },
    {
      "cell_type": "code",
      "metadata": {
        "id": "yfk2ucSCJQ7M"
      },
      "source": [
        "# Placeholder for student's code"
      ],
      "execution_count": null,
      "outputs": []
    },
    {
      "cell_type": "code",
      "metadata": {
        "id": "9FHeJY5fImb_"
      },
      "source": [
        "# Solution\n",
        "df = pd.read_csv(file_url)"
      ],
      "execution_count": null,
      "outputs": []
    },
    {
      "cell_type": "markdown",
      "source": [
        "**[1.4]** Display the first 5 rows of df"
      ],
      "metadata": {
        "id": "vFhWPqh5qzaZ"
      }
    },
    {
      "cell_type": "code",
      "source": [
        "# Placeholder for student's code"
      ],
      "metadata": {
        "id": "bDdT3z79qziy"
      },
      "execution_count": null,
      "outputs": []
    },
    {
      "cell_type": "code",
      "source": [
        "# Solution\n",
        "df.head()"
      ],
      "metadata": {
        "colab": {
          "base_uri": "https://localhost:8080/"
        },
        "id": "mOrqQcO8qzk8",
        "outputId": "8f0db5eb-7412-41a9-d2d0-fa45d9436ec1"
      },
      "execution_count": null,
      "outputs": [
        {
          "output_type": "execute_result",
          "data": {
            "text/plain": [
              "   Year  Population  Life_expectancy  Urban_population         CO2  Land_area  \\\n",
              "0  1960    10276477        70.817073         54.199946   88202.351  7682300.0   \n",
              "1  1961    10483000        70.973171         54.615272   90589.568  7682300.0   \n",
              "2  1962    10742000        70.942439         54.662232   94912.961  7682300.0   \n",
              "3  1963    10950000        70.911707         54.998932  101029.517  7682300.0   \n",
              "4  1964    11167000        70.880976         55.317928  108979.573  7682300.0   \n",
              "\n",
              "           GDP  Gross_savings  Interest_rate  \n",
              "0  18577668272      31.185194            NaN  \n",
              "1  19652816665      30.635970       2.207440  \n",
              "2  19892485161      28.926923       5.579625  \n",
              "3  21507447643      29.920850       3.273874  \n",
              "4  23764139321      31.226731       1.731211  "
            ],
            "text/html": [
              "\n",
              "  <div id=\"df-cfdc4d08-9368-4fe9-998f-60eaeab01b24\">\n",
              "    <div class=\"colab-df-container\">\n",
              "      <div>\n",
              "<style scoped>\n",
              "    .dataframe tbody tr th:only-of-type {\n",
              "        vertical-align: middle;\n",
              "    }\n",
              "\n",
              "    .dataframe tbody tr th {\n",
              "        vertical-align: top;\n",
              "    }\n",
              "\n",
              "    .dataframe thead th {\n",
              "        text-align: right;\n",
              "    }\n",
              "</style>\n",
              "<table border=\"1\" class=\"dataframe\">\n",
              "  <thead>\n",
              "    <tr style=\"text-align: right;\">\n",
              "      <th></th>\n",
              "      <th>Year</th>\n",
              "      <th>Population</th>\n",
              "      <th>Life_expectancy</th>\n",
              "      <th>Urban_population</th>\n",
              "      <th>CO2</th>\n",
              "      <th>Land_area</th>\n",
              "      <th>GDP</th>\n",
              "      <th>Gross_savings</th>\n",
              "      <th>Interest_rate</th>\n",
              "    </tr>\n",
              "  </thead>\n",
              "  <tbody>\n",
              "    <tr>\n",
              "      <th>0</th>\n",
              "      <td>1960</td>\n",
              "      <td>10276477</td>\n",
              "      <td>70.817073</td>\n",
              "      <td>54.199946</td>\n",
              "      <td>88202.351</td>\n",
              "      <td>7682300.0</td>\n",
              "      <td>18577668272</td>\n",
              "      <td>31.185194</td>\n",
              "      <td>NaN</td>\n",
              "    </tr>\n",
              "    <tr>\n",
              "      <th>1</th>\n",
              "      <td>1961</td>\n",
              "      <td>10483000</td>\n",
              "      <td>70.973171</td>\n",
              "      <td>54.615272</td>\n",
              "      <td>90589.568</td>\n",
              "      <td>7682300.0</td>\n",
              "      <td>19652816665</td>\n",
              "      <td>30.635970</td>\n",
              "      <td>2.207440</td>\n",
              "    </tr>\n",
              "    <tr>\n",
              "      <th>2</th>\n",
              "      <td>1962</td>\n",
              "      <td>10742000</td>\n",
              "      <td>70.942439</td>\n",
              "      <td>54.662232</td>\n",
              "      <td>94912.961</td>\n",
              "      <td>7682300.0</td>\n",
              "      <td>19892485161</td>\n",
              "      <td>28.926923</td>\n",
              "      <td>5.579625</td>\n",
              "    </tr>\n",
              "    <tr>\n",
              "      <th>3</th>\n",
              "      <td>1963</td>\n",
              "      <td>10950000</td>\n",
              "      <td>70.911707</td>\n",
              "      <td>54.998932</td>\n",
              "      <td>101029.517</td>\n",
              "      <td>7682300.0</td>\n",
              "      <td>21507447643</td>\n",
              "      <td>29.920850</td>\n",
              "      <td>3.273874</td>\n",
              "    </tr>\n",
              "    <tr>\n",
              "      <th>4</th>\n",
              "      <td>1964</td>\n",
              "      <td>11167000</td>\n",
              "      <td>70.880976</td>\n",
              "      <td>55.317928</td>\n",
              "      <td>108979.573</td>\n",
              "      <td>7682300.0</td>\n",
              "      <td>23764139321</td>\n",
              "      <td>31.226731</td>\n",
              "      <td>1.731211</td>\n",
              "    </tr>\n",
              "  </tbody>\n",
              "</table>\n",
              "</div>\n",
              "      <button class=\"colab-df-convert\" onclick=\"convertToInteractive('df-cfdc4d08-9368-4fe9-998f-60eaeab01b24')\"\n",
              "              title=\"Convert this dataframe to an interactive table.\"\n",
              "              style=\"display:none;\">\n",
              "        \n",
              "  <svg xmlns=\"http://www.w3.org/2000/svg\" height=\"24px\"viewBox=\"0 0 24 24\"\n",
              "       width=\"24px\">\n",
              "    <path d=\"M0 0h24v24H0V0z\" fill=\"none\"/>\n",
              "    <path d=\"M18.56 5.44l.94 2.06.94-2.06 2.06-.94-2.06-.94-.94-2.06-.94 2.06-2.06.94zm-11 1L8.5 8.5l.94-2.06 2.06-.94-2.06-.94L8.5 2.5l-.94 2.06-2.06.94zm10 10l.94 2.06.94-2.06 2.06-.94-2.06-.94-.94-2.06-.94 2.06-2.06.94z\"/><path d=\"M17.41 7.96l-1.37-1.37c-.4-.4-.92-.59-1.43-.59-.52 0-1.04.2-1.43.59L10.3 9.45l-7.72 7.72c-.78.78-.78 2.05 0 2.83L4 21.41c.39.39.9.59 1.41.59.51 0 1.02-.2 1.41-.59l7.78-7.78 2.81-2.81c.8-.78.8-2.07 0-2.86zM5.41 20L4 18.59l7.72-7.72 1.47 1.35L5.41 20z\"/>\n",
              "  </svg>\n",
              "      </button>\n",
              "      \n",
              "  <style>\n",
              "    .colab-df-container {\n",
              "      display:flex;\n",
              "      flex-wrap:wrap;\n",
              "      gap: 12px;\n",
              "    }\n",
              "\n",
              "    .colab-df-convert {\n",
              "      background-color: #E8F0FE;\n",
              "      border: none;\n",
              "      border-radius: 50%;\n",
              "      cursor: pointer;\n",
              "      display: none;\n",
              "      fill: #1967D2;\n",
              "      height: 32px;\n",
              "      padding: 0 0 0 0;\n",
              "      width: 32px;\n",
              "    }\n",
              "\n",
              "    .colab-df-convert:hover {\n",
              "      background-color: #E2EBFA;\n",
              "      box-shadow: 0px 1px 2px rgba(60, 64, 67, 0.3), 0px 1px 3px 1px rgba(60, 64, 67, 0.15);\n",
              "      fill: #174EA6;\n",
              "    }\n",
              "\n",
              "    [theme=dark] .colab-df-convert {\n",
              "      background-color: #3B4455;\n",
              "      fill: #D2E3FC;\n",
              "    }\n",
              "\n",
              "    [theme=dark] .colab-df-convert:hover {\n",
              "      background-color: #434B5C;\n",
              "      box-shadow: 0px 1px 3px 1px rgba(0, 0, 0, 0.15);\n",
              "      filter: drop-shadow(0px 1px 2px rgba(0, 0, 0, 0.3));\n",
              "      fill: #FFFFFF;\n",
              "    }\n",
              "  </style>\n",
              "\n",
              "      <script>\n",
              "        const buttonEl =\n",
              "          document.querySelector('#df-cfdc4d08-9368-4fe9-998f-60eaeab01b24 button.colab-df-convert');\n",
              "        buttonEl.style.display =\n",
              "          google.colab.kernel.accessAllowed ? 'block' : 'none';\n",
              "\n",
              "        async function convertToInteractive(key) {\n",
              "          const element = document.querySelector('#df-cfdc4d08-9368-4fe9-998f-60eaeab01b24');\n",
              "          const dataTable =\n",
              "            await google.colab.kernel.invokeFunction('convertToInteractive',\n",
              "                                                     [key], {});\n",
              "          if (!dataTable) return;\n",
              "\n",
              "          const docLinkHtml = 'Like what you see? Visit the ' +\n",
              "            '<a target=\"_blank\" href=https://colab.research.google.com/notebooks/data_table.ipynb>data table notebook</a>'\n",
              "            + ' to learn more about interactive tables.';\n",
              "          element.innerHTML = '';\n",
              "          dataTable['output_type'] = 'display_data';\n",
              "          await google.colab.output.renderOutput(dataTable, element);\n",
              "          const docLink = document.createElement('div');\n",
              "          docLink.innerHTML = docLinkHtml;\n",
              "          element.appendChild(docLink);\n",
              "        }\n",
              "      </script>\n",
              "    </div>\n",
              "  </div>\n",
              "  "
            ]
          },
          "metadata": {},
          "execution_count": 14
        }
      ]
    },
    {
      "cell_type": "markdown",
      "source": [
        "**[1.5]** Display the last 5 rows of df"
      ],
      "metadata": {
        "id": "pYqfh5Rkq5Ky"
      }
    },
    {
      "cell_type": "code",
      "source": [
        "# Placeholder for student's code"
      ],
      "metadata": {
        "id": "ouQMfapCq5QT"
      },
      "execution_count": null,
      "outputs": []
    },
    {
      "cell_type": "code",
      "source": [
        "# Solution\n",
        "df.tail()"
      ],
      "metadata": {
        "colab": {
          "base_uri": "https://localhost:8080/"
        },
        "id": "lmjuNoRkq5Sq",
        "outputId": "f125dbc0-b2f1-4a16-fb46-8eeade798d7f"
      },
      "execution_count": null,
      "outputs": [
        {
          "output_type": "execute_result",
          "data": {
            "text/plain": [
              "    Year  Population  Life_expectancy  Urban_population         CO2  \\\n",
              "54  2014    23475686         82.30000         60.037892  361261.839   \n",
              "55  2015    23815995         82.40000         60.317295         NaN   \n",
              "56  2016    24190907         82.44878         60.526453         NaN   \n",
              "57  2017    24601860         82.50000         60.663125         NaN   \n",
              "58  2018    24982688         82.74878         60.891618         NaN   \n",
              "\n",
              "    Land_area            GDP  Gross_savings  Interest_rate  \n",
              "54  7682300.0  1467483705132      26.318055       4.405249  \n",
              "55  7692020.0  1351693984525      24.746015       6.158503  \n",
              "56  7692020.0  1208846993740      23.096511       5.985742  \n",
              "57  7692020.0  1330135756844      24.687193       1.450511  \n",
              "58        NaN  1433904348500      24.907994       3.303624  "
            ],
            "text/html": [
              "\n",
              "  <div id=\"df-3c6e8daf-c1fb-47d3-9969-e8794f66bfe8\">\n",
              "    <div class=\"colab-df-container\">\n",
              "      <div>\n",
              "<style scoped>\n",
              "    .dataframe tbody tr th:only-of-type {\n",
              "        vertical-align: middle;\n",
              "    }\n",
              "\n",
              "    .dataframe tbody tr th {\n",
              "        vertical-align: top;\n",
              "    }\n",
              "\n",
              "    .dataframe thead th {\n",
              "        text-align: right;\n",
              "    }\n",
              "</style>\n",
              "<table border=\"1\" class=\"dataframe\">\n",
              "  <thead>\n",
              "    <tr style=\"text-align: right;\">\n",
              "      <th></th>\n",
              "      <th>Year</th>\n",
              "      <th>Population</th>\n",
              "      <th>Life_expectancy</th>\n",
              "      <th>Urban_population</th>\n",
              "      <th>CO2</th>\n",
              "      <th>Land_area</th>\n",
              "      <th>GDP</th>\n",
              "      <th>Gross_savings</th>\n",
              "      <th>Interest_rate</th>\n",
              "    </tr>\n",
              "  </thead>\n",
              "  <tbody>\n",
              "    <tr>\n",
              "      <th>54</th>\n",
              "      <td>2014</td>\n",
              "      <td>23475686</td>\n",
              "      <td>82.30000</td>\n",
              "      <td>60.037892</td>\n",
              "      <td>361261.839</td>\n",
              "      <td>7682300.0</td>\n",
              "      <td>1467483705132</td>\n",
              "      <td>26.318055</td>\n",
              "      <td>4.405249</td>\n",
              "    </tr>\n",
              "    <tr>\n",
              "      <th>55</th>\n",
              "      <td>2015</td>\n",
              "      <td>23815995</td>\n",
              "      <td>82.40000</td>\n",
              "      <td>60.317295</td>\n",
              "      <td>NaN</td>\n",
              "      <td>7692020.0</td>\n",
              "      <td>1351693984525</td>\n",
              "      <td>24.746015</td>\n",
              "      <td>6.158503</td>\n",
              "    </tr>\n",
              "    <tr>\n",
              "      <th>56</th>\n",
              "      <td>2016</td>\n",
              "      <td>24190907</td>\n",
              "      <td>82.44878</td>\n",
              "      <td>60.526453</td>\n",
              "      <td>NaN</td>\n",
              "      <td>7692020.0</td>\n",
              "      <td>1208846993740</td>\n",
              "      <td>23.096511</td>\n",
              "      <td>5.985742</td>\n",
              "    </tr>\n",
              "    <tr>\n",
              "      <th>57</th>\n",
              "      <td>2017</td>\n",
              "      <td>24601860</td>\n",
              "      <td>82.50000</td>\n",
              "      <td>60.663125</td>\n",
              "      <td>NaN</td>\n",
              "      <td>7692020.0</td>\n",
              "      <td>1330135756844</td>\n",
              "      <td>24.687193</td>\n",
              "      <td>1.450511</td>\n",
              "    </tr>\n",
              "    <tr>\n",
              "      <th>58</th>\n",
              "      <td>2018</td>\n",
              "      <td>24982688</td>\n",
              "      <td>82.74878</td>\n",
              "      <td>60.891618</td>\n",
              "      <td>NaN</td>\n",
              "      <td>NaN</td>\n",
              "      <td>1433904348500</td>\n",
              "      <td>24.907994</td>\n",
              "      <td>3.303624</td>\n",
              "    </tr>\n",
              "  </tbody>\n",
              "</table>\n",
              "</div>\n",
              "      <button class=\"colab-df-convert\" onclick=\"convertToInteractive('df-3c6e8daf-c1fb-47d3-9969-e8794f66bfe8')\"\n",
              "              title=\"Convert this dataframe to an interactive table.\"\n",
              "              style=\"display:none;\">\n",
              "        \n",
              "  <svg xmlns=\"http://www.w3.org/2000/svg\" height=\"24px\"viewBox=\"0 0 24 24\"\n",
              "       width=\"24px\">\n",
              "    <path d=\"M0 0h24v24H0V0z\" fill=\"none\"/>\n",
              "    <path d=\"M18.56 5.44l.94 2.06.94-2.06 2.06-.94-2.06-.94-.94-2.06-.94 2.06-2.06.94zm-11 1L8.5 8.5l.94-2.06 2.06-.94-2.06-.94L8.5 2.5l-.94 2.06-2.06.94zm10 10l.94 2.06.94-2.06 2.06-.94-2.06-.94-.94-2.06-.94 2.06-2.06.94z\"/><path d=\"M17.41 7.96l-1.37-1.37c-.4-.4-.92-.59-1.43-.59-.52 0-1.04.2-1.43.59L10.3 9.45l-7.72 7.72c-.78.78-.78 2.05 0 2.83L4 21.41c.39.39.9.59 1.41.59.51 0 1.02-.2 1.41-.59l7.78-7.78 2.81-2.81c.8-.78.8-2.07 0-2.86zM5.41 20L4 18.59l7.72-7.72 1.47 1.35L5.41 20z\"/>\n",
              "  </svg>\n",
              "      </button>\n",
              "      \n",
              "  <style>\n",
              "    .colab-df-container {\n",
              "      display:flex;\n",
              "      flex-wrap:wrap;\n",
              "      gap: 12px;\n",
              "    }\n",
              "\n",
              "    .colab-df-convert {\n",
              "      background-color: #E8F0FE;\n",
              "      border: none;\n",
              "      border-radius: 50%;\n",
              "      cursor: pointer;\n",
              "      display: none;\n",
              "      fill: #1967D2;\n",
              "      height: 32px;\n",
              "      padding: 0 0 0 0;\n",
              "      width: 32px;\n",
              "    }\n",
              "\n",
              "    .colab-df-convert:hover {\n",
              "      background-color: #E2EBFA;\n",
              "      box-shadow: 0px 1px 2px rgba(60, 64, 67, 0.3), 0px 1px 3px 1px rgba(60, 64, 67, 0.15);\n",
              "      fill: #174EA6;\n",
              "    }\n",
              "\n",
              "    [theme=dark] .colab-df-convert {\n",
              "      background-color: #3B4455;\n",
              "      fill: #D2E3FC;\n",
              "    }\n",
              "\n",
              "    [theme=dark] .colab-df-convert:hover {\n",
              "      background-color: #434B5C;\n",
              "      box-shadow: 0px 1px 3px 1px rgba(0, 0, 0, 0.15);\n",
              "      filter: drop-shadow(0px 1px 2px rgba(0, 0, 0, 0.3));\n",
              "      fill: #FFFFFF;\n",
              "    }\n",
              "  </style>\n",
              "\n",
              "      <script>\n",
              "        const buttonEl =\n",
              "          document.querySelector('#df-3c6e8daf-c1fb-47d3-9969-e8794f66bfe8 button.colab-df-convert');\n",
              "        buttonEl.style.display =\n",
              "          google.colab.kernel.accessAllowed ? 'block' : 'none';\n",
              "\n",
              "        async function convertToInteractive(key) {\n",
              "          const element = document.querySelector('#df-3c6e8daf-c1fb-47d3-9969-e8794f66bfe8');\n",
              "          const dataTable =\n",
              "            await google.colab.kernel.invokeFunction('convertToInteractive',\n",
              "                                                     [key], {});\n",
              "          if (!dataTable) return;\n",
              "\n",
              "          const docLinkHtml = 'Like what you see? Visit the ' +\n",
              "            '<a target=\"_blank\" href=https://colab.research.google.com/notebooks/data_table.ipynb>data table notebook</a>'\n",
              "            + ' to learn more about interactive tables.';\n",
              "          element.innerHTML = '';\n",
              "          dataTable['output_type'] = 'display_data';\n",
              "          await google.colab.output.renderOutput(dataTable, element);\n",
              "          const docLink = document.createElement('div');\n",
              "          docLink.innerHTML = docLinkHtml;\n",
              "          element.appendChild(docLink);\n",
              "        }\n",
              "      </script>\n",
              "    </div>\n",
              "  </div>\n",
              "  "
            ]
          },
          "metadata": {},
          "execution_count": 16
        }
      ]
    },
    {
      "cell_type": "markdown",
      "source": [
        "**[1.6]** Display the dimensions (shape) of df"
      ],
      "metadata": {
        "id": "K73sHULIrA4e"
      }
    },
    {
      "cell_type": "code",
      "source": [
        "# Placeholder for student's code"
      ],
      "metadata": {
        "id": "o367VlFArA_i"
      },
      "execution_count": null,
      "outputs": []
    },
    {
      "cell_type": "code",
      "source": [
        "# Solution\n",
        "df.shape"
      ],
      "metadata": {
        "colab": {
          "base_uri": "https://localhost:8080/"
        },
        "id": "bo_0mlezrBB4",
        "outputId": "96314fd9-6de1-4506-87f5-8f9efd1f31da"
      },
      "execution_count": null,
      "outputs": [
        {
          "output_type": "execute_result",
          "data": {
            "text/plain": [
              "(59, 9)"
            ]
          },
          "metadata": {},
          "execution_count": 18
        }
      ]
    },
    {
      "cell_type": "markdown",
      "source": [
        "**[1.7]** Display the descriptive statistics of df\n"
      ],
      "metadata": {
        "id": "h5hcDrW9rHF1"
      }
    },
    {
      "cell_type": "code",
      "source": [
        "# Placeholder for student's code"
      ],
      "metadata": {
        "id": "48S2ag1grHM9"
      },
      "execution_count": null,
      "outputs": []
    },
    {
      "cell_type": "code",
      "source": [
        "# Solution\n",
        "df.describe()"
      ],
      "metadata": {
        "colab": {
          "base_uri": "https://localhost:8080/",
          "height": 300
        },
        "id": "met7fNRbrHPC",
        "outputId": "886bffd1-ab01-476c-ab15-321b9f2db5ec"
      },
      "execution_count": null,
      "outputs": [
        {
          "output_type": "execute_result",
          "data": {
            "text/plain": [
              "              Year    Population  Life_expectancy  Urban_population  \\\n",
              "count    59.000000  5.900000e+01        59.000000         59.000000   \n",
              "mean   1989.000000  1.696346e+07        76.502770         59.992123   \n",
              "std      17.175564  4.115423e+06         4.147860          2.307851   \n",
              "min    1960.000000  1.027648e+07        70.817073         54.199946   \n",
              "25%    1974.500000  1.380800e+07        72.430732         58.937017   \n",
              "50%    1989.000000  1.681440e+07        76.713659         60.663125   \n",
              "75%    2003.500000  2.001140e+07        80.364634         61.534600   \n",
              "max    2018.000000  2.498269e+07        82.748780         63.458994   \n",
              "\n",
              "                 CO2     Land_area           GDP  Gross_savings  Interest_rate  \n",
              "count      55.000000  5.800000e+01  5.900000e+01      59.000000      58.000000  \n",
              "mean   247789.324255  7.682803e+06  4.351255e+11      26.662081       3.524808  \n",
              "std     93643.285206  2.171485e+03  4.704365e+11       2.827767       3.427110  \n",
              "min     88202.351000  7.682300e+06  1.857767e+10      22.024903      -6.020115  \n",
              "25%    171674.272000  7.682300e+06  9.300090e+10      24.547023       1.509515  \n",
              "50%    256106.947000  7.682300e+06  2.992680e+11      25.927187       3.319073  \n",
              "75%    327393.427000  7.682300e+06  5.394892e+11      28.524452       6.129231  \n",
              "max    394792.887000  7.692020e+06  1.576184e+12      32.674826      10.070837  "
            ],
            "text/html": [
              "\n",
              "  <div id=\"df-ee20a156-839b-4fd9-9bfa-197056dfc35c\">\n",
              "    <div class=\"colab-df-container\">\n",
              "      <div>\n",
              "<style scoped>\n",
              "    .dataframe tbody tr th:only-of-type {\n",
              "        vertical-align: middle;\n",
              "    }\n",
              "\n",
              "    .dataframe tbody tr th {\n",
              "        vertical-align: top;\n",
              "    }\n",
              "\n",
              "    .dataframe thead th {\n",
              "        text-align: right;\n",
              "    }\n",
              "</style>\n",
              "<table border=\"1\" class=\"dataframe\">\n",
              "  <thead>\n",
              "    <tr style=\"text-align: right;\">\n",
              "      <th></th>\n",
              "      <th>Year</th>\n",
              "      <th>Population</th>\n",
              "      <th>Life_expectancy</th>\n",
              "      <th>Urban_population</th>\n",
              "      <th>CO2</th>\n",
              "      <th>Land_area</th>\n",
              "      <th>GDP</th>\n",
              "      <th>Gross_savings</th>\n",
              "      <th>Interest_rate</th>\n",
              "    </tr>\n",
              "  </thead>\n",
              "  <tbody>\n",
              "    <tr>\n",
              "      <th>count</th>\n",
              "      <td>59.000000</td>\n",
              "      <td>5.900000e+01</td>\n",
              "      <td>59.000000</td>\n",
              "      <td>59.000000</td>\n",
              "      <td>55.000000</td>\n",
              "      <td>5.800000e+01</td>\n",
              "      <td>5.900000e+01</td>\n",
              "      <td>59.000000</td>\n",
              "      <td>58.000000</td>\n",
              "    </tr>\n",
              "    <tr>\n",
              "      <th>mean</th>\n",
              "      <td>1989.000000</td>\n",
              "      <td>1.696346e+07</td>\n",
              "      <td>76.502770</td>\n",
              "      <td>59.992123</td>\n",
              "      <td>247789.324255</td>\n",
              "      <td>7.682803e+06</td>\n",
              "      <td>4.351255e+11</td>\n",
              "      <td>26.662081</td>\n",
              "      <td>3.524808</td>\n",
              "    </tr>\n",
              "    <tr>\n",
              "      <th>std</th>\n",
              "      <td>17.175564</td>\n",
              "      <td>4.115423e+06</td>\n",
              "      <td>4.147860</td>\n",
              "      <td>2.307851</td>\n",
              "      <td>93643.285206</td>\n",
              "      <td>2.171485e+03</td>\n",
              "      <td>4.704365e+11</td>\n",
              "      <td>2.827767</td>\n",
              "      <td>3.427110</td>\n",
              "    </tr>\n",
              "    <tr>\n",
              "      <th>min</th>\n",
              "      <td>1960.000000</td>\n",
              "      <td>1.027648e+07</td>\n",
              "      <td>70.817073</td>\n",
              "      <td>54.199946</td>\n",
              "      <td>88202.351000</td>\n",
              "      <td>7.682300e+06</td>\n",
              "      <td>1.857767e+10</td>\n",
              "      <td>22.024903</td>\n",
              "      <td>-6.020115</td>\n",
              "    </tr>\n",
              "    <tr>\n",
              "      <th>25%</th>\n",
              "      <td>1974.500000</td>\n",
              "      <td>1.380800e+07</td>\n",
              "      <td>72.430732</td>\n",
              "      <td>58.937017</td>\n",
              "      <td>171674.272000</td>\n",
              "      <td>7.682300e+06</td>\n",
              "      <td>9.300090e+10</td>\n",
              "      <td>24.547023</td>\n",
              "      <td>1.509515</td>\n",
              "    </tr>\n",
              "    <tr>\n",
              "      <th>50%</th>\n",
              "      <td>1989.000000</td>\n",
              "      <td>1.681440e+07</td>\n",
              "      <td>76.713659</td>\n",
              "      <td>60.663125</td>\n",
              "      <td>256106.947000</td>\n",
              "      <td>7.682300e+06</td>\n",
              "      <td>2.992680e+11</td>\n",
              "      <td>25.927187</td>\n",
              "      <td>3.319073</td>\n",
              "    </tr>\n",
              "    <tr>\n",
              "      <th>75%</th>\n",
              "      <td>2003.500000</td>\n",
              "      <td>2.001140e+07</td>\n",
              "      <td>80.364634</td>\n",
              "      <td>61.534600</td>\n",
              "      <td>327393.427000</td>\n",
              "      <td>7.682300e+06</td>\n",
              "      <td>5.394892e+11</td>\n",
              "      <td>28.524452</td>\n",
              "      <td>6.129231</td>\n",
              "    </tr>\n",
              "    <tr>\n",
              "      <th>max</th>\n",
              "      <td>2018.000000</td>\n",
              "      <td>2.498269e+07</td>\n",
              "      <td>82.748780</td>\n",
              "      <td>63.458994</td>\n",
              "      <td>394792.887000</td>\n",
              "      <td>7.692020e+06</td>\n",
              "      <td>1.576184e+12</td>\n",
              "      <td>32.674826</td>\n",
              "      <td>10.070837</td>\n",
              "    </tr>\n",
              "  </tbody>\n",
              "</table>\n",
              "</div>\n",
              "      <button class=\"colab-df-convert\" onclick=\"convertToInteractive('df-ee20a156-839b-4fd9-9bfa-197056dfc35c')\"\n",
              "              title=\"Convert this dataframe to an interactive table.\"\n",
              "              style=\"display:none;\">\n",
              "        \n",
              "  <svg xmlns=\"http://www.w3.org/2000/svg\" height=\"24px\"viewBox=\"0 0 24 24\"\n",
              "       width=\"24px\">\n",
              "    <path d=\"M0 0h24v24H0V0z\" fill=\"none\"/>\n",
              "    <path d=\"M18.56 5.44l.94 2.06.94-2.06 2.06-.94-2.06-.94-.94-2.06-.94 2.06-2.06.94zm-11 1L8.5 8.5l.94-2.06 2.06-.94-2.06-.94L8.5 2.5l-.94 2.06-2.06.94zm10 10l.94 2.06.94-2.06 2.06-.94-2.06-.94-.94-2.06-.94 2.06-2.06.94z\"/><path d=\"M17.41 7.96l-1.37-1.37c-.4-.4-.92-.59-1.43-.59-.52 0-1.04.2-1.43.59L10.3 9.45l-7.72 7.72c-.78.78-.78 2.05 0 2.83L4 21.41c.39.39.9.59 1.41.59.51 0 1.02-.2 1.41-.59l7.78-7.78 2.81-2.81c.8-.78.8-2.07 0-2.86zM5.41 20L4 18.59l7.72-7.72 1.47 1.35L5.41 20z\"/>\n",
              "  </svg>\n",
              "      </button>\n",
              "      \n",
              "  <style>\n",
              "    .colab-df-container {\n",
              "      display:flex;\n",
              "      flex-wrap:wrap;\n",
              "      gap: 12px;\n",
              "    }\n",
              "\n",
              "    .colab-df-convert {\n",
              "      background-color: #E8F0FE;\n",
              "      border: none;\n",
              "      border-radius: 50%;\n",
              "      cursor: pointer;\n",
              "      display: none;\n",
              "      fill: #1967D2;\n",
              "      height: 32px;\n",
              "      padding: 0 0 0 0;\n",
              "      width: 32px;\n",
              "    }\n",
              "\n",
              "    .colab-df-convert:hover {\n",
              "      background-color: #E2EBFA;\n",
              "      box-shadow: 0px 1px 2px rgba(60, 64, 67, 0.3), 0px 1px 3px 1px rgba(60, 64, 67, 0.15);\n",
              "      fill: #174EA6;\n",
              "    }\n",
              "\n",
              "    [theme=dark] .colab-df-convert {\n",
              "      background-color: #3B4455;\n",
              "      fill: #D2E3FC;\n",
              "    }\n",
              "\n",
              "    [theme=dark] .colab-df-convert:hover {\n",
              "      background-color: #434B5C;\n",
              "      box-shadow: 0px 1px 3px 1px rgba(0, 0, 0, 0.15);\n",
              "      filter: drop-shadow(0px 1px 2px rgba(0, 0, 0, 0.3));\n",
              "      fill: #FFFFFF;\n",
              "    }\n",
              "  </style>\n",
              "\n",
              "      <script>\n",
              "        const buttonEl =\n",
              "          document.querySelector('#df-ee20a156-839b-4fd9-9bfa-197056dfc35c button.colab-df-convert');\n",
              "        buttonEl.style.display =\n",
              "          google.colab.kernel.accessAllowed ? 'block' : 'none';\n",
              "\n",
              "        async function convertToInteractive(key) {\n",
              "          const element = document.querySelector('#df-ee20a156-839b-4fd9-9bfa-197056dfc35c');\n",
              "          const dataTable =\n",
              "            await google.colab.kernel.invokeFunction('convertToInteractive',\n",
              "                                                     [key], {});\n",
              "          if (!dataTable) return;\n",
              "\n",
              "          const docLinkHtml = 'Like what you see? Visit the ' +\n",
              "            '<a target=\"_blank\" href=https://colab.research.google.com/notebooks/data_table.ipynb>data table notebook</a>'\n",
              "            + ' to learn more about interactive tables.';\n",
              "          element.innerHTML = '';\n",
              "          dataTable['output_type'] = 'display_data';\n",
              "          await google.colab.output.renderOutput(dataTable, element);\n",
              "          const docLink = document.createElement('div');\n",
              "          docLink.innerHTML = docLinkHtml;\n",
              "          element.appendChild(docLink);\n",
              "        }\n",
              "      </script>\n",
              "    </div>\n",
              "  </div>\n",
              "  "
            ]
          },
          "metadata": {},
          "execution_count": 20
        }
      ]
    },
    {
      "cell_type": "markdown",
      "source": [
        "**[1.8]** Display the summary (info) of df"
      ],
      "metadata": {
        "id": "4YPaJ9pyrUzU"
      }
    },
    {
      "cell_type": "code",
      "source": [
        "# Placeholder for student's code"
      ],
      "metadata": {
        "id": "Bf3_HqT8rU6u"
      },
      "execution_count": null,
      "outputs": []
    },
    {
      "cell_type": "code",
      "source": [
        "# Solution\n",
        "df.info()"
      ],
      "metadata": {
        "colab": {
          "base_uri": "https://localhost:8080/"
        },
        "id": "xcZTctklrU-H",
        "outputId": "c5af5b59-1f95-45ef-ddeb-d500bc3c538b"
      },
      "execution_count": null,
      "outputs": [
        {
          "output_type": "stream",
          "name": "stdout",
          "text": [
            "<class 'pandas.core.frame.DataFrame'>\n",
            "RangeIndex: 59 entries, 0 to 58\n",
            "Data columns (total 9 columns):\n",
            " #   Column            Non-Null Count  Dtype  \n",
            "---  ------            --------------  -----  \n",
            " 0   Year              59 non-null     int64  \n",
            " 1   Population        59 non-null     int64  \n",
            " 2   Life_expectancy   59 non-null     float64\n",
            " 3   Urban_population  59 non-null     float64\n",
            " 4   CO2               55 non-null     float64\n",
            " 5   Land_area         58 non-null     float64\n",
            " 6   GDP               59 non-null     int64  \n",
            " 7   Gross_savings     59 non-null     float64\n",
            " 8   Interest_rate     58 non-null     float64\n",
            "dtypes: float64(6), int64(3)\n",
            "memory usage: 4.3 KB\n"
          ]
        }
      ]
    },
    {
      "cell_type": "markdown",
      "metadata": {
        "id": "hvar8IVTGvsK"
      },
      "source": [
        "### 2. Prepare Data\n",
        "\n",
        "**[2.1]** Remove all missing values from the data\n"
      ]
    },
    {
      "cell_type": "code",
      "metadata": {
        "id": "tnadoEhHKixB"
      },
      "source": [
        "# Placeholder for student's code"
      ],
      "execution_count": null,
      "outputs": []
    },
    {
      "cell_type": "code",
      "metadata": {
        "id": "NQyGyQY4ixzP"
      },
      "source": [
        "# Solution\n",
        "df_cleaned = df.dropna(how='any')"
      ],
      "execution_count": null,
      "outputs": []
    },
    {
      "cell_type": "markdown",
      "metadata": {
        "id": "3X-PogfULHPg"
      },
      "source": [
        "**[2.2]** Display a scatter plot for the target variable against each of \"Year\", \"Population\", \"Life_expectancy\", \"CO2\""
      ]
    },
    {
      "cell_type": "code",
      "metadata": {
        "id": "XwT_YM87llsg",
        "colab": {
          "base_uri": "https://localhost:8080/",
          "height": 1000
        },
        "outputId": "b65c2233-b129-42cc-cfb0-29de30483f17"
      },
      "source": [
        "df_cleaned.plot(x='Year', y='GDP', kind='scatter')\n",
        "df_cleaned.plot(x='Population', y='GDP', kind='scatter')\n",
        "df_cleaned.plot(x='Life_expectancy', y='GDP', kind='scatter')\n",
        "df_cleaned.plot(x='CO2', y='GDP', kind='scatter')"
      ],
      "execution_count": null,
      "outputs": [
        {
          "output_type": "execute_result",
          "data": {
            "text/plain": [
              "<AxesSubplot:xlabel='CO2', ylabel='GDP'>"
            ]
          },
          "metadata": {},
          "execution_count": 25
        },
        {
          "output_type": "display_data",
          "data": {
            "text/plain": [
              "<Figure size 432x288 with 1 Axes>"
            ],
            "image/png": "[encoded data removed]"
          },
          "metadata": {
            "needs_background": "light"
          }
        },
        {
          "output_type": "display_data",
          "data": {
            "text/plain": [
              "<Figure size 432x288 with 1 Axes>"
            ],
            "image/png": "[encoded data removed]"
          },
          "metadata": {
            "needs_background": "light"
          }
        },
        {
          "output_type": "display_data",
          "data": {
            "text/plain": [
              "<Figure size 432x288 with 1 Axes>"
            ],
            "image/png": "[encoded data removed]"
          },
          "metadata": {
            "needs_background": "light"
          }
        },
        {
          "output_type": "display_data",
          "data": {
            "text/plain": [
              "<Figure size 432x288 with 1 Axes>"
            ],
            "image/png": "[encoded data removed]"
          },
          "metadata": {
            "needs_background": "light"
          }
        }
      ]
    },
    {
      "cell_type": "markdown",
      "metadata": {
        "id": "rQ58kH1yLW0G"
      },
      "source": [
        "**[2.3]** Display a scatter plot for the target variable against each of \"Urban_population\", \"Gross_savings\" and \"Interest_rate\""
      ]
    },
    {
      "cell_type": "code",
      "source": [
        "# Placeholder for student's code"
      ],
      "metadata": {
        "id": "oOtPV9nOt1U7"
      },
      "execution_count": null,
      "outputs": []
    },
    {
      "cell_type": "code",
      "metadata": {
        "id": "NjIRGrIwLBCW",
        "colab": {
          "base_uri": "https://localhost:8080/",
          "height": 857
        },
        "outputId": "9e9421f7-0d70-44b4-f7db-595bfaf75246"
      },
      "source": [
        "# Solution\n",
        "df_cleaned.plot(x='Urban_population', y='GDP', kind='scatter')\n",
        "df_cleaned.plot(x='Gross_savings', y='GDP', kind='scatter')\n",
        "df_cleaned.plot(x='Interest_rate', y='GDP', kind='scatter')"
      ],
      "execution_count": null,
      "outputs": [
        {
          "output_type": "execute_result",
          "data": {
            "text/plain": [
              "<AxesSubplot:xlabel='Interest_rate', ylabel='GDP'>"
            ]
          },
          "metadata": {},
          "execution_count": 27
        },
        {
          "output_type": "display_data",
          "data": {
            "text/plain": [
              "<Figure size 432x288 with 1 Axes>"
            ],
            "image/png": "[encoded data removed]"
          },
          "metadata": {
            "needs_background": "light"
          }
        },
        {
          "output_type": "display_data",
          "data": {
            "text/plain": [
              "<Figure size 432x288 with 1 Axes>"
            ],
            "image/png": "[encoded data removed]"
          },
          "metadata": {
            "needs_background": "light"
          }
        },
        {
          "output_type": "display_data",
          "data": {
            "text/plain": [
              "<Figure size 432x288 with 1 Axes>"
            ],
            "image/png": "[encoded data removed]"
          },
          "metadata": {
            "needs_background": "light"
          }
        }
      ]
    },
    {
      "cell_type": "markdown",
      "metadata": {
        "id": "g1vQVtizLuk3"
      },
      "source": [
        "**[2.4]** Display a scatter plot for the target variable against \"Land Area\""
      ]
    },
    {
      "cell_type": "code",
      "source": [
        "# Placeholder for student's code"
      ],
      "metadata": {
        "id": "FjHEBQyJt0cS"
      },
      "execution_count": null,
      "outputs": []
    },
    {
      "cell_type": "code",
      "metadata": {
        "id": "8xxLmF6PLuqt",
        "colab": {
          "base_uri": "https://localhost:8080/",
          "height": 309
        },
        "outputId": "15b298e3-643b-42c8-e6f3-f9b47e025f4d"
      },
      "source": [
        "# Solution \n",
        "df_cleaned.plot(x='Land_area', y='GDP', kind='scatter')"
      ],
      "execution_count": null,
      "outputs": [
        {
          "output_type": "execute_result",
          "data": {
            "text/plain": [
              "<AxesSubplot:xlabel='Land_area', ylabel='GDP'>"
            ]
          },
          "metadata": {},
          "execution_count": 29
        },
        {
          "output_type": "display_data",
          "data": {
            "text/plain": [
              "<Figure size 432x288 with 1 Axes>"
            ],
            "image/png": "[encoded data removed]"
          },
          "metadata": {
            "needs_background": "light"
          }
        }
      ]
    },
    {
      "cell_type": "markdown",
      "metadata": {
        "id": "I0K2ianywrjs"
      },
      "source": [
        "### 3.   Assess Baseline"
      ]
    },
    {
      "cell_type": "markdown",
      "metadata": {
        "id": "ULmQVwjqwtR1"
      },
      "source": [
        "**[3.1]** Calculate the average of the target variable after importing the numpy package"
      ]
    },
    {
      "cell_type": "code",
      "source": [
        "# Placeholder for student's code"
      ],
      "metadata": {
        "id": "7m1GlsdSnCUa"
      },
      "execution_count": null,
      "outputs": []
    },
    {
      "cell_type": "code",
      "metadata": {
        "id": "zM3ZUknOwtf3"
      },
      "source": [
        "# Solution\n",
        "import numpy as np\n",
        "y = df_cleaned['GDP'].values\n",
        "y_mean = y.mean()"
      ],
      "execution_count": null,
      "outputs": []
    },
    {
      "cell_type": "markdown",
      "metadata": {
        "id": "8itsC3Lyxzdh"
      },
      "source": [
        "**[3.2]** Create a numpy array called y_base filled with this value"
      ]
    },
    {
      "cell_type": "code",
      "source": [
        "# Placeholder for student's code"
      ],
      "metadata": {
        "id": "GBMUyYZknCsR"
      },
      "execution_count": null,
      "outputs": []
    },
    {
      "cell_type": "code",
      "metadata": {
        "id": "lLuAygN8xzi6"
      },
      "source": [
        "# Solution\n",
        "y_base = np.full(y.shape, y_mean)"
      ],
      "execution_count": null,
      "outputs": []
    },
    {
      "cell_type": "markdown",
      "source": [
        "**[3.3]** Task: Import the MSE and MAE from sklearn"
      ],
      "metadata": {
        "id": "Hom5rL-6tXWp"
      }
    },
    {
      "cell_type": "code",
      "source": [
        "# Placeholder for student's code"
      ],
      "metadata": {
        "id": "J9kl50PXtXg4"
      },
      "execution_count": null,
      "outputs": []
    },
    {
      "cell_type": "code",
      "source": [
        "# Solution\n",
        "from sklearn.metrics import mean_squared_error as mse\n",
        "from sklearn.metrics import mean_absolute_error as mae"
      ],
      "metadata": {
        "id": "0SUzQHnHtXl1"
      },
      "execution_count": null,
      "outputs": []
    },
    {
      "cell_type": "markdown",
      "metadata": {
        "id": "0YLxU28ixDZF"
      },
      "source": [
        "**[3.3]** Calculate the RMSE and MAE between the target variable and the average value"
      ]
    },
    {
      "cell_type": "code",
      "metadata": {
        "id": "TD828hvXxLJJ"
      },
      "source": [
        "# Placeholder for student's code"
      ],
      "execution_count": null,
      "outputs": []
    },
    {
      "cell_type": "code",
      "metadata": {
        "id": "00PO_TloxDkG",
        "colab": {
          "base_uri": "https://localhost:8080/"
        },
        "outputId": "2fa4c8d8-53f1-4ba8-b98c-b17acd487408"
      },
      "source": [
        "# Solution\n",
        "print(mse(y, y_base, squared=False))\n",
        "print(mae(y, y_base))"
      ],
      "execution_count": null,
      "outputs": [
        {
          "output_type": "stream",
          "name": "stdout",
          "text": [
            "413641316887.3311\n",
            "301618194423.7098\n"
          ]
        }
      ]
    },
    {
      "cell_type": "markdown",
      "metadata": {
        "id": "pPJ2dpQbv_wW"
      },
      "source": [
        "### 4. Train Initial Model"
      ]
    },
    {
      "cell_type": "markdown",
      "metadata": {
        "id": "mFsr56U_nO9V"
      },
      "source": [
        "**[4.1]** Import the linear regression module from sklearn"
      ]
    },
    {
      "cell_type": "code",
      "metadata": {
        "id": "BqymOJvwnS8h"
      },
      "source": [
        "# Placeholder for student's code"
      ],
      "execution_count": null,
      "outputs": []
    },
    {
      "cell_type": "code",
      "metadata": {
        "id": "UCNVnRx2Qcyv"
      },
      "source": [
        "# Solution\n",
        "from sklearn.linear_model import LinearRegression"
      ],
      "execution_count": null,
      "outputs": []
    },
    {
      "cell_type": "markdown",
      "metadata": {
        "id": "mESeMgbynZwe"
      },
      "source": [
        "**[4.2]** Instantiate the LinearRegression class into a variable called reg1"
      ]
    },
    {
      "cell_type": "code",
      "metadata": {
        "id": "xdv8yApXnarX"
      },
      "source": [
        "# Placeholder for student's code"
      ],
      "execution_count": null,
      "outputs": []
    },
    {
      "cell_type": "code",
      "metadata": {
        "id": "jwaQxV7encjP"
      },
      "source": [
        "# Solution\n",
        "reg1 = LinearRegression()"
      ],
      "execution_count": null,
      "outputs": []
    },
    {
      "cell_type": "markdown",
      "metadata": {
        "id": "jkCyz2benfqX"
      },
      "source": [
        "**[4.3]** Fit the model with the following features: \"Year\", \"Population\", \"Life_expectancy\", \"CO2\""
      ]
    },
    {
      "cell_type": "code",
      "metadata": {
        "id": "V3elorRznfx2"
      },
      "source": [
        "# Placeholder for student's code"
      ],
      "execution_count": null,
      "outputs": []
    },
    {
      "cell_type": "code",
      "metadata": {
        "id": "Ib8mHNwzn5L2",
        "colab": {
          "base_uri": "https://localhost:8080/",
          "height": 75
        },
        "outputId": "ee310c5e-66ff-4ff6-f530-5c4869f337a6"
      },
      "source": [
        "# Solution\n",
        "X4 = df_cleaned[['Year','Population','Life_expectancy','CO2']]\n",
        "reg1.fit(X4, y)"
      ],
      "execution_count": null,
      "outputs": [
        {
          "output_type": "execute_result",
          "data": {
            "text/plain": [
              "LinearRegression()"
            ],
            "text/html": [
              "<style>#sk-container-id-1 {color: black;background-color: white;}#sk-container-id-1 pre{padding: 0;}#sk-container-id-1 div.sk-toggleable {background-color: white;}#sk-container-id-1 label.sk-toggleable__label {cursor: pointer;display: block;width: 100%;margin-bottom: 0;padding: 0.3em;box-sizing: border-box;text-align: center;}#sk-container-id-1 label.sk-toggleable__label-arrow:before {content: \"▸\";float: left;margin-right: 0.25em;color: #696969;}#sk-container-id-1 label.sk-toggleable__label-arrow:hover:before {color: black;}#sk-container-id-1 div.sk-estimator:hover label.sk-toggleable__label-arrow:before {color: black;}#sk-container-id-1 div.sk-toggleable__content {max-height: 0;max-width: 0;overflow: hidden;text-align: left;background-color: #f0f8ff;}#sk-container-id-1 div.sk-toggleable__content pre {margin: 0.2em;color: black;border-radius: 0.25em;background-color: #f0f8ff;}#sk-container-id-1 input.sk-toggleable__control:checked~div.sk-toggleable__content {max-height: 200px;max-width: 100%;overflow: auto;}#sk-container-id-1 input.sk-toggleable__control:checked~label.sk-toggleable__label-arrow:before {content: \"▾\";}#sk-container-id-1 div.sk-estimator input.sk-toggleable__control:checked~label.sk-toggleable__label {background-color: #d4ebff;}#sk-container-id-1 div.sk-label input.sk-toggleable__control:checked~label.sk-toggleable__label {background-color: #d4ebff;}#sk-container-id-1 input.sk-hidden--visually {border: 0;clip: rect(1px 1px 1px 1px);clip: rect(1px, 1px, 1px, 1px);height: 1px;margin: -1px;overflow: hidden;padding: 0;position: absolute;width: 1px;}#sk-container-id-1 div.sk-estimator {font-family: monospace;background-color: #f0f8ff;border: 1px dotted black;border-radius: 0.25em;box-sizing: border-box;margin-bottom: 0.5em;}#sk-container-id-1 div.sk-estimator:hover {background-color: #d4ebff;}#sk-container-id-1 div.sk-parallel-item::after {content: \"\";width: 100%;border-bottom: 1px solid gray;flex-grow: 1;}#sk-container-id-1 div.sk-label:hover label.sk-toggleable__label {background-color: #d4ebff;}#sk-container-id-1 div.sk-serial::before {content: \"\";position: absolute;border-left: 1px solid gray;box-sizing: border-box;top: 0;bottom: 0;left: 50%;z-index: 0;}#sk-container-id-1 div.sk-serial {display: flex;flex-direction: column;align-items: center;background-color: white;padding-right: 0.2em;padding-left: 0.2em;position: relative;}#sk-container-id-1 div.sk-item {position: relative;z-index: 1;}#sk-container-id-1 div.sk-parallel {display: flex;align-items: stretch;justify-content: center;background-color: white;position: relative;}#sk-container-id-1 div.sk-item::before, #sk-container-id-1 div.sk-parallel-item::before {content: \"\";position: absolute;border-left: 1px solid gray;box-sizing: border-box;top: 0;bottom: 0;left: 50%;z-index: -1;}#sk-container-id-1 div.sk-parallel-item {display: flex;flex-direction: column;z-index: 1;position: relative;background-color: white;}#sk-container-id-1 div.sk-parallel-item:first-child::after {align-self: flex-end;width: 50%;}#sk-container-id-1 div.sk-parallel-item:last-child::after {align-self: flex-start;width: 50%;}#sk-container-id-1 div.sk-parallel-item:only-child::after {width: 0;}#sk-container-id-1 div.sk-dashed-wrapped {border: 1px dashed gray;margin: 0 0.4em 0.5em 0.4em;box-sizing: border-box;padding-bottom: 0.4em;background-color: white;}#sk-container-id-1 div.sk-label label {font-family: monospace;font-weight: bold;display: inline-block;line-height: 1.2em;}#sk-container-id-1 div.sk-label-container {text-align: center;}#sk-container-id-1 div.sk-container {/* jupyter's `normalize.less` sets `[hidden] { display: none; }` but bootstrap.min.css set `[hidden] { display: none !important; }` so we also need the `!important` here to be able to override the default hidden behavior on the sphinx rendered scikit-learn.org. See: https://github.com/scikit-learn/scikit-learn/issues/21755 */display: inline-block !important;position: relative;}#sk-container-id-1 div.sk-text-repr-fallback {display: none;}</style><div id=\"sk-container-id-1\" class=\"sk-top-container\"><div class=\"sk-text-repr-fallback\"><pre>LinearRegression()</pre><b>In a Jupyter environment, please rerun this cell to show the HTML representation or trust the notebook. <br />On GitHub, the HTML representation is unable to render, please try loading this page with nbviewer.org.</b></div><div class=\"sk-container\" hidden><div class=\"sk-item\"><div class=\"sk-estimator sk-toggleable\"><input class=\"sk-toggleable__control sk-hidden--visually\" id=\"sk-estimator-id-1\" type=\"checkbox\" checked><label for=\"sk-estimator-id-1\" class=\"sk-toggleable__label sk-toggleable__label-arrow\">LinearRegression</label><div class=\"sk-toggleable__content\"><pre>LinearRegression()</pre></div></div></div></div></div>"
            ]
          },
          "metadata": {},
          "execution_count": 43
        }
      ]
    },
    {
      "cell_type": "markdown",
      "metadata": {
        "id": "B0lYt3Z7owUL"
      },
      "source": [
        "**[4.4]** Calculate the RMSE and MAE between the target variable and the predictions"
      ]
    },
    {
      "cell_type": "code",
      "metadata": {
        "id": "oxnSm9cfoyvs"
      },
      "source": [
        "# Placeholder for student's code"
      ],
      "execution_count": null,
      "outputs": []
    },
    {
      "cell_type": "code",
      "metadata": {
        "id": "qtppAeWkowcW",
        "colab": {
          "base_uri": "https://localhost:8080/"
        },
        "outputId": "74e26b52-44b3-4458-dc3c-c002b0981a7d"
      },
      "source": [
        "# Solution\n",
        "y_preds = reg1.predict(X4)\n",
        "print(mse(y, y_preds, squared=False))\n",
        "print(mae(y, y_preds))"
      ],
      "execution_count": null,
      "outputs": [
        {
          "output_type": "stream",
          "name": "stdout",
          "text": [
            "92377581291.83366\n",
            "73187395294.81134\n"
          ]
        }
      ]
    },
    {
      "cell_type": "markdown",
      "source": [
        "**[4.5]** Import the altair package"
      ],
      "metadata": {
        "id": "MTWbVKTGuL7e"
      }
    },
    {
      "cell_type": "code",
      "source": [
        "# Placeholder for student's code"
      ],
      "metadata": {
        "id": "WnrPUkkduMCi"
      },
      "execution_count": null,
      "outputs": []
    },
    {
      "cell_type": "code",
      "source": [
        "# Solution\n",
        "import altair as alt"
      ],
      "metadata": {
        "id": "dOByda5TrjkB"
      },
      "execution_count": null,
      "outputs": []
    },
    {
      "cell_type": "markdown",
      "source": [
        "**[4.6]** Create a line chart with y as both x and y axes"
      ],
      "metadata": {
        "id": "YexlpiWvuMps"
      }
    },
    {
      "cell_type": "code",
      "source": [
        "# Placeholder for student's code"
      ],
      "metadata": {
        "id": "APqRFZ7tuMui"
      },
      "execution_count": null,
      "outputs": []
    },
    {
      "cell_type": "code",
      "source": [
        "# Solution\n",
        "perfect = alt.Chart(pd.DataFrame({'target': y, 'preds': y})).mark_line(color='green').encode(\n",
        "    x='target',\n",
        "    y='preds'\n",
        ")"
      ],
      "metadata": {
        "id": "RN8uVydLtd7Y"
      },
      "execution_count": null,
      "outputs": []
    },
    {
      "cell_type": "markdown",
      "source": [
        "**[4.6]** Create a line chart with y as the x-axis and y_preds as y-axis and combine it with previous chart"
      ],
      "metadata": {
        "id": "I3NuvKcT1vuL"
      }
    },
    {
      "cell_type": "code",
      "source": [
        "# Placeholder for student's code"
      ],
      "metadata": {
        "id": "K8aP_J5Mvd_E"
      },
      "execution_count": null,
      "outputs": []
    },
    {
      "cell_type": "code",
      "source": [
        "# Solution\n",
        "pred_chart = alt.Chart(pd.DataFrame({'target': y, 'preds': y_preds})).mark_line().encode(\n",
        "    x='target',\n",
        "    y='preds'\n",
        "  )\n",
        "\n",
        "pred_chart + perfect"
      ],
      "metadata": {
        "colab": {
          "base_uri": "https://localhost:8080/",
          "height": 368
        },
        "id": "cM74J0PlrSvh",
        "outputId": "4f1f76ef-680f-4030-b8de-8e77dd2df154"
      },
      "execution_count": null,
      "outputs": [
        {
          "output_type": "execute_result",
          "data": {
            "text/html": [
              "\n",
              "<div id=\"altair-viz-156a4a8250e048fcafe304a0e22508f5\"></div>\n",
              "<script type=\"text/javascript\">\n",
              "  var VEGA_DEBUG = (typeof VEGA_DEBUG == \"undefined\") ? {} : VEGA_DEBUG;\n",
              "  (function(spec, embedOpt){\n",
              "    let outputDiv = document.currentScript.previousElementSibling;\n",
              "    if (outputDiv.id !== \"altair-viz-156a4a8250e048fcafe304a0e22508f5\") {\n",
              "      outputDiv = document.getElementById(\"altair-viz-156a4a8250e048fcafe304a0e22508f5\");\n",
              "    }\n",
              "    const paths = {\n",
              "      \"vega\": \"https://cdn.jsdelivr.net/npm//vega@5?noext\",\n",
              "      \"vega-lib\": \"https://cdn.jsdelivr.net/npm//vega-lib?noext\",\n",
              "      \"vega-lite\": \"https://cdn.jsdelivr.net/npm//vega-lite@4.17.0?noext\",\n",
              "      \"vega-embed\": \"https://cdn.jsdelivr.net/npm//vega-embed@6?noext\",\n",
              "    };\n",
              "\n",
              "    function maybeLoadScript(lib, version) {\n",
              "      var key = `${lib.replace(\"-\", \"\")}_version`;\n",
              "      return (VEGA_DEBUG[key] == version) ?\n",
              "        Promise.resolve(paths[lib]) :\n",
              "        new Promise(function(resolve, reject) {\n",
              "          var s = document.createElement('script');\n",
              "          document.getElementsByTagName(\"head\")[0].appendChild(s);\n",
              "          s.async = true;\n",
              "          s.onload = () => {\n",
              "            VEGA_DEBUG[key] = version;\n",
              "            return resolve(paths[lib]);\n",
              "          };\n",
              "          s.onerror = () => reject(`Error loading script: ${paths[lib]}`);\n",
              "          s.src = paths[lib];\n",
              "        });\n",
              "    }\n",
              "\n",
              "    function showError(err) {\n",
              "      outputDiv.innerHTML = `<div class=\"error\" style=\"color:red;\">${err}</div>`;\n",
              "      throw err;\n",
              "    }\n",
              "\n",
              "    function displayChart(vegaEmbed) {\n",
              "      vegaEmbed(outputDiv, spec, embedOpt)\n",
              "        .catch(err => showError(`Javascript Error: ${err.message}<br>This usually means there's a typo in your chart specification. See the javascript console for the full traceback.`));\n",
              "    }\n",
              "\n",
              "    if(typeof define === \"function\" && define.amd) {\n",
              "      requirejs.config({paths});\n",
              "      require([\"vega-embed\"], displayChart, err => showError(`Error loading script: ${err.message}`));\n",
              "    } else {\n",
              "      maybeLoadScript(\"vega\", \"5\")\n",
              "        .then(() => maybeLoadScript(\"vega-lite\", \"4.17.0\"))\n",
              "        .then(() => maybeLoadScript(\"vega-embed\", \"6\"))\n",
              "        .catch(showError)\n",
              "        .then(() => displayChart(vegaEmbed));\n",
              "    }\n",
              "  })({\"config\": {\"view\": {\"continuousWidth\": 400, \"continuousHeight\": 300}}, \"layer\": [{\"data\": {\"name\": \"data-60ce72049f248696b11a742603d6d1b2\"}, \"mark\": \"line\", \"encoding\": {\"x\": {\"field\": \"target\", \"type\": \"quantitative\"}, \"y\": {\"field\": \"preds\", \"type\": \"quantitative\"}}}, {\"data\": {\"name\": \"data-bb14d9316893abdd2fae873783f486c6\"}, \"mark\": {\"type\": \"line\", \"color\": \"green\"}, \"encoding\": {\"x\": {\"field\": \"target\", \"type\": \"quantitative\"}, \"y\": {\"field\": \"preds\", \"type\": \"quantitative\"}}}], \"$schema\": \"https://vega.github.io/schema/vega-lite/v4.17.0.json\", \"datasets\": {\"data-60ce72049f248696b11a742603d6d1b2\": [{\"target\": 19652816665, \"preds\": 12281491697.3125}, {\"target\": 19892485161, \"preds\": 20610883615.9375}, {\"target\": 21507447643, \"preds\": -13565027367.6875}, {\"target\": 23764139321, \"preds\": -35697673986.25}, {\"target\": 25936835032, \"preds\": -45669403337.5}, {\"target\": 27268451114, \"preds\": -44183777103.9375}, {\"target\": 30397580916, \"preds\": -116384190765.125}, {\"target\": 32665472057, \"preds\": -139859650180.375}, {\"target\": 36628961810, \"preds\": -118584107341.3125}, {\"target\": 41271138985, \"preds\": -111189255887.3125}, {\"target\": 45149512823, \"preds\": 64608108669.0625}, {\"target\": 51967289720, \"preds\": 111244193925.9375}, {\"target\": 63737347854, \"preds\": 142873117442.8125}, {\"target\": 88831245394, \"preds\": 275931121527.375}, {\"target\": 97170558514, \"preds\": 256524182604.5}, {\"target\": 104921215177, \"preds\": 198969305603.375}, {\"target\": 110201881165, \"preds\": 182980601096.125}, {\"target\": 118338596887, \"preds\": 174794742639.5}, {\"target\": 134712029990, \"preds\": 133924944249.9375}, {\"target\": 149774930362, \"preds\": 139692028457.6875}, {\"target\": 176642284918, \"preds\": 184392628598.0625}, {\"target\": 193770274743, \"preds\": 219738152780.9375}, {\"target\": 177030416472, \"preds\": 173418760538.5}, {\"target\": 193242166274, \"preds\": 156326096556.4375}, {\"target\": 180234716576, \"preds\": 159937547744.5625}, {\"target\": 182036933408, \"preds\": 193201550686.0}, {\"target\": 189060349391, \"preds\": 254867020607.125}, {\"target\": 235659196740, \"preds\": 313769050012.625}, {\"target\": 299267974921, \"preds\": 409770607486.25}, {\"target\": 310777222008, \"preds\": 412332104965.75}, {\"target\": 325310415195, \"preds\": 411029298815.1875}, {\"target\": 324878874106, \"preds\": 397767392681.9375}, {\"target\": 311544406970, \"preds\": 407040651181.75}, {\"target\": 322211691456, \"preds\": 347318471399.875}, {\"target\": 367216364716, \"preds\": 313939641899.6875}, {\"target\": 400302731411, \"preds\": 374302861355.875}, {\"target\": 434568007513, \"preds\": 389507201379.0}, {\"target\": 398899138574, \"preds\": 376839744542.0625}, {\"target\": 388608221582, \"preds\": 397067768167.4375}, {\"target\": 415222633926, \"preds\": 419294491549.0625}, {\"target\": 378376086723, \"preds\": 465812552672.25}, {\"target\": 394648911679, \"preds\": 524604945392.8125}, {\"target\": 466488060571, \"preds\": 542863142301.875}, {\"target\": 612490396927, \"preds\": 567873501820.625}, {\"target\": 693407758232, \"preds\": 640256752969.9375}, {\"target\": 746054207847, \"preds\": 741609375276.9375}, {\"target\": 853099630996, \"preds\": 674426016677.9375}, {\"target\": 1053995523724, \"preds\": 867755785457.5}, {\"target\": 927805183331, \"preds\": 1075690999922.125}, {\"target\": 1146138465604, \"preds\": 1163862534316.5}, {\"target\": 1396649906339, \"preds\": 1239874549577.9375}, {\"target\": 1546151783873, \"preds\": 1377013882635.1875}, {\"target\": 1576184467015, \"preds\": 1483200250556.625}, {\"target\": 1467483705132, \"preds\": 1563241077396.875}], \"data-bb14d9316893abdd2fae873783f486c6\": [{\"target\": 19652816665, \"preds\": 19652816665}, {\"target\": 19892485161, \"preds\": 19892485161}, {\"target\": 21507447643, \"preds\": 21507447643}, {\"target\": 23764139321, \"preds\": 23764139321}, {\"target\": 25936835032, \"preds\": 25936835032}, {\"target\": 27268451114, \"preds\": 27268451114}, {\"target\": 30397580916, \"preds\": 30397580916}, {\"target\": 32665472057, \"preds\": 32665472057}, {\"target\": 36628961810, \"preds\": 36628961810}, {\"target\": 41271138985, \"preds\": 41271138985}, {\"target\": 45149512823, \"preds\": 45149512823}, {\"target\": 51967289720, \"preds\": 51967289720}, {\"target\": 63737347854, \"preds\": 63737347854}, {\"target\": 88831245394, \"preds\": 88831245394}, {\"target\": 97170558514, \"preds\": 97170558514}, {\"target\": 104921215177, \"preds\": 104921215177}, {\"target\": 110201881165, \"preds\": 110201881165}, {\"target\": 118338596887, \"preds\": 118338596887}, {\"target\": 134712029990, \"preds\": 134712029990}, {\"target\": 149774930362, \"preds\": 149774930362}, {\"target\": 176642284918, \"preds\": 176642284918}, {\"target\": 193770274743, \"preds\": 193770274743}, {\"target\": 177030416472, \"preds\": 177030416472}, {\"target\": 193242166274, \"preds\": 193242166274}, {\"target\": 180234716576, \"preds\": 180234716576}, {\"target\": 182036933408, \"preds\": 182036933408}, {\"target\": 189060349391, \"preds\": 189060349391}, {\"target\": 235659196740, \"preds\": 235659196740}, {\"target\": 299267974921, \"preds\": 299267974921}, {\"target\": 310777222008, \"preds\": 310777222008}, {\"target\": 325310415195, \"preds\": 325310415195}, {\"target\": 324878874106, \"preds\": 324878874106}, {\"target\": 311544406970, \"preds\": 311544406970}, {\"target\": 322211691456, \"preds\": 322211691456}, {\"target\": 367216364716, \"preds\": 367216364716}, {\"target\": 400302731411, \"preds\": 400302731411}, {\"target\": 434568007513, \"preds\": 434568007513}, {\"target\": 398899138574, \"preds\": 398899138574}, {\"target\": 388608221582, \"preds\": 388608221582}, {\"target\": 415222633926, \"preds\": 415222633926}, {\"target\": 378376086723, \"preds\": 378376086723}, {\"target\": 394648911679, \"preds\": 394648911679}, {\"target\": 466488060571, \"preds\": 466488060571}, {\"target\": 612490396927, \"preds\": 612490396927}, {\"target\": 693407758232, \"preds\": 693407758232}, {\"target\": 746054207847, \"preds\": 746054207847}, {\"target\": 853099630996, \"preds\": 853099630996}, {\"target\": 1053995523724, \"preds\": 1053995523724}, {\"target\": 927805183331, \"preds\": 927805183331}, {\"target\": 1146138465604, \"preds\": 1146138465604}, {\"target\": 1396649906339, \"preds\": 1396649906339}, {\"target\": 1546151783873, \"preds\": 1546151783873}, {\"target\": 1576184467015, \"preds\": 1576184467015}, {\"target\": 1467483705132, \"preds\": 1467483705132}]}}, {\"mode\": \"vega-lite\"});\n",
              "</script>"
            ],
            "text/plain": [
              "alt.LayerChart(...)"
            ]
          },
          "metadata": {},
          "execution_count": 51
        }
      ]
    },
    {
      "cell_type": "markdown",
      "metadata": {
        "id": "JfxSdQPnwcv6"
      },
      "source": [
        "### 5. Train Second Model"
      ]
    },
    {
      "cell_type": "markdown",
      "source": [
        "**[5.1]** Task: Create a variable called X7 containing the following features: 'Year','Population','Life_expectancy','CO2','Urban_population','Interest_rate','Gross_savings'"
      ],
      "metadata": {
        "id": "rG3M1RTkp9TN"
      }
    },
    {
      "cell_type": "code",
      "metadata": {
        "id": "AJu3MVCkzsg8"
      },
      "source": [
        "# Placeholder for student's code"
      ],
      "execution_count": null,
      "outputs": []
    },
    {
      "cell_type": "code",
      "metadata": {
        "id": "xlaaeVL_sYp6"
      },
      "source": [
        "# Solution\n",
        "X7 = df_cleaned[['Year','Population','Life_expectancy','CO2','Urban_population','Interest_rate','Gross_savings']]"
      ],
      "execution_count": null,
      "outputs": []
    },
    {
      "cell_type": "markdown",
      "metadata": {
        "id": "4IZlf1J9zp_9"
      },
      "source": [
        "**[5.2]** Task: Instantiate a LinearRegression model and fit with X7"
      ]
    },
    {
      "cell_type": "code",
      "metadata": {
        "id": "8jEEmyqGzqLK"
      },
      "source": [
        "# Placeholder for student's code"
      ],
      "execution_count": null,
      "outputs": []
    },
    {
      "cell_type": "code",
      "metadata": {
        "id": "1Ikl4-jQsYvl",
        "colab": {
          "base_uri": "https://localhost:8080/",
          "height": 75
        },
        "outputId": "1f563183-b37f-4622-a9ec-b28d72aa405e"
      },
      "source": [
        "# Solution\n",
        "reg2 = LinearRegression()\n",
        "reg2.fit(X7, y)"
      ],
      "execution_count": null,
      "outputs": [
        {
          "output_type": "execute_result",
          "data": {
            "text/plain": [
              "LinearRegression()"
            ],
            "text/html": [
              "<style>#sk-container-id-2 {color: black;background-color: white;}#sk-container-id-2 pre{padding: 0;}#sk-container-id-2 div.sk-toggleable {background-color: white;}#sk-container-id-2 label.sk-toggleable__label {cursor: pointer;display: block;width: 100%;margin-bottom: 0;padding: 0.3em;box-sizing: border-box;text-align: center;}#sk-container-id-2 label.sk-toggleable__label-arrow:before {content: \"▸\";float: left;margin-right: 0.25em;color: #696969;}#sk-container-id-2 label.sk-toggleable__label-arrow:hover:before {color: black;}#sk-container-id-2 div.sk-estimator:hover label.sk-toggleable__label-arrow:before {color: black;}#sk-container-id-2 div.sk-toggleable__content {max-height: 0;max-width: 0;overflow: hidden;text-align: left;background-color: #f0f8ff;}#sk-container-id-2 div.sk-toggleable__content pre {margin: 0.2em;color: black;border-radius: 0.25em;background-color: #f0f8ff;}#sk-container-id-2 input.sk-toggleable__control:checked~div.sk-toggleable__content {max-height: 200px;max-width: 100%;overflow: auto;}#sk-container-id-2 input.sk-toggleable__control:checked~label.sk-toggleable__label-arrow:before {content: \"▾\";}#sk-container-id-2 div.sk-estimator input.sk-toggleable__control:checked~label.sk-toggleable__label {background-color: #d4ebff;}#sk-container-id-2 div.sk-label input.sk-toggleable__control:checked~label.sk-toggleable__label {background-color: #d4ebff;}#sk-container-id-2 input.sk-hidden--visually {border: 0;clip: rect(1px 1px 1px 1px);clip: rect(1px, 1px, 1px, 1px);height: 1px;margin: -1px;overflow: hidden;padding: 0;position: absolute;width: 1px;}#sk-container-id-2 div.sk-estimator {font-family: monospace;background-color: #f0f8ff;border: 1px dotted black;border-radius: 0.25em;box-sizing: border-box;margin-bottom: 0.5em;}#sk-container-id-2 div.sk-estimator:hover {background-color: #d4ebff;}#sk-container-id-2 div.sk-parallel-item::after {content: \"\";width: 100%;border-bottom: 1px solid gray;flex-grow: 1;}#sk-container-id-2 div.sk-label:hover label.sk-toggleable__label {background-color: #d4ebff;}#sk-container-id-2 div.sk-serial::before {content: \"\";position: absolute;border-left: 1px solid gray;box-sizing: border-box;top: 0;bottom: 0;left: 50%;z-index: 0;}#sk-container-id-2 div.sk-serial {display: flex;flex-direction: column;align-items: center;background-color: white;padding-right: 0.2em;padding-left: 0.2em;position: relative;}#sk-container-id-2 div.sk-item {position: relative;z-index: 1;}#sk-container-id-2 div.sk-parallel {display: flex;align-items: stretch;justify-content: center;background-color: white;position: relative;}#sk-container-id-2 div.sk-item::before, #sk-container-id-2 div.sk-parallel-item::before {content: \"\";position: absolute;border-left: 1px solid gray;box-sizing: border-box;top: 0;bottom: 0;left: 50%;z-index: -1;}#sk-container-id-2 div.sk-parallel-item {display: flex;flex-direction: column;z-index: 1;position: relative;background-color: white;}#sk-container-id-2 div.sk-parallel-item:first-child::after {align-self: flex-end;width: 50%;}#sk-container-id-2 div.sk-parallel-item:last-child::after {align-self: flex-start;width: 50%;}#sk-container-id-2 div.sk-parallel-item:only-child::after {width: 0;}#sk-container-id-2 div.sk-dashed-wrapped {border: 1px dashed gray;margin: 0 0.4em 0.5em 0.4em;box-sizing: border-box;padding-bottom: 0.4em;background-color: white;}#sk-container-id-2 div.sk-label label {font-family: monospace;font-weight: bold;display: inline-block;line-height: 1.2em;}#sk-container-id-2 div.sk-label-container {text-align: center;}#sk-container-id-2 div.sk-container {/* jupyter's `normalize.less` sets `[hidden] { display: none; }` but bootstrap.min.css set `[hidden] { display: none !important; }` so we also need the `!important` here to be able to override the default hidden behavior on the sphinx rendered scikit-learn.org. See: https://github.com/scikit-learn/scikit-learn/issues/21755 */display: inline-block !important;position: relative;}#sk-container-id-2 div.sk-text-repr-fallback {display: none;}</style><div id=\"sk-container-id-2\" class=\"sk-top-container\"><div class=\"sk-text-repr-fallback\"><pre>LinearRegression()</pre><b>In a Jupyter environment, please rerun this cell to show the HTML representation or trust the notebook. <br />On GitHub, the HTML representation is unable to render, please try loading this page with nbviewer.org.</b></div><div class=\"sk-container\" hidden><div class=\"sk-item\"><div class=\"sk-estimator sk-toggleable\"><input class=\"sk-toggleable__control sk-hidden--visually\" id=\"sk-estimator-id-2\" type=\"checkbox\" checked><label for=\"sk-estimator-id-2\" class=\"sk-toggleable__label sk-toggleable__label-arrow\">LinearRegression</label><div class=\"sk-toggleable__content\"><pre>LinearRegression()</pre></div></div></div></div></div>"
            ]
          },
          "metadata": {},
          "execution_count": 55
        }
      ]
    },
    {
      "cell_type": "markdown",
      "metadata": {
        "id": "LyckiKti0KA6"
      },
      "source": [
        "**[5.3]** Task: Display the RMSE and MAE scores of this model"
      ]
    },
    {
      "cell_type": "code",
      "metadata": {
        "id": "NXwBtc3L0KIC"
      },
      "source": [
        "# Placeholder for student's code"
      ],
      "execution_count": null,
      "outputs": []
    },
    {
      "cell_type": "code",
      "metadata": {
        "id": "ytgAWj-20KLy",
        "colab": {
          "base_uri": "https://localhost:8080/"
        },
        "outputId": "0e158fd7-a5d9-438c-b8fc-5e63ba44d084"
      },
      "source": [
        "# Solution\n",
        "y_preds2 = reg2.predict(X7)\n",
        "print(mse(y, y_preds2, squared=False))\n",
        "print(mae(y, y_preds2))"
      ],
      "execution_count": null,
      "outputs": [
        {
          "output_type": "stream",
          "name": "stdout",
          "text": [
            "79367048365.32306\n",
            "63546880780.59491\n"
          ]
        }
      ]
    },
    {
      "cell_type": "markdown",
      "metadata": {
        "id": "6-n7608K0lpU"
      },
      "source": [
        "**[5.4]** Create a line chart with y as the x-axis and y_preds as y-axis and combine it with the perfect chart"
      ]
    },
    {
      "cell_type": "code",
      "source": [
        "# Placeholder for student's code"
      ],
      "metadata": {
        "id": "e_ERktAGvZAS"
      },
      "execution_count": null,
      "outputs": []
    },
    {
      "cell_type": "code",
      "source": [
        "# Solution\n",
        "pred_chart = alt.Chart(pd.DataFrame({'target': y, 'preds': y_preds2})).mark_line().encode(\n",
        "    x='target',\n",
        "    y='preds'\n",
        "  )\n",
        "pred_chart + perfect"
      ],
      "metadata": {
        "colab": {
          "base_uri": "https://localhost:8080/",
          "height": 368
        },
        "id": "mnaS7_m5reCk",
        "outputId": "10c46bdf-dbc0-4df8-898c-d49bc333949f"
      },
      "execution_count": null,
      "outputs": [
        {
          "output_type": "execute_result",
          "data": {
            "text/html": [
              "\n",
              "<div id=\"altair-viz-2faf92e7775442a5a02e1eab2da5a0e0\"></div>\n",
              "<script type=\"text/javascript\">\n",
              "  var VEGA_DEBUG = (typeof VEGA_DEBUG == \"undefined\") ? {} : VEGA_DEBUG;\n",
              "  (function(spec, embedOpt){\n",
              "    let outputDiv = document.currentScript.previousElementSibling;\n",
              "    if (outputDiv.id !== \"altair-viz-2faf92e7775442a5a02e1eab2da5a0e0\") {\n",
              "      outputDiv = document.getElementById(\"altair-viz-2faf92e7775442a5a02e1eab2da5a0e0\");\n",
              "    }\n",
              "    const paths = {\n",
              "      \"vega\": \"https://cdn.jsdelivr.net/npm//vega@5?noext\",\n",
              "      \"vega-lib\": \"https://cdn.jsdelivr.net/npm//vega-lib?noext\",\n",
              "      \"vega-lite\": \"https://cdn.jsdelivr.net/npm//vega-lite@4.17.0?noext\",\n",
              "      \"vega-embed\": \"https://cdn.jsdelivr.net/npm//vega-embed@6?noext\",\n",
              "    };\n",
              "\n",
              "    function maybeLoadScript(lib, version) {\n",
              "      var key = `${lib.replace(\"-\", \"\")}_version`;\n",
              "      return (VEGA_DEBUG[key] == version) ?\n",
              "        Promise.resolve(paths[lib]) :\n",
              "        new Promise(function(resolve, reject) {\n",
              "          var s = document.createElement('script');\n",
              "          document.getElementsByTagName(\"head\")[0].appendChild(s);\n",
              "          s.async = true;\n",
              "          s.onload = () => {\n",
              "            VEGA_DEBUG[key] = version;\n",
              "            return resolve(paths[lib]);\n",
              "          };\n",
              "          s.onerror = () => reject(`Error loading script: ${paths[lib]}`);\n",
              "          s.src = paths[lib];\n",
              "        });\n",
              "    }\n",
              "\n",
              "    function showError(err) {\n",
              "      outputDiv.innerHTML = `<div class=\"error\" style=\"color:red;\">${err}</div>`;\n",
              "      throw err;\n",
              "    }\n",
              "\n",
              "    function displayChart(vegaEmbed) {\n",
              "      vegaEmbed(outputDiv, spec, embedOpt)\n",
              "        .catch(err => showError(`Javascript Error: ${err.message}<br>This usually means there's a typo in your chart specification. See the javascript console for the full traceback.`));\n",
              "    }\n",
              "\n",
              "    if(typeof define === \"function\" && define.amd) {\n",
              "      requirejs.config({paths});\n",
              "      require([\"vega-embed\"], displayChart, err => showError(`Error loading script: ${err.message}`));\n",
              "    } else {\n",
              "      maybeLoadScript(\"vega\", \"5\")\n",
              "        .then(() => maybeLoadScript(\"vega-lite\", \"4.17.0\"))\n",
              "        .then(() => maybeLoadScript(\"vega-embed\", \"6\"))\n",
              "        .catch(showError)\n",
              "        .then(() => displayChart(vegaEmbed));\n",
              "    }\n",
              "  })({\"config\": {\"view\": {\"continuousWidth\": 400, \"continuousHeight\": 300}}, \"layer\": [{\"data\": {\"name\": \"data-fede8c62ffb9095c15393d973afb0eb8\"}, \"mark\": \"line\", \"encoding\": {\"x\": {\"field\": \"target\", \"type\": \"quantitative\"}, \"y\": {\"field\": \"preds\", \"type\": \"quantitative\"}}}, {\"data\": {\"name\": \"data-bb14d9316893abdd2fae873783f486c6\"}, \"mark\": {\"type\": \"line\", \"color\": \"green\"}, \"encoding\": {\"x\": {\"field\": \"target\", \"type\": \"quantitative\"}, \"y\": {\"field\": \"preds\", \"type\": \"quantitative\"}}}], \"$schema\": \"https://vega.github.io/schema/vega-lite/v4.17.0.json\", \"datasets\": {\"data-fede8c62ffb9095c15393d973afb0eb8\": [{\"target\": 19652816665, \"preds\": 2532933728.5625}, {\"target\": 19892485161, \"preds\": 38310939555.375}, {\"target\": 21507447643, \"preds\": 21813293191.875}, {\"target\": 23764139321, \"preds\": 26508034864.125}, {\"target\": 25936835032, \"preds\": 43548921517.9375}, {\"target\": 27268451114, \"preds\": 47605197403.9375}, {\"target\": 30397580916, \"preds\": -34544939369.625}, {\"target\": 32665472057, \"preds\": -73519096742.875}, {\"target\": 36628961810, \"preds\": -57788226970.0625}, {\"target\": 41271138985, \"preds\": -55617118848.4375}, {\"target\": 45149512823, \"preds\": 97213870462.875}, {\"target\": 51967289720, \"preds\": 122964420139.875}, {\"target\": 63737347854, \"preds\": 136775346179.3125}, {\"target\": 88831245394, \"preds\": 245787230963.9375}, {\"target\": 97170558514, \"preds\": 169829169330.6875}, {\"target\": 104921215177, \"preds\": 98457826191.1875}, {\"target\": 110201881165, \"preds\": 95790184143.5625}, {\"target\": 118338596887, \"preds\": 91824917738.75}, {\"target\": 134712029990, \"preds\": 62244333085.625}, {\"target\": 149774930362, \"preds\": 79627275669.0}, {\"target\": 176642284918, \"preds\": 133515010623.6875}, {\"target\": 193770274743, \"preds\": 167947180184.5}, {\"target\": 177030416472, \"preds\": 78375732994.8125}, {\"target\": 193242166274, \"preds\": 104001303572.9375}, {\"target\": 180234716576, \"preds\": 147522174778.9375}, {\"target\": 182036933408, \"preds\": 171109382336.3125}, {\"target\": 189060349391, \"preds\": 228448079045.0625}, {\"target\": 235659196740, \"preds\": 301856345630.375}, {\"target\": 299267974921, \"preds\": 419269326892.5}, {\"target\": 310777222008, \"preds\": 420488379086.1875}, {\"target\": 325310415195, \"preds\": 380757861954.8125}, {\"target\": 324878874106, \"preds\": 351308784670.0}, {\"target\": 311544406970, \"preds\": 347768453126.125}, {\"target\": 322211691456, \"preds\": 321601631944.8125}, {\"target\": 367216364716, \"preds\": 321141616004.5}, {\"target\": 400302731411, \"preds\": 389184793218.8125}, {\"target\": 434568007513, \"preds\": 405078580198.1875}, {\"target\": 398899138574, \"preds\": 412017007205.25}, {\"target\": 388608221582, \"preds\": 437371244256.75}, {\"target\": 415222633926, \"preds\": 463521890852.375}, {\"target\": 378376086723, \"preds\": 477350332730.375}, {\"target\": 394648911679, \"preds\": 555127557034.875}, {\"target\": 466488060571, \"preds\": 554726125729.375}, {\"target\": 612490396927, \"preds\": 586315072204.5}, {\"target\": 693407758232, \"preds\": 650447752126.5625}, {\"target\": 746054207847, \"preds\": 764371207167.125}, {\"target\": 853099630996, \"preds\": 693505310222.875}, {\"target\": 1053995523724, \"preds\": 902457087258.125}, {\"target\": 927805183331, \"preds\": 1103187787894.125}, {\"target\": 1146138465604, \"preds\": 1195969315628.0}, {\"target\": 1396649906339, \"preds\": 1248319546084.875}, {\"target\": 1546151783873, \"preds\": 1399932477782.9375}, {\"target\": 1576184467015, \"preds\": 1492571157366.8125}, {\"target\": 1467483705132, \"preds\": 1543318025437.75}], \"data-bb14d9316893abdd2fae873783f486c6\": [{\"target\": 19652816665, \"preds\": 19652816665}, {\"target\": 19892485161, \"preds\": 19892485161}, {\"target\": 21507447643, \"preds\": 21507447643}, {\"target\": 23764139321, \"preds\": 23764139321}, {\"target\": 25936835032, \"preds\": 25936835032}, {\"target\": 27268451114, \"preds\": 27268451114}, {\"target\": 30397580916, \"preds\": 30397580916}, {\"target\": 32665472057, \"preds\": 32665472057}, {\"target\": 36628961810, \"preds\": 36628961810}, {\"target\": 41271138985, \"preds\": 41271138985}, {\"target\": 45149512823, \"preds\": 45149512823}, {\"target\": 51967289720, \"preds\": 51967289720}, {\"target\": 63737347854, \"preds\": 63737347854}, {\"target\": 88831245394, \"preds\": 88831245394}, {\"target\": 97170558514, \"preds\": 97170558514}, {\"target\": 104921215177, \"preds\": 104921215177}, {\"target\": 110201881165, \"preds\": 110201881165}, {\"target\": 118338596887, \"preds\": 118338596887}, {\"target\": 134712029990, \"preds\": 134712029990}, {\"target\": 149774930362, \"preds\": 149774930362}, {\"target\": 176642284918, \"preds\": 176642284918}, {\"target\": 193770274743, \"preds\": 193770274743}, {\"target\": 177030416472, \"preds\": 177030416472}, {\"target\": 193242166274, \"preds\": 193242166274}, {\"target\": 180234716576, \"preds\": 180234716576}, {\"target\": 182036933408, \"preds\": 182036933408}, {\"target\": 189060349391, \"preds\": 189060349391}, {\"target\": 235659196740, \"preds\": 235659196740}, {\"target\": 299267974921, \"preds\": 299267974921}, {\"target\": 310777222008, \"preds\": 310777222008}, {\"target\": 325310415195, \"preds\": 325310415195}, {\"target\": 324878874106, \"preds\": 324878874106}, {\"target\": 311544406970, \"preds\": 311544406970}, {\"target\": 322211691456, \"preds\": 322211691456}, {\"target\": 367216364716, \"preds\": 367216364716}, {\"target\": 400302731411, \"preds\": 400302731411}, {\"target\": 434568007513, \"preds\": 434568007513}, {\"target\": 398899138574, \"preds\": 398899138574}, {\"target\": 388608221582, \"preds\": 388608221582}, {\"target\": 415222633926, \"preds\": 415222633926}, {\"target\": 378376086723, \"preds\": 378376086723}, {\"target\": 394648911679, \"preds\": 394648911679}, {\"target\": 466488060571, \"preds\": 466488060571}, {\"target\": 612490396927, \"preds\": 612490396927}, {\"target\": 693407758232, \"preds\": 693407758232}, {\"target\": 746054207847, \"preds\": 746054207847}, {\"target\": 853099630996, \"preds\": 853099630996}, {\"target\": 1053995523724, \"preds\": 1053995523724}, {\"target\": 927805183331, \"preds\": 927805183331}, {\"target\": 1146138465604, \"preds\": 1146138465604}, {\"target\": 1396649906339, \"preds\": 1396649906339}, {\"target\": 1546151783873, \"preds\": 1546151783873}, {\"target\": 1576184467015, \"preds\": 1576184467015}, {\"target\": 1467483705132, \"preds\": 1467483705132}]}}, {\"mode\": \"vega-lite\"});\n",
              "</script>"
            ],
            "text/plain": [
              "alt.LayerChart(...)"
            ]
          },
          "metadata": {},
          "execution_count": 59
        }
      ]
    }
  ]
}